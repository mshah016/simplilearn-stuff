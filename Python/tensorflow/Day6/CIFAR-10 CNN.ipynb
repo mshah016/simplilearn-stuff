{
 "cells": [
  {
   "cell_type": "markdown",
   "metadata": {
    "id": "y3Ly3QmejAkx"
   },
   "source": [
    "[CIFAR-10 Dataset](https://www.cs.toronto.edu/~kriz/cifar.html) was built and shared by Alex Krizhevsky, Vinod Nair, and Geoffrey Hinton."
   ]
  },
  {
   "cell_type": "markdown",
   "metadata": {
    "id": "zzxDzUlzlaTC"
   },
   "source": [
    "### Load tensorflow"
   ]
  },
  {
   "cell_type": "code",
   "execution_count": 2,
   "metadata": {
    "executionInfo": {
     "elapsed": 16352,
     "status": "ok",
     "timestamp": 1621150273712,
     "user": {
      "displayName": "Sayan Dey",
      "photoUrl": "https://lh3.googleusercontent.com/a-/AOh14GgqVHJ9o6-7idGiRbNNd4iVc1VjzvuPnwmAnvEtD6U=s64",
      "userId": "03603580465490055794"
     },
     "user_tz": -330
    },
    "id": "dBKP8ZyjVnUk"
   },
   "outputs": [],
   "source": [
    "import numpy as np"
   ]
  },
  {
   "cell_type": "code",
   "execution_count": 3,
   "metadata": {
    "executionInfo": {
     "elapsed": 12222,
     "status": "ok",
     "timestamp": 1621150273713,
     "user": {
      "displayName": "Sayan Dey",
      "photoUrl": "https://lh3.googleusercontent.com/a-/AOh14GgqVHJ9o6-7idGiRbNNd4iVc1VjzvuPnwmAnvEtD6U=s64",
      "userId": "03603580465490055794"
     },
     "user_tz": -330
    },
    "id": "QRSjlO8YlaTD"
   },
   "outputs": [],
   "source": [
    "import tensorflow as tf"
   ]
  },
  {
   "cell_type": "markdown",
   "metadata": {
    "id": "Q1Z5_xYClaTH"
   },
   "source": [
    "### Collect Data"
   ]
  },
  {
   "cell_type": "code",
   "execution_count": 4,
   "metadata": {
    "colab": {
     "base_uri": "https://localhost:8080/"
    },
    "executionInfo": {
     "elapsed": 9927,
     "status": "ok",
     "timestamp": 1621150267261,
     "user": {
      "displayName": "Sayan Dey",
      "photoUrl": "https://lh3.googleusercontent.com/a-/AOh14GgqVHJ9o6-7idGiRbNNd4iVc1VjzvuPnwmAnvEtD6U=s64",
      "userId": "03603580465490055794"
     },
     "user_tz": -330
    },
    "id": "6AOgxO3AlaTI",
    "outputId": "76f2d691-75cc-42e5-9a40-c00f1983c526"
   },
   "outputs": [
    {
     "name": "stdout",
     "output_type": "stream",
     "text": [
      "Downloading data from https://www.cs.toronto.edu/~kriz/cifar-10-python.tar.gz\n",
      "170498071/170498071 [==============================] - 35s 0us/step\n"
     ]
    }
   ],
   "source": [
    "(trainX, trainY),(testX, testY) = tf.keras.datasets.cifar10.load_data()"
   ]
  },
  {
   "cell_type": "code",
   "execution_count": 6,
   "metadata": {
    "colab": {
     "base_uri": "https://localhost:8080/"
    },
    "executionInfo": {
     "elapsed": 9926,
     "status": "ok",
     "timestamp": 1621150267264,
     "user": {
      "displayName": "Sayan Dey",
      "photoUrl": "https://lh3.googleusercontent.com/a-/AOh14GgqVHJ9o6-7idGiRbNNd4iVc1VjzvuPnwmAnvEtD6U=s64",
      "userId": "03603580465490055794"
     },
     "user_tz": -330
    },
    "id": "RkKWEr9ZlaTN",
    "outputId": "59e2b312-8161-42aa-feff-81afd66e6a33"
   },
   "outputs": [
    {
     "data": {
      "text/plain": [
       "(50000, 32, 32, 3)"
      ]
     },
     "execution_count": 6,
     "metadata": {
      "tags": []
     },
     "output_type": "execute_result"
    }
   ],
   "source": [
    "trainX.shape"
   ]
  },
  {
   "cell_type": "markdown",
   "metadata": {
    "id": "BZtz_GoBlaTQ"
   },
   "source": [
    "### Convert Output label to multiple values"
   ]
  },
  {
   "cell_type": "code",
   "execution_count": 7,
   "metadata": {
    "executionInfo": {
     "elapsed": 9921,
     "status": "ok",
     "timestamp": 1621150267264,
     "user": {
      "displayName": "Sayan Dey",
      "photoUrl": "https://lh3.googleusercontent.com/a-/AOh14GgqVHJ9o6-7idGiRbNNd4iVc1VjzvuPnwmAnvEtD6U=s64",
      "userId": "03603580465490055794"
     },
     "user_tz": -330
    },
    "id": "fltHpNSTlaTR"
   },
   "outputs": [],
   "source": [
    "trainY = tf.keras.utils.to_categorical(trainY, num_classes=10)\n",
    "testY = tf.keras.utils.to_categorical(testY, num_classes=10)"
   ]
  },
  {
   "cell_type": "code",
   "execution_count": 8,
   "metadata": {
    "executionInfo": {
     "elapsed": 10545,
     "status": "ok",
     "timestamp": 1621150267893,
     "user": {
      "displayName": "Sayan Dey",
      "photoUrl": "https://lh3.googleusercontent.com/a-/AOh14GgqVHJ9o6-7idGiRbNNd4iVc1VjzvuPnwmAnvEtD6U=s64",
      "userId": "03603580465490055794"
     },
     "user_tz": -330
    },
    "id": "CUxdLKsmrjif"
   },
   "outputs": [],
   "source": [
    "trainX=trainX/255\n",
    "testX=testX/255    # standardize the data for train and test to be between 0-1"
   ]
  },
  {
   "cell_type": "markdown",
   "metadata": {
    "id": "zyLCiNu2laTT"
   },
   "source": [
    "## Build the Graph"
   ]
  },
  {
   "cell_type": "code",
   "execution_count": 9,
   "metadata": {
    "executionInfo": {
     "elapsed": 16357,
     "status": "ok",
     "timestamp": 1621150273712,
     "user": {
      "displayName": "Sayan Dey",
      "photoUrl": "https://lh3.googleusercontent.com/a-/AOh14GgqVHJ9o6-7idGiRbNNd4iVc1VjzvuPnwmAnvEtD6U=s64",
      "userId": "03603580465490055794"
     },
     "user_tz": -330
    },
    "id": "oyFnCvrDlaTV"
   },
   "outputs": [],
   "source": [
    "tf.keras.backend.clear_session()\n",
    "#Initialize model, reshape & normalize data\n",
    "model = tf.keras.models.Sequential()\n",
    "\n",
    "#Reshape data from 2D (28,28) to 3D (28, 28, 1)\n",
    "model.add(tf.keras.layers.Reshape((32,32,3),input_shape=(32,32,3)))"
   ]
  },
  {
   "cell_type": "markdown",
   "metadata": {
    "id": "ty3W8cr2laTX"
   },
   "source": [
    "### Apply Convolutional Layers, MaxPooling"
   ]
  },
  {
   "cell_type": "code",
   "execution_count": null,
   "metadata": {
    "id": "lGBw31K3laTY"
   },
   "outputs": [],
   "source": [
    "#Add first convolutional layer\n",
    "model.add(tf.keras.layers.Conv2D(32, #Number of filters \n",
    "                                 kernel_size=(3,3), #Size of the filter\n",
    "                                 activation='relu'))\n",
    "\n",
    "#Add second convolutional layer\n",
    "model.add(tf.keras.layers.Conv2D(64, kernel_size=(3,3), activation='relu'))\n",
    "model.add(tf.keras.layers.MaxPool2D(pool_size=(2,2)))\n",
    "model.add(tf.keras.layers.Conv2D(128, kernel_size=(3,3), activation='relu'))\n",
    "model.add(tf.keras.layers.Conv2D(256, kernel_size=(3,3), activation='relu'))\n",
    "#Add MaxPooling layer\n",
    "model.add(tf.keras.layers.MaxPool2D(pool_size=(2,2)))\n",
    "\n",
    "#model.add(tf.keras.layers.GlobalAveragePooling2D())"
   ]
  },
  {
   "cell_type": "markdown",
   "metadata": {
    "id": "I2R3PieRlaTb"
   },
   "source": [
    "### Add layers for Classification"
   ]
  },
  {
   "cell_type": "code",
   "execution_count": null,
   "metadata": {
    "id": "mN05mk8hlaTc"
   },
   "outputs": [],
   "source": [
    "#Flatten the output\n",
    "model.add(tf.keras.layers.Flatten())\n",
    "\n",
    "#Dense layer\n",
    "model.add(tf.keras.layers.Dense(128, activation='relu'))\n",
    "\n",
    "#Add another dropout layer\n",
    "model.add(tf.keras.layers.Dropout(0.3))\n",
    "\n",
    "#Output layer\n",
    "model.add(tf.keras.layers.Dense(10, activation='softmax'))"
   ]
  },
  {
   "cell_type": "code",
   "execution_count": null,
   "metadata": {
    "id": "mm1fHVpklaTf"
   },
   "outputs": [],
   "source": [
    "model.compile(optimizer='adam', \n",
    "              loss='categorical_crossentropy', metrics=['accuracy'])"
   ]
  },
  {
   "cell_type": "code",
   "execution_count": null,
   "metadata": {
    "colab": {
     "base_uri": "https://localhost:8080/"
    },
    "executionInfo": {
     "elapsed": 16019,
     "status": "ok",
     "timestamp": 1617100927771,
     "user": {
      "displayName": "Sayan Dey",
      "photoUrl": "https://lh3.googleusercontent.com/a-/AOh14GgqVHJ9o6-7idGiRbNNd4iVc1VjzvuPnwmAnvEtD6U=s64",
      "userId": "03603580465490055794"
     },
     "user_tz": -330
    },
    "id": "TlREpRGWlaTi",
    "outputId": "c874a995-9dd9-46dd-f595-13929bebce41"
   },
   "outputs": [
    {
     "name": "stdout",
     "output_type": "stream",
     "text": [
      "Model: \"sequential\"\n",
      "_________________________________________________________________\n",
      "Layer (type)                 Output Shape              Param #   \n",
      "=================================================================\n",
      "reshape (Reshape)            (None, 32, 32, 3)         0         \n",
      "_________________________________________________________________\n",
      "conv2d (Conv2D)              (None, 30, 30, 32)        896       \n",
      "_________________________________________________________________\n",
      "conv2d_1 (Conv2D)            (None, 28, 28, 64)        18496     \n",
      "_________________________________________________________________\n",
      "max_pooling2d (MaxPooling2D) (None, 14, 14, 64)        0         \n",
      "_________________________________________________________________\n",
      "conv2d_2 (Conv2D)            (None, 12, 12, 128)       73856     \n",
      "_________________________________________________________________\n",
      "conv2d_3 (Conv2D)            (None, 10, 10, 256)       295168    \n",
      "_________________________________________________________________\n",
      "max_pooling2d_1 (MaxPooling2 (None, 5, 5, 256)         0         \n",
      "_________________________________________________________________\n",
      "flatten (Flatten)            (None, 6400)              0         \n",
      "_________________________________________________________________\n",
      "dense (Dense)                (None, 128)               819328    \n",
      "_________________________________________________________________\n",
      "dropout (Dropout)            (None, 128)               0         \n",
      "_________________________________________________________________\n",
      "dense_1 (Dense)              (None, 10)                1290      \n",
      "=================================================================\n",
      "Total params: 1,209,034\n",
      "Trainable params: 1,209,034\n",
      "Non-trainable params: 0\n",
      "_________________________________________________________________\n"
     ]
    }
   ],
   "source": [
    "model.summary()"
   ]
  },
  {
   "cell_type": "markdown",
   "metadata": {
    "id": "4kIsqrNElaTl"
   },
   "source": [
    "## Train the model"
   ]
  },
  {
   "cell_type": "code",
   "execution_count": null,
   "metadata": {
    "colab": {
     "base_uri": "https://localhost:8080/"
    },
    "executionInfo": {
     "elapsed": 129145,
     "status": "ok",
     "timestamp": 1615036747175,
     "user": {
      "displayName": "Sayan Dey",
      "photoUrl": "https://lh3.googleusercontent.com/a-/AOh14GgqVHJ9o6-7idGiRbNNd4iVc1VjzvuPnwmAnvEtD6U=s64",
      "userId": "03603580465490055794"
     },
     "user_tz": -330
    },
    "id": "FsJI729klaTo",
    "outputId": "56e60a89-b4ce-4737-9d11-74595670b50a"
   },
   "outputs": [
    {
     "name": "stdout",
     "output_type": "stream",
     "text": [
      "Epoch 1/10\n",
      "1563/1563 [==============================] - 43s 6ms/step - loss: 1.7518 - accuracy: 0.3504 - val_loss: 1.1509 - val_accuracy: 0.5955\n",
      "Epoch 2/10\n",
      "1563/1563 [==============================] - 9s 6ms/step - loss: 1.0860 - accuracy: 0.6153 - val_loss: 0.8891 - val_accuracy: 0.6937\n",
      "Epoch 3/10\n",
      "1563/1563 [==============================] - 9s 6ms/step - loss: 0.8558 - accuracy: 0.6991 - val_loss: 0.8263 - val_accuracy: 0.7135\n",
      "Epoch 4/10\n",
      "1563/1563 [==============================] - 9s 6ms/step - loss: 0.7286 - accuracy: 0.7463 - val_loss: 0.8158 - val_accuracy: 0.7287\n",
      "Epoch 5/10\n",
      "1563/1563 [==============================] - 9s 6ms/step - loss: 0.6315 - accuracy: 0.7776 - val_loss: 0.7424 - val_accuracy: 0.7476\n",
      "Epoch 6/10\n",
      "1563/1563 [==============================] - 9s 6ms/step - loss: 0.5444 - accuracy: 0.8095 - val_loss: 0.7932 - val_accuracy: 0.7447\n",
      "Epoch 7/10\n",
      "1563/1563 [==============================] - 9s 6ms/step - loss: 0.4730 - accuracy: 0.8325 - val_loss: 0.7969 - val_accuracy: 0.7522\n",
      "Epoch 8/10\n",
      "1563/1563 [==============================] - 9s 6ms/step - loss: 0.4181 - accuracy: 0.8500 - val_loss: 0.8144 - val_accuracy: 0.7475\n",
      "Epoch 9/10\n",
      "1563/1563 [==============================] - 9s 6ms/step - loss: 0.3657 - accuracy: 0.8710 - val_loss: 0.7886 - val_accuracy: 0.7607\n",
      "Epoch 10/10\n",
      "1563/1563 [==============================] - 10s 6ms/step - loss: 0.3152 - accuracy: 0.8861 - val_loss: 0.8832 - val_accuracy: 0.7563\n"
     ]
    },
    {
     "data": {
      "text/plain": [
       "<tensorflow.python.keras.callbacks.History at 0x7f35d0053f50>"
      ]
     },
     "execution_count": 18,
     "metadata": {
      "tags": []
     },
     "output_type": "execute_result"
    }
   ],
   "source": [
    "#Train the model\n",
    "model.fit(trainX,trainY,          \n",
    "          validation_data=(testX,testY),\n",
    "          epochs=10,\n",
    "          batch_size=32)"
   ]
  },
  {
   "cell_type": "code",
   "execution_count": null,
   "metadata": {
    "id": "Uhnwjqa3w0dM"
   },
   "outputs": [],
   "source": [
    "model.save('demo.h5')"
   ]
  },
  {
   "cell_type": "code",
   "execution_count": null,
   "metadata": {
    "colab": {
     "base_uri": "https://localhost:8080/"
    },
    "executionInfo": {
     "elapsed": 126751,
     "status": "ok",
     "timestamp": 1615036747177,
     "user": {
      "displayName": "Sayan Dey",
      "photoUrl": "https://lh3.googleusercontent.com/a-/AOh14GgqVHJ9o6-7idGiRbNNd4iVc1VjzvuPnwmAnvEtD6U=s64",
      "userId": "03603580465490055794"
     },
     "user_tz": -330
    },
    "id": "UvFbrFgAxWyl",
    "outputId": "67315e24-15e8-431c-b20f-8e5db4d1d865"
   },
   "outputs": [
    {
     "name": "stdout",
     "output_type": "stream",
     "text": [
      "total 14236\n",
      "-rw-r--r-- 1 root root 14570968 Mar  6 13:19 demo.h5\n",
      "drwxr-xr-x 1 root root     4096 Mar  1 14:35 sample_data\n"
     ]
    }
   ],
   "source": [
    "!ls -l"
   ]
  },
  {
   "cell_type": "code",
   "execution_count": null,
   "metadata": {
    "id": "nFpctGg1dl0R"
   },
   "outputs": [],
   "source": []
  },
  {
   "cell_type": "code",
   "execution_count": null,
   "metadata": {
    "id": "Kg59Ihf7dl2j"
   },
   "outputs": [],
   "source": []
  },
  {
   "cell_type": "code",
   "execution_count": null,
   "metadata": {
    "id": "DFBEJtRHdl52"
   },
   "outputs": [],
   "source": [
    "tf.keras.backend.clear_session()\n",
    "#Initialize model, reshape & normalize data\n",
    "model = tf.keras.models.Sequential()\n",
    "model = tf.keras.applications.vgg19.VGG19(include_top=False, #Do not include FC layer at the end\n",
    "                                          input_shape=(32,32, 3),\n",
    "                                          weights='imagenet')"
   ]
  },
  {
   "cell_type": "code",
   "execution_count": null,
   "metadata": {
    "id": "5laT-kb-ukV4"
   },
   "outputs": [],
   "source": [
    "#Set pre-trained model layers to not trainable\n",
    "for layer in model.layers:\n",
    "    layer.trainable = False"
   ]
  },
  {
   "cell_type": "code",
   "execution_count": null,
   "metadata": {
    "colab": {
     "base_uri": "https://localhost:8080/"
    },
    "executionInfo": {
     "elapsed": 1945,
     "status": "ok",
     "timestamp": 1617101788947,
     "user": {
      "displayName": "Sayan Dey",
      "photoUrl": "https://lh3.googleusercontent.com/a-/AOh14GgqVHJ9o6-7idGiRbNNd4iVc1VjzvuPnwmAnvEtD6U=s64",
      "userId": "03603580465490055794"
     },
     "user_tz": -330
    },
    "id": "P19xO-DIwIoe",
    "outputId": "d691237e-ca7e-45b9-a8c2-a2cc87f7415e"
   },
   "outputs": [
    {
     "name": "stdout",
     "output_type": "stream",
     "text": [
      "22\n"
     ]
    }
   ],
   "source": [
    "print(len(model.layers))\n",
    "for layer in model.layers[10:]:\n",
    "    layer.trainable =  True   "
   ]
  },
  {
   "cell_type": "markdown",
   "metadata": {
    "id": "PdSlv9B8hs3K"
   },
   "source": [
    "### Add FC layer for new classes"
   ]
  },
  {
   "cell_type": "code",
   "execution_count": null,
   "metadata": {
    "id": "KuK7oJ-xhs3O"
   },
   "outputs": [],
   "source": [
    "#get Output layer of Pretrained model\n",
    "x = model.output\n",
    "\n",
    "#Flatten the output to feed to Dense layer\n",
    "x = tf.keras.layers.Flatten()(x)\n",
    "\n",
    "#Add one Dense layer\n",
    "x = tf.keras.layers.Dense(200, activation='relu')(x)\n",
    "\n",
    "#Add output layer\n",
    "prediction = tf.keras.layers.Dense(10,activation='softmax')(x)"
   ]
  },
  {
   "cell_type": "code",
   "execution_count": null,
   "metadata": {
    "colab": {
     "base_uri": "https://localhost:8080/"
    },
    "executionInfo": {
     "elapsed": 1754,
     "status": "ok",
     "timestamp": 1617101789806,
     "user": {
      "displayName": "Sayan Dey",
      "photoUrl": "https://lh3.googleusercontent.com/a-/AOh14GgqVHJ9o6-7idGiRbNNd4iVc1VjzvuPnwmAnvEtD6U=s64",
      "userId": "03603580465490055794"
     },
     "user_tz": -330
    },
    "id": "9AwW-3RVvo3H",
    "outputId": "96e00418-ac66-429e-b92f-21a7f54709cf"
   },
   "outputs": [
    {
     "name": "stdout",
     "output_type": "stream",
     "text": [
      "Model: \"vgg19\"\n",
      "_________________________________________________________________\n",
      "Layer (type)                 Output Shape              Param #   \n",
      "=================================================================\n",
      "input_1 (InputLayer)         [(None, 32, 32, 3)]       0         \n",
      "_________________________________________________________________\n",
      "block1_conv1 (Conv2D)        (None, 32, 32, 64)        1792      \n",
      "_________________________________________________________________\n",
      "block1_conv2 (Conv2D)        (None, 32, 32, 64)        36928     \n",
      "_________________________________________________________________\n",
      "block1_pool (MaxPooling2D)   (None, 16, 16, 64)        0         \n",
      "_________________________________________________________________\n",
      "block2_conv1 (Conv2D)        (None, 16, 16, 128)       73856     \n",
      "_________________________________________________________________\n",
      "block2_conv2 (Conv2D)        (None, 16, 16, 128)       147584    \n",
      "_________________________________________________________________\n",
      "block2_pool (MaxPooling2D)   (None, 8, 8, 128)         0         \n",
      "_________________________________________________________________\n",
      "block3_conv1 (Conv2D)        (None, 8, 8, 256)         295168    \n",
      "_________________________________________________________________\n",
      "block3_conv2 (Conv2D)        (None, 8, 8, 256)         590080    \n",
      "_________________________________________________________________\n",
      "block3_conv3 (Conv2D)        (None, 8, 8, 256)         590080    \n",
      "_________________________________________________________________\n",
      "block3_conv4 (Conv2D)        (None, 8, 8, 256)         590080    \n",
      "_________________________________________________________________\n",
      "block3_pool (MaxPooling2D)   (None, 4, 4, 256)         0         \n",
      "_________________________________________________________________\n",
      "block4_conv1 (Conv2D)        (None, 4, 4, 512)         1180160   \n",
      "_________________________________________________________________\n",
      "block4_conv2 (Conv2D)        (None, 4, 4, 512)         2359808   \n",
      "_________________________________________________________________\n",
      "block4_conv3 (Conv2D)        (None, 4, 4, 512)         2359808   \n",
      "_________________________________________________________________\n",
      "block4_conv4 (Conv2D)        (None, 4, 4, 512)         2359808   \n",
      "_________________________________________________________________\n",
      "block4_pool (MaxPooling2D)   (None, 2, 2, 512)         0         \n",
      "_________________________________________________________________\n",
      "block5_conv1 (Conv2D)        (None, 2, 2, 512)         2359808   \n",
      "_________________________________________________________________\n",
      "block5_conv2 (Conv2D)        (None, 2, 2, 512)         2359808   \n",
      "_________________________________________________________________\n",
      "block5_conv3 (Conv2D)        (None, 2, 2, 512)         2359808   \n",
      "_________________________________________________________________\n",
      "block5_conv4 (Conv2D)        (None, 2, 2, 512)         2359808   \n",
      "_________________________________________________________________\n",
      "block5_pool (MaxPooling2D)   (None, 1, 1, 512)         0         \n",
      "=================================================================\n",
      "Total params: 20,024,384\n",
      "Trainable params: 18,288,896\n",
      "Non-trainable params: 1,735,488\n",
      "_________________________________________________________________\n"
     ]
    }
   ],
   "source": [
    "model.summary()"
   ]
  },
  {
   "cell_type": "markdown",
   "metadata": {
    "id": "vo6C0vDWhs3T"
   },
   "source": [
    "### Building final model for Classification"
   ]
  },
  {
   "cell_type": "code",
   "execution_count": null,
   "metadata": {
    "id": "ymVI9p5Shs3V"
   },
   "outputs": [],
   "source": [
    "#Using Keras Model class\n",
    "final_model = tf.keras.models.Model(inputs=model.input, #Pre-trained model input as input layer\n",
    "                                    outputs=prediction) #Output layer added"
   ]
  },
  {
   "cell_type": "code",
   "execution_count": null,
   "metadata": {
    "id": "xuUV2CXGhs3b"
   },
   "outputs": [],
   "source": [
    "final_model.compile(optimizer='adam', loss='categorical_crossentropy', metrics=['accuracy'])"
   ]
  },
  {
   "cell_type": "markdown",
   "metadata": {
    "id": "dNrdXkW_ukWC"
   },
   "source": [
    "### Train the model"
   ]
  },
  {
   "cell_type": "code",
   "execution_count": null,
   "metadata": {
    "colab": {
     "base_uri": "https://localhost:8080/"
    },
    "executionInfo": {
     "elapsed": 299881,
     "status": "ok",
     "timestamp": 1617102943661,
     "user": {
      "displayName": "Sayan Dey",
      "photoUrl": "https://lh3.googleusercontent.com/a-/AOh14GgqVHJ9o6-7idGiRbNNd4iVc1VjzvuPnwmAnvEtD6U=s64",
      "userId": "03603580465490055794"
     },
     "user_tz": -330
    },
    "id": "4ceMRBzTukWG",
    "outputId": "b36a32ed-9696-4750-e334-50c56deeaa89"
   },
   "outputs": [
    {
     "name": "stdout",
     "output_type": "stream",
     "text": [
      "Epoch 1/10\n",
      "782/782 [==============================] - 30s 38ms/step - loss: 0.2999 - accuracy: 0.9036 - val_loss: 1.0781 - val_accuracy: 0.7360\n",
      "Epoch 2/10\n",
      "782/782 [==============================] - 30s 38ms/step - loss: 0.2489 - accuracy: 0.9207 - val_loss: 1.0345 - val_accuracy: 0.7542\n",
      "Epoch 3/10\n",
      "782/782 [==============================] - 30s 38ms/step - loss: 0.2103 - accuracy: 0.9326 - val_loss: 1.0833 - val_accuracy: 0.7474\n",
      "Epoch 4/10\n",
      "782/782 [==============================] - 30s 38ms/step - loss: 0.2331 - accuracy: 0.9270 - val_loss: 0.9675 - val_accuracy: 0.7245\n",
      "Epoch 5/10\n",
      "782/782 [==============================] - 30s 38ms/step - loss: 0.2137 - accuracy: 0.9327 - val_loss: 1.1522 - val_accuracy: 0.7511\n",
      "Epoch 6/10\n",
      "782/782 [==============================] - 30s 38ms/step - loss: 0.1707 - accuracy: 0.9460 - val_loss: 1.2275 - val_accuracy: 0.7448\n",
      "Epoch 7/10\n",
      "782/782 [==============================] - 30s 39ms/step - loss: 0.1661 - accuracy: 0.9479 - val_loss: 1.1298 - val_accuracy: 0.7501\n",
      "Epoch 8/10\n",
      "782/782 [==============================] - 30s 38ms/step - loss: 0.1824 - accuracy: 0.9448 - val_loss: 1.2109 - val_accuracy: 0.7413\n",
      "Epoch 9/10\n",
      "782/782 [==============================] - 30s 38ms/step - loss: 0.1564 - accuracy: 0.9514 - val_loss: 1.4924 - val_accuracy: 0.7521\n",
      "Epoch 10/10\n",
      "782/782 [==============================] - 30s 38ms/step - loss: 0.1218 - accuracy: 0.9621 - val_loss: 1.3659 - val_accuracy: 0.7465\n"
     ]
    },
    {
     "data": {
      "text/plain": [
       "<tensorflow.python.keras.callbacks.History at 0x7f2f7f7d3510>"
      ]
     },
     "execution_count": 63,
     "metadata": {
      "tags": []
     },
     "output_type": "execute_result"
    }
   ],
   "source": [
    "final_model.fit(trainX,trainY,          \n",
    "          validation_data=(testX,testY),\n",
    "          epochs=10,\n",
    "          batch_size=64)\n"
   ]
  },
  {
   "cell_type": "code",
   "execution_count": null,
   "metadata": {
    "id": "PBXrr1_wsh1F"
   },
   "outputs": [],
   "source": []
  },
  {
   "cell_type": "code",
   "execution_count": null,
   "metadata": {
    "id": "pTtYwDI2zeDe"
   },
   "outputs": [],
   "source": []
  },
  {
   "cell_type": "code",
   "execution_count": null,
   "metadata": {
    "id": "PICOOY0gzeHo"
   },
   "outputs": [],
   "source": []
  },
  {
   "cell_type": "code",
   "execution_count": null,
   "metadata": {
    "id": "CkJAlZ8gzeKR"
   },
   "outputs": [],
   "source": []
  },
  {
   "cell_type": "code",
   "execution_count": null,
   "metadata": {
    "id": "4jyrFeWHzePc"
   },
   "outputs": [],
   "source": []
  },
  {
   "cell_type": "code",
   "execution_count": null,
   "metadata": {
    "id": "tgaO3hFQDdX5"
   },
   "outputs": [],
   "source": [
    "import numpy as np\n",
    "from keras.datasets import cifar10\n",
    "\n",
    "#Load the dataset:\n",
    "(X_train, y_train), (X_test, y_test) = cifar10.load_data()"
   ]
  },
  {
   "cell_type": "code",
   "execution_count": null,
   "metadata": {
    "colab": {
     "base_uri": "https://localhost:8080/"
    },
    "executionInfo": {
     "elapsed": 1170,
     "status": "ok",
     "timestamp": 1615038664904,
     "user": {
      "displayName": "Sayan Dey",
      "photoUrl": "https://lh3.googleusercontent.com/a-/AOh14GgqVHJ9o6-7idGiRbNNd4iVc1VjzvuPnwmAnvEtD6U=s64",
      "userId": "03603580465490055794"
     },
     "user_tz": -330
    },
    "id": "V6FAlfD-DdX8",
    "outputId": "76ec7ba4-fc7f-4e20-8e9a-20c2f083c068"
   },
   "outputs": [
    {
     "name": "stdout",
     "output_type": "stream",
     "text": [
      "There are 50000 train images and 10000 test images.\n",
      "There are 10 unique classes to predict.\n"
     ]
    }
   ],
   "source": [
    "print(\"There are {} train images and {} test images.\".format(X_train.shape[0], X_test.shape[0]))\n",
    "print('There are {} unique classes to predict.'.format(np.unique(y_train).shape[0]))"
   ]
  },
  {
   "cell_type": "code",
   "execution_count": null,
   "metadata": {
    "id": "Swf9uPWMDdX_"
   },
   "outputs": [],
   "source": [
    "#One-hot encoding the labels\n",
    "num_classes = 10\n",
    "from keras.utils import np_utils\n",
    "y_train = np_utils.to_categorical(y_train, num_classes)\n",
    "y_test = np_utils.to_categorical(y_test, num_classes)"
   ]
  },
  {
   "cell_type": "code",
   "execution_count": null,
   "metadata": {
    "colab": {
     "base_uri": "https://localhost:8080/",
     "height": 485
    },
    "executionInfo": {
     "elapsed": 2396,
     "status": "ok",
     "timestamp": 1615038666457,
     "user": {
      "displayName": "Sayan Dey",
      "photoUrl": "https://lh3.googleusercontent.com/a-/AOh14GgqVHJ9o6-7idGiRbNNd4iVc1VjzvuPnwmAnvEtD6U=s64",
      "userId": "03603580465490055794"
     },
     "user_tz": -330
    },
    "id": "wbzHMRygDdYB",
    "outputId": "ae396a1b-5c79-4cb2-b33d-4bc2cef2e7a2"
   },
   "outputs": [
    {
     "name": "stdout",
     "output_type": "stream",
     "text": [
      "Shape of each image in the training data:  (32, 32, 3)\n"
     ]
    },
    {
     "data": {
      "image/png": "[encoded data removed]",
      "text/plain": [
       "<Figure size 720x720 with 8 Axes>"
      ]
     },
     "metadata": {
      "needs_background": "light",
      "tags": []
     },
     "output_type": "display_data"
    }
   ],
   "source": [
    "%matplotlib inline\n",
    "\n",
    "import matplotlib.pyplot as plt\n",
    "\n",
    "fig = plt.figure(figsize=(10, 10))\n",
    "\n",
    "for i in range(1, 9):\n",
    "    img = X_train[i-1]\n",
    "    fig.add_subplot(2, 4, i)\n",
    "    plt.imshow(img)\n",
    "\n",
    "print('Shape of each image in the training data: ', X_train.shape[1:])"
   ]
  },
  {
   "cell_type": "code",
   "execution_count": null,
   "metadata": {
    "colab": {
     "base_uri": "https://localhost:8080/"
    },
    "executionInfo": {
     "elapsed": 956,
     "status": "ok",
     "timestamp": 1615038668103,
     "user": {
      "displayName": "Sayan Dey",
      "photoUrl": "https://lh3.googleusercontent.com/a-/AOh14GgqVHJ9o6-7idGiRbNNd4iVc1VjzvuPnwmAnvEtD6U=s64",
      "userId": "03603580465490055794"
     },
     "user_tz": -330
    },
    "id": "Pi2qvpZpDdYE",
    "outputId": "07f014c7-7263-454b-eeba-5a6c91b5b838"
   },
   "outputs": [
    {
     "name": "stdout",
     "output_type": "stream",
     "text": [
      "Model: \"sequential_1\"\n",
      "_________________________________________________________________\n",
      "Layer (type)                 Output Shape              Param #   \n",
      "=================================================================\n",
      "conv2d_4 (Conv2D)            (None, 30, 30, 32)        896       \n",
      "_________________________________________________________________\n",
      "max_pooling2d_2 (MaxPooling2 (None, 15, 15, 32)        0         \n",
      "_________________________________________________________________\n",
      "conv2d_5 (Conv2D)            (None, 13, 13, 32)        9248      \n",
      "_________________________________________________________________\n",
      "max_pooling2d_3 (MaxPooling2 (None, 6, 6, 32)          0         \n",
      "_________________________________________________________________\n",
      "conv2d_6 (Conv2D)            (None, 4, 4, 64)          18496     \n",
      "_________________________________________________________________\n",
      "max_pooling2d_4 (MaxPooling2 (None, 2, 2, 64)          0         \n",
      "_________________________________________________________________\n",
      "global_average_pooling2d (Gl (None, 64)                0         \n",
      "_________________________________________________________________\n",
      "dense_4 (Dense)              (None, 10)                650       \n",
      "=================================================================\n",
      "Total params: 29,290\n",
      "Trainable params: 29,290\n",
      "Non-trainable params: 0\n",
      "_________________________________________________________________\n"
     ]
    }
   ],
   "source": [
    "#Importing the necessary libraries \n",
    "from keras.models import Sequential\n",
    "from keras.layers import Dense, Conv2D, MaxPooling2D\n",
    "from keras.layers import Dropout, Flatten, GlobalAveragePooling2D\n",
    "\n",
    "#Building up a Sequential model\n",
    "model = Sequential()\n",
    "model.add(Conv2D(32, (3, 3), activation='relu',input_shape = X_train.shape[1:]))\n",
    "model.add(MaxPooling2D(pool_size=(2, 2)))\n",
    "\n",
    "model.add(Conv2D(32, (3, 3), activation='relu'))\n",
    "model.add(MaxPooling2D(pool_size=(2, 2)))\n",
    "\n",
    "model.add(Conv2D(64, (3, 3), activation='relu'))\n",
    "model.add(MaxPooling2D(pool_size=(2, 2)))\n",
    "\n",
    "model.add(GlobalAveragePooling2D())\n",
    "model.add(Dense(10, activation='softmax'))\n",
    "model.summary()"
   ]
  },
  {
   "cell_type": "code",
   "execution_count": null,
   "metadata": {
    "id": "CaS7WjP3DdYG"
   },
   "outputs": [],
   "source": [
    "model.compile(loss='binary_crossentropy', optimizer='adam',\n",
    "              metrics=['accuracy'])"
   ]
  },
  {
   "cell_type": "code",
   "execution_count": null,
   "metadata": {
    "id": "cWLGKsqtDdYJ"
   },
   "outputs": [],
   "source": [
    "X_train_scratch = X_train/255\n",
    "X_test_scratch = X_test/255"
   ]
  },
  {
   "cell_type": "code",
   "execution_count": null,
   "metadata": {
    "id": "Go8BBVTcDdYL"
   },
   "outputs": [],
   "source": [
    "from keras.callbacks import ModelCheckpoint\n",
    "\n",
    "checkpointer = ModelCheckpoint(filepath='scratchmodel.best.hdf5', \n",
    "                               verbose=1,save_best_only=True)"
   ]
  },
  {
   "cell_type": "code",
   "execution_count": null,
   "metadata": {
    "colab": {
     "base_uri": "https://localhost:8080/"
    },
    "executionInfo": {
     "elapsed": 48759,
     "status": "ok",
     "timestamp": 1615038743604,
     "user": {
      "displayName": "Sayan Dey",
      "photoUrl": "https://lh3.googleusercontent.com/a-/AOh14GgqVHJ9o6-7idGiRbNNd4iVc1VjzvuPnwmAnvEtD6U=s64",
      "userId": "03603580465490055794"
     },
     "user_tz": -330
    },
    "id": "6E_mKdZIDdYO",
    "outputId": "2d093d4c-f77b-4929-e3dd-399c4825101f"
   },
   "outputs": [
    {
     "name": "stdout",
     "output_type": "stream",
     "text": [
      "Epoch 1/10\n",
      "1250/1250 [==============================] - 5s 4ms/step - loss: 0.2317 - accuracy: 0.4816 - val_loss: 0.2256 - val_accuracy: 0.5050\n",
      "\n",
      "Epoch 00001: val_loss improved from 0.24884 to 0.22559, saving model to scratchmodel.best.hdf5\n",
      "Epoch 2/10\n",
      "1250/1250 [==============================] - 5s 4ms/step - loss: 0.2109 - accuracy: 0.5423 - val_loss: 0.2039 - val_accuracy: 0.5617\n",
      "\n",
      "Epoch 00002: val_loss improved from 0.22559 to 0.20386, saving model to scratchmodel.best.hdf5\n",
      "Epoch 3/10\n",
      "1250/1250 [==============================] - 5s 4ms/step - loss: 0.1949 - accuracy: 0.5907 - val_loss: 0.1954 - val_accuracy: 0.5844\n",
      "\n",
      "Epoch 00003: val_loss improved from 0.20386 to 0.19542, saving model to scratchmodel.best.hdf5\n",
      "Epoch 4/10\n",
      "1250/1250 [==============================] - 5s 4ms/step - loss: 0.1832 - accuracy: 0.6182 - val_loss: 0.1870 - val_accuracy: 0.6052\n",
      "\n",
      "Epoch 00004: val_loss improved from 0.19542 to 0.18701, saving model to scratchmodel.best.hdf5\n",
      "Epoch 5/10\n",
      "1250/1250 [==============================] - 5s 4ms/step - loss: 0.1733 - accuracy: 0.6439 - val_loss: 0.1818 - val_accuracy: 0.6283\n",
      "\n",
      "Epoch 00005: val_loss improved from 0.18701 to 0.18177, saving model to scratchmodel.best.hdf5\n",
      "Epoch 6/10\n",
      "1250/1250 [==============================] - 5s 4ms/step - loss: 0.1659 - accuracy: 0.6618 - val_loss: 0.1775 - val_accuracy: 0.6344\n",
      "\n",
      "Epoch 00006: val_loss improved from 0.18177 to 0.17750, saving model to scratchmodel.best.hdf5\n",
      "Epoch 7/10\n",
      "1250/1250 [==============================] - 5s 4ms/step - loss: 0.1597 - accuracy: 0.6805 - val_loss: 0.1812 - val_accuracy: 0.6289\n",
      "\n",
      "Epoch 00007: val_loss did not improve from 0.17750\n",
      "Epoch 8/10\n",
      "1250/1250 [==============================] - 5s 4ms/step - loss: 0.1550 - accuracy: 0.6929 - val_loss: 0.1713 - val_accuracy: 0.6477\n",
      "\n",
      "Epoch 00008: val_loss improved from 0.17750 to 0.17128, saving model to scratchmodel.best.hdf5\n",
      "Epoch 9/10\n",
      "1250/1250 [==============================] - 5s 4ms/step - loss: 0.1498 - accuracy: 0.7030 - val_loss: 0.1714 - val_accuracy: 0.6657\n",
      "\n",
      "Epoch 00009: val_loss did not improve from 0.17128\n",
      "Epoch 10/10\n",
      "1250/1250 [==============================] - 5s 4ms/step - loss: 0.1456 - accuracy: 0.7126 - val_loss: 0.1693 - val_accuracy: 0.6642\n",
      "\n",
      "Epoch 00010: val_loss improved from 0.17128 to 0.16928, saving model to scratchmodel.best.hdf5\n"
     ]
    },
    {
     "data": {
      "text/plain": [
       "<tensorflow.python.keras.callbacks.History at 0x7f35820a81d0>"
      ]
     },
     "execution_count": 36,
     "metadata": {
      "tags": []
     },
     "output_type": "execute_result"
    }
   ],
   "source": [
    "#Fitting the model on the train data and labels.\n",
    "model.fit(X_train, y_train, batch_size=32, epochs=10, \n",
    "          verbose=1, callbacks=[checkpointer], validation_split=0.2, shuffle=True)"
   ]
  },
  {
   "cell_type": "code",
   "execution_count": null,
   "metadata": {
    "colab": {
     "base_uri": "https://localhost:8080/",
     "height": 51
    },
    "id": "x8nbkEQyDdYR",
    "outputId": "2cc7959d-cad2-43d8-e789-1f691ca97176"
   },
   "outputs": [
    {
     "name": "stdout",
     "output_type": "stream",
     "text": [
      "10000/10000 [==============================] - 4s 369us/step\n",
      "Accuracy on the Test Images:  0.9106299810409546\n"
     ]
    }
   ],
   "source": [
    "#Evaluate the model on the test data\n",
    "score = model.evaluate(X_test, y_test)\n",
    "\n",
    "#Accuracy on test data\n",
    "print('Accuracy on the Test Images: ', score[1])"
   ]
  },
  {
   "cell_type": "code",
   "execution_count": null,
   "metadata": {
    "id": "US7CtSQjGjk4"
   },
   "outputs": [],
   "source": []
  },
  {
   "cell_type": "code",
   "execution_count": null,
   "metadata": {
    "id": "xzLO15gFGjqp"
   },
   "outputs": [],
   "source": []
  },
  {
   "cell_type": "code",
   "execution_count": null,
   "metadata": {
    "id": "CBiRaNB1Gjtf"
   },
   "outputs": [],
   "source": []
  },
  {
   "cell_type": "code",
   "execution_count": null,
   "metadata": {
    "id": "7KILMqqGGjvy"
   },
   "outputs": [],
   "source": []
  },
  {
   "cell_type": "markdown",
   "metadata": {
    "id": "2zUkUpZQvRPX"
   },
   "source": [
    "## Vanilla CNN + Data Augmentation"
   ]
  },
  {
   "cell_type": "code",
   "execution_count": null,
   "metadata": {
    "id": "nvv2SmKQfLvY"
   },
   "outputs": [],
   "source": [
    "from keras.preprocessing.image import ImageDataGenerator\n",
    "\n",
    "# This will do preprocessing and realtime data augmentation:\n",
    "datagen = ImageDataGenerator(\n",
    "    featurewise_center=False,  # set input mean to 0 over the dataset\n",
    "    samplewise_center=False,  # set each sample mean to 0\n",
    "    featurewise_std_normalization=False,  # divide inputs by std of the dataset\n",
    "    samplewise_std_normalization=False,  # divide each input by its std\n",
    "    zca_whitening=False,  # apply ZCA whitening\n",
    "    rotation_range=50,  # randomly rotate images in the range (degrees, 0 to 180)\n",
    "    width_shift_range=0.1,  # randomly shift images horizontally (fraction of total width)\n",
    "    height_shift_range=0.1,  # randomly shift images vertically (fraction of total height)\n",
    "    horizontal_flip=False,  # randomly flip images\n",
    "    vertical_flip=False)  # randomly flip images\n",
    "\n",
    "# Prepare the generator\n",
    "datagen.fit(trainX)"
   ]
  },
  {
   "cell_type": "code",
   "execution_count": null,
   "metadata": {
    "colab": {
     "base_uri": "https://localhost:8080/",
     "height": 89
    },
    "executionInfo": {
     "elapsed": 1245,
     "status": "ok",
     "timestamp": 1615060538534,
     "user": {
      "displayName": "Sayan Dey",
      "photoUrl": "https://lh3.googleusercontent.com/a-/AOh14GgqVHJ9o6-7idGiRbNNd4iVc1VjzvuPnwmAnvEtD6U=s64",
      "userId": "03603580465490055794"
     },
     "user_tz": -330
    },
    "id": "pIio3nUAfiyA",
    "outputId": "6d74bedd-a401-4594-c616-0079ff6ca4dd"
   },
   "outputs": [
    {
     "data": {
      "image/png": "[encoded data removed]",
      "text/plain": [
       "<Figure size 432x288 with 5 Axes>"
      ]
     },
     "metadata": {
      "needs_background": "light",
      "tags": []
     },
     "output_type": "display_data"
    }
   ],
   "source": [
    "from matplotlib import pyplot as plt\n",
    "gen = datagen.flow(trainX[:1], batch_size=1)\n",
    "for i in range(1, 6):\n",
    "    plt.subplot(1,5,i)\n",
    "    plt.axis(\"off\")\n",
    "    plt.imshow(gen.next().squeeze(), cmap='gray')\n",
    "    plt.plot()"
   ]
  },
  {
   "cell_type": "markdown",
   "metadata": {
    "id": "WplPq4-JHZjn"
   },
   "source": [
    "## Build the Graph"
   ]
  },
  {
   "cell_type": "code",
   "execution_count": null,
   "metadata": {
    "id": "JDZhd_YyHZjo"
   },
   "outputs": [],
   "source": [
    "tf.keras.backend.clear_session()\n",
    "#Initialize model, reshape & normalize data\n",
    "model = tf.keras.models.Sequential()\n",
    "\n",
    "#Reshape data from 2D (28,28) to 3D (28, 28, 1)\n",
    "model.add(tf.keras.layers.Reshape((32,32,3),input_shape=(32,32,3)))"
   ]
  },
  {
   "cell_type": "markdown",
   "metadata": {
    "id": "_ffqlSvQHZjo"
   },
   "source": [
    "### Apply Convolutional Layers, MaxPooling"
   ]
  },
  {
   "cell_type": "code",
   "execution_count": null,
   "metadata": {
    "id": "mtysvNeiHZjo"
   },
   "outputs": [],
   "source": [
    "#Add first convolutional layer\n",
    "model.add(tf.keras.layers.Conv2D(32, #Number of filters \n",
    "                                 kernel_size=(3,3), #Size of the filter\n",
    "                                 activation='relu'))\n",
    "\n",
    "#Add second convolutional layer\n",
    "model.add(tf.keras.layers.Conv2D(64, kernel_size=(3,3), activation='relu'))\n",
    "model.add(tf.keras.layers.MaxPool2D(pool_size=(2,2)))\n",
    "model.add(tf.keras.layers.Conv2D(128, kernel_size=(3,3), activation='relu'))\n",
    "model.add(tf.keras.layers.Conv2D(256, kernel_size=(3,3), activation='relu'))\n",
    "#Add MaxPooling layer\n",
    "model.add(tf.keras.layers.MaxPool2D(pool_size=(2,2)))\n",
    "\n",
    "#model.add(tf.keras.layers.GlobalAveragePooling2D())"
   ]
  },
  {
   "cell_type": "markdown",
   "metadata": {
    "id": "5nqv8TivHZjp"
   },
   "source": [
    "### Add layers for Classification"
   ]
  },
  {
   "cell_type": "code",
   "execution_count": null,
   "metadata": {
    "id": "zOKvYdl3HZjp"
   },
   "outputs": [],
   "source": [
    "#Flatten the output\n",
    "model.add(tf.keras.layers.Flatten())\n",
    "\n",
    "#Dense layer\n",
    "model.add(tf.keras.layers.Dense(128, activation='relu'))\n",
    "\n",
    "#Add another dropout layer\n",
    "model.add(tf.keras.layers.Dropout(0.3))\n",
    "\n",
    "#Output layer\n",
    "model.add(tf.keras.layers.Dense(10, activation='softmax'))"
   ]
  },
  {
   "cell_type": "code",
   "execution_count": null,
   "metadata": {
    "id": "JRC-e3pFHZjp"
   },
   "outputs": [],
   "source": [
    "model.compile(optimizer='adam', \n",
    "              loss='categorical_crossentropy', metrics=['accuracy'])"
   ]
  },
  {
   "cell_type": "code",
   "execution_count": null,
   "metadata": {
    "colab": {
     "base_uri": "https://localhost:8080/"
    },
    "executionInfo": {
     "elapsed": 1284,
     "status": "ok",
     "timestamp": 1615060667973,
     "user": {
      "displayName": "Sayan Dey",
      "photoUrl": "https://lh3.googleusercontent.com/a-/AOh14GgqVHJ9o6-7idGiRbNNd4iVc1VjzvuPnwmAnvEtD6U=s64",
      "userId": "03603580465490055794"
     },
     "user_tz": -330
    },
    "id": "1wN_tNI8HZjp",
    "outputId": "67c761e7-8bdd-4b80-b33a-907f85e32b35"
   },
   "outputs": [
    {
     "name": "stdout",
     "output_type": "stream",
     "text": [
      "Model: \"sequential\"\n",
      "_________________________________________________________________\n",
      "Layer (type)                 Output Shape              Param #   \n",
      "=================================================================\n",
      "reshape (Reshape)            (None, 32, 32, 3)         0         \n",
      "_________________________________________________________________\n",
      "conv2d (Conv2D)              (None, 30, 30, 32)        896       \n",
      "_________________________________________________________________\n",
      "conv2d_1 (Conv2D)            (None, 28, 28, 64)        18496     \n",
      "_________________________________________________________________\n",
      "max_pooling2d (MaxPooling2D) (None, 14, 14, 64)        0         \n",
      "_________________________________________________________________\n",
      "conv2d_2 (Conv2D)            (None, 12, 12, 128)       73856     \n",
      "_________________________________________________________________\n",
      "conv2d_3 (Conv2D)            (None, 10, 10, 256)       295168    \n",
      "_________________________________________________________________\n",
      "max_pooling2d_1 (MaxPooling2 (None, 5, 5, 256)         0         \n",
      "_________________________________________________________________\n",
      "flatten (Flatten)            (None, 6400)              0         \n",
      "_________________________________________________________________\n",
      "dense (Dense)                (None, 128)               819328    \n",
      "_________________________________________________________________\n",
      "dropout (Dropout)            (None, 128)               0         \n",
      "_________________________________________________________________\n",
      "dense_1 (Dense)              (None, 10)                1290      \n",
      "=================================================================\n",
      "Total params: 1,209,034\n",
      "Trainable params: 1,209,034\n",
      "Non-trainable params: 0\n",
      "_________________________________________________________________\n"
     ]
    }
   ],
   "source": [
    "model.summary()"
   ]
  },
  {
   "cell_type": "code",
   "execution_count": null,
   "metadata": {
    "id": "kAaiRoxFH8--"
   },
   "outputs": [],
   "source": [
    "TRAIN = True\n",
    "BATCH_SIZE = 32\n",
    "EPOCHS = 10"
   ]
  },
  {
   "cell_type": "code",
   "execution_count": null,
   "metadata": {
    "colab": {
     "base_uri": "https://localhost:8080/"
    },
    "executionInfo": {
     "elapsed": 280802,
     "status": "ok",
     "timestamp": 1615061735490,
     "user": {
      "displayName": "Sayan Dey",
      "photoUrl": "https://lh3.googleusercontent.com/a-/AOh14GgqVHJ9o6-7idGiRbNNd4iVc1VjzvuPnwmAnvEtD6U=s64",
      "userId": "03603580465490055794"
     },
     "user_tz": -330
    },
    "id": "W3wweCqofmpI",
    "outputId": "79f49778-b7a2-4ab2-c26d-8d0629604e77"
   },
   "outputs": [
    {
     "name": "stdout",
     "output_type": "stream",
     "text": [
      "Epoch 1/10\n",
      "   7/1562 [..............................] - ETA: 26s - loss: 1.6255 - accuracy: 0.4062"
     ]
    },
    {
     "name": "stderr",
     "output_type": "stream",
     "text": [
      "/usr/local/lib/python3.7/dist-packages/tensorflow/python/keras/engine/training.py:1844: UserWarning: `Model.fit_generator` is deprecated and will be removed in a future version. Please use `Model.fit`, which supports generators.\n",
      "  warnings.warn('`Model.fit_generator` is deprecated and '\n"
     ]
    },
    {
     "name": "stdout",
     "output_type": "stream",
     "text": [
      "1562/1562 [==============================] - 28s 18ms/step - loss: 1.4610 - accuracy: 0.4698 - val_loss: 1.1860 - val_accuracy: 0.5720\n",
      "Epoch 2/10\n",
      "1562/1562 [==============================] - 28s 18ms/step - loss: 1.3227 - accuracy: 0.5258 - val_loss: 1.0992 - val_accuracy: 0.6079\n",
      "Epoch 3/10\n",
      "1562/1562 [==============================] - 28s 18ms/step - loss: 1.2181 - accuracy: 0.5679 - val_loss: 1.0737 - val_accuracy: 0.6335\n",
      "Epoch 4/10\n",
      "1562/1562 [==============================] - 28s 18ms/step - loss: 1.1438 - accuracy: 0.5972 - val_loss: 0.9488 - val_accuracy: 0.6677\n",
      "Epoch 5/10\n",
      "1562/1562 [==============================] - 28s 18ms/step - loss: 1.0939 - accuracy: 0.6152 - val_loss: 0.9913 - val_accuracy: 0.6644\n",
      "Epoch 6/10\n",
      "1562/1562 [==============================] - 28s 18ms/step - loss: 1.0607 - accuracy: 0.6321 - val_loss: 0.9420 - val_accuracy: 0.6752\n",
      "Epoch 7/10\n",
      "1562/1562 [==============================] - 28s 18ms/step - loss: 1.0211 - accuracy: 0.6412 - val_loss: 0.8784 - val_accuracy: 0.6949\n",
      "Epoch 8/10\n",
      "1562/1562 [==============================] - 28s 18ms/step - loss: 0.9932 - accuracy: 0.6534 - val_loss: 0.8691 - val_accuracy: 0.6995\n",
      "Epoch 9/10\n",
      "1562/1562 [==============================] - 28s 18ms/step - loss: 0.9711 - accuracy: 0.6600 - val_loss: 0.8343 - val_accuracy: 0.7138\n",
      "Epoch 10/10\n",
      "1562/1562 [==============================] - 28s 18ms/step - loss: 0.9497 - accuracy: 0.6697 - val_loss: 0.8904 - val_accuracy: 0.7010\n"
     ]
    }
   ],
   "source": [
    "TRAIN= True\n",
    "if TRAIN:\n",
    "    model.fit_generator(datagen.flow(trainX, trainY,\n",
    "                        batch_size=BATCH_SIZE),\n",
    "                        steps_per_epoch=trainX.shape[0]/BATCH_SIZE,\n",
    "                        epochs=EPOCHS,\n",
    "                        validation_data=(testX, testY))\n",
    "    model.save('./cnn_augment.h5')\n",
    "else:\n",
    "    print('Loading pretrained model...')\n",
    "    model3 = keras.models.load_model('./cnn_augment.h5')\n",
    "    print('Model Loaded.')"
   ]
  },
  {
   "cell_type": "code",
   "execution_count": null,
   "metadata": {
    "colab": {
     "base_uri": "https://localhost:8080/",
     "height": 50
    },
    "executionInfo": {
     "elapsed": 2239,
     "status": "ok",
     "timestamp": 1540962651210,
     "user": {
      "displayName": "Sheshadri Thiruvenkadam",
      "photoUrl": "",
      "userId": "12398601621710629404"
     },
     "user_tz": -330
    },
    "id": "5MCWVQ2-giao",
    "outputId": "69a35f42-e20f-41ec-a0cb-ae47860d7c36"
   },
   "outputs": [
    {
     "name": "stdout",
     "output_type": "stream",
     "text": [
      "10000/10000 [==============================] - 1s 106us/step\n",
      "[0.03394505218988634, 0.9891]\n"
     ]
    }
   ],
   "source": [
    "loss_and_metrics = model3.evaluate(x_test, y_test)\n",
    "print(loss_and_metrics)"
   ]
  }
 ],
 "metadata": {
  "accelerator": "GPU",
  "colab": {
   "collapsed_sections": [],
   "name": "CIFAR-10 CNN.ipynb",
   "provenance": []
  },
  "kernelspec": {
   "display_name": "Python 3 (ipykernel)",
   "language": "python",
   "name": "python3"
  },
  "language_info": {
   "codemirror_mode": {
    "name": "ipython",
    "version": 3
   },
   "file_extension": ".py",
   "mimetype": "text/x-python",
   "name": "python",
   "nbconvert_exporter": "python",
   "pygments_lexer": "ipython3",
   "version": "3.8.8"
  }
 },
 "nbformat": 4,
 "nbformat_minor": 1
}
