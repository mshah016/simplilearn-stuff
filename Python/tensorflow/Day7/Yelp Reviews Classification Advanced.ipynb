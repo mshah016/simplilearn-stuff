{
 "cells": [
  {
   "cell_type": "code",
   "execution_count": 12,
   "metadata": {
    "id": "KI_B0np3V5GU"
   },
   "outputs": [],
   "source": [
    "# Yelp reviews classification with advanced ML"
   ]
  },
  {
   "cell_type": "markdown",
   "metadata": {
    "id": "ZpvgQ0dbV5GW"
   },
   "source": [
    "### Topics covered in this notebook\n",
    "\n",
    "- **Tokenization**: breaking text into tokens (words, sentences, n-grams)\n",
    "- **Stopword removal**: a/an/the\n",
    "- **Stemming and lemmatization**: root word\n",
    "- **TF-IDF**: word importance\n",
    "- **Spelling correction**: \"New York City\"\n",
    "- **Language detection**: \"translate this page\"\n",
    "- **Machine learning**"
   ]
  },
  {
   "cell_type": "markdown",
   "metadata": {
    "id": "pFAJewWIV5GX"
   },
   "source": [
    "## 1: Reading in the Yelp Reviews"
   ]
  },
  {
   "cell_type": "code",
   "execution_count": 13,
   "metadata": {
    "executionInfo": {
     "elapsed": 1022,
     "status": "ok",
     "timestamp": 1618745299409,
     "user": {
      "displayName": "Sayan Dey",
      "photoUrl": "https://lh3.googleusercontent.com/a-/AOh14GgqVHJ9o6-7idGiRbNNd4iVc1VjzvuPnwmAnvEtD6U=s64",
      "userId": "03603580465490055794"
     },
     "user_tz": -330
    },
    "id": "22XiGCFNV5GY"
   },
   "outputs": [],
   "source": [
    "import warnings\n",
    "warnings.filterwarnings('ignore')"
   ]
  },
  {
   "cell_type": "code",
   "execution_count": 14,
   "metadata": {
    "executionInfo": {
     "elapsed": 1557,
     "status": "ok",
     "timestamp": 1618745300063,
     "user": {
      "displayName": "Sayan Dey",
      "photoUrl": "https://lh3.googleusercontent.com/a-/AOh14GgqVHJ9o6-7idGiRbNNd4iVc1VjzvuPnwmAnvEtD6U=s64",
      "userId": "03603580465490055794"
     },
     "user_tz": -330
    },
    "id": "KrQ0TLpOV5Gc"
   },
   "outputs": [],
   "source": [
    "import pandas as pd\n",
    "import numpy as np\n",
    "import scipy as sp\n",
    "from sklearn.model_selection import train_test_split\n",
    "from sklearn.feature_extraction.text import CountVectorizer, TfidfVectorizer\n",
    "from sklearn.naive_bayes import MultinomialNB\n",
    "from sklearn.linear_model import LogisticRegression\n",
    "from sklearn import metrics\n",
    "from textblob import TextBlob, Word\n",
    "import nltk\n",
    "from nltk.stem.snowball import SnowballStemmer\n",
    "%matplotlib inline"
   ]
  },
  {
   "cell_type": "code",
   "execution_count": 15,
   "metadata": {
    "colab": {
     "base_uri": "https://localhost:8080/"
    },
    "executionInfo": {
     "elapsed": 1417,
     "status": "ok",
     "timestamp": 1618745303217,
     "user": {
      "displayName": "Sayan Dey",
      "photoUrl": "https://lh3.googleusercontent.com/a-/AOh14GgqVHJ9o6-7idGiRbNNd4iVc1VjzvuPnwmAnvEtD6U=s64",
      "userId": "03603580465490055794"
     },
     "user_tz": -330
    },
    "id": "M-lTCs8QV5Gg",
    "outputId": "8dc9b4c1-e45e-4850-81a1-b0d047f911f0"
   },
   "outputs": [],
   "source": [
    "# read yelp.csv into a DataFrame\n",
    "#from google.colab import drive\n",
    "#drive.mount('/gdrive')"
   ]
  },
  {
   "cell_type": "code",
   "execution_count": 16,
   "metadata": {
    "colab": {
     "base_uri": "https://localhost:8080/",
     "height": 289
    },
    "executionInfo": {
     "elapsed": 1314,
     "status": "ok",
     "timestamp": 1618745303218,
     "user": {
      "displayName": "Sayan Dey",
      "photoUrl": "https://lh3.googleusercontent.com/a-/AOh14GgqVHJ9o6-7idGiRbNNd4iVc1VjzvuPnwmAnvEtD6U=s64",
      "userId": "03603580465490055794"
     },
     "user_tz": -330
    },
    "id": "f6U1e-NNrPZC",
    "outputId": "0264d3b6-b361-4569-d94a-60334e438e4c",
    "scrolled": true
   },
   "outputs": [
    {
     "data": {
      "text/html": [
       "<div>\n",
       "<style scoped>\n",
       "    .dataframe tbody tr th:only-of-type {\n",
       "        vertical-align: middle;\n",
       "    }\n",
       "\n",
       "    .dataframe tbody tr th {\n",
       "        vertical-align: top;\n",
       "    }\n",
       "\n",
       "    .dataframe thead th {\n",
       "        text-align: right;\n",
       "    }\n",
       "</style>\n",
       "<table border=\"1\" class=\"dataframe\">\n",
       "  <thead>\n",
       "    <tr style=\"text-align: right;\">\n",
       "      <th></th>\n",
       "      <th>business_id</th>\n",
       "      <th>date</th>\n",
       "      <th>review_id</th>\n",
       "      <th>stars</th>\n",
       "      <th>text</th>\n",
       "      <th>type</th>\n",
       "      <th>user_id</th>\n",
       "      <th>cool</th>\n",
       "      <th>useful</th>\n",
       "      <th>funny</th>\n",
       "    </tr>\n",
       "  </thead>\n",
       "  <tbody>\n",
       "    <tr>\n",
       "      <th>0</th>\n",
       "      <td>9yKzy9PApeiPPOUJEtnvkg</td>\n",
       "      <td>2011-01-26</td>\n",
       "      <td>fWKvX83p0-ka4JS3dc6E5A</td>\n",
       "      <td>5</td>\n",
       "      <td>My wife took me here on my birthday for breakf...</td>\n",
       "      <td>review</td>\n",
       "      <td>rLtl8ZkDX5vH5nAx9C3q5Q</td>\n",
       "      <td>2</td>\n",
       "      <td>5</td>\n",
       "      <td>0</td>\n",
       "    </tr>\n",
       "    <tr>\n",
       "      <th>1</th>\n",
       "      <td>ZRJwVLyzEJq1VAihDhYiow</td>\n",
       "      <td>2011-07-27</td>\n",
       "      <td>IjZ33sJrzXqU-0X6U8NwyA</td>\n",
       "      <td>5</td>\n",
       "      <td>I have no idea why some people give bad review...</td>\n",
       "      <td>review</td>\n",
       "      <td>0a2KyEL0d3Yb1V6aivbIuQ</td>\n",
       "      <td>0</td>\n",
       "      <td>0</td>\n",
       "      <td>0</td>\n",
       "    </tr>\n",
       "    <tr>\n",
       "      <th>2</th>\n",
       "      <td>6oRAC4uyJCsJl1X0WZpVSA</td>\n",
       "      <td>2012-06-14</td>\n",
       "      <td>IESLBzqUCLdSzSqm0eCSxQ</td>\n",
       "      <td>4</td>\n",
       "      <td>love the gyro plate. Rice is so good and I als...</td>\n",
       "      <td>review</td>\n",
       "      <td>0hT2KtfLiobPvh6cDC8JQg</td>\n",
       "      <td>0</td>\n",
       "      <td>1</td>\n",
       "      <td>0</td>\n",
       "    </tr>\n",
       "    <tr>\n",
       "      <th>3</th>\n",
       "      <td>_1QQZuf4zZOyFCvXc0o6Vg</td>\n",
       "      <td>2010-05-27</td>\n",
       "      <td>G-WvGaISbqqaMHlNnByodA</td>\n",
       "      <td>5</td>\n",
       "      <td>Rosie, Dakota, and I LOVE Chaparral Dog Park!!...</td>\n",
       "      <td>review</td>\n",
       "      <td>uZetl9T0NcROGOyFfughhg</td>\n",
       "      <td>1</td>\n",
       "      <td>2</td>\n",
       "      <td>0</td>\n",
       "    </tr>\n",
       "    <tr>\n",
       "      <th>4</th>\n",
       "      <td>6ozycU1RpktNG2-1BroVtw</td>\n",
       "      <td>2012-01-05</td>\n",
       "      <td>1uJFq2r5QfJG_6ExMRCaGw</td>\n",
       "      <td>5</td>\n",
       "      <td>General Manager Scott Petello is a good egg!!!...</td>\n",
       "      <td>review</td>\n",
       "      <td>vYmM4KTsC8ZfQBg-j5MWkw</td>\n",
       "      <td>0</td>\n",
       "      <td>0</td>\n",
       "      <td>0</td>\n",
       "    </tr>\n",
       "  </tbody>\n",
       "</table>\n",
       "</div>"
      ],
      "text/plain": [
       "              business_id        date               review_id  stars  \\\n",
       "0  9yKzy9PApeiPPOUJEtnvkg  2011-01-26  fWKvX83p0-ka4JS3dc6E5A      5   \n",
       "1  ZRJwVLyzEJq1VAihDhYiow  2011-07-27  IjZ33sJrzXqU-0X6U8NwyA      5   \n",
       "2  6oRAC4uyJCsJl1X0WZpVSA  2012-06-14  IESLBzqUCLdSzSqm0eCSxQ      4   \n",
       "3  _1QQZuf4zZOyFCvXc0o6Vg  2010-05-27  G-WvGaISbqqaMHlNnByodA      5   \n",
       "4  6ozycU1RpktNG2-1BroVtw  2012-01-05  1uJFq2r5QfJG_6ExMRCaGw      5   \n",
       "\n",
       "                                                text    type  \\\n",
       "0  My wife took me here on my birthday for breakf...  review   \n",
       "1  I have no idea why some people give bad review...  review   \n",
       "2  love the gyro plate. Rice is so good and I als...  review   \n",
       "3  Rosie, Dakota, and I LOVE Chaparral Dog Park!!...  review   \n",
       "4  General Manager Scott Petello is a good egg!!!...  review   \n",
       "\n",
       "                  user_id  cool  useful  funny  \n",
       "0  rLtl8ZkDX5vH5nAx9C3q5Q     2       5      0  \n",
       "1  0a2KyEL0d3Yb1V6aivbIuQ     0       0      0  \n",
       "2  0hT2KtfLiobPvh6cDC8JQg     0       1      0  \n",
       "3  uZetl9T0NcROGOyFfughhg     1       2      0  \n",
       "4  vYmM4KTsC8ZfQBg-j5MWkw     0       0      0  "
      ]
     },
     "execution_count": 16,
     "metadata": {},
     "output_type": "execute_result"
    }
   ],
   "source": [
    "yelp = pd.read_csv('yelp.csv')\n",
    "yelp.head()"
   ]
  },
  {
   "cell_type": "code",
   "execution_count": 17,
   "metadata": {
    "scrolled": false
   },
   "outputs": [
    {
     "data": {
      "text/plain": [
       "(10000, 10)"
      ]
     },
     "execution_count": 17,
     "metadata": {},
     "output_type": "execute_result"
    }
   ],
   "source": [
    "yelp.shape"
   ]
  },
  {
   "cell_type": "code",
   "execution_count": 18,
   "metadata": {
    "executionInfo": {
     "elapsed": 1859,
     "status": "ok",
     "timestamp": 1618745307630,
     "user": {
      "displayName": "Sayan Dey",
      "photoUrl": "https://lh3.googleusercontent.com/a-/AOh14GgqVHJ9o6-7idGiRbNNd4iVc1VjzvuPnwmAnvEtD6U=s64",
      "userId": "03603580465490055794"
     },
     "user_tz": -330
    },
    "id": "LM7JYkaoV5Gn"
   },
   "outputs": [],
   "source": [
    "# create a new DataFrame that only contains the 5-star and 1-star reviews\n",
    "yelp_best_worst = yelp[(yelp.stars==5) | (yelp.stars==1)]\n",
    "#yelp_best_worst = yelp"
   ]
  },
  {
   "cell_type": "code",
   "execution_count": 19,
   "metadata": {
    "executionInfo": {
     "elapsed": 1589,
     "status": "ok",
     "timestamp": 1618745307631,
     "user": {
      "displayName": "Sayan Dey",
      "photoUrl": "https://lh3.googleusercontent.com/a-/AOh14GgqVHJ9o6-7idGiRbNNd4iVc1VjzvuPnwmAnvEtD6U=s64",
      "userId": "03603580465490055794"
     },
     "user_tz": -330
    },
    "id": "q0YTa_K5V5Gs"
   },
   "outputs": [],
   "source": [
    "# define X and y\n",
    "X = yelp_best_worst.text\n",
    "y = yelp_best_worst.stars"
   ]
  },
  {
   "cell_type": "code",
   "execution_count": 20,
   "metadata": {
    "executionInfo": {
     "elapsed": 1454,
     "status": "ok",
     "timestamp": 1618745307631,
     "user": {
      "displayName": "Sayan Dey",
      "photoUrl": "https://lh3.googleusercontent.com/a-/AOh14GgqVHJ9o6-7idGiRbNNd4iVc1VjzvuPnwmAnvEtD6U=s64",
      "userId": "03603580465490055794"
     },
     "user_tz": -330
    },
    "id": "Ean64GFMV5Gv"
   },
   "outputs": [],
   "source": [
    "# split the new DataFrame into training and testing sets\n",
    "X_train, X_test, y_train, y_test = train_test_split(X, y, random_state=1)"
   ]
  },
  {
   "cell_type": "code",
   "execution_count": 21,
   "metadata": {},
   "outputs": [
    {
     "data": {
      "text/plain": [
       "(3064,)"
      ]
     },
     "execution_count": 21,
     "metadata": {},
     "output_type": "execute_result"
    }
   ],
   "source": [
    "X_train.shape"
   ]
  },
  {
   "cell_type": "code",
   "execution_count": 22,
   "metadata": {
    "scrolled": false
   },
   "outputs": [
    {
     "data": {
      "text/plain": [
       "(1022,)"
      ]
     },
     "execution_count": 22,
     "metadata": {},
     "output_type": "execute_result"
    }
   ],
   "source": [
    "X_test.shape"
   ]
  },
  {
   "cell_type": "markdown",
   "metadata": {
    "id": "OYAMkGJuV5Gz"
   },
   "source": [
    "## 2: Tokenization"
   ]
  },
  {
   "cell_type": "markdown",
   "metadata": {
    "id": "lqjMZ-FeV5G0"
   },
   "source": [
    "- **What:** Separate text into units such as sentences or words\n",
    "- **Why:** Gives structure to previously unstructured text\n",
    "- **Notes:** Relatively easy with English language text, not easy with some languages"
   ]
  },
  {
   "cell_type": "code",
   "execution_count": 23,
   "metadata": {},
   "outputs": [
    {
     "data": {
      "text/plain": [
       "6841    FILLY-B's!!!!!  only 8 reviews?? NINE now!!!\\n...\n",
       "1728    My husband and I absolutely LOVE this restaura...\n",
       "3853    We went today after lunch. I got my usual of l...\n",
       "671     Totally dissapointed.  I had purchased a coupo...\n",
       "4920    Costco Travel - My husband and I recently retu...\n",
       "                              ...                        \n",
       "9396    Pros: \\n-No breed restrictions on dogs\\n-Washe...\n",
       "2661    Sorry Banana Leaf... I'm usually not picky at ...\n",
       "9756    Alright this is the deal of deals, 2.75 for st...\n",
       "554     Hands down a great lil joint! Gotta get the gu...\n",
       "2575    Absolutely disgusting.  I had enchiladas and a...\n",
       "Name: text, Length: 3064, dtype: object"
      ]
     },
     "execution_count": 23,
     "metadata": {},
     "output_type": "execute_result"
    }
   ],
   "source": [
    "X_train"
   ]
  },
  {
   "cell_type": "code",
   "execution_count": 1,
   "metadata": {
    "executionInfo": {
     "elapsed": 1130,
     "status": "ok",
     "timestamp": 1618745307632,
     "user": {
      "displayName": "Sayan Dey",
      "photoUrl": "https://lh3.googleusercontent.com/a-/AOh14GgqVHJ9o6-7idGiRbNNd4iVc1VjzvuPnwmAnvEtD6U=s64",
      "userId": "03603580465490055794"
     },
     "user_tz": -330
    },
    "id": "4qjSENqGV5G2"
   },
   "outputs": [
    {
     "ename": "NameError",
     "evalue": "name 'CountVectorizer' is not defined",
     "output_type": "error",
     "traceback": [
      "\u001b[0;31m---------------------------------------------------------------------------\u001b[0m",
      "\u001b[0;31mNameError\u001b[0m                                 Traceback (most recent call last)",
      "\u001b[0;32m<ipython-input-1-3ceafcb2d811>\u001b[0m in \u001b[0;36m<module>\u001b[0;34m\u001b[0m\n\u001b[1;32m      1\u001b[0m \u001b[0;31m# use CountVectorizer to create document-term matrices from X_train and X_test\u001b[0m\u001b[0;34m\u001b[0m\u001b[0;34m\u001b[0m\u001b[0;34m\u001b[0m\u001b[0m\n\u001b[0;32m----> 2\u001b[0;31m \u001b[0mvect\u001b[0m \u001b[0;34m=\u001b[0m \u001b[0mCountVectorizer\u001b[0m\u001b[0;34m(\u001b[0m\u001b[0mngram_range\u001b[0m\u001b[0;34m=\u001b[0m\u001b[0;34m(\u001b[0m\u001b[0;36m1\u001b[0m\u001b[0;34m,\u001b[0m \u001b[0;36m1\u001b[0m\u001b[0;34m)\u001b[0m\u001b[0;34m,\u001b[0m\u001b[0mstop_words\u001b[0m\u001b[0;34m=\u001b[0m\u001b[0;34m'english'\u001b[0m\u001b[0;34m,\u001b[0m\u001b[0mlowercase\u001b[0m\u001b[0;34m=\u001b[0m\u001b[0;32mTrue\u001b[0m\u001b[0;34m,\u001b[0m\u001b[0mmin_df\u001b[0m\u001b[0;34m=\u001b[0m\u001b[0;36m3\u001b[0m\u001b[0;34m)\u001b[0m\u001b[0;34m\u001b[0m\u001b[0;34m\u001b[0m\u001b[0m\n\u001b[0m",
      "\u001b[0;31mNameError\u001b[0m: name 'CountVectorizer' is not defined"
     ]
    }
   ],
   "source": [
    "# use CountVectorizer to create document-term matrices from X_train and X_test\n",
    "vect = CountVectorizer(ngram_range=(1, 1),stop_words='english',lowercase=True,min_df=3)"
   ]
  },
  {
   "cell_type": "code",
   "execution_count": 25,
   "metadata": {
    "colab": {
     "base_uri": "https://localhost:8080/"
    },
    "executionInfo": {
     "elapsed": 2069,
     "status": "ok",
     "timestamp": 1618745308730,
     "user": {
      "displayName": "Sayan Dey",
      "photoUrl": "https://lh3.googleusercontent.com/a-/AOh14GgqVHJ9o6-7idGiRbNNd4iVc1VjzvuPnwmAnvEtD6U=s64",
      "userId": "03603580465490055794"
     },
     "user_tz": -330
    },
    "id": "8enKcxCwV5G8",
    "outputId": "cbdee33f-995d-4b62-ce96-1369073af833",
    "scrolled": true
   },
   "outputs": [
    {
     "data": {
      "text/html": [
       "<style>#sk-container-id-1 {color: black;background-color: white;}#sk-container-id-1 pre{padding: 0;}#sk-container-id-1 div.sk-toggleable {background-color: white;}#sk-container-id-1 label.sk-toggleable__label {cursor: pointer;display: block;width: 100%;margin-bottom: 0;padding: 0.3em;box-sizing: border-box;text-align: center;}#sk-container-id-1 label.sk-toggleable__label-arrow:before {content: \"▸\";float: left;margin-right: 0.25em;color: #696969;}#sk-container-id-1 label.sk-toggleable__label-arrow:hover:before {color: black;}#sk-container-id-1 div.sk-estimator:hover label.sk-toggleable__label-arrow:before {color: black;}#sk-container-id-1 div.sk-toggleable__content {max-height: 0;max-width: 0;overflow: hidden;text-align: left;background-color: #f0f8ff;}#sk-container-id-1 div.sk-toggleable__content pre {margin: 0.2em;color: black;border-radius: 0.25em;background-color: #f0f8ff;}#sk-container-id-1 input.sk-toggleable__control:checked~div.sk-toggleable__content {max-height: 200px;max-width: 100%;overflow: auto;}#sk-container-id-1 input.sk-toggleable__control:checked~label.sk-toggleable__label-arrow:before {content: \"▾\";}#sk-container-id-1 div.sk-estimator input.sk-toggleable__control:checked~label.sk-toggleable__label {background-color: #d4ebff;}#sk-container-id-1 div.sk-label input.sk-toggleable__control:checked~label.sk-toggleable__label {background-color: #d4ebff;}#sk-container-id-1 input.sk-hidden--visually {border: 0;clip: rect(1px 1px 1px 1px);clip: rect(1px, 1px, 1px, 1px);height: 1px;margin: -1px;overflow: hidden;padding: 0;position: absolute;width: 1px;}#sk-container-id-1 div.sk-estimator {font-family: monospace;background-color: #f0f8ff;border: 1px dotted black;border-radius: 0.25em;box-sizing: border-box;margin-bottom: 0.5em;}#sk-container-id-1 div.sk-estimator:hover {background-color: #d4ebff;}#sk-container-id-1 div.sk-parallel-item::after {content: \"\";width: 100%;border-bottom: 1px solid gray;flex-grow: 1;}#sk-container-id-1 div.sk-label:hover label.sk-toggleable__label {background-color: #d4ebff;}#sk-container-id-1 div.sk-serial::before {content: \"\";position: absolute;border-left: 1px solid gray;box-sizing: border-box;top: 0;bottom: 0;left: 50%;z-index: 0;}#sk-container-id-1 div.sk-serial {display: flex;flex-direction: column;align-items: center;background-color: white;padding-right: 0.2em;padding-left: 0.2em;position: relative;}#sk-container-id-1 div.sk-item {position: relative;z-index: 1;}#sk-container-id-1 div.sk-parallel {display: flex;align-items: stretch;justify-content: center;background-color: white;position: relative;}#sk-container-id-1 div.sk-item::before, #sk-container-id-1 div.sk-parallel-item::before {content: \"\";position: absolute;border-left: 1px solid gray;box-sizing: border-box;top: 0;bottom: 0;left: 50%;z-index: -1;}#sk-container-id-1 div.sk-parallel-item {display: flex;flex-direction: column;z-index: 1;position: relative;background-color: white;}#sk-container-id-1 div.sk-parallel-item:first-child::after {align-self: flex-end;width: 50%;}#sk-container-id-1 div.sk-parallel-item:last-child::after {align-self: flex-start;width: 50%;}#sk-container-id-1 div.sk-parallel-item:only-child::after {width: 0;}#sk-container-id-1 div.sk-dashed-wrapped {border: 1px dashed gray;margin: 0 0.4em 0.5em 0.4em;box-sizing: border-box;padding-bottom: 0.4em;background-color: white;}#sk-container-id-1 div.sk-label label {font-family: monospace;font-weight: bold;display: inline-block;line-height: 1.2em;}#sk-container-id-1 div.sk-label-container {text-align: center;}#sk-container-id-1 div.sk-container {/* jupyter's `normalize.less` sets `[hidden] { display: none; }` but bootstrap.min.css set `[hidden] { display: none !important; }` so we also need the `!important` here to be able to override the default hidden behavior on the sphinx rendered scikit-learn.org. See: https://github.com/scikit-learn/scikit-learn/issues/21755 */display: inline-block !important;position: relative;}#sk-container-id-1 div.sk-text-repr-fallback {display: none;}</style><div id=\"sk-container-id-1\" class=\"sk-top-container\"><div class=\"sk-text-repr-fallback\"><pre>CountVectorizer(min_df=3, stop_words=&#x27;english&#x27;)</pre><b>In a Jupyter environment, please rerun this cell to show the HTML representation or trust the notebook. <br />On GitHub, the HTML representation is unable to render, please try loading this page with nbviewer.org.</b></div><div class=\"sk-container\" hidden><div class=\"sk-item\"><div class=\"sk-estimator sk-toggleable\"><input class=\"sk-toggleable__control sk-hidden--visually\" id=\"sk-estimator-id-1\" type=\"checkbox\" checked><label for=\"sk-estimator-id-1\" class=\"sk-toggleable__label sk-toggleable__label-arrow\">CountVectorizer</label><div class=\"sk-toggleable__content\"><pre>CountVectorizer(min_df=3, stop_words=&#x27;english&#x27;)</pre></div></div></div></div></div>"
      ],
      "text/plain": [
       "CountVectorizer(min_df=3, stop_words='english')"
      ]
     },
     "execution_count": 25,
     "metadata": {},
     "output_type": "execute_result"
    }
   ],
   "source": [
    "#Tokenisation and Vectorisation\n",
    "vect.fit(X_train)"
   ]
  },
  {
   "cell_type": "code",
   "execution_count": 26,
   "metadata": {
    "scrolled": true
   },
   "outputs": [
    {
     "name": "stdout",
     "output_type": "stream",
     "text": [
      "['00', '000', '00am', '00pm', '01', '07', '09', '10', '100', '1000', '101', '10am', '10min', '10th', '11', '110', '11am', '11pm', '12', '120', '13', '14', '15', '150', '16', '160', '17', '18', '180', '19', '1980', '1st', '20', '200', '2006', '2008', '2009', '2010', '2011', '2012', '20th', '21', '22', '23', '24', '24th', '25', '250', '26', '26th', '28', '29', '2am', '2nd', '2pm', '30', '300', '30am', '30pm', '32', '34', '35', '35th', '3am', '3pm', '3rd', '40', '400', '43', '45', '45min', '48th', '49', '4pm', '4th', '50', '500', '51', '53', '55', '5pm', '5th', '60', '65', '6pm', '70', '70s', '75', '7am', '7pm', '7th', '80', '80s', '85', '88', '8pm', '8th', '90', '90s', '95', '98', '99', 'aaron', 'ability', 'able', 'abroad', 'absolute', 'absolutely', 'absurd', 'abundance', 'ac', 'accent', 'accept', 'acceptable', 'accepted', 'access', 'accessories', 'accommodate', 'accommodating', 'accommodations', 'accomodating', 'accompanied', 'accompany', 'accomplish', 'according', 'account', 'accurate', 'ace', 'acknowledge', 'acknowledged', 'acoustic', 'acrylics', 'act', 'acted', 'action', 'active', 'activities', 'activity', 'actors', 'acts', 'actual', 'actually', 'ad', 'adam', 'add', 'added', 'addicted', 'addicting', 'addiction', 'addictive', 'adding', 'addition', 'additional', 'address', 'adds', 'adequate', 'adjacent', 'adjoining', 'adjust', 'adjusted', 'admission', 'admit', 'adobe', 'adorable', 'adore', 'adovada', 'adult', 'adults', 'advance', 'advantage', 'adventure', 'adventurous', 'advertise', 'advertised', 'advice', 'advise', 'aesthetics', 'affair', 'affiliated', 'afford', 'affordable', 'aforementioned', 'afraid', 'afternoon', 'afterthought', 'afterward', 'age', 'aged', 'agent', 'ages', 'aggressive', 'aging', 'ago', 'agree', 'agreed', 'ah', 'ahead', 'ahi', 'ahwatukee', 'aid', 'aioli', 'air', 'airline', 'airlines', 'airport', 'airways', 'airy', 'aisles', 'aj', 'aka', 'al', 'ala', 'alas', 'albacore', 'alcohol', 'ale', 'alert', 'alex', 'alfredo', 'alice', 'alike', 'alive', 'allergic', 'allergies', 'allergy', 'allow', 'allowed', 'allowing', 'allows', 'almond', 'almonds', 'alongside', 'alot', 'alright', 'alterations', 'alternative', 'amanda', 'amazed', 'amazing', 'amazingly', 'amazon', 'amber', 'ambiance', 'ambience', 'ambient', 'amc', 'amenities', 'america', 'american', 'americanized', 'americans', 'amounts', 'ample', 'amuse', 'andrew', 'angel', 'angela', 'angeles', 'angry', 'animal', 'animals', 'anniversary', 'annoyance', 'annoyed', 'annoying', 'annual', 'answer', 'answered', 'answering', 'answers', 'anthem', 'anti', 'anticipate', 'antipasti', 'antipasto', 'anxious', 'anybody', 'anymore', 'anytime', 'anyways', 'ao', 'apart', 'apartment', 'apologize', 'apologized', 'apologizing', 'apology', 'app', 'apparently', 'appeal', 'appealing', 'appear', 'appearance', 'appeared', 'appears', 'appetite', 'appetizer', 'appetizers', 'appetizing', 'apple', 'apples', 'applied', 'apply', 'appointed', 'appointment', 'appointments', 'appreciate', 'appreciated', 'appreciation', 'apprehensive', 'approach', 'approachable', 'approached', 'appropriate', 'appropriately', 'approximately', 'apps', 'appt', 'april', 'arcadia', 'area', 'areas', 'aren', 'argue', 'argued', 'arizona', 'arm', 'arms', 'army', 'aroma', 'arranged', 'arrangements', 'array', 'arriba', 'arrival', 'arrive', 'arrived', 'arrives', 'arriving', 'arrogant', 'art', 'artichoke', 'artichokes', 'article', 'articles', 'artificial', 'artist', 'artistic', 'artists', 'arts', 'artsy', 'artwork', 'arugula', 'asada', 'asado', 'ashamed', 'asian', 'asians', 'aside', 'ask', 'asked', 'asking', 'asks', 'asleep', 'asparagus', 'aspect', 'ass', 'asses', 'assessment', 'assigned', 'assistance', 'assistant', 'assisted', 'associate', 'associated', 'associates', 'assorted', 'assortment', 'assume', 'assumed', 'assuming', 'assure', 'assured', 'asu', 'ate', 'atlantic', 'atleast', 'atm', 'atmosphere', 'atop', 'attached', 'attempt', 'attempting', 'attempts', 'attend', 'attendant', 'attendants', 'attended', 'attending', 'attention', 'attentive', 'attitude', 'attract', 'au', 'august', 'aunt', 'austin', 'authentic', 'authentically', 'authenticity', 'auto', 'automatic', 'automatically', 'avacado', 'availability', 'available', 'ave', 'avenue', 'average', 'avid', 'avocado', 'avoid', 'award', 'aware', 'away', 'awesome', 'awesomeness', 'awful', 'awhile', 'awkward', 'az', 'az88', 'baba', 'baby', 'babysitter', 'backed', 'background', 'backwards', 'backyard', 'bacon', 'bad', 'badly', 'baffled', 'bag', 'bagel', 'bagels', 'bags', 'baguette', 'bait', 'baiz', 'baja', 'baked', 'baker', 'bakery', 'baking', 'baklava', 'balance', 'balanced', 'balcony', 'ball', 'ballet', 'balls', 'balsamic', 'bam', 'banana', 'bananas', 'band', 'bandera', 'bandido', 'bands', 'bang', 'bank', 'bar', 'barbecue', 'barbeque', 'barber', 'barbers', 'bare', 'barely', 'bargain', 'baristas', 'bark', 'barley', 'barnes', 'barrel', 'barrio', 'bars', 'bartender', 'bartenders', 'base', 'baseball', 'based', 'basement', 'basic', 'basically', 'basics', 'basil', 'basis', 'basket', 'basketball', 'baskets', 'basmati', 'bass', 'batch', 'bath', 'bathed', 'bathroom', 'bathrooms', 'batter', 'battered', 'battery', 'bay', 'bbb', 'bbq', 'bc', 'bday', 'beach', 'bean', 'beans', 'bear', 'beard', 'bears', 'beat', 'beaten', 'beats', 'beau', 'beautiful', 'beautifully', 'beauty', 'bed', 'bedrooms', 'beds', 'beef', 'beer', 'beers', 'beet', 'beets', 'began', 'begged', 'begging', 'begin', 'beginning', 'begins', 'behalf', 'behavior', 'behold', 'believe', 'believer', 'bell', 'bellies', 'belly', 'beloved', 'belt', 'ben', 'bench', 'benches', 'bend', 'benedict', 'benefit', 'berries', 'berry', 'bertha', 'berto', 'best', 'bet', 'better', 'beverage', 'beverages', 'beware', 'bf', 'biagio', 'bianco', 'biet', 'big', 'bigger', 'biggest', 'bike', 'bikes', 'biking', 'bikini', 'billing', 'biltmore', 'bin', 'bird', 'birds', 'birthday', 'biscuits', 'bison', 'bisque', 'bistro', 'bit', 'bitch', 'bite', 'bites', 'bits', 'bitter', 'biz', 'black', 'blackberry', 'blackened', 'blah', 'blame', 'blanco', 'bland', 'blanket', 'blaring', 'blase', 'blast', 'bleh', 'blend', 'blended', 'blends', 'bless', 'blessed', 'bleu', 'blew', 'blind', 'bliss', 'blissful', 'block', 'blocks', 'blonde', 'blood', 'bloody', 'blossom', 'blouses', 'blow', 'blown', 'blows', 'blt', 'blue', 'blueberry', 'blues', 'bmw', 'bo', 'boar', 'board', 'boarded', 'boarding', 'boat', 'bob', 'boba', 'bobby', 'body', 'boil', 'boiled', 'bold', 'bolt', 'bomb', 'bombs', 'bon', 'bone', 'boneless', 'bones', 'bonus', 'boo', 'book', 'booked', 'booking', 'books', 'bookstore', 'boot', 'booth', 'booths', 'boots', 'booze', 'border', 'borders', 'bored', 'boring', 'born', 'bosa', 'boss', 'boston', 'botanical', 'bother', 'bothered', 'bottle', 'bottled', 'bottles', 'bouche', 'bought', 'boulders', 'bouncer', 'bouncers', 'bound', 'bourbon', 'boutique', 'bowl', 'bowling', 'bowls', 'box', 'boxed', 'boxes', 'boxing', 'boy', 'boyfriend', 'boyfriends', 'boys', 'brad', 'brag', 'braised', 'branch', 'brand', 'branding', 'brands', 'brat', 'bravo', 'brazilian', 'bread', 'breaded', 'breads', 'breadsticks', 'break', 'breakfast', 'breakfasts', 'breaking', 'breaks', 'breast', 'breath', 'breathe', 'breathing', 'breeze', 'brew', 'brewed', 'brewery', 'brewing', 'brews', 'brick', 'bride', 'brie', 'brief', 'bright', 'brilliant', 'brim', 'bring', 'bringing', 'brings', 'brioche', 'brisket', 'brittle', 'broccoli', 'brocolli', 'broiled', 'broke', 'broken', 'bros', 'broth', 'brother', 'brothers', 'brought', 'brow', 'brown', 'brownie', 'brownies', 'browns', 'brows', 'browse', 'brulee', 'brunch', 'bruschetta', 'brushed', 'brussel', 'brussels', 'bs', 'btw', 'bubble', 'buck', 'bucket', 'buckeye', 'bucks', 'buddies', 'buddy', 'budget', 'buds', 'buffalo', 'buffet', 'bug', 'bugs', 'build', 'building', 'built', 'bulbs', 'bulk', 'bull', 'bullshit', 'bummed', 'bummer', 'bumper', 'bumping', 'bun', 'bunch', 'buns', 'burger', 'burgers', 'burn', 'burned', 'burning', 'burnt', 'burrata', 'burrito', 'burritos', 'burro', 'burros', 'bursting', 'bus', 'bush', 'business', 'businesses', 'bustling', 'busy', 'butcher', 'butt', 'butter', 'butterfish', 'buttermilk', 'butternut', 'buttery', 'button', 'buttons', 'buy', 'buyer', 'buyers', 'buying', 'buzz', 'bye', 'byob', 'ca', 'cab', 'cabbage', 'cabernet', 'cabeza', 'cactus', 'caesar', 'cafe', 'cafeteria', 'caffeine', 'cage', 'cages', 'cajun', 'cake', 'cakes', 'calamari', 'cali', 'caliber', 'california', 'called', 'calling', 'calls', 'calm', 'calming', 'calorie', 'calories', 'calzone', 'calzones', 'came', 'camelback', 'camera', 'cameras', 'camp', 'campus', 'canada', 'canal', 'cancel', 'candied', 'candle', 'candles', 'candy', 'canned', 'cans', 'canteen', 'cantina', 'canyon', 'capable', 'capers', 'capital', 'cappuccino', 'caprese', 'car', 'caramel', 'caramelized', 'carb', 'card', 'cardboard', 'cardio', 'cards', 'care', 'cared', 'careful', 'carefully', 'cares', 'caribbean', 'caring', 'carmel', 'carmelized', 'carne', 'carnitas', 'carnivore', 'carpaccio', 'carpet', 'carried', 'carries', 'carrot', 'carrots', 'carry', 'carrying', 'cars', 'cart', 'cartel', 'carts', 'casa', 'case', 'cases', 'cash', 'cashew', 'cashier', 'cashiers', 'casino', 'casita', 'casserole', 'cast', 'casual', 'cat', 'catch', 'catching', 'cater', 'catered', 'catering', 'cation', 'cats', 'caught', 'cauliflower', 'cause', 'caused', 'causes', 'caution', 'cautious', 'cave', 'caveat', 'caviar', 'ceiling', 'celebrate', 'celebrated', 'celebrating', 'celebration', 'celebrities', 'celery', 'cell', 'cement', 'cenpho', 'cent', 'center', 'centers', 'central', 'centrally', 'cents', 'century', 'ceramic', 'certain', 'certainly', 'certificate', 'certificates', 'ceviche', 'cha', 'chai', 'chain', 'chains', 'chair', 'chairs', 'challenge', 'challenging', 'champagne', 'chance', 'chances', 'chandler', 'change', 'changed', 'changes', 'changing', 'changs', 'channel', 'chaos', 'char', 'character', 'charcoal', 'chardonnay', 'charge', 'charged', 'charges', 'charging', 'charlie', 'charm', 'charming', 'charred', 'chart', 'chat', 'chatted', 'chatting', 'cheap', 'cheaper', 'cheapest', 'cheated', 'check', 'checked', 'checking', 'checks', 'cheddar', 'cheek', 'cheerful', 'cheers', 'cheese', 'cheeseburger', 'cheesecake', 'cheeses', 'cheesesteak', 'cheesy', 'chef', 'chefs', 'chemicals', 'cherries', 'cherry', 'chewy', 'chic', 'chicago', 'chick', 'chicken', 'child', 'childcare', 'childhood', 'children', 'chile', 'chiles', 'chili', 'chill', 'chilled', 'chilly', 'chimi', 'chimichanga', 'china', 'chinese', 'chino', 'chip', 'chipotle', 'chips', 'chiropractic', 'chives', 'chocolate', 'choice', 'choices', 'cholla', 'chompie', 'chompies', 'choose', 'choosing', 'chop', 'chopped', 'chops', 'chorizo', 'chose', 'chow', 'chowder', 'chris', 'christ', 'christine', 'christmas', 'christopher', 'chu', 'chunks', 'chunky', 'church', 'churros', 'chutney', 'ciabatta', 'ciao', 'cibo', 'cider', 'cigar', 'cilantro', 'cinnamon', 'circa', 'circle', 'circles', 'cities', 'citizen', 'citrus', 'city', 'ck', 'claim', 'claimed', 'claims', 'clam', 'clams', 'clarendon', 'class', 'classes', 'classic', 'classy', 'clean', 'cleaned', 'cleaner', 'cleaners', 'cleaning', 'cleanliness', 'clear', 'clearance', 'cleared', 'clearly', 'clerk', 'cliche', 'click', 'client', 'clients', 'climb', 'climbing', 'clinic', 'clips', 'clock', 'close', 'closed', 'closely', 'closer', 'closes', 'closest', 'closet', 'closing', 'clothes', 'clothing', 'club', 'clubhouse', 'clubs', 'clue', 'clueless', 'coach', 'coast', 'coat', 'coated', 'cobb', 'cocktail', 'cocktails', 'cocoa', 'coconut', 'code', 'coe', 'coffee', 'coffees', 'coin', 'coke', 'cola', 'cold', 'cole', 'coleslaw', 'colleague', 'collection', 'college', 'color', 'colorado', 'colored', 'colorful', 'colors', 'com', 'coma', 'combination', 'combinations', 'combined', 'combines', 'combo', 'come', 'comedy', 'comes', 'comfort', 'comfortable', 'comforting', 'comfy', 'coming', 'comment', 'commented', 'comments', 'commercial', 'commission', 'commitment', 'committed', 'common', 'communicate', 'communication', 'community', 'commute', 'comp', 'companies', 'companion', 'company', 'comparable', 'compare', 'compared', 'compares', 'comparing', 'comparison', 'compassionate', 'comped', 'compensate', 'compete', 'competent', 'competition', 'competitive', 'competitors', 'complain', 'complained', 'complaining', 'complains', 'complaint', 'complaints', 'complement', 'complementary', 'complete', 'completed', 'completely', 'complex', 'complexity', 'complicated', 'compliment', 'complimentary', 'complimented', 'compliments', 'compote', 'computer', 'concept', 'concern', 'concerned', 'concerns', 'concert', 'concierge', 'conclusion', 'concoction', 'concrete', 'condescending', 'condiment', 'condiments', 'condition', 'conditioner', 'conditioning', 'conducive', 'cone', 'conference', 'confidence', 'confident', 'confirm', 'confirmed', 'confused', 'confusing', 'congrats', 'connecting', 'connection', 'connoisseur', 'cons', 'conscious', 'consider', 'considered', 'considering', 'consisted', 'consistency', 'consistent', 'consistently', 'consists', 'constant', 'constantly', 'construction', 'consultation', 'consume', 'contact', 'contacted', 'contain', 'contained', 'container', 'containers', 'contains', 'contemporary', 'contender', 'content', 'continue', 'continued', 'continues', 'continuously', 'contractors', 'control', 'controversy', 'convenience', 'convenient', 'conveniently', 'conversation', 'conversations', 'conversing', 'convert', 'converted', 'convince', 'convinced', 'cook', 'cooked', 'cookie', 'cookies', 'cooking', 'cooks', 'cool', 'cooler', 'coolest', 'cooling', 'cools', 'copper', 'copy', 'cordial', 'cordon', 'core', 'cork', 'corn', 'cornbread', 'corner', 'corners', 'cornish', 'corporate', 'correct', 'correctly', 'corridor', 'cosmo', 'cost', 'costco', 'costs', 'costumes', 'cotta', 'cottage', 'cotton', 'couch', 'couches', 'couldn', 'count', 'counter', 'countless', 'country', 'county', 'coup', 'couple', 'coupled', 'couples', 'coupon', 'coupons', 'course', 'courses', 'court', 'courteous', 'courtesy', 'courts', 'courtyard', 'couscous', 'cousin', 'cover', 'covered', 'cow', 'cowboy', 'coworker', 'coworkers', 'cows', 'cozy', 'crab', 'crack', 'cracked', 'cracker', 'crackers', 'cracks', 'craft', 'crafted', 'crammed', 'cramped', 'cranberry', 'cranky', 'crap', 'crappy', 'crate', 'crave', 'craving', 'cravings', 'crazy', 'cream', 'creamed', 'creams', 'creamy', 'create', 'created', 'creating', 'creation', 'creations', 'creative', 'creativity', 'creature', 'cred', 'credit', 'creek', 'creepy', 'creme', 'crepe', 'crepes', 'crew', 'crib', 'crime', 'crisp', 'crisps', 'crispy', 'cristo', 'critical', 'critters', 'croissant', 'croissants', 'crooks', 'croque', 'cross', 'crowd', 'crowded', 'crowds', 'crown', 'crudo', 'crumbles', 'crumbs', 'crunch', 'crunchy', 'crush', 'crust', 'crusted', 'crusty', 'crying', 'crystal', 'cuban', 'cubes', 'cucumber', 'cucumbers', 'cues', 'cuisine', 'culinary', 'cultural', 'culture', 'cup', 'cupcake', 'cupcakes', 'cups', 'curd', 'curds', 'cure', 'cured', 'curious', 'curly', 'current', 'currently', 'curries', 'curry', 'curtain', 'custard', 'custom', 'customer', 'customers', 'cut', 'cute', 'cuts', 'cutting', 'cuz', 'cyclists', 'cyclo', 'da', 'dac', 'dad', 'daddy', 'daily', 'dairy', 'damage', 'damn', 'damned', 'dan', 'dance', 'dancer', 'dancers', 'dancing', 'dang', 'dangerous', 'dangerously', 'daniel', 'dark', 'darn', 'darts', 'dash', 'date', 'dated', 'dates', 'daughter', 'daughters', 'dave', 'david', 'day', 'daycare', 'daylight', 'days', 'dc', 'dead', 'deal', 'dealing', 'deals', 'dealt', 'dear', 'death', 'debate', 'debauchery', 'debit', 'decade', 'decadent', 'decades', 'december', 'decent', 'decide', 'decided', 'deciding', 'decision', 'decisions', 'declined', 'decor', 'decorated', 'decorating', 'decoration', 'decorations', 'dedicated', 'dee', 'deep', 'def', 'defalco', 'default', 'defiantly', 'definately', 'definetly', 'definitely', 'definition', 'degree', 'degrees', 'dehydrated', 'del', 'delayed', 'delectable', 'deli', 'delicate', 'delicately', 'delicious', 'deliciously', 'deliciousness', 'delicous', 'delight', 'delighted', 'delightful', 'delish', 'deliver', 'delivered', 'delivering', 'delivers', 'delivery', 'delux', 'demand', 'demographic', 'demonstrate', 'demonstrated', 'dense', 'dent', 'dental', 'dentist', 'dentistry', 'dentists', 'department', 'depending', 'depends', 'dept', 'depth', 'described', 'describes', 'describing', 'descript', 'description', 'desert', 'deserts', 'deserve', 'deserved', 'deserves', 'design', 'designed', 'designer', 'designing', 'designs', 'desire', 'desired', 'desires', 'desk', 'despite', 'dessert', 'desserts', 'destination', 'destroy', 'destroying', 'detailed', 'details', 'determined', 'device', 'devil', 'devoured', 'di', 'diablo', 'diagnosed', 'diamond', 'diced', 'did', 'didn', 'didnt', 'die', 'died', 'diego', 'diet', 'difference', 'differences', 'different', 'differently', 'difficult', 'dig', 'diggity', 'digress', 'dill', 'dim', 'dime', 'dimly', 'dine', 'dined', 'diner', 'diners', 'dining', 'dinner', 'dinners', 'dinning', 'dip', 'dipped', 'dipping', 'dips', 'directed', 'direction', 'directions', 'directly', 'director', 'dirt', 'dirty', 'disagree', 'disappear', 'disappeared', 'disappoint', 'disappointed', 'disappointing', 'disappointment', 'disappoints', 'disaster', 'disclaimer', 'discontinued', 'discount', 'discounted', 'discounts', 'discouraged', 'discover', 'discovered', 'discovering', 'discuss', 'discussed', 'disgust', 'disgusting', 'disgustingly', 'dish', 'dishes', 'dislike', 'disliked', 'display', 'displayed', 'disrespectful', 'distance', 'distant', 'distinct', 'distinction', 'distracted', 'district', 'disturbing', 'dive', 'diverse', 'dives', 'divey', 'divine', 'dizzy', 'dj', 'dobson', 'doctor', 'doctors', 'dodgers', 'does', 'doesn', 'doesnt', 'dog', 'dogs', 'doing', 'doll', 'dollar', 'dollars', 'dollop', 'don', 'donate', 'donated', 'donation', 'donations', 'dont', 'donut', 'donuts', 'door', 'doors', 'dos', 'dots', 'double', 'doubt', 'doubts', 'dough', 'doused', 'downright', 'downside', 'downstairs', 'downtown', 'dozen', 'dozens', 'dr', 'draft', 'drag', 'dragged', 'dragon', 'drank', 'draw', 'drawing', 'drawn', 'dreading', 'dream', 'dreams', 'dreamy', 'drenched', 'dress', 'dressed', 'dresses', 'dressing', 'drew', 'dried', 'drink', 'drinker', 'drinking', 'drinks', 'dripping', 'drive', 'driven', 'driver', 'driving', 'drizzle', 'drizzled', 'drooling', 'drop', 'dropped', 'dropping', 'drops', 'drove', 'drug', 'drum', 'drunk', 'drunken', 'dry', 'dryer', 'duck', 'ducks', 'dude', 'dudes', 'dug', 'dumb', 'dump', 'dumping', 'dumpling', 'dumplings', 'dumpster', 'dunkin', 'duplicate', 'durant', 'dust', 'duty', 'dvd', 'dynamite', 'eager', 'ear', 'earlier', 'early', 'earn', 'earned', 'earrings', 'ears', 'earth', 'ease', 'easier', 'easily', 'east', 'eastern', 'easy', 'eat', 'eaten', 'eater', 'eateries', 'eaters', 'eatery', 'eating', 'eats', 'echo', 'economic', 'economy', 'ect', 'ed', 'edamame', 'eddie', 'edge', 'edges', 'edible', 'edit', 'edited', 'educated', 'education', 'educational', 'eel', 'eff', 'effect', 'effective', 'efficient', 'effort', 'efforts', 'egg', 'eggplant', 'eggrolls', 'eggs', 'el', 'elastic', 'elbows', 'elderly', 'electric', 'electronic', 'electronics', 'elegant', 'element', 'elements', 'elevator', 'em', 'email', 'emailed', 'emails', 'embarrassed', 'embarrassing', 'embarrassment', 'emergency', 'empanadas', 'employee', 'employees', 'enchilada', 'enchiladas', 'encounter', 'encountered', 'encourage', 'encouraged', 'encouragement', 'end', 'endeavor', 'ended', 'ending', 'endless', 'ends', 'energy', 'engagement', 'engaging', 'english', 'enjoy', 'enjoyable', 'enjoyed', 'enjoying', 'enjoyment', 'enjoys', 'enrolled', 'ensure', 'enter', 'entered', 'entering', 'entertained', 'entertaining', 'entertainment', 'enthusiast', 'enthusiastic', 'entire', 'entirely', 'entrance', 'entree', 'entrees', 'entry', 'entrée', 'environment', 'envy', 'epic', 'equal', 'equally', 'equipment', 'equivalent', 'er', 'erica', 'erin', 'escape', 'escaped', 'esp', 'especially', 'espresso', 'essence', 'essentially', 'establishment', 'establishments', 'estate', 'ethics', 'ethiopian', 'ethnic', 'europe', 'european', 'eve', 'evening', 'evenings', 'event', 'events', 'eventually', 'everybody', 'everyday', 'everyones', 'everytime', 'evident', 'evil', 'ew', 'ex', 'exact', 'exactly', 'examined', 'example', 'exceeded', 'excellence', 'excellent', 'exception', 'exceptional', 'exceptionally', 'excessive', 'exchange', 'excited', 'excitement', 'exciting', 'excuse', 'excuses', 'execution', 'executive', 'exemplary', 'exercise', 'exhibits', 'exist', 'existed', 'exit', 'exotic', 'expanded', 'expanding', 'expect', 'expectation', 'expectations', 'expected', 'expecting', 'expense', 'expensive', 'experience', 'experienced', 'experiences', 'experiencing', 'expert', 'explain', 'explained', 'explaining', 'explains', 'explode', 'explore', 'exploring', 'exposed', 'express', 'expression', 'expressions', 'exquisite', 'extensive', 'exterior', 'extra', 'extract', 'extraordinary', 'extras', 'extreme', 'extremely', 'eye', 'eyebrow', 'eyebrows', 'eyes', 'fab', 'fabric', 'fabulous', 'face', 'facebook', 'faces', 'facial', 'facilities', 'facility', 'facing', 'fact', 'factor', 'factory', 'facts', 'fail', 'failed', 'fails', 'fair', 'fairly', 'fajita', 'fajitas', 'fake', 'falafel', 'fall', 'fallen', 'falling', 'falls', 'familiar', 'families', 'family', 'famous', 'fan', 'fancy', 'fans', 'fantastic', 'fantastically', 'far', 'fare', 'farm', 'farmer', 'farmers', 'farms', 'fashion', 'fashioned', 'fast', 'faster', 'fastest', 'fat', 'fate', 'father', 'fatty', 'fault', 'faux', 'fav', 'fave', 'faves', 'favor', 'favorite', 'favorites', 'favors', 'favourite', 'favs', 'fax', 'fe', 'fear', 'fears', 'feast', 'feature', 'featured', 'features', 'featuring', 'fed', 'fee', 'feed', 'feedback', 'feel', 'feeling', 'feelings', 'feels', 'fees', 'feet', 'fell', 'fellow', 'felt', 'female', 'fenced', 'fennel', 'festival', 'festive', 'festivities', 'feta', 'fez', 'fi', 'fiance', 'fiancee', 'fiancé', 'field', 'fields', 'fifth', 'fig', 'fight', 'fighting', 'figs', 'figure', 'figured', 'filed', 'filet', 'filiberto', 'filing', 'filipino', 'filled', 'fillet', 'filling', 'fillings', 'fills', 'film', 'filthy', 'fin', 'final', 'finally', 'finals', 'finding', 'finds', 'fine', 'finest', 'finger', 'fingers', 'finish', 'finished', 'finishing', 'fired', 'fireplace', 'firm', 'fish', 'fishing', 'fishy', 'fit', 'fitness', 'fits', 'fitting', 'fix', 'fixed', 'fixing', 'flag', 'flagstaff', 'flair', 'flaky', 'flame', 'flan', 'flash', 'flat', 'flatbread', 'flatbreads', 'flattened', 'flautas', 'flavor', 'flavored', 'flavorful', 'flavorless', 'flavors', 'flawless', 'flew', 'flier', 'flies', 'flight', 'flights', 'flimsy', 'flip', 'flirting', 'floor', 'floored', 'floors', 'flops', 'florida', 'flour', 'flow', 'flower', 'flowers', 'flowing', 'flown', 'fluffy', 'fluke', 'fly', 'flying', 'fnb', 'focaccia', 'focus', 'focused', 'focusing', 'folk', 'folks', 'follow', 'followed', 'following', 'follows', 'fond', 'fondue', 'fontina', 'foo', 'food', 'foodie', 'foodies', 'foods', 'fool', 'fooled', 'foot', 'football', 'force', 'forced', 'forcing', 'foreign', 'forever', 'forget', 'forgetting', 'forgive', 'forgo', 'forgot', 'forgotten', 'fork', 'forks', 'form', 'formal', 'format', 'formations', 'forms', 'forth', 'fortunate', 'fortunately', 'fortune', 'forward', 'founded', 'fountain', 'fountains', 'fourth', 'fox', 'fragrance', 'frame', 'framed', 'franchise', 'francis', 'francisco', 'frank', 'frankly', 'freak', 'freakin', 'freaking', 'fred', 'free', 'freeway', 'freeze', 'freezer', 'french', 'frequent', 'frequented', 'frequenting', 'frequently', 'fresca', 'fresh', 'freshest', 'freshly', 'freshness', 'friday', 'fridays', 'fridge', 'fried', 'friend', 'friendlier', 'friendliest', 'friendliness', 'friendly', 'friends', 'friendship', 'fries', 'friggin', 'frills', 'fritters', 'frosted', 'frosting', 'froyo', 'frozen', 'fruit', 'fruits', 'fruity', 'frustrated', 'frustrating', 'frustration', 'fry', 'fuck', 'fucking', 'fudge', 'fuego', 'fuel', 'fulfilling', 'fully', 'fun', 'function', 'fund', 'funky', 'funny', 'furniture', 'furry', 'furthermore', 'fusion', 'fuss', 'future', 'fuzzy', 'fyi', 'gag', 'gal', 'gallo', 'gallon', 'galore', 'gals', 'game', 'games', 'gang', 'garage', 'garbage', 'garden', 'gardens', 'garlic', 'gas', 'gate', 'gathered', 'gathering', 'gave', 'gay', 'gear', 'gel', 'gelato', 'gelish', 'gem', 'general', 'generally', 'generic', 'generous', 'generously', 'genius', 'genre', 'gentle', 'gentleman', 'gentlemen', 'gently', 'genuine', 'genuinely', 'george', 'german', 'gets', 'getting', 'gf', 'ghetto', 'ghost', 'giant', 'giants', 'gift', 'gifts', 'gigantic', 'giggle', 'gilbert', 'gin', 'ginger', 'ginormous', 'girl', 'girlfriend', 'girlfriends', 'girls', 'given', 'gives', 'giving', 'glad', 'gladly', 'glance', 'glass', 'glasses', 'glaze', 'glazed', 'glendale', 'glory', 'gloves', 'gluten', 'gluttonous', 'gm', 'gnocchi', 'goal', 'goat', 'gobbled', 'god', 'goers', 'goes', 'going', 'gold', 'golden', 'golf', 'golfers', 'gone', 'gonna', 'good', 'goodbye', 'goodies', 'goodness', 'goods', 'goodwill', 'gooey', 'google', 'googled', 'gorgeous', 'gorgonzola', 'gosh', 'got', 'gotta', 'gotten', 'gourmet', 'gps', 'grab', 'grabbed', 'grabbing', 'grace', 'gracious', 'graciously', 'grade', 'graduate', 'graduated', 'grain', 'grand', 'grandma', 'grandmother', 'grandparents', 'granola', 'granted', 'grape', 'grapefruit', 'grass', 'grassy', 'grateful', 'gratin', 'gratuity', 'gravy', 'gray', 'grayhawk', 'grease', 'greasy', 'great', 'greater', 'greatest', 'greatness', 'greek', 'green', 'greens', 'greet', 'greeted', 'greets', 'greg', 'grew', 'grey', 'grill', 'grilled', 'grimaldi', 'grind', 'gringos', 'gripe', 'grits', 'groceries', 'grocery', 'groomed', 'groomer', 'grooming', 'gross', 'grossest', 'ground', 'grounds', 'group', 'groupon', 'groups', 'grow', 'growing', 'grown', 'grub', 'grumpy', 'guac', 'guacamole', 'guarantee', 'guaranteed', 'guard', 'guess', 'guessed', 'guessing', 'guest', 'guests', 'guide', 'guilt', 'guilty', 'guinness', 'guitar', 'gum', 'gumbo', 'gums', 'gun', 'gusto', 'gut', 'guy', 'guys', 'gym', 'gyms', 'gyro', 'gyros', 'ha', 'habanero', 'habaneros', 'habit', 'hadn', 'hadnt', 'haha', 'hair', 'haircut', 'haircuts', 'hairs', 'half', 'halfway', 'halibut', 'hall', 'halloween', 'hallway', 'ham', 'hamachi', 'hamburger', 'hana', 'hand', 'handed', 'handful', 'handle', 'handled', 'handles', 'handling', 'handmade', 'hands', 'handy', 'hang', 'hanging', 'hangout', 'hangover', 'happen', 'happened', 'happening', 'happens', 'happier', 'happiest', 'happily', 'happiness', 'happy', 'harbor', 'hard', 'harder', 'hardly', 'harkins', 'harm', 'harsh', 'harvest', 'hash', 'hashbrowns', 'hasn', 'hassle', 'hat', 'hatch', 'hate', 'hated', 'hats', 'haul', 'hauled', 'haunt', 'haven', 'havent', 'having', 'hawaii', 'hawaiian', 'hay', 'hazelnut', 'head', 'headed', 'heading', 'heads', 'healing', 'health', 'healthier', 'healthy', 'hear', 'heard', 'hearing', 'heart', 'heartbroken', 'hearts', 'hearty', 'heat', 'heated', 'heater', 'heather', 'heaven', 'heavenly', 'heavily', 'heavy', 'heck', 'heels', 'hefty', 'height', 'held', 'hell', 'hello', 'help', 'helped', 'helpful', 'helping', 'helps', 'herb', 'herbs', 'hesitant', 'hesitate', 'hey', 'hh', 'hi', 'hidden', 'hide', 'hideaway', 'hiding', 'high', 'higher', 'highest', 'highlight', 'highlights', 'highly', 'hike', 'hiking', 'hilarious', 'hill', 'hills', 'hint', 'hints', 'hip', 'hippies', 'hipster', 'hipsters', 'hire', 'hired', 'hires', 'hiro', 'hispanic', 'historic', 'history', 'hit', 'hits', 'hitting', 'hmmm', 'ho', 'hobby', 'hoegaarden', 'hold', 'holders', 'holding', 'holds', 'hole', 'holes', 'holiday', 'holidays', 'hollandaise', 'holy', 'home', 'homeless', 'homemade', 'homerun', 'homes', 'homework', 'homey', 'honest', 'honestly', 'honesty', 'honey', 'hong', 'honor', 'hood', 'hook', 'hooked', 'hooray', 'hooters', 'hop', 'hope', 'hoped', 'hopeful', 'hopefully', 'hopes', 'hoping', 'hoppin', 'hopping', 'horchata', 'horrible', 'horribly', 'horrific', 'horse', 'horseradish', 'horses', 'hospitable', 'hospital', 'hospitality', 'host', 'hostess', 'hostesses', 'hostile', 'hosting', 'hosts', 'hot', 'hotel', 'hotels', 'hotter', 'hour', 'hours', 'house', 'houses', 'houston', 'hr', 'hrs', 'html', 'http', 'hubby', 'hubs', 'hue', 'huevos', 'huge', 'hugs', 'huh', 'human', 'humanity', 'humans', 'humble', 'hummus', 'humor', 'hundreds', 'hung', 'hungover', 'hungry', 'hunt', 'hurry', 'hurt', 'husband', 'husbands', 'hustle', 'hut', 'hygienist', 'hype', 'ice', 'iceberg', 'icecream', 'iced', 'icing', 'icon', 'id', 'idea', 'ideal', 'ideas', 'idiot', 'idiots', 'ignore', 'ignored', 'ikea', 'il', 'ill', 'im', 'image', 'imaginable', 'imagine', 'imagined', 'imho', 'imitation', 'immaculate', 'immediate', 'immediately', 'immune', 'imo', 'impeccable', 'important', 'importantly', 'imported', 'impossible', 'impress', 'impressed', 'impression', 'impressions', 'impressive', 'improve', 'improved', 'improvement', 'inch', 'incident', 'include', 'included', 'includes', 'including', 'income', 'incompetence', 'incompetent', 'inconvenience', 'increasingly', 'incredible', 'incredibly', 'independent', 'indescribably', 'indian', 'indicated', 'indie', 'individual', 'individually', 'individuals', 'indoor', 'indoors', 'indulge', 'indulged', 'indulging', 'industrial', 'industry', 'inedible', 'inexpensive', 'infected', 'infection', 'inferior', 'infested', 'influence', 'info', 'information', 'informative', 'informed', 'infused', 'ingredient', 'ingredients', 'initial', 'initially', 'injury', 'inn', 'innovative', 'input', 'ins', 'insane', 'insanely', 'insert', 'inside', 'insides', 'insist', 'insisted', 'inspired', 'installed', 'instance', 'instant', 'instantly', 'instead', 'institute', 'instructed', 'instructions', 'instructors', 'insult', 'insurance', 'intend', 'intended', 'intending', 'intense', 'interaction', 'interactions', 'interested', 'interesting', 'interior', 'internet', 'interrupted', 'interview', 'intimate', 'intimidated', 'intimidating', 'intoxicating', 'intrigued', 'intriguing', 'introduce', 'introduced', 'introducing', 'introduction', 'intrusive', 'inventory', 'investor', 'invisible', 'invited', 'inviting', 'involved', 'ipa', 'ipad', 'iphone', 'ipod', 'irish', 'iron', 'ironically', 'irreplaceable', 'irritating', 'ish', 'island', 'isles', 'isn', 'isnt', 'issue', 'issues', 'italian', 'italy', 'item', 'items', 'ive', 'ivy', 'jack', 'jacket', 'jade', 'jalapeno', 'jalapenos', 'jalapeño', 'jalepeno', 'jam', 'james', 'jan', 'january', 'japan', 'japanese', 'jar', 'jars', 'jason', 'java', 'jay', 'jazz', 'jeans', 'jeff', 'jelly', 'jennifer', 'jerk', 'jerky', 'jersey', 'jesus', 'jewelry', 'jewish', 'jim', 'jimmy', 'job', 'jobs', 'joe', 'joes', 'john', 'johnny', 'join', 'joined', 'joining', 'joint', 'joints', 'joke', 'joked', 'journey', 'joy', 'jr', 'judge', 'judging', 'juice', 'juices', 'juicy', 'jukebox', 'july', 'jumbo', 'jump', 'jumped', 'jumping', 'june', 'jungle', 'junk', 'junkie', 'jus', 'just', 'justify', 'kabob', 'kai', 'kale', 'kansas', 'karaoke', 'karsh', 'katie', 'katsu', 'kazimierz', 'keeping', 'keeps', 'kelly', 'ken', 'kept', 'ketchup', 'kettle', 'kevin', 'key', 'keys', 'kfc', 'kick', 'kickboxing', 'kicked', 'kid', 'kidding', 'kids', 'kierland', 'kill', 'killed', 'killer', 'kills', 'kim', 'kimchi', 'kind', 'kinda', 'kindly', 'kindness', 'kinds', 'king', 'kings', 'kiss', 'kissing', 'kitchen', 'kittens', 'knees', 'knew', 'knock', 'knocked', 'knot', 'knots', 'know', 'knowing', 'knowledgable', 'knowledge', 'knowledgeable', 'known', 'knows', 'kobe', 'kona', 'kong', 'korean', 'kreme', 'krispy', 'kudos', 'kyle', 'kyoto', 'la', 'lab', 'label', 'labeled', 'labor', 'lack', 'lacked', 'lacking', 'lackluster', 'lacks', 'ladies', 'lady', 'laid', 'lake', 'lamb', 'lame', 'lamps', 'land', 'landed', 'landing', 'landscaping', 'language', 'lap', 'laptop', 'lard', 'large', 'largely', 'larger', 'largest', 'las', 'lasagna', 'lasted', 'lastly', 'lasts', 'late', 'lately', 'later', 'latest', 'latin', 'latte', 'lattes', 'laugh', 'laughed', 'laughing', 'laughs', 'laundry', 'laura', 'lavender', 'law', 'lawn', 'lay', 'layer', 'layered', 'laying', 'layout', 'lazy', 'lb', 'lbs', 'le', 'lead', 'leaf', 'league', 'leak', 'leaking', 'lean', 'learn', 'learned', 'learning', 'leash', 'leather', 'leave', 'leaves', 'leaving', 'led', 'lee', 'leeks', 'left', 'leftover', 'leftovers', 'leg', 'legit', 'legs', 'leisurely', 'lemon', 'lemonade', 'lemongrass', 'lemons', 'length', 'lengua', 'lentil', 'lentils', 'lesser', 'lesson', 'lessons', 'let', 'lets', 'letter', 'letters', 'letting', 'lettuce', 'level', 'levels', 'lgo', 'liberty', 'library', 'license', 'licensed', 'lick', 'licked', 'lie', 'life', 'lifestyle', 'lifetime', 'lift', 'light', 'lighter', 'lighting', 'lightly', 'lights', 'like', 'liked', 'likely', 'likes', 'liking', 'lil', 'lime', 'limit', 'limited', 'lincoln', 'lindsey', 'line', 'lined', 'linen', 'lines', 'lingerie', 'lining', 'links', 'liquid', 'liquor', 'liquors', 'lisa', 'list', 'listed', 'listen', 'listened', 'listening', 'listens', 'lit', 'literally', 'little', 'live', 'lived', 'lively', 'liver', 'lives', 'living', 'll', 'lo', 'load', 'loaded', 'loading', 'loads', 'loaf', 'loaves', 'lobby', 'lobster', 'local', 'locally', 'locals', 'locate', 'located', 'location', 'locations', 'lock', 'locked', 'locker', 'lodge', 'loft', 'lol', 'lola', 'lollipops', 'london', 'lonely', 'long', 'longer', 'look', 'looked', 'looking', 'looks', 'loose', 'los', 'lose', 'losing', 'loss', 'lost', 'lot', 'lots', 'lottery', 'loud', 'loudly', 'louis', 'louisiana', 'lounge', 'lounges', 'lousy', 'love', 'loved', 'lovely', 'lover', 'lovers', 'loves', 'low', 'lower', 'loyal', 'loyalty', 'luck', 'luckily', 'lucky', 'luggage', 'luke', 'luminarias', 'lumpia', 'lunch', 'lunches', 'lush', 'lux', 'luxurious', 'luxury', 'lying', 'lynn', 'ma', 'mac', 'macaroni', 'macaroons', 'macayo', 'machaca', 'machine', 'machines', 'macy', 'mad', 'magazine', 'magazines', 'magic', 'magical', 'magically', 'magnificent', 'mahi', 'mai', 'mail', 'mailing', 'main', 'mainly', 'maintain', 'maintained', 'maintenance', 'major', 'majority', 'make', 'makeover', 'maker', 'makes', 'making', 'male', 'mall', 'malls', 'mama', 'mamma', 'man', 'manage', 'manageable', 'managed', 'management', 'manager', 'managers', 'manages', 'manchurian', 'mandarin', 'mango', 'manhattan', 'mani', 'manicure', 'manicures', 'manner', 'map', 'maple', 'marble', 'marcellino', 'march', 'margarita', 'margaritas', 'margherita', 'marinara', 'marinated', 'mark', 'market', 'marketplace', 'markets', 'marks', 'marmalade', 'married', 'marsala', 'marshmallow', 'marshmallows', 'mart', 'martini', 'martinis', 'marvelous', 'mary', 'masala', 'mascarpone', 'mash', 'mashed', 'mask', 'mason', 'massage', 'massages', 'massive', 'masterpiece', 'mastro', 'match', 'matches', 'material', 'matt', 'matter', 'matters', 'mature', 'maui', 'max', 'maybe', 'mayo', 'maytag', 'mazing', 'mcclintock', 'mcdonald', 'mcdonalds', 'mcdowell', 'mcgrath', 'meager', 'meal', 'meals', 'mean', 'meaning', 'means', 'meant', 'measly', 'measure', 'measured', 'meat', 'meatball', 'meatballs', 'meatloaf', 'meats', 'meaty', 'mechanical', 'medical', 'mediocre', 'mediterranean', 'medium', 'medley', 'meet', 'meeting', 'meets', 'megan', 'meh', 'mein', 'mellow', 'melt', 'melted', 'melts', 'member', 'members', 'membership', 'memorable', 'memories', 'memory', 'men', 'mention', 'mentioned', 'mentioning', 'menu', 'menudo', 'menus', 'merchandise', 'merely', 'meringue', 'mesa', 'mesquite', 'mess', 'message', 'messages', 'messed', 'messy', 'met', 'metal', 'method', 'methods', 'meticulously', 'metro', 'mex', 'mexican', 'mexico', 'mgr', 'mi', 'mia', 'mic', 'michael', 'michaels', 'michigan', 'micro', 'microwave', 'mid', 'middle', 'midnight', 'mignon', 'mike', 'mild', 'mile', 'miles', 'milk', 'milkshake', 'million', 'mimosas', 'min', 'minced', 'mind', 'mingle', 'mini', 'minimal', 'minimum', 'minnesota', 'minnie', 'minor', 'mins', 'mint', 'minus', 'minute', 'minutes', 'miracle', 'mirror', 'mirrors', 'miserable', 'mish', 'misleading', 'miso', 'miss', 'missed', 'missing', 'mission', 'mistake', 'misters', 'misto', 'mix', 'mixed', 'mixers', 'mixes', 'mixture', 'mlb', 'mmm', 'mmmm', 'mmmmmmm', 'mocha', 'mochi', 'mock', 'model', 'models', 'moderate', 'modern', 'modest', 'modifications', 'moist', 'mojito', 'mojitos', 'mojo', 'mold', 'moly', 'mom', 'moment', 'moments', 'momma', 'moms', 'mon', 'monday', 'mondays', 'money', 'monkey', 'monster', 'monte', 'month', 'monthly', 'months', 'mood', 'moon', 'morgan', 'morning', 'mornings', 'moroccan', 'morons', 'motel', 'mother', 'mothers', 'motivated', 'motivation', 'motor', 'mountain', 'mountains', 'mousse', 'mouth', 'mouths', 'mouthwatering', 'moved', 'moves', 'movie', 'movies', 'moving', 'mozarella', 'mozzarella', 'mr', 'msg', 'mucho', 'muffin', 'muffins', 'mugs', 'mule', 'multi', 'multiple', 'multitude', 'munch', 'murphy', 'muscles', 'museum', 'mush', 'mushroom', 'mushrooms', 'music', 'musicians', 'mussels', 'mustard', 'mystery', 'na', 'nachos', 'nada', 'nail', 'nails', 'naked', 'named', 'names', 'nap', 'napkin', 'napkins', 'nasty', 'nation', 'national', 'native', 'natural', 'naturally', 'nature', 'nauseous', 'near', 'nearby', 'nearest', 'nearly', 'neat', 'necessarily', 'necessary', 'neck', 'need', 'needed', 'needing', 'needless', 'needs', 'negative', 'neighbor', 'neighborhood', 'neighbors', 'neon', 'nephew', 'nervous', 'nestled', 'network', 'networking', 'neutered', 'new', 'newer', 'newly', 'news', 'newspaper', 'nfl', 'nice', 'nicely', 'nicer', 'nicest', 'nickel', 'nicole', 'niece', 'night', 'nightly', 'nightmare', 'nights', 'nigiri', 'nike', 'nj', 'nobuo', 'noca', 'nod', 'noir', 'noise', 'noises', 'noisy', 'nom', 'non', 'nonetheless', 'nonsense', 'noodle', 'noodles', 'noon', 'nope', 'nordstrom', 'norm', 'normal', 'normally', 'north', 'northeast', 'northern', 'northwest', 'nose', 'nosh', 'notable', 'notch', 'note', 'noted', 'notes', 'notice', 'noticeable', 'noticed', 'novel', 'november', 'novice', 'nowadays', 'nuff', 'number', 'numbers', 'numerous', 'nurses', 'nut', 'nutella', 'nutrition', 'nutritional', 'nuts', 'nw', 'ny', 'nyc', 'oasis', 'oatmeal', 'obliged', 'obnoxious', 'observation', 'obsessed', 'obsession', 'obvious', 'obviously', 'occasion', 'occasionally', 'occasions', 'occupied', 'ocean', 'october', 'odd', 'odds', 'odor', 'offended', 'offending', 'offense', 'offer', 'offered', 'offering', 'offerings', 'offers', 'office', 'offices', 'official', 'officially', 'oh', 'oil', 'oily', 'ok', 'okay', 'okra', 'ol', 'old', 'older', 'ole', 'olive', 'olives', 'omelet', 'omelette', 'omg', 'ones', 'onion', 'onions', 'online', 'ooh', 'oops', 'oozing', 'open', 'opened', 'opening', 'opens', 'operated', 'operating', 'operation', 'opinion', 'opinions', 'opportunity', 'opposed', 'opposite', 'opted', 'option', 'options', 'orange', 'oranges', 'ordeal', 'order', 'ordered', 'ordering', 'orders', 'ordinary', 'oregano', 'org', 'organic', 'organization', 'organized', 'oriented', 'original', 'originally', 'orleans', 'ounce', 'ounces', 'outdated', 'outdoor', 'outdoors', 'outer', 'outgoing', 'outrageous', 'outright', 'outside', 'outstanding', 'outta', 'oven', 'overall', 'overbearing', 'overcooked', 'overheard', 'overlooked', 'overlooking', 'overly', 'overpower', 'overpriced', 'overrated', 'overs', 'overweight', 'overwhelming', 'owned', 'owner', 'owners', 'ownership', 'owns', 'oyster', 'oysters', 'oz', 'pa', 'pace', 'pack', 'package', 'packaged', 'packages', 'packaging', 'packed', 'packet', 'packs', 'pad', 'paddle', 'padre', 'pads', 'page', 'pages', 'paid', 'pain', 'painful', 'pains', 'paint', 'painted', 'paintings', 'pair', 'paired', 'pairing', 'pairings', 'pairs', 'palace', 'palate', 'pale', 'palette', 'palm', 'palms', 'pan', 'panang', 'pancake', 'pancakes', 'pancetta', 'pancit', 'panda', 'pane', 'panel', 'panic', 'panini', 'panna', 'pants', 'pao', 'papago', 'papaya', 'paper', 'pappadeaux', 'par', 'paradise', 'parent', 'parents', 'paris', 'park', 'parked', 'parking', 'parks', 'parm', 'parmesan', 'partake', 'partial', 'participate', 'particular', 'particularly', 'parties', 'partner', 'parts', 'party', 'partying', 'pass', 'passed', 'passengers', 'passes', 'passing', 'passion', 'passionate', 'past', 'pasta', 'pastas', 'paste', 'pastor', 'pastrami', 'pastries', 'pastry', 'pasty', 'pat', 'path', 'pathetic', 'paths', 'patience', 'patient', 'patiently', 'patients', 'patio', 'patios', 'patron', 'patronize', 'patrons', 'patties', 'patty', 'paul', 'pay', 'paying', 'payment', 'pays', 'pb', 'pbr', 'pbs', 'pea', 'peace', 'peaceful', 'peach', 'peak', 'peaks', 'peanut', 'peanuts', 'pear', 'peas', 'pecan', 'pecans', 'pedi', 'pedicure', 'pedicures', 'pee', 'peek', 'peel', 'peeps', 'pei', 'penne', 'penny', 'people', 'peoria', 'pepper', 'pepperoni', 'peppers', 'peppery', 'pepsi', 'perfect', 'perfected', 'perfection', 'perfectly', 'perform', 'performance', 'performers', 'period', 'perks', 'persian', 'person', 'personable', 'personal', 'personality', 'personally', 'personnel', 'perspective', 'pesto', 'pet', 'peter', 'petite', 'pets', 'pf', 'phenomenal', 'philly', 'pho', 'phoenician', 'phoenix', 'phone', 'photo', 'photographer', 'photography', 'photos', 'phrase', 'phx', 'physical', 'picazzo', 'pick', 'picked', 'picking', 'pickle', 'pickled', 'pickles', 'picks', 'pickup', 'picky', 'picnic', 'pico', 'pics', 'picture', 'pictures', 'pie', 'piece', 'pieces', 'pierced', 'piercing', 'piercings', 'pies', 'pig', 'pigs', 'pile', 'piled', 'pillows', 'pima', 'pimp', 'pineapple', 'pink', 'pinot', 'pint', 'piping', 'piss', 'pissed', 'pistachio', 'pit', 'pita', 'pitas', 'pitcher', 'pitchers', 'pits', 'pizza', 'pizzas', 'pizzeria', 'place', 'placed', 'places', 'placing', 'plain', 'plan', 'plane', 'planes', 'planet', 'planned', 'planning', 'plans', 'plant', 'plants', 'plasma', 'plastered', 'plastic', 'plate', 'plates', 'platter', 'play', 'played', 'player', 'players', 'playground', 'playing', 'plays', 'plaza', 'pleasant', 'pleasantly', 'pleased', 'pleasing', 'pleasure', 'plentiful', 'plenty', 'plethora', 'plumbing', 'plus', 'plush', 'pm', 'po', 'poached', 'poblano', 'pocket', 'pockets', 'point', 'pointed', 'pointing', 'points', 'poisoning', 'poke', 'poker', 'police', 'policies', 'policy', 'polish', 'polished', 'polite', 'politely', 'pollo', 'pomegranate', 'pool', 'pools', 'poolside', 'poor', 'poorly', 'pop', 'popcorn', 'popped', 'popping', 'pops', 'popular', 'pork', 'port', 'porter', 'portion', 'portioned', 'portions', 'posh', 'position', 'positive', 'positives', 'possible', 'possibly', 'post', 'posted', 'postino', 'pot', 'potato', 'potatoe', 'potatoes', 'potential', 'potstickers', 'pound', 'pounding', 'pounds', 'pour', 'poured', 'powder', 'power', 'ppl', 'practical', 'practically', 'practice', 'practices', 'praise', 'prawns', 'pre', 'precious', 'preface', 'prefer', 'preference', 'preferred', 'pregnant', 'premade', 'premier', 'premium', 'prep', 'preparation', 'prepare', 'prepared', 'preparing', 'prescriptions', 'presence', 'present', 'presentation', 'presented', 'presents', 'preservatives', 'preserves', 'president', 'press', 'pressed', 'pressure', 'pretend', 'pretentious', 'pretentiousness', 'pretty', 'pretzel', 'pretzels', 'previous', 'previously', 'price', 'priced', 'prices', 'pricey', 'pricier', 'pricing', 'prickly', 'pride', 'primary', 'prime', 'principle', 'print', 'printed', 'prior', 'priority', 'privacy', 'private', 'pro', 'probably', 'problem', 'problems', 'procedure', 'procedures', 'proceed', 'proceeded', 'process', 'processed', 'produce', 'product', 'products', 'professional', 'professionalism', 'professionals', 'profile', 'profit', 'profusely', 'program', 'programs', 'progress', 'project', 'promise', 'promised', 'promising', 'promote', 'prompt', 'promptly', 'pronounce', 'proof', 'proper', 'properly', 'property', 'proportions', 'props', 'pros', 'prosciutto', 'protein', 'proud', 'prove', 'proved', 'proven', 'provide', 'provided', 'provides', 'providing', 'provolone', 'proximity', 'ps', 'pseudo', 'pub', 'public', 'pudding', 'puff', 'puffs', 'puking', 'pull', 'pulled', 'pulling', 'pulls', 'pump', 'pumpkin', 'pun', 'punch', 'puppy', 'purchase', 'purchased', 'purchases', 'purchasing', 'pure', 'puree', 'purple', 'purpose', 'purse', 'purses', 'push', 'pushed', 'pushing', 'pushy', 'puts', 'putting', 'pv', 'qdoba', 'qt', 'quail', 'quaint', 'qualities', 'quality', 'quantity', 'quarter', 'queen', 'quesadilla', 'quesadillas', 'queso', 'quest', 'question', 'questionable', 'questions', 'quick', 'quickly', 'quiet', 'quieter', 'quinoa', 'quit', 'quite', 'quote', 'quoted', 'ra', 'rabbit', 'race', 'racial', 'racing', 'rack', 'racks', 'rad', 'radio', 'radishes', 'rail', 'rain', 'rainbow', 'raise', 'raised', 'raising', 'ramada', 'ramen', 'ran', 'ranch', 'rancheros', 'rancid', 'random', 'randomly', 'rang', 'range', 'ranged', 'ranging', 'ranks', 'rant', 'rare', 'rarely', 'raspberry', 'rate', 'rated', 'rates', 'rating', 'ratings', 'rave', 'raved', 'raving', 'ravioli', 'raw', 'ray', 'rays', 'razor', 'rd', 'reach', 'reached', 'reaching', 'reaction', 'read', 'reading', 'ready', 'real', 'reality', 'realize', 'realized', 'really', 'reason', 'reasonable', 'reasonably', 'reasons', 'recall', 'reccomend', 'receipt', 'receive', 'received', 'receiving', 'recent', 'recently', 'reception', 'receptionist', 'recession', 'recipe', 'recognize', 'recognized', 'recommend', 'recommendation', 'recommendations', 'recommended', 'recommending', 'recommends', 'record', 'recovering', 'red', 'reduction', 'reef', 'reese', 'refer', 'reference', 'referred', 'refill', 'refilled', 'refilling', 'refills', 'refreshing', 'refried', 'refrigerator', 'refund', 'refuse', 'refused', 'regard', 'regarding', 'regardless', 'regards', 'regional', 'register', 'regret', 'regrettably', 'regular', 'regularly', 'regulars', 'reheated', 'reiterate', 'related', 'relationship', 'relatively', 'relax', 'relaxation', 'relaxed', 'relaxing', 'reliable', 'relief', 'relieved', 'religious', 'relish', 'relleno', 'rellenos', 'rely', 'remaining', 'remains', 'remember', 'remembered', 'remembering', 'remembers', 'remind', 'reminded', 'reminder', 'reminds', 'remotely', 'removal', 'remove', 'removed', 'renamed', 'renovated', 'rent', 'rental', 'repair', 'repairs', 'repeat', 'repeated', 'repeating', 'replace', 'replaced', 'replacement', 'replacing', 'replied', 'reply', 'report', 'reported', 'republic', 'request', 'requested', 'requests', 'require', 'requirement', 'requires', 'rescue', 'research', 'reservation', 'reservations', 'reserved', 'residence', 'resident', 'residents', 'resides', 'resist', 'resort', 'resorts', 'respect', 'respectful', 'responded', 'response', 'responses', 'responsibility', 'responsible', 'responsive', 'rest', 'restaraunt', 'restaurant', 'restaurants', 'restored', 'restrictions', 'restroom', 'result', 'results', 'retail', 'retro', 'return', 'returned', 'returning', 'reuben', 'reunion', 'reverse', 'review', 'reviewed', 'reviewer', 'reviewers', 'reviewing', 'reviews', 'revolving', 'rewarded', 'rewards', 'rib', 'ribbon', 'ribeye', 'ribs', 'rice', 'rich', 'ricotta', 'rid', 'ride', 'rides', 'ridge', 'ridiculous', 'ridiculously', 'riding', 'rigatoni', 'right', 'ring', 'rings', 'rio', 'rip', 'ripe', 'ripped', 'rising', 'risk', 'risotto', 'rita', 'rival', 'river', 'rnr', 'road', 'roadhouse', 'roaring', 'roast', 'roasted', 'robert', 'rock', 'rocket', 'rocking', 'rocks', 'rokerij', 'roll', 'rolled', 'rolling', 'rolls', 'roma', 'romaine', 'romantic', 'rome', 'roof', 'room', 'rooms', 'roomy', 'roosevelt', 'root', 'rosa', 'rose', 'rosemary', 'ross', 'rotating', 'rotation', 'rotisserie', 'rough', 'roughly', 'round', 'rounded', 'rounds', 'route', 'routine', 'row', 'rowdy', 'roy', 'royal', 'rub', 'rubbed', 'rubbery', 'rude', 'rudely', 'ruined', 'rule', 'rules', 'rum', 'run', 'rundown', 'running', 'runs', 'rush', 'rushed', 'rushing', 'russian', 'rustic', 'ruth', 'rye', 'sacks', 'sad', 'sadly', 'safe', 'safely', 'safety', 'safeway', 'sage', 'saguaro', 'said', 'sakana', 'sake', 'salad', 'salads', 'salami', 'sale', 'sales', 'salmon', 'salon', 'salsa', 'salsas', 'salt', 'salted', 'salty', 'sam', 'samosas', 'sample', 'sampled', 'sampler', 'samples', 'sampling', 'san', 'sanctuary', 'sand', 'sandwhich', 'sandwhiches', 'sandwich', 'sandwiches', 'sangria', 'sans', 'santa', 'sapporo', 'sara', 'sarah', 'sarcasm', 'sashimi', 'sat', 'satay', 'satisfaction', 'satisfied', 'satisfy', 'satisfying', 'saturated', 'saturday', 'saturdays', 'sauce', 'sauced', 'sauces', 'sauna', 'sausage', 'sauteed', 'sautéed', 'save', 'saved', 'saving', 'savor', 'savory', 'saw', 'say', 'sayin', 'saying', 'says', 'scale', 'scallop', 'scalloped', 'scallops', 'scare', 'scared', 'scary', 'scattered', 'scene', 'scenery', 'scenic', 'schedule', 'scheduled', 'scheduling', 'scheme', 'school', 'scolded', 'scone', 'scoop', 'scoops', 'score', 'scored', 'scott', 'scottsdale', 'scrambled', 'scraped', 'scratch', 'scream', 'screamed', 'screaming', 'screen', 'screens', 'screw', 'screwed', 'scrumptious', 'sea', 'seafood', 'sealed', 'search', 'searched', 'searching', 'seared', 'season', 'seasonal', 'seasoned', 'seasoning', 'seasons', 'seat', 'seated', 'seating', 'seats', 'seattle', 'seaweed', 'sec', 'second', 'seconds', 'secret', 'section', 'security', 'seed', 'seeds', 'seedy', 'seeing', 'seek', 'seen', 'select', 'selected', 'selecting', 'selection', 'selections', 'self', 'sell', 'selling', 'sells', 'semi', 'sen', 'send', 'senior', 'seniors', 'sens', 'sense', 'senses', 'sensitive', 'sent', 'separate', 'separately', 'september', 'series', 'seriously', 'serve', 'served', 'server', 'servers', 'serves', 'service', 'services', 'serving', 'servings', 'sesame', 'session', 'sessions', 'set', 'sets', 'setting', 'settle', 'settled', 'setup', 'seven', 'severely', 'sex', 'sexy', 'sf', 'sh', 'shabby', 'shack', 'shade', 'shady', 'shake', 'shakes', 'shaking', 'shall', 'shame', 'shanghai', 'shank', 'shape', 'shaped', 'share', 'shared', 'sharing', 'sharp', 'shave', 'shaved', 'shawarma', 'shea', 'sheer', 'sheet', 'sheets', 'shelf', 'shell', 'shellac', 'shells', 'shelter', 'shelves', 'shepherd', 'sheraton', 'shift', 'shiny', 'ship', 'shipped', 'shipping', 'shirt', 'shirts', 'shit', 'shitty', 'shock', 'shocked', 'shocking', 'shoe', 'shoes', 'shoot', 'shooting', 'shop', 'shopped', 'shopper', 'shopping', 'shops', 'short', 'shorter', 'shortly', 'shorts', 'shot', 'shots', 'shoulder', 'shoulders', 'shouldn', 'shout', 'shoved', 'showcase', 'showed', 'shower', 'showing', 'shown', 'shows', 'shredded', 'shrimp', 'shrugged', 'shut', 'shy', 'sick', 'sides', 'sigh', 'sight', 'sign', 'signature', 'signed', 'significant', 'significantly', 'signing', 'signs', 'silky', 'silly', 'silver', 'silverware', 'similar', 'simple', 'simply', 'sincerely', 'sinfully', 'sing', 'singapore', 'singing', 'single', 'sip', 'sipping', 'sirloin', 'sister', 'sit', 'site', 'sites', 'sits', 'sitting', 'situated', 'situation', 'sixth', 'sizable', 'size', 'sized', 'sizes', 'sizzling', 'skeptical', 'sketchy', 'skewers', 'skilled', 'skillet', 'skills', 'skimp', 'skin', 'skinny', 'skins', 'skip', 'skipped', 'skipping', 'skirt', 'sky', 'slam', 'slammed', 'slaw', 'sleek', 'sleep', 'sleeve', 'slice', 'sliced', 'slices', 'slide', 'slider', 'sliders', 'slight', 'slightly', 'sliver', 'slow', 'slowly', 'smack', 'small', 'smaller', 'smallest', 'smart', 'smash', 'smashed', 'smell', 'smelled', 'smelling', 'smells', 'smile', 'smiled', 'smiles', 'smiley', 'smiling', 'smoke', 'smoked', 'smoking', 'smoky', 'smooth', 'smoothie', 'smoothies', 'smoothly', 'smothered', 'snack', 'snacks', 'snagged', 'snapped', 'sneak', 'snicker', 'snickerdoodle', 'snob', 'snobby', 'snooty', 'snow', 'soaked', 'soaking', 'soap', 'social', 'society', 'socks', 'soda', 'sodas', 'soft', 'soggy', 'sol', 'sold', 'solely', 'solid', 'solution', 'solved', 'somebody', 'someday', 'somewhat', 'sommelier', 'son', 'song', 'songs', 'sonic', 'sonoran', 'sons', 'soo', 'soon', 'sooner', 'sooo', 'soooo', 'sooooo', 'sophisticated', 'sorbet', 'sore', 'sorry', 'sort', 'sorts', 'souffle', 'soul', 'souls', 'sound', 'sounded', 'sounding', 'sounds', 'soup', 'soups', 'soupy', 'sour', 'source', 'sourdough', 'sous', 'south', 'southern', 'southwest', 'southwestern', 'soy', 'sp', 'spa', 'space', 'spacious', 'spaghetti', 'spanish', 'spare', 'speak', 'speaker', 'speaking', 'speaks', 'special', 'specials', 'specialty', 'specific', 'specifically', 'spectacular', 'speed', 'speedy', 'spelled', 'spend', 'spending', 'spent', 'spice', 'spiced', 'spices', 'spiciness', 'spicy', 'spilled', 'spin', 'spinach', 'spinning', 'spirits', 'spit', 'splash', 'split', 'splitting', 'splurge', 'spoil', 'spoiled', 'spoke', 'spoken', 'spongy', 'spoon', 'sport', 'sporting', 'sports', 'sportsman', 'spot', 'spotless', 'spots', 'spotted', 'sprawling', 'spray', 'spread', 'spreads', 'spring', 'springs', 'sprinkle', 'sprinkled', 'sprinkles', 'sprouts', 'square', 'squash', 'squeeze', 'squeezed', 'squeezing', 'squid', 'squishy', 'st', 'stab', 'stack', 'stacked', 'stadium', 'staff', 'stage', 'stained', 'stairs', 'stale', 'stamp', 'stand', 'standard', 'standards', 'standing', 'standout', 'stands', 'staple', 'star', 'starbucks', 'stare', 'staring', 'stars', 'start', 'started', 'starter', 'starters', 'starting', 'starts', 'starving', 'state', 'stated', 'statement', 'states', 'stateside', 'station', 'stationed', 'stations', 'stay', 'stayed', 'staying', 'stays', 'steady', 'steak', 'steakhouse', 'steaks', 'steal', 'stealing', 'steam', 'steamed', 'steaming', 'steep', 'steer', 'stellar', 'step', 'stepped', 'stepping', 'steps', 'stetson', 'steve', 'stew', 'stick', 'sticking', 'sticks', 'sticky', 'stiff', 'stingy', 'stink', 'stinks', 'stinkweeds', 'stinky', 'stir', 'stock', 'stocked', 'stoked', 'stole', 'stolen', 'stomach', 'stone', 'stood', 'stools', 'stop', 'stopped', 'stopping', 'stops', 'store', 'stores', 'storm', 'story', 'stout', 'straight', 'straightforward', 'strange', 'stranger', 'straps', 'straw', 'strawberries', 'strawberry', 'stray', 'stream', 'street', 'streets', 'strength', 'stress', 'stressed', 'stretch', 'strictly', 'strip', 'strips', 'strives', 'strong', 'stronger', 'strongly', 'struck', 'struggled', 'struggling', 'stuck', 'student', 'students', 'studio', 'studios', 'study', 'studying', 'stuff', 'stuffed', 'stuffing', 'stuffy', 'stumbled', 'stunned', 'stunning', 'stupid', 'style', 'styles', 'stylish', 'stylist', 'stylists', 'styrofoam', 'sub', 'sublime', 'subs', 'subsequently', 'substandard', 'substantial', 'substitute', 'substitutions', 'subtle', 'subway', 'success', 'successful', 'succulent', 'suck', 'sucked', 'sucker', 'sucking', 'sucks', 'suddenly', 'suffered', 'sugar', 'suggest', 'suggested', 'suggesting', 'suggestion', 'suggestions', 'suggests', 'suit', 'suite', 'suited', 'suites', 'suits', 'sum', 'summary', 'summer', 'summit', 'sun', 'sundae', 'sunday', 'sundays', 'sunny', 'suns', 'sunset', 'sunshine', 'super', 'superb', 'superior', 'supermarket', 'superstition', 'supervision', 'supper', 'supplies', 'supply', 'support', 'supporting', 'suppose', 'supposed', 'supposedly', 'supreme', 'surcharge', 'sure', 'surely', 'surface', 'surfing', 'surgery', 'surpassed', 'surprise', 'surprised', 'surprising', 'surprisingly', 'surrounded', 'surrounding', 'surroundings', 'survive', 'sushi', 'suspect', 'sw', 'swanky', 'swapped', 'swear', 'swears', 'sweat', 'sweater', 'sweaty', 'sweeping', 'sweet', 'sweeter', 'sweetest', 'sweetheart', 'sweetness', 'sweets', 'swim', 'swimming', 'swing', 'swipe', 'swirl', 'swiss', 'switch', 'switched', 'swollen', 'swordfish', 'sympathetic', 'sympathy', 'symphony', 'syrup', 'systems', 'tab', 'table', 'tables', 'taco', 'tacos', 'tad', 'tag', 'tags', 'tahini', 'tai', 'tail', 'tainted', 'taken', 'takeout', 'takes', 'taking', 'talent', 'talented', 'talk', 'talked', 'talking', 'talks', 'tall', 'tamale', 'tamales', 'tame', 'tammie', 'tan', 'tangy', 'tank', 'tanks', 'tap', 'tapas', 'tapenade', 'taquitos', 'target', 'tart', 'tartar', 'task', 'taste', 'tastebuds', 'tasted', 'tasteful', 'tasteless', 'tastes', 'tastiness', 'tasting', 'tasty', 'tataki', 'tater', 'tattoo', 'taught', 'tavern', 'tax', 'taylor', 'tea', 'teach', 'teacher', 'teachers', 'teaching', 'team', 'teams', 'tear', 'tears', 'teas', 'tech', 'technically', 'technician', 'technique', 'techniques', 'techs', 'ted', 'tee', 'teenager', 'tees', 'teeth', 'telephone', 'tell', 'telling', 'tells', 'temp', 'tempe', 'temperature', 'tempura', 'tenant', 'tend', 'tender', 'tenderloin', 'tenders', 'tendon', 'tennis', 'tent', 'tequila', 'teriyaki', 'term', 'terminal', 'terms', 'terrible', 'terribly', 'terrific', 'test', 'tex', 'texas', 'texts', 'texture', 'textured', 'textures', 'thai', 'thanh', 'thank', 'thanked', 'thankful', 'thankfully', 'thanks', 'thanksgiving', 'thats', 'thawed', 'theater', 'theaters', 'theatre', 'thee', 'theirs', 'theme', 'themed', 'theory', 'therapist', 'therapists', 'therapy', 'thermostat', 'thing', 'things', 'think', 'thinking', 'thinks', 'thinly', 'thirsty', 'tho', 'thomas', 'thorough', 'thoroughly', 'thought', 'thousand', 'thousands', 'threw', 'thrilled', 'throw', 'throwing', 'thrown', 'thumb', 'thumbs', 'thursday', 'ticket', 'tickets', 'tie', 'tiffany', 'tight', 'tikka', 'til', 'tilapia', 'till', 'tim', 'time', 'timely', 'timers', 'times', 'timing', 'tina', 'tiny', 'tip', 'tips', 'tiramisu', 'tire', 'tired', 'tires', 'tissue', 'title', 'tj', 'toast', 'toasted', 'today', 'toddler', 'toddlers', 'toddy', 'toe', 'toes', 'toffee', 'tofu', 'toilet', 'tokyo', 'told', 'tom', 'tomatillo', 'tomato', 'tomatoes', 'tomorrow', 'ton', 'tone', 'tongue', 'tonic', 'tonight', 'tons', 'took', 'tool', 'tools', 'tooth', 'topped', 'topping', 'toppings', 'tops', 'toro', 'torta', 'tortilla', 'tortillas', 'tossed', 'tossing', 'total', 'totally', 'tots', 'touch', 'touched', 'touching', 'tough', 'tour', 'tourist', 'tours', 'tow', 'towel', 'towels', 'tower', 'town', 'towners', 'toys', 'track', 'tracks', 'tracy', 'trade', 'trader', 'tradition', 'traditional', 'traffic', 'trail', 'trails', 'train', 'trained', 'training', 'transport', 'trapped', 'trash', 'trashed', 'travel', 'traveled', 'traveler', 'traveling', 'travels', 'travelzoo', 'tray', 'treadmill', 'treasure', 'treat', 'treated', 'treating', 'treatment', 'treatments', 'treats', 'tree', 'trees', 'trek', 'tremendous', 'trendy', 'tres', 'tribute', 'trick', 'tried', 'tries', 'trim', 'trinkets', 'trio', 'trip', 'tripe', 'triple', 'trips', 'trivia', 'tropical', 'trouble', 'trough', 'trout', 'truck', 'trucks', 'true', 'truely', 'truffle', 'truffles', 'truly', 'trust', 'trusted', 'truth', 'try', 'trying', 'tub', 'tube', 'tubs', 'tuck', 'tucked', 'tucker', 'tucson', 'tuesday', 'tuesdays', 'tummy', 'tuna', 'tune', 'tunnel', 'turkey', 'turkish', 'turn', 'turned', 'turning', 'turns', 'tuscan', 'tv', 'tvs', 'twice', 'twist', 'twitter', 'type', 'types', 'typical', 'typically', 'tzatziki', 'ugh', 'ugly', 'uh', 'ultimate', 'ultimately', 'ultra', 'um', 'umm', 'unable', 'unacceptable', 'unassuming', 'unaware', 'unbeatable', 'unbelievable', 'unbelievably', 'uncaring', 'uncle', 'uncomfortable', 'undercooked', 'understaffed', 'understand', 'understanding', 'understands', 'understated', 'understood', 'underwhelming', 'unethical', 'unexpected', 'unforgettable', 'unfortunate', 'unfortunately', 'unfriendly', 'unhappy', 'uni', 'unique', 'unit', 'united', 'units', 'university', 'unknown', 'unless', 'unlike', 'unlimited', 'unmarked', 'unnecessary', 'unparalleled', 'unpleasant', 'unprofessional', 'unreal', 'unsatisfied', 'unseasoned', 'unsure', 'unusual', 'unusually', 'upbeat', 'update', 'updated', 'updates', 'updating', 'upfront', 'upgrade', 'upgraded', 'upper', 'ups', 'upscale', 'upset', 'upside', 'upstairs', 'uptown', 'urban', 'urge', 'urgent', 'usa', 'use', 'used', 'useful', 'useless', 'user', 'uses', 'using', 'usual', 'usually', 'utilize', 'utter', 'utterly', 'vacation', 'valentine', 'valet', 'valley', 'value', 'values', 'vanilla', 'varied', 'varieties', 'variety', 'various', 'vast', 've', 'veal', 'vegan', 'vegas', 'vegetable', 'vegetables', 'vegetarian', 'vegetarians', 'veggie', 'veggies', 'vehicle', 'vehicles', 'velvet', 'vendors', 'venture', 'ventured', 'venue', 'venues', 'verde', 'vermicelli', 'version', 'versions', 'versus', 'vet', 'vets', 'vibe', 'vibrant', 'video', 'videos', 'vietnam', 'vietnamese', 'view', 'viewing', 'views', 'vig', 'village', 'vinaigrette', 'vine', 'vinegar', 'vintage', 'vip', 'virgin', 'vision', 'visit', 'visited', 'visiting', 'visitor', 'visitors', 'visits', 'visually', 'vitamin', 'vitamins', 'vodka', 'voice', 'volcano', 'volleyball', 'volunteer', 'volunteers', 'vote', 'vouch', 'vs', 'waffle', 'waffles', 'wag', 'waist', 'wait', 'waited', 'waiter', 'waiters', 'waiting', 'waitress', 'waitresses', 'waitstaff', 'wake', 'walk', 'walked', 'walking', 'walks', 'wall', 'wallet', 'walls', 'walmart', 'walnut', 'walnuts', 'wander', 'wandered', 'wandering', 'wanna', 'want', 'wanted', 'wanting', 'wants', 'war', 'warehouse', 'warm', 'warmed', 'warmly', 'warmth', 'warned', 'warning', 'warranty', 'wary', 'wasabi', 'wash', 'washed', 'wasn', 'wasnt', 'waste', 'wasted', 'wasting', 'watch', 'watched', 'watching', 'water', 'watered', 'waterfall', 'waterfront', 'watering', 'waters', 'watery', 'wave', 'wax', 'waxing', 'way', 'ways', 'weak', 'wear', 'wearing', 'weather', 'web', 'website', 'wedding', 'wedges', 'wednesday', 'wednesdays', 'week', 'weekday', 'weekdays', 'weekend', 'weekends', 'weekly', 'weeks', 'wei', 'weigh', 'weight', 'weird', 'welcome', 'welcomed', 'welcoming', 'wellness', 'wendy', 'went', 'weren', 'west', 'western', 'westgate', 'wet', 'whatsoever', 'wheat', 'wheel', 'wheels', 'whilst', 'whim', 'whip', 'whipped', 'white', 'whoa', 'whopping', 'whore', 'wi', 'wicked', 'wide', 'wife', 'wifi', 'wild', 'wildflower', 'willing', 'win', 'wind', 'window', 'windows', 'windy', 'wine', 'wines', 'wing', 'wings', 'winner', 'winning', 'wins', 'winter', 'wipe', 'wiping', 'wise', 'wish', 'wished', 'wishing', 'witches', 'woke', 'woman', 'women', 'won', 'wonder', 'wondered', 'wonderful', 'wonderfully', 'wondering', 'wont', 'wonton', 'wontons', 'woo', 'wood', 'wooden', 'woods', 'woohoo', 'word', 'words', 'wore', 'work', 'worked', 'worker', 'workers', 'working', 'workout', 'workouts', 'works', 'world', 'worn', 'worried', 'worries', 'worry', 'worse', 'worst', 'worth', 'worthy', 'wouldn', 'wouldnt', 'wow', 'wowed', 'wrap', 'wrapped', 'wrapping', 'wraps', 'wrist', 'write', 'writing', 'written', 'wrong', 'wrote', 'wtf', 'www', 'ya', 'yard', 'yasu', 'yay', 'yea', 'yeah', 'year', 'yearly', 'years', 'yelling', 'yellow', 'yelp', 'yelped', 'yelper', 'yelpers', 'yelping', 'yep', 'yes', 'yesterday', 'yikes', 'yo', 'yoga', 'yogurt', 'yogurtland', 'york', 'young', 'younger', 'youngest', 'yr', 'yrs', 'yuck', 'yucky', 'yukon', 'yum', 'yumm', 'yummm', 'yummy', 'yup', 'zen', 'zero', 'zinburger', 'zone', 'zoo', 'zucchini', 'zumba']\n"
     ]
    }
   ],
   "source": [
    "print(vect.get_feature_names())"
   ]
  },
  {
   "cell_type": "code",
   "execution_count": 27,
   "metadata": {
    "scrolled": true
   },
   "outputs": [
    {
     "data": {
      "text/plain": [
       "6060"
      ]
     },
     "execution_count": 27,
     "metadata": {},
     "output_type": "execute_result"
    }
   ],
   "source": [
    "len(vect.get_feature_names())"
   ]
  },
  {
   "cell_type": "code",
   "execution_count": 28,
   "metadata": {},
   "outputs": [],
   "source": [
    "X_train_dtm = vect.transform(X_train)"
   ]
  },
  {
   "cell_type": "code",
   "execution_count": 29,
   "metadata": {
    "colab": {
     "base_uri": "https://localhost:8080/"
    },
    "executionInfo": {
     "elapsed": 1820,
     "status": "ok",
     "timestamp": 1618745308731,
     "user": {
      "displayName": "Sayan Dey",
      "photoUrl": "https://lh3.googleusercontent.com/a-/AOh14GgqVHJ9o6-7idGiRbNNd4iVc1VjzvuPnwmAnvEtD6U=s64",
      "userId": "03603580465490055794"
     },
     "user_tz": -330
    },
    "id": "2uPCHdgydzWU",
    "outputId": "87beba15-7c61-4e20-9fcb-70336bc46f5a"
   },
   "outputs": [
    {
     "data": {
      "text/plain": [
       "<3064x6060 sparse matrix of type '<class 'numpy.int64'>'\n",
       "\twith 130840 stored elements in Compressed Sparse Row format>"
      ]
     },
     "execution_count": 29,
     "metadata": {},
     "output_type": "execute_result"
    }
   ],
   "source": [
    "X_train_dtm"
   ]
  },
  {
   "cell_type": "code",
   "execution_count": 30,
   "metadata": {
    "scrolled": true
   },
   "outputs": [
    {
     "data": {
      "text/plain": [
       "scipy.sparse.csr.csr_matrix"
      ]
     },
     "execution_count": 30,
     "metadata": {},
     "output_type": "execute_result"
    }
   ],
   "source": [
    "type(X_train_dtm)"
   ]
  },
  {
   "cell_type": "code",
   "execution_count": 31,
   "metadata": {
    "colab": {
     "base_uri": "https://localhost:8080/"
    },
    "executionInfo": {
     "elapsed": 2718,
     "status": "ok",
     "timestamp": 1618745309719,
     "user": {
      "displayName": "Sayan Dey",
      "photoUrl": "https://lh3.googleusercontent.com/a-/AOh14GgqVHJ9o6-7idGiRbNNd4iVc1VjzvuPnwmAnvEtD6U=s64",
      "userId": "03603580465490055794"
     },
     "user_tz": -330
    },
    "id": "z7rs6UljfHIN",
    "outputId": "98564965-4c3d-4542-e203-e4ca7c6cbe5e",
    "scrolled": false
   },
   "outputs": [
    {
     "data": {
      "text/plain": [
       "array([[0, 0, 0, ..., 0, 0, 0],\n",
       "       [0, 0, 0, ..., 0, 0, 0],\n",
       "       [0, 0, 0, ..., 0, 0, 0],\n",
       "       ...,\n",
       "       [0, 0, 0, ..., 0, 0, 0],\n",
       "       [0, 0, 0, ..., 0, 0, 0],\n",
       "       [0, 0, 0, ..., 0, 0, 0]], dtype=int64)"
      ]
     },
     "execution_count": 31,
     "metadata": {},
     "output_type": "execute_result"
    }
   ],
   "source": [
    "X_train_dtm.toarray()"
   ]
  },
  {
   "cell_type": "code",
   "execution_count": 32,
   "metadata": {
    "colab": {
     "base_uri": "https://localhost:8080/",
     "height": 435
    },
    "executionInfo": {
     "elapsed": 2573,
     "status": "ok",
     "timestamp": 1618745309721,
     "user": {
      "displayName": "Sayan Dey",
      "photoUrl": "https://lh3.googleusercontent.com/a-/AOh14GgqVHJ9o6-7idGiRbNNd4iVc1VjzvuPnwmAnvEtD6U=s64",
      "userId": "03603580465490055794"
     },
     "user_tz": -330
    },
    "id": "nJ6clKSdd7h1",
    "outputId": "00a49aac-faa6-46b1-f808-0cf33641683d",
    "scrolled": false
   },
   "outputs": [
    {
     "data": {
      "text/html": [
       "<div>\n",
       "<style scoped>\n",
       "    .dataframe tbody tr th:only-of-type {\n",
       "        vertical-align: middle;\n",
       "    }\n",
       "\n",
       "    .dataframe tbody tr th {\n",
       "        vertical-align: top;\n",
       "    }\n",
       "\n",
       "    .dataframe thead th {\n",
       "        text-align: right;\n",
       "    }\n",
       "</style>\n",
       "<table border=\"1\" class=\"dataframe\">\n",
       "  <thead>\n",
       "    <tr style=\"text-align: right;\">\n",
       "      <th></th>\n",
       "      <th>00</th>\n",
       "      <th>000</th>\n",
       "      <th>00am</th>\n",
       "      <th>00pm</th>\n",
       "      <th>01</th>\n",
       "      <th>07</th>\n",
       "      <th>09</th>\n",
       "      <th>10</th>\n",
       "      <th>100</th>\n",
       "      <th>1000</th>\n",
       "      <th>...</th>\n",
       "      <th>yummm</th>\n",
       "      <th>yummy</th>\n",
       "      <th>yup</th>\n",
       "      <th>zen</th>\n",
       "      <th>zero</th>\n",
       "      <th>zinburger</th>\n",
       "      <th>zone</th>\n",
       "      <th>zoo</th>\n",
       "      <th>zucchini</th>\n",
       "      <th>zumba</th>\n",
       "    </tr>\n",
       "  </thead>\n",
       "  <tbody>\n",
       "    <tr>\n",
       "      <th>0</th>\n",
       "      <td>0</td>\n",
       "      <td>0</td>\n",
       "      <td>0</td>\n",
       "      <td>0</td>\n",
       "      <td>0</td>\n",
       "      <td>0</td>\n",
       "      <td>0</td>\n",
       "      <td>0</td>\n",
       "      <td>0</td>\n",
       "      <td>0</td>\n",
       "      <td>...</td>\n",
       "      <td>0</td>\n",
       "      <td>0</td>\n",
       "      <td>0</td>\n",
       "      <td>0</td>\n",
       "      <td>0</td>\n",
       "      <td>0</td>\n",
       "      <td>0</td>\n",
       "      <td>0</td>\n",
       "      <td>0</td>\n",
       "      <td>0</td>\n",
       "    </tr>\n",
       "    <tr>\n",
       "      <th>1</th>\n",
       "      <td>0</td>\n",
       "      <td>0</td>\n",
       "      <td>0</td>\n",
       "      <td>0</td>\n",
       "      <td>0</td>\n",
       "      <td>0</td>\n",
       "      <td>0</td>\n",
       "      <td>0</td>\n",
       "      <td>0</td>\n",
       "      <td>0</td>\n",
       "      <td>...</td>\n",
       "      <td>0</td>\n",
       "      <td>0</td>\n",
       "      <td>0</td>\n",
       "      <td>0</td>\n",
       "      <td>0</td>\n",
       "      <td>0</td>\n",
       "      <td>0</td>\n",
       "      <td>0</td>\n",
       "      <td>0</td>\n",
       "      <td>0</td>\n",
       "    </tr>\n",
       "    <tr>\n",
       "      <th>2</th>\n",
       "      <td>0</td>\n",
       "      <td>0</td>\n",
       "      <td>0</td>\n",
       "      <td>0</td>\n",
       "      <td>0</td>\n",
       "      <td>0</td>\n",
       "      <td>0</td>\n",
       "      <td>0</td>\n",
       "      <td>0</td>\n",
       "      <td>0</td>\n",
       "      <td>...</td>\n",
       "      <td>0</td>\n",
       "      <td>0</td>\n",
       "      <td>0</td>\n",
       "      <td>0</td>\n",
       "      <td>0</td>\n",
       "      <td>0</td>\n",
       "      <td>0</td>\n",
       "      <td>0</td>\n",
       "      <td>0</td>\n",
       "      <td>0</td>\n",
       "    </tr>\n",
       "    <tr>\n",
       "      <th>3</th>\n",
       "      <td>0</td>\n",
       "      <td>0</td>\n",
       "      <td>0</td>\n",
       "      <td>0</td>\n",
       "      <td>0</td>\n",
       "      <td>0</td>\n",
       "      <td>0</td>\n",
       "      <td>0</td>\n",
       "      <td>0</td>\n",
       "      <td>0</td>\n",
       "      <td>...</td>\n",
       "      <td>0</td>\n",
       "      <td>0</td>\n",
       "      <td>0</td>\n",
       "      <td>0</td>\n",
       "      <td>0</td>\n",
       "      <td>0</td>\n",
       "      <td>0</td>\n",
       "      <td>0</td>\n",
       "      <td>0</td>\n",
       "      <td>0</td>\n",
       "    </tr>\n",
       "    <tr>\n",
       "      <th>4</th>\n",
       "      <td>0</td>\n",
       "      <td>0</td>\n",
       "      <td>0</td>\n",
       "      <td>0</td>\n",
       "      <td>0</td>\n",
       "      <td>0</td>\n",
       "      <td>0</td>\n",
       "      <td>0</td>\n",
       "      <td>0</td>\n",
       "      <td>0</td>\n",
       "      <td>...</td>\n",
       "      <td>0</td>\n",
       "      <td>0</td>\n",
       "      <td>0</td>\n",
       "      <td>0</td>\n",
       "      <td>0</td>\n",
       "      <td>0</td>\n",
       "      <td>0</td>\n",
       "      <td>0</td>\n",
       "      <td>0</td>\n",
       "      <td>0</td>\n",
       "    </tr>\n",
       "    <tr>\n",
       "      <th>...</th>\n",
       "      <td>...</td>\n",
       "      <td>...</td>\n",
       "      <td>...</td>\n",
       "      <td>...</td>\n",
       "      <td>...</td>\n",
       "      <td>...</td>\n",
       "      <td>...</td>\n",
       "      <td>...</td>\n",
       "      <td>...</td>\n",
       "      <td>...</td>\n",
       "      <td>...</td>\n",
       "      <td>...</td>\n",
       "      <td>...</td>\n",
       "      <td>...</td>\n",
       "      <td>...</td>\n",
       "      <td>...</td>\n",
       "      <td>...</td>\n",
       "      <td>...</td>\n",
       "      <td>...</td>\n",
       "      <td>...</td>\n",
       "      <td>...</td>\n",
       "    </tr>\n",
       "    <tr>\n",
       "      <th>3059</th>\n",
       "      <td>0</td>\n",
       "      <td>0</td>\n",
       "      <td>0</td>\n",
       "      <td>0</td>\n",
       "      <td>0</td>\n",
       "      <td>0</td>\n",
       "      <td>0</td>\n",
       "      <td>0</td>\n",
       "      <td>0</td>\n",
       "      <td>0</td>\n",
       "      <td>...</td>\n",
       "      <td>0</td>\n",
       "      <td>0</td>\n",
       "      <td>0</td>\n",
       "      <td>0</td>\n",
       "      <td>0</td>\n",
       "      <td>0</td>\n",
       "      <td>0</td>\n",
       "      <td>0</td>\n",
       "      <td>0</td>\n",
       "      <td>0</td>\n",
       "    </tr>\n",
       "    <tr>\n",
       "      <th>3060</th>\n",
       "      <td>0</td>\n",
       "      <td>0</td>\n",
       "      <td>0</td>\n",
       "      <td>0</td>\n",
       "      <td>0</td>\n",
       "      <td>0</td>\n",
       "      <td>0</td>\n",
       "      <td>0</td>\n",
       "      <td>0</td>\n",
       "      <td>0</td>\n",
       "      <td>...</td>\n",
       "      <td>0</td>\n",
       "      <td>0</td>\n",
       "      <td>0</td>\n",
       "      <td>0</td>\n",
       "      <td>0</td>\n",
       "      <td>0</td>\n",
       "      <td>0</td>\n",
       "      <td>0</td>\n",
       "      <td>0</td>\n",
       "      <td>0</td>\n",
       "    </tr>\n",
       "    <tr>\n",
       "      <th>3061</th>\n",
       "      <td>0</td>\n",
       "      <td>0</td>\n",
       "      <td>0</td>\n",
       "      <td>0</td>\n",
       "      <td>0</td>\n",
       "      <td>0</td>\n",
       "      <td>0</td>\n",
       "      <td>0</td>\n",
       "      <td>0</td>\n",
       "      <td>0</td>\n",
       "      <td>...</td>\n",
       "      <td>0</td>\n",
       "      <td>0</td>\n",
       "      <td>0</td>\n",
       "      <td>0</td>\n",
       "      <td>0</td>\n",
       "      <td>0</td>\n",
       "      <td>0</td>\n",
       "      <td>0</td>\n",
       "      <td>0</td>\n",
       "      <td>0</td>\n",
       "    </tr>\n",
       "    <tr>\n",
       "      <th>3062</th>\n",
       "      <td>0</td>\n",
       "      <td>0</td>\n",
       "      <td>0</td>\n",
       "      <td>0</td>\n",
       "      <td>0</td>\n",
       "      <td>0</td>\n",
       "      <td>0</td>\n",
       "      <td>0</td>\n",
       "      <td>0</td>\n",
       "      <td>0</td>\n",
       "      <td>...</td>\n",
       "      <td>0</td>\n",
       "      <td>0</td>\n",
       "      <td>0</td>\n",
       "      <td>0</td>\n",
       "      <td>0</td>\n",
       "      <td>0</td>\n",
       "      <td>0</td>\n",
       "      <td>0</td>\n",
       "      <td>0</td>\n",
       "      <td>0</td>\n",
       "    </tr>\n",
       "    <tr>\n",
       "      <th>3063</th>\n",
       "      <td>0</td>\n",
       "      <td>0</td>\n",
       "      <td>0</td>\n",
       "      <td>0</td>\n",
       "      <td>0</td>\n",
       "      <td>0</td>\n",
       "      <td>0</td>\n",
       "      <td>0</td>\n",
       "      <td>0</td>\n",
       "      <td>0</td>\n",
       "      <td>...</td>\n",
       "      <td>0</td>\n",
       "      <td>0</td>\n",
       "      <td>0</td>\n",
       "      <td>0</td>\n",
       "      <td>0</td>\n",
       "      <td>0</td>\n",
       "      <td>0</td>\n",
       "      <td>0</td>\n",
       "      <td>0</td>\n",
       "      <td>0</td>\n",
       "    </tr>\n",
       "  </tbody>\n",
       "</table>\n",
       "<p>3064 rows × 6060 columns</p>\n",
       "</div>"
      ],
      "text/plain": [
       "      00  000  00am  00pm  01  07  09  10  100  1000  ...  yummm  yummy  yup  \\\n",
       "0      0    0     0     0   0   0   0   0    0     0  ...      0      0    0   \n",
       "1      0    0     0     0   0   0   0   0    0     0  ...      0      0    0   \n",
       "2      0    0     0     0   0   0   0   0    0     0  ...      0      0    0   \n",
       "3      0    0     0     0   0   0   0   0    0     0  ...      0      0    0   \n",
       "4      0    0     0     0   0   0   0   0    0     0  ...      0      0    0   \n",
       "...   ..  ...   ...   ...  ..  ..  ..  ..  ...   ...  ...    ...    ...  ...   \n",
       "3059   0    0     0     0   0   0   0   0    0     0  ...      0      0    0   \n",
       "3060   0    0     0     0   0   0   0   0    0     0  ...      0      0    0   \n",
       "3061   0    0     0     0   0   0   0   0    0     0  ...      0      0    0   \n",
       "3062   0    0     0     0   0   0   0   0    0     0  ...      0      0    0   \n",
       "3063   0    0     0     0   0   0   0   0    0     0  ...      0      0    0   \n",
       "\n",
       "      zen  zero  zinburger  zone  zoo  zucchini  zumba  \n",
       "0       0     0          0     0    0         0      0  \n",
       "1       0     0          0     0    0         0      0  \n",
       "2       0     0          0     0    0         0      0  \n",
       "3       0     0          0     0    0         0      0  \n",
       "4       0     0          0     0    0         0      0  \n",
       "...   ...   ...        ...   ...  ...       ...    ...  \n",
       "3059    0     0          0     0    0         0      0  \n",
       "3060    0     0          0     0    0         0      0  \n",
       "3061    0     0          0     0    0         0      0  \n",
       "3062    0     0          0     0    0         0      0  \n",
       "3063    0     0          0     0    0         0      0  \n",
       "\n",
       "[3064 rows x 6060 columns]"
      ]
     },
     "execution_count": 32,
     "metadata": {},
     "output_type": "execute_result"
    }
   ],
   "source": [
    "demo = pd.DataFrame(X_train_dtm.toarray())\n",
    "demo.columns = vect.get_feature_names()\n",
    "demo"
   ]
  },
  {
   "cell_type": "code",
   "execution_count": 33,
   "metadata": {
    "executionInfo": {
     "elapsed": 2504,
     "status": "ok",
     "timestamp": 1618745309721,
     "user": {
      "displayName": "Sayan Dey",
      "photoUrl": "https://lh3.googleusercontent.com/a-/AOh14GgqVHJ9o6-7idGiRbNNd4iVc1VjzvuPnwmAnvEtD6U=s64",
      "userId": "03603580465490055794"
     },
     "user_tz": -330
    },
    "id": "RMFt5bjIV5HG"
   },
   "outputs": [],
   "source": [
    "X_test_dtm = vect.transform(X_test)"
   ]
  },
  {
   "cell_type": "code",
   "execution_count": 34,
   "metadata": {
    "colab": {
     "base_uri": "https://localhost:8080/"
    },
    "executionInfo": {
     "elapsed": 2385,
     "status": "ok",
     "timestamp": 1618745309722,
     "user": {
      "displayName": "Sayan Dey",
      "photoUrl": "https://lh3.googleusercontent.com/a-/AOh14GgqVHJ9o6-7idGiRbNNd4iVc1VjzvuPnwmAnvEtD6U=s64",
      "userId": "03603580465490055794"
     },
     "user_tz": -330
    },
    "id": "FVhf6PDPgNtO",
    "outputId": "04de4c02-15d0-44f9-e04f-0ffd8da4c72f"
   },
   "outputs": [
    {
     "data": {
      "text/plain": [
       "<1022x6060 sparse matrix of type '<class 'numpy.int64'>'\n",
       "\twith 42452 stored elements in Compressed Sparse Row format>"
      ]
     },
     "execution_count": 34,
     "metadata": {},
     "output_type": "execute_result"
    }
   ],
   "source": [
    "X_test_dtm"
   ]
  },
  {
   "cell_type": "code",
   "execution_count": 35,
   "metadata": {
    "colab": {
     "base_uri": "https://localhost:8080/",
     "height": 435
    },
    "executionInfo": {
     "elapsed": 2233,
     "status": "ok",
     "timestamp": 1618745309724,
     "user": {
      "displayName": "Sayan Dey",
      "photoUrl": "https://lh3.googleusercontent.com/a-/AOh14GgqVHJ9o6-7idGiRbNNd4iVc1VjzvuPnwmAnvEtD6U=s64",
      "userId": "03603580465490055794"
     },
     "user_tz": -330
    },
    "id": "HOhSfzjMgS-M",
    "outputId": "0cdfb294-19b8-4c9c-e7da-8ca93441b7a4",
    "scrolled": false
   },
   "outputs": [
    {
     "data": {
      "text/html": [
       "<div>\n",
       "<style scoped>\n",
       "    .dataframe tbody tr th:only-of-type {\n",
       "        vertical-align: middle;\n",
       "    }\n",
       "\n",
       "    .dataframe tbody tr th {\n",
       "        vertical-align: top;\n",
       "    }\n",
       "\n",
       "    .dataframe thead th {\n",
       "        text-align: right;\n",
       "    }\n",
       "</style>\n",
       "<table border=\"1\" class=\"dataframe\">\n",
       "  <thead>\n",
       "    <tr style=\"text-align: right;\">\n",
       "      <th></th>\n",
       "      <th>00</th>\n",
       "      <th>000</th>\n",
       "      <th>00am</th>\n",
       "      <th>00pm</th>\n",
       "      <th>01</th>\n",
       "      <th>07</th>\n",
       "      <th>09</th>\n",
       "      <th>10</th>\n",
       "      <th>100</th>\n",
       "      <th>1000</th>\n",
       "      <th>...</th>\n",
       "      <th>yummm</th>\n",
       "      <th>yummy</th>\n",
       "      <th>yup</th>\n",
       "      <th>zen</th>\n",
       "      <th>zero</th>\n",
       "      <th>zinburger</th>\n",
       "      <th>zone</th>\n",
       "      <th>zoo</th>\n",
       "      <th>zucchini</th>\n",
       "      <th>zumba</th>\n",
       "    </tr>\n",
       "  </thead>\n",
       "  <tbody>\n",
       "    <tr>\n",
       "      <th>0</th>\n",
       "      <td>0</td>\n",
       "      <td>0</td>\n",
       "      <td>0</td>\n",
       "      <td>0</td>\n",
       "      <td>0</td>\n",
       "      <td>0</td>\n",
       "      <td>0</td>\n",
       "      <td>0</td>\n",
       "      <td>0</td>\n",
       "      <td>0</td>\n",
       "      <td>...</td>\n",
       "      <td>0</td>\n",
       "      <td>0</td>\n",
       "      <td>0</td>\n",
       "      <td>0</td>\n",
       "      <td>0</td>\n",
       "      <td>0</td>\n",
       "      <td>0</td>\n",
       "      <td>0</td>\n",
       "      <td>0</td>\n",
       "      <td>0</td>\n",
       "    </tr>\n",
       "    <tr>\n",
       "      <th>1</th>\n",
       "      <td>0</td>\n",
       "      <td>0</td>\n",
       "      <td>0</td>\n",
       "      <td>0</td>\n",
       "      <td>0</td>\n",
       "      <td>0</td>\n",
       "      <td>0</td>\n",
       "      <td>0</td>\n",
       "      <td>0</td>\n",
       "      <td>0</td>\n",
       "      <td>...</td>\n",
       "      <td>0</td>\n",
       "      <td>0</td>\n",
       "      <td>0</td>\n",
       "      <td>0</td>\n",
       "      <td>0</td>\n",
       "      <td>0</td>\n",
       "      <td>0</td>\n",
       "      <td>0</td>\n",
       "      <td>0</td>\n",
       "      <td>0</td>\n",
       "    </tr>\n",
       "    <tr>\n",
       "      <th>2</th>\n",
       "      <td>0</td>\n",
       "      <td>0</td>\n",
       "      <td>0</td>\n",
       "      <td>0</td>\n",
       "      <td>0</td>\n",
       "      <td>0</td>\n",
       "      <td>0</td>\n",
       "      <td>0</td>\n",
       "      <td>0</td>\n",
       "      <td>0</td>\n",
       "      <td>...</td>\n",
       "      <td>0</td>\n",
       "      <td>0</td>\n",
       "      <td>0</td>\n",
       "      <td>0</td>\n",
       "      <td>0</td>\n",
       "      <td>0</td>\n",
       "      <td>0</td>\n",
       "      <td>0</td>\n",
       "      <td>0</td>\n",
       "      <td>0</td>\n",
       "    </tr>\n",
       "    <tr>\n",
       "      <th>3</th>\n",
       "      <td>0</td>\n",
       "      <td>0</td>\n",
       "      <td>0</td>\n",
       "      <td>0</td>\n",
       "      <td>0</td>\n",
       "      <td>0</td>\n",
       "      <td>0</td>\n",
       "      <td>0</td>\n",
       "      <td>0</td>\n",
       "      <td>0</td>\n",
       "      <td>...</td>\n",
       "      <td>0</td>\n",
       "      <td>1</td>\n",
       "      <td>0</td>\n",
       "      <td>0</td>\n",
       "      <td>0</td>\n",
       "      <td>0</td>\n",
       "      <td>0</td>\n",
       "      <td>0</td>\n",
       "      <td>0</td>\n",
       "      <td>0</td>\n",
       "    </tr>\n",
       "    <tr>\n",
       "      <th>4</th>\n",
       "      <td>0</td>\n",
       "      <td>0</td>\n",
       "      <td>0</td>\n",
       "      <td>0</td>\n",
       "      <td>0</td>\n",
       "      <td>0</td>\n",
       "      <td>0</td>\n",
       "      <td>1</td>\n",
       "      <td>0</td>\n",
       "      <td>0</td>\n",
       "      <td>...</td>\n",
       "      <td>0</td>\n",
       "      <td>1</td>\n",
       "      <td>0</td>\n",
       "      <td>0</td>\n",
       "      <td>0</td>\n",
       "      <td>0</td>\n",
       "      <td>0</td>\n",
       "      <td>0</td>\n",
       "      <td>0</td>\n",
       "      <td>0</td>\n",
       "    </tr>\n",
       "    <tr>\n",
       "      <th>...</th>\n",
       "      <td>...</td>\n",
       "      <td>...</td>\n",
       "      <td>...</td>\n",
       "      <td>...</td>\n",
       "      <td>...</td>\n",
       "      <td>...</td>\n",
       "      <td>...</td>\n",
       "      <td>...</td>\n",
       "      <td>...</td>\n",
       "      <td>...</td>\n",
       "      <td>...</td>\n",
       "      <td>...</td>\n",
       "      <td>...</td>\n",
       "      <td>...</td>\n",
       "      <td>...</td>\n",
       "      <td>...</td>\n",
       "      <td>...</td>\n",
       "      <td>...</td>\n",
       "      <td>...</td>\n",
       "      <td>...</td>\n",
       "      <td>...</td>\n",
       "    </tr>\n",
       "    <tr>\n",
       "      <th>1017</th>\n",
       "      <td>0</td>\n",
       "      <td>0</td>\n",
       "      <td>0</td>\n",
       "      <td>0</td>\n",
       "      <td>0</td>\n",
       "      <td>0</td>\n",
       "      <td>0</td>\n",
       "      <td>0</td>\n",
       "      <td>0</td>\n",
       "      <td>0</td>\n",
       "      <td>...</td>\n",
       "      <td>0</td>\n",
       "      <td>0</td>\n",
       "      <td>0</td>\n",
       "      <td>0</td>\n",
       "      <td>0</td>\n",
       "      <td>0</td>\n",
       "      <td>0</td>\n",
       "      <td>0</td>\n",
       "      <td>0</td>\n",
       "      <td>0</td>\n",
       "    </tr>\n",
       "    <tr>\n",
       "      <th>1018</th>\n",
       "      <td>0</td>\n",
       "      <td>0</td>\n",
       "      <td>0</td>\n",
       "      <td>0</td>\n",
       "      <td>0</td>\n",
       "      <td>0</td>\n",
       "      <td>0</td>\n",
       "      <td>0</td>\n",
       "      <td>0</td>\n",
       "      <td>0</td>\n",
       "      <td>...</td>\n",
       "      <td>0</td>\n",
       "      <td>0</td>\n",
       "      <td>0</td>\n",
       "      <td>0</td>\n",
       "      <td>0</td>\n",
       "      <td>0</td>\n",
       "      <td>0</td>\n",
       "      <td>0</td>\n",
       "      <td>0</td>\n",
       "      <td>0</td>\n",
       "    </tr>\n",
       "    <tr>\n",
       "      <th>1019</th>\n",
       "      <td>0</td>\n",
       "      <td>0</td>\n",
       "      <td>0</td>\n",
       "      <td>0</td>\n",
       "      <td>0</td>\n",
       "      <td>0</td>\n",
       "      <td>0</td>\n",
       "      <td>0</td>\n",
       "      <td>0</td>\n",
       "      <td>0</td>\n",
       "      <td>...</td>\n",
       "      <td>0</td>\n",
       "      <td>0</td>\n",
       "      <td>0</td>\n",
       "      <td>0</td>\n",
       "      <td>0</td>\n",
       "      <td>0</td>\n",
       "      <td>0</td>\n",
       "      <td>0</td>\n",
       "      <td>0</td>\n",
       "      <td>0</td>\n",
       "    </tr>\n",
       "    <tr>\n",
       "      <th>1020</th>\n",
       "      <td>0</td>\n",
       "      <td>0</td>\n",
       "      <td>0</td>\n",
       "      <td>0</td>\n",
       "      <td>0</td>\n",
       "      <td>0</td>\n",
       "      <td>0</td>\n",
       "      <td>0</td>\n",
       "      <td>0</td>\n",
       "      <td>0</td>\n",
       "      <td>...</td>\n",
       "      <td>0</td>\n",
       "      <td>0</td>\n",
       "      <td>0</td>\n",
       "      <td>0</td>\n",
       "      <td>0</td>\n",
       "      <td>0</td>\n",
       "      <td>0</td>\n",
       "      <td>0</td>\n",
       "      <td>0</td>\n",
       "      <td>0</td>\n",
       "    </tr>\n",
       "    <tr>\n",
       "      <th>1021</th>\n",
       "      <td>0</td>\n",
       "      <td>0</td>\n",
       "      <td>0</td>\n",
       "      <td>0</td>\n",
       "      <td>0</td>\n",
       "      <td>0</td>\n",
       "      <td>0</td>\n",
       "      <td>0</td>\n",
       "      <td>0</td>\n",
       "      <td>0</td>\n",
       "      <td>...</td>\n",
       "      <td>0</td>\n",
       "      <td>0</td>\n",
       "      <td>0</td>\n",
       "      <td>0</td>\n",
       "      <td>0</td>\n",
       "      <td>0</td>\n",
       "      <td>0</td>\n",
       "      <td>0</td>\n",
       "      <td>0</td>\n",
       "      <td>0</td>\n",
       "    </tr>\n",
       "  </tbody>\n",
       "</table>\n",
       "<p>1022 rows × 6060 columns</p>\n",
       "</div>"
      ],
      "text/plain": [
       "      00  000  00am  00pm  01  07  09  10  100  1000  ...  yummm  yummy  yup  \\\n",
       "0      0    0     0     0   0   0   0   0    0     0  ...      0      0    0   \n",
       "1      0    0     0     0   0   0   0   0    0     0  ...      0      0    0   \n",
       "2      0    0     0     0   0   0   0   0    0     0  ...      0      0    0   \n",
       "3      0    0     0     0   0   0   0   0    0     0  ...      0      1    0   \n",
       "4      0    0     0     0   0   0   0   1    0     0  ...      0      1    0   \n",
       "...   ..  ...   ...   ...  ..  ..  ..  ..  ...   ...  ...    ...    ...  ...   \n",
       "1017   0    0     0     0   0   0   0   0    0     0  ...      0      0    0   \n",
       "1018   0    0     0     0   0   0   0   0    0     0  ...      0      0    0   \n",
       "1019   0    0     0     0   0   0   0   0    0     0  ...      0      0    0   \n",
       "1020   0    0     0     0   0   0   0   0    0     0  ...      0      0    0   \n",
       "1021   0    0     0     0   0   0   0   0    0     0  ...      0      0    0   \n",
       "\n",
       "      zen  zero  zinburger  zone  zoo  zucchini  zumba  \n",
       "0       0     0          0     0    0         0      0  \n",
       "1       0     0          0     0    0         0      0  \n",
       "2       0     0          0     0    0         0      0  \n",
       "3       0     0          0     0    0         0      0  \n",
       "4       0     0          0     0    0         0      0  \n",
       "...   ...   ...        ...   ...  ...       ...    ...  \n",
       "1017    0     0          0     0    0         0      0  \n",
       "1018    0     0          0     0    0         0      0  \n",
       "1019    0     0          0     0    0         0      0  \n",
       "1020    0     0          0     0    0         0      0  \n",
       "1021    0     0          0     0    0         0      0  \n",
       "\n",
       "[1022 rows x 6060 columns]"
      ]
     },
     "execution_count": 35,
     "metadata": {},
     "output_type": "execute_result"
    }
   ],
   "source": [
    "demotest = pd.DataFrame(X_test_dtm.toarray())\n",
    "demotest.columns = vect.get_feature_names()\n",
    "demotest"
   ]
  },
  {
   "cell_type": "markdown",
   "metadata": {
    "id": "pVevvD2yV5Hd"
   },
   "source": [
    "- **ngram_range:** tuple (min_n, max_n)\n",
    "- The lower and upper boundary of the range of n-values for different n-grams to be extracted. All values of n such that min_n <= n <= max_n will be used."
   ]
  },
  {
   "cell_type": "code",
   "execution_count": 36,
   "metadata": {
    "executionInfo": {
     "elapsed": 1260,
     "status": "ok",
     "timestamp": 1618745313990,
     "user": {
      "displayName": "Sayan Dey",
      "photoUrl": "https://lh3.googleusercontent.com/a-/AOh14GgqVHJ9o6-7idGiRbNNd4iVc1VjzvuPnwmAnvEtD6U=s64",
      "userId": "03603580465490055794"
     },
     "user_tz": -330
    },
    "id": "CqLV5TRPV5He",
    "scrolled": true
   },
   "outputs": [
    {
     "name": "stdout",
     "output_type": "stream",
     "text": [
      "150034\n"
     ]
    }
   ],
   "source": [
    "# include 1-grams and 2-grams\n",
    "vect = CountVectorizer(ngram_range=(1, 2),stop_words='english',lowercase=True)\n",
    "vect.fit(X_train)\n",
    "print(len(vect.get_feature_names()))"
   ]
  },
  {
   "cell_type": "code",
   "execution_count": 37,
   "metadata": {
    "colab": {
     "base_uri": "https://localhost:8080/"
    },
    "executionInfo": {
     "elapsed": 2025,
     "status": "ok",
     "timestamp": 1618745316098,
     "user": {
      "displayName": "Sayan Dey",
      "photoUrl": "https://lh3.googleusercontent.com/a-/AOh14GgqVHJ9o6-7idGiRbNNd4iVc1VjzvuPnwmAnvEtD6U=s64",
      "userId": "03603580465490055794"
     },
     "user_tz": -330
    },
    "id": "RaFuMYD0V5Hm",
    "outputId": "79ae064a-bc81-4268-d257-6355a1ffd6cb",
    "scrolled": true
   },
   "outputs": [
    {
     "name": "stdout",
     "output_type": "stream",
     "text": [
      "['00', '00 00', '00 15', '00 24', '00 25', '00 30', '00 50', '00 actually', '00 amazing', '00 arriving', '00 bar', '00 charge', '00 cheese', '00 cover', '00 credit', '00 did', '00 dinner', '00 dish', '00 drink', '00 entree', '00 everyday', '00 extra', '00 food', '00 free', '00 fries', '00 frustrated', '00 gift', '00 glass', '00 lb', '00 like', '00 mediocre', '00 minimum', '00 monday', '00 night', '00 nordstrom', '00 pair', '00 pizza', '00 pm', '00 price', '00 promised', '00 really', '00 right', '00 saturday', '00 seating', '00 seriously', '00 services', '00 seven', '00 simple', '00 sinful', '00 soup', '00 started', '00 stunned', '00 suggest', '00 thing', '00 tip', '00 turkey', '00 wait', '00 wish', '000', '000 miles', '000 numbers', '000 people', '000 stayed', '000 store', '000 thats', '000 trip', '00a', '00a seeing', '00am', '00am 00pm', '00am fax', '00am following', '00am waited', '00am walked', '00pm', '00pm guy', '00pm information', '00pm oops', '00pm seated', '00pm water', '01', '01 04', '01 16', '01 staffperson', '02', '02 2010', '03', '03 pm', '03342', '03342 cents', '04', '04 2012', '05', '05 minutes', '05 months', '06', '06 hyundai', '07', '07 09', '07 having', '07 ll', '07 seated', '07 thing', '07 think', '07 told', '07 working', '09', '09 2008', '09 received', '0buxoc0crqjpvkezo3bqog', '0buxoc0crqjpvkezo3bqog select', '0l', '0l 8v', '10', '10 00', '10 000', '10 00am', '10 00pm', '10 07', '10 11', '10 12', '10 14', '10 15', '10 20', '10 25', '10 30', '10 30pm', '10 95', '10 99', '10 ac', '10 ahead', '10 atmosphere', '10 beat', '10 beers', '10 bucks', '10 bummer', '10 burritos', '10 caprese', '10 cent', '10 cents', '10 change', '10 clean', '10 close', '10 coolest', '10 days', '10 deep', '10 depending', '10 different', '10 differnt', '10 dinner', '10 discount', '10 dishes', '10 dog', '10 drinks', '10 employess', '10 exactly', '10 extra', '10 flash', '10 food', '10 free', '10 freeway', '10 gallon', '10 gift', '10 glasses', '10 going', '10 good', '10 got', '10 gps', '10 great', '10 headed', '10 heard', '10 heated', '10 hello', '10 highly', '10 hours', '10 http', '10 inch', '10 just', '10 kids', '10 lady', '10 latte', '10 like', '10 lunch', '10 margarita', '10 meat', '10 mexican', '10 mile', '10 miles', '10 min', '10 mins', '10 minute', '10 minutes', '10 missing', '10 months', '10 multiple', '10 ordered', '10 oz', '10 pack', '10 people', '10 peppercorns', '10 person', '10 place', '10 plate', '10 pm', '10 really', '10 reservations', '10 said', '10 sale', '10 scare', '10 seconds', '10 server', '10 sesame', '10 shrimp', '10 spend', '10 spot', '10 staff', '10 stuffed', '10 suggest', '10 taco', '10 thank', '10 thought', '10 thousands', '10 times', '10 total', '10 tremendous', '10 used', '10 wait', '10 wallet', '10 wanted', '10 way', '10 whiskeys', '10 year', '10 years', '10 yrs', '10 yummy', '100', '100 00', '100 150', '100 1k', '100 300', '100 actually', '100 best', '100 bikini', '100 charged', '100 cheaper', '100 colors', '100 cotton', '100 courses', '100 definately', '100 degree', '100 degrees', '100 digital', '100 european', '100 feet', '100 friends', '100 hotels', '100 http', '100 later', '100 leg', '100 love', '100 making', '100 miles', '100 new', '100 ok', '100 people', '100 places', '100 plant', '100 professional', '100 profit', '100 pure', '100 rating', '100 really', '100 repair', '100 round', '100 sale', '100 spend', '100 taps', '100 teff', '100 tell', '100 tips', '100 weather', '100 worth', '100 year', '1000', '1000 awful', '1000 got', '1000 island', '1000 lbs', '1000x', '1000x better', '1001', '1001 things', '100th', '100th birthday', '100th review', '101', '101 asked', '101 cars', '101 course', '101 exit', '101 far', '101 fridays', '101 long', '101 mistake', '101 rule', '101 saw', '102', '102 degree', '105', '105 degrees', '1070', '1070 didn', '1070 hands', '108', '108 east', '10am', '10am 4pm', '10am 5pm', '10am significant', '10ish', '10ish minutes', '10min', '10min drinks', '10min said', '10min worth', '10mins', '10mins load', '10minutes', '10minutes disappointed', '10pm', '10pm 12am', '10pm happy', '10th', '10th 12', '10th anniversary', '10th glad', '10x', '10x organized', '11', '11 00', '11 00am', '11 03', '11 07', '11 10', '11 13', '11 15', '11 18', '11 19', '11 1pm', '11 23', '11 25', '11 30', '11 30am', '11 45', '11 50', '11 54', '11 99', '11 bucks', '11 curtains', '11 dancing', '11 em', '11 ish', '11 owner', '11 pair', '11 pm', '11 rubios', '11 service', '11 standing', '11 striping', '11 unless', '11 update', '11 woman', '11 year', '11 years', '110', '110 adding', '110 degree', '110 just', '110 lbs', '1100', '1100 later', '111', '111 degrees', '111th', '111th ave', '111th just', '112', '112 row', '115th', '115th ave', '118', '118 degrees', '11a', '11a 3p', '11am', '11am 11pm', '11am actually', '11am appointment', '11am couldn', '11am didn', '11am really', '11am saturday', '11am traffic', '11p', '11p pure', '11pm', '11pm day', '11pm days', '11pm rum', '12', '12 00', '12 07', '12 10', '12 10am', '12 11', '12 12', '12 13', '12 14', '12 15', '12 16', '12 21', '12 30', '12 30p', '12 31', '12 40', '12 44', '12 50', '12 95', '12 bucks', '12 cents', '12 chicken', '12 days', '12 did', '12 different', '12 excellent', '12 flavors', '12 hang', '12 hop', '12 hours', '12 inch', '12 ingredients', '12 inside', '12 items', '12 jeez', '12 kid', '12 know', '12 lbs', '12 like', '12 limit', '12 ll', '12 lunch', '12 months', '12 offer', '12 oz', '12 people', '12 places', '12 prior', '12 replace', '12 representative', '12 reviews', '12 sales', '12 shame', '12 singles', '12 slider', '12 soft', '12 sprites', '12 tables', '12 time', '12 turns', '12 worth', '12 year', '12 years', '12 yes', '12 yr', '120', '120 140', '120 coupon', '120 degrees', '120 http', '120 seats', '120 ship', '120 tea', '128i', '128i bmw', '129', '129 misinformation', '12am', '12am movie', '12am night', '12oz', '12oz beautiful', '12oz glasses', '12oz new', '12pm', '12pm luckily', '12pm procedures', '12th', '12th 2012', '13', '13 14', '13 2010', '13 61', '13 amc', '13 bones', '13 bonus', '13 combo', '13 doesn', '13 dollar', '13 don', '13 flavorful', '13 gets', '13 items', '13 kidding', '13 larges', '13 lost', '13 ooh', '13 people', '13 person', '13 practice', '13 road', '13 salad', '13 shabby', '13 vegetable', '13 years', '13 yes', '14', '14 00', '14 07', '14 12', '14 15', '14 17', '14 18', '14 95', '14 99', '14 compare', '14 couple', '14 definetly', '14 delicious', '14 dinner', '14 half', '14 month', '14 orange', '14 oz', '14 price', '14 worth', '14 years', '140', '140 acres', '140 mathematically', '140 ordered', '140 second', '140 tip', '140 value', '147', '147 month', '147 second', '14lbs', '14lbs weight', '15', '15 20', '15 20min', '15 25', '15 30', '15 64', '15 admission', '15 bucks', '15 burger', '15 chicken', '15 close', '15 clothes', '15 couldn', '15 coupon', '15 crap', '15 day', '15 days', '15 difference', '15 different', '15 dinner', '15 dollars', '15 doors', '15 end', '15 features', '15 floor', '15 food', '15 freaking', '15 got', '15 gratuity', '15 item', '15 items', '15 just', '15 min', '15 mins', '15 minute', '15 minutes', '15 month', '15 nasty', '15 older', '15 people', '15 piece', '15 plate', '15 problem', '15 range', '15 rays', '15 receive', '15 returning', '15 seen', '15 special', '15 tables', '15 tix', '15 walked', '15 wide', '15 years', '150', '150 00', '150 200', '150 bucks', '150 child', '150 feet', '150 mere', '150 people', '150 teavana', '150 total', '1500', '1500 tile', '150mm', '150mm petty', '15am', '15am continued', '15mins', '15mins bringing', '15pm', '15pm 25', '15th', '15th sunday', '16', '16 50', '16 bars', '16 body', '16 cheapest', '16 chicken', '16 combo', '16 cut', '16 flavors', '16 hours', '16 improvement', '16 little', '16 lunch', '16 oz', '16 place', '16 teaspoon', '16 theatres', '16 tire', '16 tra', '16 waiter', '16 worth', '16 yes', '160', '160 60', '160 awesome', '160 price', '160 sale', '160 tax', '165', '165 posting', '169', '169 including', '16th', '16th best', '16th street', '17', '17 00', '17 11', '17 19', '17 cents', '17 dollars', '17 flagstaff', '17 gross', '17 happy', '17 http', '17 just', '17 minutes', '17 mixed', '17 pm', '17 right', '17 year', '17 years', '17p', '17p nobuo', '18', '18 07', '18 09', '18 140', '18 90', '18 95', '18 99', '18 beautiful', '18 broke', '18 cheese', '18 coming', '18 days', '18 dishes', '18 dollar', '18 food', '18 girls', '18 gratuity', '18 hard', '18 holes', '18 large', '18 lb', '18 month', '18 months', '18 pm', '18 pulled', '18 shrimp', '18 spent', '18 till', '18 years', '180', '180 degree', '180 degrees', '180 walked', '18th', '18th st', '19', '19 09', '19 53', '19 99', '19 huge', '19 minutes', '19 months', '19 think', '1900', '1900 does', '1900 lots', '1913', '1913 colored', '1928', '1928 hotel', '1929', '1929 emulate', '1930s', '1930s spend', '1940', '1940 employees', '1952', '1952 considered', '1955', '1955 high', '1956', '1956 renovated', '1960', '1960 american', '1961', '1961 having', '1969', '1969 pontiac', '1970', '1970 don', '1980', '1980 attempt', '1980 decor', '1980 dining', '1980s', '1980s desk', '1987', '1987 decor', '1990s', '1990s state', '1992', '1992 sure', '1995', '1995 remains', '1996', '1996 anymore', '1996 food', '1998', '1998 delighted', '1998 food', '1999', '1999 discharged', '1999 impressed', '19th', '19th ave', '1cent', '1cent event', '1k', '1k won', '1p', '1p cost', '1pm', '1pm lines', '1pm wednesday', '1st', '1st birthday', '1st class', '1st clue', '1st disappointment', '1st live', '1st mistake', '1st review', '1st time', '1st training', '1st visit', '20', '20 00', '20 25', '20 30', '20 ambience', '20 baked', '20 bar', '20 barber', '20 bottle', '20 bruschetta', '20 bucks', '20 called', '20 cashier', '20 cheap', '20 clean', '20 deal', '20 deals', '20 definitely', '20 didn', '20 different', '20 dinner', '20 discount', '20 dollars', '20 early', '20 enjoyed', '20 eyebrow', '20 fibbertygibbet', '20 friends', '20 ground', '20 happy', '20 http', '20 items', '20 lived', '20 lunch', '20 major', '20 martinis', '20 mbps', '20 merely', '20 mile', '20 miles', '20 min', '20 mins', '20 minute', '20 minutes', '20 people', '20 person', '20 place', '20 pm', '20 points', '20 pounds', '20 really', '20 steve', '20 tables', '20 tacos', '20 taken', '20 think', '20 times', '20 unedible', '20 veal', '20 wife', '20 worth', '20 year', '20 years', '20 yelp', '200', '200 charitable', '200 cheaper', '200 closest', '200 couple', '200 details', '200 different', '200 dollars', '200 drinks', '200 entire', '200 flannel', '200 glad', '200 guests', '200 moved', '2002', '2002 finally', '2002 worked', '2003', '2003 iraq', '2003 went', '2004', '2004 known', '2005', '2005 01', '2005 wise', '2006', '2006 came', '2006 g37', '2006 great', '2007', '2007 let', '2008', '2008 don', '2008 just', '2008 old', '2008 tried', '2009', '2009 forgotten', '2009 knew', '2009 recently', '2009 trainers', '200lbs', '200lbs satisfied', '2010', '2010 ate', '2010 chris', '2010 fish', '2010 fix', '2010 love', '2010 purchased', '2010 santisi', '2010 think', '2010 valley', '2010 ventured', '2011', '2011 date', '2011 service', '2011 stanley', '2012', '2012 angry', '2012 celebrate', '2012 portland', '2012 reading', '2012 surprise', '2012 thank', '2012 walked', '202', '202 opposite', '20mbs', '20mbs furthermore', '20miles', '20miles nearest', '20min', '20min 45min', '20min loft', '20pm', '20pm ordered', '20s', '20s patio', '20th', '20th century', '20th st', '20th street', '20x', '20x better', '21', '21 00', '21 11', '21 12', '21 absolutely', '21 appealing', '21 clubs', '21 courses', '21 disappointed', '21 fun', '21 location', '21 locations', '21 minutes', '21 sat', '21 staff', '21 store', '21 usual', '22', '22 53', '22 95', '22 large', '22 time', '22 twice', '22 worth', '220', '220 helmet', '2240', '2240 scottsdale', '22oz', '22oz ribeye', '23', '23 12', '23 bottle', '23 hat', '23 includes', '23 minutes', '24', '24 arizona', '24 bliss', '24 clear', '24 hour', '24 hours', '24 hr', '24 hrs', '24 old', '24 oz', '24 rancid', '24 sprite', '24 years', '24hrs', '24hrs drive', '24st', '24st camelback', '24th', '24th 2008', '24th camelback', '24th small', '25', '25 00', '25 15', '25 40', '25 60', '25 ask', '25 bag', '25 beers', '25 bucks', '25 calories', '25 cents', '25 coupon', '25 dollars', '25 foods', '25 friday', '25 gf', '25 goes', '25 hanede', '25 hours', '25 instant', '25 like', '25 mail', '25 massive', '25 minutes', '25 new', '25 people', '25 percent', '25 person', '25 plate', '25 pm', '25 pool', '25 price', '25 printers', '25 sale', '25 savings', '25 scallop', '25 score', '25 selection', '25 served', '25 simple', '25 sodas', '25 store', '25 technicians', '25 ticket', '25 times', '25 worst', '25 wrong', '25 years', '250', '250 highly', '250 instead', '250 lot', '250 pet', '25b', '25b coffee', '25min', '25min left', '25th', '25th street', '26', '26 12', '26 chicken', '26 tax', '26 times', '26 years', '260', '260 unit', '2600', '2600 climb', '2608', '2608 feet', '2669', '26th', '26th line', '26th portion', '26th visiting', '27', '27 12', '272', '272 43', '28', '28 high', '28 ordered', '28 total', '28 years', '29', '29 95', '29 98', '29 99', '29th', '29th july', '2am', '2am bar', '2am changed', '2am haney', '2am hesistant', '2am moes', '2am unseen', '2am wouldn', '2mbps', '2mbps dslreports', '2nd', '2nd 1cent', '2nd baby', '2nd breakfast', '2nd clue', '2nd floor', '2nd mistake', '2nd rate', '2nd sub', '2nd tech', '2nd time', '2pm', '2pm 6pm', '2pm hell', '2pm horrible', '2pm stores', '2pm sunday', '2rd', '2rd level', '2wice', '2wice puts', '2x', '2x moving', '30', '30 00', '30 35', '30 40', '30 45', '30 50', '30 added', '30 allocating', '30 amp', '30 bottles', '30 boyfriend', '30 bucks', '30 called', '30 cents', '30 cheap', '30 coffee', '30 credit', '30 definitely', '30 dollar', '30 dollars', '30 dr', '30 earlier', '30 excluding', '30 extra', '30 fed', '30 feel', '30 fit', '30 food', '30 fortunate', '30 kick', '30 later', '30 ll', '30 lunch', '30 make', '30 miles', '30 min', '30 mins', '30 minute', '30 minutes', '30 night', '30 older', '30 party', '30 pay', '30 person', '30 piece', '30 pm', '30 products', '30 schedule', '30 score', '30 seated', '30 sec', '30 seperate', '30 sunday', '30 surprised', '30 time', '30 times', '30 tried', '30 waited', '30 wednesday', '30 weren', '30 words', '30 years', '30 yr', '30 yrs', '300', '300 degree', '300 poorer', '300 thank', '3000', '3000 contacted', '30am', '30am 12pm', '30am appt', '30p', '30p great', '30p waited', '30pm', '30pm pita', '30pm saturday', '30pm starters', '30pm starts', '30pm tuesday', '30th', '30th ave', '30th birthday', '31', '31 10', '311', '311 peak', '312', '312 2669', '32', '32 00', '32 choice', '32 crap', '32 favorite', '32 great', '32 high', '32 night', '32 return', '32 staff', '32 tvs', '32 wins', '33', '33 minutes', '33rd', '33rd anniversary', '33rd ave', '34', '34 000', '34 99', '34 crab', '34th', '34th street', '35', '35 40', '35 course', '35 different', '35 good', '35 initially', '35 min', '35 minutes', '35 recommend', '35 residents', '35 split', '350ib', '350ib eat', '35c', '35c ounce', '35th', '35th ave', '35th avenue', '35th thunderbird', '36', '36 parking', '37', '37 person', '370', '370 7th', '38', '38 asked', '38 years', '38th', '38th nan', '39', '39 00', '39 bucks', '3am', '3am asked', '3am bust', '3am night', '3am run', '3am try', '3d', '3d imax', '3g', '3g bad', '3g kept', '3k', '3k short', '3lbs', '3lbs sour', '3n9u549zse8up', '3n9u549zse8up mwkzajaq', '3p', '3p 6p', '3p schedule', '3pm', '3pm 6pm', '3pm got', '3pm met', '3pm saturday', '3pm wasn', '3rd', '3rd 2012', '3rd 4th', '3rd clue', '3rd floor', '3rd kind', '3rd party', '3rd street', '3rd time', '3rd wife', '3x', '3x price', '3x year', '40', '40 50', '40 bucks', '40 cab', '40 cancel', '40 cent', '40 coupon', '40 days', '40 degrees', '40 diagnostic', '40 dollars', '40 effing', '40 entree', '40 feet', '40 fucking', '40 golf', '40 got', '40 ish', '40 lbs', '40 left', '40 mac', '40 max', '40 min', '40 mins', '40 minute', '40 minutes', '40 mom', '40 music', '40 people', '40 pounds', '40 rack', '40 sale', '40 seats', '40 service', '40 time', '40 times', '40 understand', '40 wet', '40 year', '40 years', '400', '400 bottle', '400 miles', '400 total', '4000', '4000 know', '40lm', '40lm compatible', '40min', '40min way', '40th', '40th care', '41', '41 dodgers', '411', '411 level', '4113416766', '4113416766 anyways', '42', '42 intrigued', '42 time', '420', '420 000', '43', '43 favorite', '43 make', '43 tip', '44', '44 hot', '4458', '4458 cell', '44th', '44th st', '44th street', '45', '45 agree', '45 bargain', '45 bucks', '45 cents', '45 friday', '45 hair', '45 hand', '45 min', '45 mins', '45 minute', '45 minutes', '45 mn', '45 plus', '45 pm', '45 tampa', '453990', '453990 ref', '45min', '45min booth', '45min ended', '45min wait', '45pm', '45pm jump', '46', '46 horrible', '475', '475 calories', '48', '48 hours', '480', '480 312', '480 490', '48th', '48th baseline', '48th street', '49', '49 bad', '49 bit', '49 butter', '49 http', '49 lb', '49 minute', '49 poorly', '49 say', '490', '4b', '4b looved', '4hr', '4hr flight', '4pm', '4pm 7pm', '4pm day', '4pm hand', '4pm info', '4pm love', '4pm moved', '4pm return', '4pm sunday', '4th', '4th course', '4th final', '4th floor', '4th july', '4th time', '50', '50 00', '50 000', '50 21', '50 25', '50 60', '50 70', '50 75', '50 80', '50 added', '50 allowed', '50 arrives', '50 az', '50 beans', '50 blouses', '50 bottle', '50 bowl', '50 bucks', '50 bun', '50 calories', '50 captain', '50 cashier', '50 cent', '50 cents', '50 dates', '50 discount', '50 drink', '50 drinks', '50 ea', '50 entrees', '50 example', '50 fact', '50 fantastic', '50 feet', '50 filling', '50 huge', '50 hummus', '50 ish', '50 kind', '50 large', '50 lbs', '50 little', '50 make', '50 mark', '50 meal', '50 meatballs', '50 mentioned', '50 miles', '50 minute', '50 minutes', '50 old', '50 option', '50 pay', '50 people', '50 perfect', '50 petite', '50 pieces', '50 pm', '50 pop', '50 pristine', '50 probably', '50 realized', '50 sake', '50 sale', '50 showed', '50 style', '50 taco', '50 tall', '50 times', '50 truffled', '50 try', '50 udon', '50 upcharge', '50 updated', '50 used', '50 wow', '500', '500 00', '500 couldn', '500 degree', '500 friendly', '500 kids', '500 miles', '500 questions', '500 replace', '500 worth', '500 yards', '50cents', '50cents coffee', '50lm', '50lm 129', '50s', '50s hopefully', '51', '51 10', '51 ave', '51 years', '51pm', '51pm young', '52', '52 black', '5231', '5231 north', '53', '53 00', '53 dinner', '53 peanut', '53pm', '53pm tonight', '54', '54 70', '54 comes', '54 pm', '55', '55 cents', '55 charming', '55 gallon', '55 rounding', '55 year', '55 years', '56', '56 happy', '56 make', '57', '57 sauce', '59', '59 95', '59th', '59th minute', '5k', '5k walk', '5min', '5min later', '5p', '5p beat', '5pm', '5pm couple', '5pm delivery', '5pm short', '5stars', '5stars delicious', '5th', '5th birthday', '5th bottle', '5th covered', '5th degree', '5th largest', '5th star', '5th time', '5th wine', '60', '60 100', '60 80', '60 bucks', '60 cars', '60 claims', '60 got', '60 great', '60 group', '60 hurry', '60 husband', '60 left', '60 loose', '60 minutes', '60 picked', '60 scottsdale', '60 sounds', '60 staff', '60 times', '600', '600 miles', '600 priced', '602', '61', '61 including', '61st', '61st birthday', '62010', '623', '623 977', '623 adams', '63', '63 banker', '64', '64 loved', '64 month', '64th', '64th st', '65', '65 cent', '65 charge', '65 degrees', '65 happy', '65 issue', '65 outside', '65 person', '65 picture', '65 prefer', '66', '66 roadside', '67', '67 000', '68', '68 really', '68 spent', '680', '69', '69 grocery', '69 included', '6am', '6am asses', '6p', '6p 9p', '6pm', '6pm come', '6pm everyday', '6pm half', '6pm introductions', '6pm park', '6pm place', '6pm prices', '6th', '6th gm', '70', '70 cents', '70 disappoints', '70 door', '70 gotta', '70 kidding', '70 lb', '70 minutes', '70 personally', '70 street', '70 usually', '700', '700 13', '700 boots', '70s', '70s day', '70s historic', '70s time', '70s vegas', '70th', '70th 71st', '71', '71 81', '71 bag', '71st', '71st st', '75', '75 16', '75 75', '75 appetizer', '75 clothes', '75 daily', '75 large', '75 people', '75 person', '75 started', '75 students', '75 tour', '75 year', '750', '750 sq', '755891987', '755891987 html', '76', '79', '79 award', '7am', '7am 11am', '7am 6pm', '7am 9pm', '7am let', '7pm', '7pm place', '7pm smells', '7pm sun', '7pm went', '7th', '7th 38th', '7th ave', '7th avenue', '7th graders', '7th great', '7th street', '80', '80 20', '80 cents', '80 clothes', '80 customers', '80 dealership', '80 degree', '80 degrees', '80 guests', '80 http', '80 husband', '80 markdown', '80 oh', '80 people', '80 style', '80 weekend', '800', '800 people', '800 problem', '8000hp', '8000hp cars', '80s', '80s blonde', '80s decor', '80s stuff', '80s style', '81', '81 picked', '83', '83 terrific', '832', '832 raised', '83rd', '83rd avenue', '85', '85 lbs', '85 month', '85 tooth', '85 year', '85154658', '86', '86 noodle', '88', '88 calories', '88 chic', '88 enormous', '88 great', '88 sandwich', '88 view', '89', '89 reasonable', '8am', '8am day', '8am saturday', '8am tempe', '8pm', '8pm 10pm', '8pm nice', '8pm ordered', '8pm week', '8pm yes', '8th', '8th anniversary', '8th grade', '8th sandwich', '8v', '8v cyl', '8yo', '8yo sat', '90', '90 35', '90 alcohol', '90 called', '90 days', '90 dvds', '90 game', '90 giving', '90 late', '90 mins', '90 minute', '90 minutes', '90 sec', '90 secs', '90 year', '90s', '90s frat', '90s superb', '90s valley', '91', '91 did', '91 worth', '91 yr', '911', '911 point', '911 quickly', '945am', '945am sunday', '95', '95 95', '95 cents', '95 couldn', '95 excellent', '95 given', '95 indulged', '95 jerk', '95 just', '95 lb', '95 lesser', '95 lunch', '95 macarons', '95 moldy', '95 opted', '95 oz', '95 quality', '95 reviews', '95 sampler', '95 sandwich', '95 time', '95 ultimate', '95 various', '95 wool', '96', '96 tip', '977', '977 4458', '98', '98 attended', '98 sandwiches', '98 south', '98 vw', '99', '99 150', '99 24', '99 appetizer', '99 based', '99 cents', '99 chinese', '99 come', '99 deg', '99 descretely', '99 extra', '99 figured', '99 good', '99 hot', '99 inflation', '99 instead', '99 lb', '99 look', '99 lunch', '99 margaritas', '99 movie', '99 pain', '99 piece', '99 pound', '99 ranch', '99 really', '99 rest', '99 stayed', '99 tag', '99 think', '99 time', '99 trader', '99 week', '99 worth', '9999', '9999 bianco', '99cent', '99cent happy', '9oz', '9oz glass', '9p', '9p 11p', '9pm', '9pm sun', '9pm sundays', '9year', '9year old', '9yo', '9yo japanese', '______', '______ ordered', '_______________', '_______________ update', '_c', '_gyib8ea4hdfylss17zc_g', '_gyib8ea4hdfylss17zc_g adventures', 'a1', 'a1 sauce', 'aa', 'aa accessories', 'aa coming', 'aa good', 'aa prices', 'aa store', 'aa supports', 'aaa', 'aaa bail', 'aaaamazing', 'aaaamazing best', 'aaammmazzing', 'aaammmazzing located', 'aaron', 'aaron artists', 'aaron aspects', 'aaron came', 'aaron come', 'aaron fantastically', 'aaron sauteed', 'aaron tattoo', 'ab', 'ab ab', 'ab repair', 'abandoned', 'abandoned really', 'abandoned rest', 'abandoning', 'abandoning affair', 'abba', 'abba zabba', 'abbreviate', 'abbreviate used', 'abbreviated', 'abbreviated requires', 'abby', 'abby raved', 'abc', 'abc cake', 'abdomen', 'abdomen thoroughly', 'abilities', 'abilities free', 'abilities happy', 'ability', 'ability burn', 'ability come', 'ability extreme', 'ability hook', 'ability induce', 'ability walk', 'able', 'able accommodate', 'able adjust', 'able afford', 'able answer', 'able appt', 'able ask', 'able best', 'able change', 'able chompie', 'able clean', 'able come', 'able complete', 'able couch', 'able decent', 'able dine', 'able drink', 'able drinks', 'able duplicate', 'able eat', 'able enjoy', 'able evening', 'able experience', 'able fairly', 'able figure', 'able fit', 'able fix', 'able fly', 'able fulfill', 'able fully', 'able gorgeous', 'able grab', 'able grooming', 'able handle', 'able hear', 'able hidden', 'able instructed', 'able jump', 'able just', 'able know', 'able leave', 'able look', 'able low', 'able make', 'able meet', 'able morning', 'able nails', 'able open', 'able order', 'able pay', 'able phoenix', 'able properly', 'able quickly', 'able rated', 'able read', 'able recover', 'able reference', 'able relax', 'able rob', 'able saddle', 'able say', 'able schedule', 'able seat', 'able seated', 'able send', 'able sit', 'able solve', 'able speak', 'able split', 'able stay', 'able stick', 'able stomach', 'able table', 'able talk', 'able taste', 'able truly', 'able try', 'able use', 'able walk', 'able walked', 'able watch', 'able wiggle', 'able work', 'abodoba', 'abodoba ordered', 'abound', 'abound typically', 'abrasion', 'abrasion tool', 'abroad', 'abroad equivalent', 'abroad italy', 'abroad terms', 'abrupt', 'abrupt end', 'abrupt flights', 'absent', 'absent waiter', 'absent yesterday', 'absinthe', 'absinthe girlfriend', 'absoloutely', 'absoloutely love', 'absolut', 'absolut wild', 'absolute', 'absolute best', 'absolute blasphemy', 'absolute crap', 'absolute doll', 'absolute favorite', 'absolute favorites', 'absolute greatness', 'absolute oasis', 'absolute perfect', 'absolute perfection', 'absolute pleasure', 'absolute worse', 'absolutely', 'absolutely adamant', 'absolutely addictive', 'absolutely adorable', 'absolutely adore', 'absolutely amazing', 'absolutely authentic', 'absolutely baffling', 'absolutely beautiful', 'absolutely best', 'absolutely blown', 'absolutely business', 'absolutely check', 'absolutely continue', 'absolutely delcious', 'absolutely delicious', 'absolutely delightful', 'absolutely disgusting', 'absolutely divine', 'absolutely does', 'absolutely enjoyed', 'absolutely fan', 'absolutely fantastic', 'absolutely favorite', 'absolutely fell', 'absolutely flavor', 'absolutely floors', 'absolutely fresh', 'absolutely getting', 'absolutely going', 'absolutely great', 'absolutely gross', 'absolutely heavenly', 'absolutely hideous', 'absolutely hilarious', 'absolutely horrendous', 'absolutely horrible', 'absolutely inedible', 'absolutely knocked', 'absolutely legit', 'absolutely lit', 'absolutely love', 'absolutely loved', 'absolutely makes', 'absolutely meal', 'absolutely mexi', 'absolutely mirrors', 'absolutely needed', 'absolutely new', 'absolutely notch', 'absolutely outstanding', 'absolutely perfect', 'absolutely pricey', 'absolutely recommend', 'absolutely ridiculous', 'absolutely sandwich', 'absolutely say', 'absolutely scrumptious', 'absolutely sensational', 'absolutely soft', 'absolutely spoiled', 'absolutely stunning', 'absolutely sublime', 'absolutely trust', 'absolutely turned', 'absolutely unbelievable', 'absolutely waste', 'absolutely wonderful', 'absolutely worst', 'absolutely worth', 'absolutley', 'absolutley love', 'absolutley worth', 'absolutly', 'absolutly loved', 'abstained', 'abstained hot', 'absurd', 'absurd did', 'absurd prices', 'absurd worst', 'abuelo', 'abuelo west', 'abundance', 'abundance cheap', 'abundance customers', 'abundance lounge', 'abundance texture', 'abundant', 'abundant blooming', 'abundant micky', 'abuse', 'abuse lives', 'abused', 'abused result', 'abusive', 'abusive situation', 'ac', 'ac blasts', 'ac broken', 'ac companies', 'ac fans', 'ac fatal', 'ac heat', 'ac unit', 'ac warm', 'ac went', 'academy', 'academy great', 'academy rough', 'acapulco', 'acapulco cheesesteak', 'accent', 'accent flavors', 'accent friendly', 'accent good', 'accented', 'accented coffee', 'accented waitress', 'accents', 'accents la', 'accept', 'accept blame', 'accept cash', 'accept credit', 'accept emergency', 'accept fact', 'accept tip', 'acceptable', 'acceptable behavior', 'acceptable customers', 'acceptable cute', 'acceptable fun', 'acceptable nice', 'accepted', 'accepted atm', 'accepted lazy', 'accepted line', 'accepted visiting', 'accepted won', 'access', 'access car', 'access great', 'access unlimited', 'accessed', 'accessed entering', 'accessible', 'accessible sincerely', 'accessories', 'accessories beautiful', 'accessories clothes', 'accessories cute', 'accessories didn', 'accessories expensive', 'accessories fab', 'accessories house', 'accessories middle', 'accessories nicer', 'accessories pretty', 'accessories really', 'accessories sizes', 'accessories staff', 'accessories type', 'accessories wedding', 'accessorize', 'accessorize vegetables', 'accessory', 'accessory buy', 'accident', 'accident great', 'accident tweeted', 'accidental', 'accidental code', 'accidentally', 'accidentally backed', 'accolades', 'accolades prove', 'accommodate', 'accommodate delicious', 'accommodate demise', 'accommodate generous', 'accommodate gently', 'accommodate large', 'accommodate offered', 'accommodate special', 'accommodate types', 'accommodated', 'accommodated minute', 'accommodated patio', 'accommodates', 'accommodates american', 'accommodates swivel', 'accommodating', 'accommodating courteous', 'accommodating definitely', 'accommodating enjoyed', 'accommodating food', 'accommodating friendly', 'accommodating goes', 'accommodating having', 'accommodating knowledgeable', 'accommodating look', 'accommodating offered', 'accommodating owner', 'accommodating probably', 'accommodating purchase', 'accommodating puts', 'accommodating sample', 'accommodating seated', 'accommodating waitress', 'accommodations', 'accommodations customer', 'accommodations delicious', 'accommodations impressive', 'accommodations property', 'accommodations service', 'accomodate', 'accomodate gluten', 'accomodating', 'accomodating attentive', 'accomodating brought', 'accomodating crazy', 'accomodating guests', 'accomodating healthy', 'accomodating highly', 'accomodating ideal', 'accomodating night', 'accomodating say', 'accomodating seared', 'accomodating yogurt', 'accompanied', 'accompanied carmel', 'accompanied did', 'accompanied kicky', 'accompanies', 'accompanies meal', 'accompaniment', 'accompaniment pho', 'accompany', 'accompany brushcetta', 'accompany costa', 'accompany couple', 'accompany meal', 'accompany salmon', 'accompany supreme', 'accompanying', 'accompanying dish', 'accompanying sauce', 'accomplish', 'accomplish ecstatic', 'accomplish haircut', 'accomplish main', 'accomplished', 'accomplished cellist', 'accomplished stop', 'accomplishment', 'accomplishment bland', 'accomplishment check', 'according', 'according azspagirls', 'according cops', 'according garmin', 'according plan', 'according professional', 'according sales', 'according staff', 'according store', 'according website', 'according woman', 'accordingly', 'accordingly don', 'accordingly try', 'account', 'account 2009', 'account big', 'account closed', 'account condition', 'account customer', 'account damage', 'account does', 'account don', 'account filed', 'account great', 'account inactivity', 'account people', 'account price', 'account process', 'account receive', 'account using', 'accounts', 'accounts way', 'accoutrement', 'accoutrement immediately', 'accredited', 'accredited college', 'accross', 'accross days', 'accurate', 'accurate assessment', 'accurate condo', 'accurate friendly', 'accurate review', 'accurately', 'accurately convey', 'accurately guessed', 'accusation', 'accusation goaz', 'accustom', 'accustom wbc', 'accustomed', 'accustomed spa', 'accustomed time', 'accutemp', 'accutemp new', 'ace', 'ace brand', 'ace partner', 'ace times', 'ace try', 'ache', 'ache don', 'ache little', 'aches', 'aches eating', 'achieve', 'achieve best', 'achieve effects', 'achievement', 'achievement meal', 'achievement trophies', 'acid', 'acid good', 'acidic', 'acidic perfect', 'acknowledge', 'acknowledge add', 'acknowledge asked', 'acknowledge embarrassing', 'acknowledge humans', 'acknowledge long', 'acknowledge presence', 'acknowledge repeat', 'acknowledge simple', 'acknowledged', 'acknowledged novel', 'acknowledged presence', 'acknowledged servers', 'acknowledged simple', 'acknowledged visit', 'acknowledgement', 'acknowledgement actually', 'acknowledging', 'acknowledging mistake', 'ackward', 'ackward adding', 'acne', 'acne jeans', 'acoustic', 'acoustic good', 'acoustic guitar', 'acoustic room', 'acoustics', 'acoustics garden', 'acoustics overall', 'acquaintance', 'acquaintance employee', 'acquaintance recommended', 'acres', 'acres main', 'acrid', 'acrid garlic', 'acrid taste', 'acrimonious', 'acrimonious answers', 'acrylics', 'acrylics friday', 'acrylics usually', 'acrylics ve', 'acrylics week', 'acrylics years', 'act', 'act area', 'act fantastic', 'act getting', 'act like', 'act little', 'act preach', 'act reopen', 'act saturday', 'acted', 'acted completely', 'acted inconvenienced', 'acted like', 'acted sick', 'acting', 'acting music', 'action', 'action committee', 'action crisscrosses', 'action lots', 'action ordered', 'action pizzas', 'action prefer', 'action warm', 'actions', 'actions cause', 'actions lack', 'actions message', 'actions reflected', 'actions taken', 'activation', 'activation place', 'active', 'active calling', 'active decided', 'active dividing', 'active dude', 'active duty', 'active emotion', 'active healthy', 'active passive', 'active restaurant', 'active supporters', 'active working', 'actively', 'actively encouraged', 'activism', 'activism esparza', 'activities', 'activities doing', 'activities included', 'activities place', 'activities scattered', 'activity', 'activity adults', 'activity came', 'activity follows', 'activity half', 'activity holidays', 'activity kids', 'activity occurred', 'activity stomach', 'actor', 'actor megan', 'actors', 'actors amazing', 'actors performers', 'actors stage', 'acts', 'acts area', 'acts burger', 'acts event', 'acts town', 'actual', 'actual barrio', 'actual benches', 'actual black', 'actual brewery', 'actual cuban', 'actual dentist', 'actual descriptions', 'actual effort', 'actual freaking', 'actual grocery', 'actual lunch', 'actual meal', 'actual mexican', 'actual peach', 'actual perks', 'actual place', 'actual popularity', 'actual removal', 'actual restaurant', 'actual sit', 'actual urinal', 'actual waiter', 'actual words', 'actually', 'actually adopted', 'actually advantage', 'actually ashamed', 'actually asian', 'actually asked', 'actually baby', 'actually bake', 'actually bedroom', 'actually best', 'actually big', 'actually biggest', 'actually bit', 'actually booked', 'actually brewed', 'actually business', 'actually buy', 'actually cafe', 'actually called', 'actually care', 'actually cared', 'actually caused', 'actually cheaper', 'actually chinese', 'actually colors', 'actually come', 'actually comes', 'actually coming', 'actually complains', 'actually coworkers', 'actually craving', 'actually cuisine', 'actually dairy', 'actually dance', 'actually decent', 'actually dined', 'actually dishwater', 'actually displayed', 'actually dream', 'actually dries', 'actually eat', 'actually eating', 'actually enjoyed', 'actually enjoying', 'actually exceeded', 'actually excited', 'actually face', 'actually fairly', 'actually feel', 'actually felt', 'actually fish', 'actually flamenco', 'actually flushes', 'actually focus', 'actually folks', 'actually fool', 'actually forgot', 'actually friendly', 'actually gag', 'actually gets', 'actually going', 'actually good', 'actually got', 'actually greet', 'actually ground', 'actually guest', 'actually guests', 'actually heaven', 'actually help', 'actually helped', 'actually helping', 'actually hot', 'actually hunt', 'actually ignored', 'actually inside', 'actually just', 'actually keeps', 'actually knew', 'actually know', 'actually knowing', 'actually knows', 'actually later', 'actually laughed', 'actually laughing', 'actually like', 'actually listen', 'actually live', 'actually lol', 'actually looking', 'actually love', 'actually loved', 'actually mahi', 'actually met', 'actually new', 'actually old', 'actually opinions', 'actually order', 'actually place', 'actually pretty', 'actually prices', 'actually pricing', 'actually pulled', 'actually quite', 'actually ran', 'actually read', 'actually real', 'actually reallly', 'actually really', 'actually reasonable', 'actually received', 'actually remember', 'actually resembled', 'actually review', 'actually sandwich', 'actually saved', 'actually saw', 'actually scheduled', 'actually scottsdale', 'actually seen', 'actually server', 'actually sheraton', 'actually site', 'actually smokes', 'actually solicits', 'actually speak', 'actually spend', 'actually starving', 'actually steak', 'actually stepped', 'actually stylish', 'actually super', 'actually taken', 'actually takes', 'actually talked', 'actually taste', 'actually tastes', 'actually test', 'actually thailand', 'actually think', 'actually thought', 'actually treat', 'actually try', 'actually twice', 'actually understandable', 'actually use', 'actually used', 'actually vegtable', 'actually visited', 'actually waited', 'actually walk', 'actually want', 'actually wcg', 'actually weeks', 'actually went', 'actually work', 'actually worked', 'actually working', 'actually yodels', 'actualy', 'actualy conversations', 'actully', 'actully tasty', 'acute', 'acute foot', 'acy', 'acy like', 'ad', 'ad anywho', 'ad like', 'ad sleep', 'adage', 'adage fees', 'adam', 'adam did', 'adam free', 'adam let', 'adam richman', 'adam richmond', 'adamant', 'adamant saying', 'adams', 'adams phoenix', 'adapter', 'adapter 3g', 'add', 'add 11', 'add 30', 'add accessories', 'add adding', 'add addition', 'add bacon', 'add bank', 'add blue', 'add boba', 'add bowl', 'add burger', 'add car', 'add carrots', 'add charm', 'add cheese', 'add chicken', 'add conveniently', 'add cookie', 'add cream', 'add dinner', 'add don', 'add edgy', 'add eegees', 'add egg', 'add eggplant', 'add experience', 'add extra', 'add family', 'add flavor', 'add food', 'add good', 'add great', 'add green', 'add gushing', 'add homefries', 'add hot', 'add huge', 'add ice', 'add insult', 'add kind', 'add kinds', 'add lanterns', 'add list', 'add little', 'add lot', 'add make', 'add meals', 'add musical', 'add mustard', 'add offer', 'add overlooking', 'add pancakes', 'add paws', 'add point', 'add preservatives', 'add pretty', 'add really', 'add respectable', 'add right', 'add said', 'add sauces', 'add shot', 'add slice', 'add soda', 'add spice', 'add spicy', 'add tax', 'add time', 'add toppings', 'add tray', 'add variety', 'add young', 'added', 'added 11', 'added additional', 'added bacon', 'added bonus', 'added broasted', 'added check', 'added classes', 'added custard', 'added delish', 'added embellishment', 'added experience', 'added extra', 'added favorite', 'added french', 'added gave', 'added glass', 'added goes', 'added greater', 'added homefries', 'added ice', 'added just', 'added kick', 'added kitchen', 'added korean', 'added list', 'added little', 'added lobster', 'added menu', 'added new', 'added option', 'added ordered', 'added peace', 'added perfect', 'added plan', 'added provolone', 'added random', 'added restaurant', 'added rotation', 'added service', 'added services', 'added shakes', 'added shredded', 'added soup', 'added stars', 'added time', 'added topping', 'added usairways', 'added utility', 'added ve', 'added warmed', 'added warmth', 'addendum', 'addendum getting', 'addict', 'addict limit', 'addicted', 'addicted angel', 'addicted bbq', 'addicted cherryblossom', 'addicted chipotle', 'addicted cleaning', 'addicted cupcakes', 'addicted good', 'addicted il', 'addicted place', 'addicted postinos', 'addicted spectacular', 'addicted wonderful', 'addicting', 'addicting beat', 'addicting hmmm', 'addictingly', 'addictingly amazing', 'addiction', 'addiction french', 'addiction overcome', 'addiction place', 'addiction starbucks', 'addiction took', 'addictionovercome', 'addictionovercome com', 'addictive', 'addictive accompany', 'addictive available', 'addictive great', 'addictive like', 'addictive new', 'addictive requires', 'addictive sandwiches', 'addictive strawberry', 'addictive thing', 'addicts', 'addicts derelicts', 'adding', 'adding amateur', 'adding avocado', 'adding bra', 'adding charging', 'adding desserts', 'adding destroy', 'adding extra', 'adding food', 'adding gratuity', 'adding great', 'adding initial', 'adding input', 'adding new', 'adding review', 'adding salt', 'adding sriracha', 'adding time', 'adding toppings', 'adding usual', 'adding vanilla', 'addition', 'addition bad', 'addition beer', 'addition black', 'addition brief', 'addition brought', 'addition electronics', 'addition emerging', 'addition energy', 'addition got', 'addition great', 'addition having', 'addition homemade', 'addition jerky', 'addition later', 'addition looking', 'addition low', 'addition party', 'addition pizza', 'addition postino', 'addition pre', 'addition pressed', 'addition pretty', 'addition promises', 'addition providing', 'addition regular', 'addition scottsdale', 'addition server', 'addition stars', 'addition sucking', 'addition table', 'addition told', 'addition tv', 'addition west', 'addition wide', 'additional', 'additional 15', 'additional 20', 'additional 25', 'additional 90', 'additional charge', 'additional fee', 'additional food', 'additional horseradish', 'additional items', 'additional notes', 'additional overflow', 'additional sample', 'additional tips', 'additionally', 'additionally offer', 'additionally ve', 'additions', 'additions refuse', 'address', 'address couple', 'address highlight', 'address http', 'address medical', 'address panda', 'address scottsdale', 'address university', 'address web', 'address website', 'addressed', 'addressed order', 'addressed smile', 'addressing', 'addressing health', 'adds', 'adds 50', 'adds charm', 'adds complete', 'adds little', 'adds new', 'adds vibe', 'adds wonderous', 'adds worth', 'ade', 'ade lemon', 'ade teas', 'adelman', 'adelman hancock', 'adequate', 'adequate atmosphere', 'adequate excuse', 'adequately', 'adequately coup', 'adios', 'adios cowboy', 'adjacent', 'adjacent bus', 'adjacent historic', 'adjacent kore', 'adjacent main', 'adjacent parking', 'adjacent popular', 'adjacent register', 'adjoining', 'adjoining fairways', 'adjoining hilton', 'adjoining rum', 'adjust', 'adjust bar', 'adjust comfortable', 'adjust spiciness', 'adjust travel', 'adjusted', 'adjusted dark', 'adjusted dr', 'adjusted second', 'adjustment', 'adjustment live', 'adjustments', 'adjustments time', 'administrative', 'administrative assistant', 'administrative fee', 'admire', 'admire arcadia', 'admission', 'admission donations', 'admission free', 'admission price', 'admit', 'admit 21', 'admit authentic', 'admit bit', 'admit buy', 'admit coffee', 'admit countered', 'admit did', 'admit eat', 'admit everytime', 'admit frequent', 'admit frequenting', 'admit generally', 'admit like', 'admit love', 'admit loved', 'admit mashed', 'admit multiple', 'admit normally', 'admit pumpkin', 'admit really', 'admit say', 'admit snapped', 'admit stubborn', 'admit thank', 'admit took', 'admit totally', 'admit usually', 'admit ve', 'admit wee', 'admits', 'admits mistake', 'admitted', 'admitted dinner', 'admittedly', 'admittedly ca', 'admittedly sausage', 'admitting', 'admitting actually', 'admitting forgetting', 'admonishment', 'admonishment rushing', 'adobada', 'adobada burrito', 'adobe', 'adobe definitely', 'adobe headed', 'adobe impressed', 'adobe regular', 'adobe unparalleled', 'adobo', 'adobo amazing', 'adobo burrito', 'adobo chicken', 'adobo pork', 'adolescence', 'adolescence cannibal', 'adopt', 'adopt humane', 'adopt new', 'adopt pets', 'adopted', 'adopted hours', 'adoption', 'adoption center', 'adoption thank', 'adoptions', 'adoptions best', 'adorable', 'adorable actually', 'adorable attentive', 'adorable fez', 'adorable friendly', 'adorable good', 'adorable hard', 'adorable highly', 'adorable little', 'adorable organic', 'adorable pair', 'adorable phenomenal', 'adorable place', 'adorable really', 'adorable summer', 'adorable thoughts', 'adorable unique', 'adorable variety', 'adore', 'adore greek', 'adore huckleberry', 'adore learned', 'adore place', 'adore restaurant', 'adore spicy', 'adore thee', 'adore veal', 'adorning', 'adorning vids', 'adovada', 'adovada delicious', 'adovada raved', 'adovada southwest', 'adquate', 'adquate disappointing', 'adrienne', 'adrienne apologized', 'adrienne came', 'ads', 'ads cover', 'ads stay', 'adult', 'adult 18', 'adult beverages', 'adult couple', 'adult crowd', 'adult gift', 'adult hot', 'adult male', 'adult vibe', 'adult waiting', 'adulthood', 'adulthood smc', 'adults', 'adults age', 'adults eat', 'adults enjoy', 'adults kids', 'adults learn', 'adults lie', 'adults need', 'adults needed', 'adults pool', 'adults prices', 'adults romantic', 'adults sebastian', 'adults showed', 'adults total', 'advance', 'advance availability', 'advance big', 'advance burgers', 'advance having', 'advance im', 'advance just', 'advance special', 'advanced', 'advanced stick', 'advancing', 'advancing old', 'advantage', 'advantage 20', 'advantage absolutely', 'advantage bleacher', 'advantage cheap', 'advantage couldn', 'advantage free', 'advantage freshly', 'advantage great', 'advantage horseback', 'advantage locals', 'advantage outdoor', 'advantage return', 'advantage reverse', 'advantage service', 'advantage situation', 'advantage spent', 'advantage white', 'advantage wrap', 'advantages', 'advantages good', 'adventure', 'adventure arrived', 'adventure begins', 'adventure burgers', 'adventure kia', 'adventure multiple', 'adventure night', 'adventure taste', 'adventure time', 'adventure took', 'adventure travel', 'adventure update', 'adventures', 'adventures phoenix', 'adventures rustler', 'adventures stores', 'adventurous', 'adventurous absolute', 'adventurous delicious', 'adventurous mind', 'adventurous palate', 'adventurous raw', 'adventurous warned', 'adverse', 'adverse people', 'adversity', 'adversity make', 'advertise', 'advertise 20', 'advertise good', 'advertise place', 'advertise rent', 'advertise tv', 'advertised', 'advertised actual', 'advertised camelback', 'advertised taquitos', 'advertisement', 'advertisement window', 'advertising', 'advertising customer', 'advertising earning', 'adverts', 'adverts place', 'advice', 'advice advice', 'advice ahem', 'advice booze', 'advice certainly', 'advice covert', 'advice don', 'advice fixing', 'advice fucking', 'advice help', 'advice issues', 'advice local', 'advice looking', 'advice make', 'advice matter', 'advice nately', 'advice ordered', 'advice owner', 'advice stay', 'advice tell', 'advice yelp', 'advise', 'advise allergy', 'advise comes', 'advise dine', 'advise menu', 'advise overall', 'advised', 'advised advance', 'advised head', 'advising', 'advising chef', 'advisor', 'advisor worried', 'advocate', 'advocate owners', 'advocated', 'advocated vehicle', 'aeg', 'aeg code', 'aerators', 'aerators cement', 'aerobic', 'aerobic classes', 'aerobics', 'aerobics classes', 'aerobics hatha', 'aeropress', 'aeropress chemex', 'aesthetically', 'aesthetically place', 'aesthetics', 'aesthetics make', 'aesthetics quaint', 'aesthetics realize', 'affair', 'affair didn', 'affair fate', 'affair finishing', 'affair palace', 'affair walked', 'affect', 'affect mood', 'affect rating', 'affected', 'affected storm', 'affects', 'affects hand', 'afficianados', 'afficianados know', 'affiliated', 'affiliated arribas', 'affiliated er', 'affiliated property', 'affiliation', 'affiliation restaurant', 'affluent', 'affluent neighborhood', 'afforadable', 'afforadable 25', 'afford', 'afford annoying', 'afford better', 'afford calories', 'afford card', 'afford come', 'afford days', 'afford dentist', 'afford eat', 'afford feed', 'afford just', 'afford meals', 'afford prime', 'afford run', 'afford sapporo', 'afford won', 'affordable', 'affordable 25', 'affordable absolutely', 'affordable ahead', 'affordable amazing', 'affordable atmosphere', 'affordable came', 'affordable checked', 'affordable date', 'affordable dining', 'affordable food', 'affordable healthy', 'affordable just', 'affordable like', 'affordable looks', 'affordable neighborhood', 'affordable piece', 'affordable place', 'affordable practical', 'affordable prices', 'affordable rates', 'affordable really', 'affordable service', 'affordable smooth', 'affordable split', 'affordable tasty', 'affordable try', 'affordable wine', 'affordable won', 'aficionado', 'aficionado lance', 'aficionado practically', 'aficionados', 'aficionados really', 'afloat', 'aforementioned', 'aforementioned hot', 'aforementioned places', 'aforementioned restaurant', 'afoul', 'afoul rule', 'afraid', 'afraid ask', 'afraid dedicated', 'afraid don', 'afraid food', 'afraid hooked', 'afraid lay', 'afraid problem', 'afraid refill', 'afraid spend', 'afraid split', 'africa', 'africa lll', 'afterall', 'afterall amazing', 'afterdark', 'afterdark mean', 'afterglow', 'afterglow punctuated', 'afternoon', 'afternoon away', 'afternoon awesome', 'afternoon bitterness', 'afternoon blown', 'afternoon cocktail', 'afternoon decided', 'afternoon don', 'afternoon drinking', 'afternoon exact', 'afternoon following', 'afternoon going', 'afternoon got', 'afternoon group', 'afternoon happy', 'afternoon heavy', 'afternoon hiking', 'afternoon looking', 'afternoon lunch', 'afternoon mani', 'afternoon matter', 'afternoon ordered', 'afternoon people', 'afternoon places', 'afternoon reading', 'afternoon returned', 'afternoon say', 'afternoon school', 'afternoon store', 'afternoon subscriber', 'afternoon took', 'afternoon ve', 'afternoon weather', 'afternoon wonderful', 'afternoons', 'afternoons nights', 'afternoons smaller', 'aftertaste', 'aftertaste serve', 'afterthought', 'afterthought best', 'afterthought think', 'afterthought unpalatable', 'afterward', 'afterward able', 'afterward boy', 'afterward paint', 'afterward patio', 'afterward really', 'afterward sunday', 'agape', 'agape pleasant', 'agave', 'agave cappuccino', 'agave goodness', 'agaves', 'age', 'age 13', 'age 17', 'age asked', 'age beer', 'age child', 'age consume', 'age does', 'age food', 'age groups', 'age hollywood', 'age hopefully', 'age limit', 'age methods', 'age online', 'age play', 'age requirement', 'age stage', 'age super', 'age wore', 'aged', 'aged men', 'aged prime', 'aged sherry', 'aged waitresses', 'aged women', 'agency', 'agency coffee', 'agency think', 'agent', 'agent helping', 'agent rebook', 'agent sands', 'agent spoke', 'agent told', 'agent ve', 'agents', 'agents single', 'agents use', 'agents utilize', 'ages', 'ages 15', 'ages 19', 'ages girls', 'ages new', 'ages past', 'aggressive', 'aggressive responses', 'aggressive server', 'aggressive treatment', 'aging', 'aging face', 'aging facial', 'aging mother', 'aging sadly', 'agitated', 'agitated friend', 'ago', 'ago 4pm', 'ago admit', 'ago amazing', 'ago ask', 'ago atmosphere', 'ago best', 'ago big', 'ago blame', 'ago bosses', 'ago bought', 'ago boy', 'ago boyfriend', 'ago bunch', 'ago business', 'ago bustling', 'ago came', 'ago care', 'ago cold', 'ago comes', 'ago complications', 'ago day', 'ago deal', 'ago decided', 'ago definitely', 'ago despite', 'ago did', 'ago didn', 'ago discovered', 'ago don', 'ago especially', 'ago experience', 'ago favorite', 'ago favorites', 'ago fellow', 'ago friday', 'ago good', 'ago got', 'ago great', 'ago grown', 'ago guy', 'ago hadn', 'ago haven', 'ago heather', 'ago honestly', 'ago hoping', 'ago husband', 'ago incompetent', 'ago install', 'ago lasted', 'ago layover', 'ago liked', 'ago line', 'ago lot', 'ago lovin', 'ago loyal', 'ago memory', 'ago mention', 'ago mentioned', 'ago menu', 'ago needed', 'ago needing', 'ago nice', 'ago nutsack', 'ago obviously', 'ago offers', 'ago opened', 'ago place', 'ago planned', 'ago preventative', 'ago purchased', 'ago quality', 'ago questions', 'ago ready', 'ago really', 'ago receiving', 'ago recently', 'ago remember', 'ago renovation', 'ago saturday', 'ago search', 'ago searching', 'ago seriously', 'ago seven', 'ago specific', 'ago started', 'ago starting', 'ago stoked', 'ago super', 'ago tell', 'ago think', 'ago thought', 'ago time', 'ago told', 'ago totally', 'ago unaware', 'ago unfortunately', 'ago utah', 'ago ve', 'ago visit', 'ago visiting', 'ago wasn', 'ago white', 'ago wish', 'ago worth', 'ago years', 'ago young', 'ago yum', 'agonizing', 'agonizing depths', 'agree', 'agree 100', 'agree assessment', 'agree az', 'agree couple', 'agree daren', 'agree demanding', 'agree don', 'agree drive', 'agree heartedly', 'agree hide', 'agree ll', 'agree love', 'agree main', 'agree place', 'agree poster', 'agree previous', 'agree price', 'agree rana', 'agree real', 'agree reviewers', 'agree said', 'agree save', 'agree single', 'agree sizzling', 'agree style', 'agree tempe', 'agree time', 'agree times', 'agree try', 'agreeable', 'agreeable experience', 'agreed', 'agreed asked', 'agreed bad', 'agreed beet', 'agreed different', 'agreed entire', 'agreed order', 'agreed place', 'agreed pull', 'agreed yummy', 'agreeing', 'agreeing asked', 'agreement', 'agreement hotel', 'agrees', 'agrees don', 'agua', 'agua fresca', 'aguas', 'aguas frescas', 'agwa', 'agwa bolivia', 'ah', 'ah beauty', 'ah favorite', 'ah ha', 'ah mazing', 'ah mystery', 'ah overall', 'ahead', 'ahead asked', 'ahead assumed', 'ahead avoid', 'ahead clock', 'ahead cutting', 'ahead decided', 'ahead dessert', 'ahead didn', 'ahead door', 'ahead earliest', 'ahead good', 'ahead just', 'ahead met', 'ahead needless', 'ahead plate', 'ahead pleasant', 'ahead request', 'ahead reservation', 'ahead said', 'ahead sat', 'ahead seating', 'ahead stopping', 'ahead time', 'ahead training', 'ahead try', 'ahead waited', 'ahem', 'ahem return', 'ahh', 'ahh mouth', 'ahhh', 'ahhh shady', 'ahhh sweet', 'ahhhh', 'ahhhh sigh', 'ahhhhh', 'ahhhhh comforts', 'ahi', 'ahi declared', 'ahi fresh', 'ahi piece', 'ahi planet', 'ahi poke', 'ahi sliders', 'ahi surpassed', 'ahi tacos', 'ahi tostadas', 'ahi tuna', 'ahold', 'ahold dude', 'ahwatukee', 'ahwatukee farmers', 'ahwatukee food', 'ahwatukee guess', 'ahwatukee high', 'ahwatukee like', 'ahwatukee little', 'ahwatukee surrounding', 'ahwatukee think', 'aid', 'aid dishes', 'aid fits', 'aid founded', 'aid guy', 'aiello', 'aiello children', 'aiello favorite', 'aiko', 'aiko chose', 'aim', 'aim food', 'aim mila', 'aimed', 'aimed home', 'aimlessly', 'aimlessly looking', 'aims', 'aims critical', 'ain', 'ain bad', 'ain endless', 'aint', 'aint salsa', 'aint seedy', 'aioli', 'aioli burger', 'aioli chain', 'aioli delicious', 'aioli dip', 'aioli grilled', 'aioli mouth', 'aioli salmons', 'aioli told', 'aiptasia', 'aiptasia bubble', 'air', 'air abrasion', 'air anymore', 'air blowing', 'air browsing', 'air circulation', 'air compressor', 'air conditioned', 'air conditioner', 'air conditioning', 'air cooled', 'air dry', 'air flavors', 'air force', 'air inquiring', 'air leak', 'air market', 'air nearly', 'air pbs', 'air real', 'air spastic', 'air temperature', 'air tire', 'air tires', 'air traffic', 'air ummm', 'airconditioned', 'airconditioned cowboy', 'airfair', 'airfair condo', 'airfare', 'airfare great', 'airfare packages', 'airline', 'airline bunch', 'airline dining', 'airline flown', 'airline glass', 'airline star', 'airline zero', 'airlines', 'airlines boy', 'airlines countless', 'airlines deserves', 'airlines earth', 'airlines nippon', 'airlines pretty', 'airlines shoot', 'airlines specializes', 'airlines ve', 'airpark', 'airpark area', 'airpark care', 'airplane', 'airplane oh', 'airport', 'airport 10', 'airport bags', 'airport convenient', 'airport favors', 'airport folks', 'airport food', 'airport good', 'airport hit', 'airport karsh', 'airport light', 'airport meals', 'airport ordered', 'airport parking', 'airport pretty', 'airport pulled', 'airport reason', 'airport restaurants', 'airport return', 'airport secured', 'airport sure', 'airport time', 'airport totally', 'airport wasnt', 'airports', 'airports regular', 'airwarys', 'airwarys flight', 'airways', 'airways arrived', 'airways delivered', 'airways fly', 'airways likes', 'airways offered', 'airways thought', 'airways way', 'airy', 'airy carbonation', 'airy crispy', 'airy fantastically', 'airy opens', 'airy outside', 'aisha', 'aisha massage', 'aisle', 'aisle grocery', 'aisles', 'aisles goodness', 'aisles honey', 'aisles register', 'aisles wide', 'aisles yes', 'aj', 'aj ask', 'aj carries', 'aj closed', 'aj delight', 'aj desserts', 'aj door', 'aj gots', 'aj home', 'aj instead', 'aj just', 'aj look', 'aj love', 'aj lucky', 'aj middle', 'aj queer', 'aj right', 'aj say', 'aj watches', 'aji', 'aji massage', 'aji rain', 'aji spa', 'ajo', 'ajo al', 'ajos', 'ajos favorite', 'ajs', 'ajs especially', 'ajs reminds', 'ajvar', 'ajvar onion', 'aka', 'aka bartender', 'aka com', 'aka couldn', 'aka margaritas', 'aka urban', 'aki', 'aki hairdresser', 'aknowledging', 'aknowledging value', 'akor', 'akor classy', 'al', 'al berto', 'al dente', 'al hana', 'al lived', 'al lthe', 'al pastor', 'al shae', 'al ve', 'ala', 'ala alice', 'ala cart', 'ala carte', 'ala hard', 'ala ocean', 'alabama', 'alabama gay', 'alain', 'alain keller', 'alameda', 'alameda visit', 'alan', 'alan sandwiches', 'alarmed', 'alarmed table', 'alas', 'alas asian', 'alas did', 'alas good', 'alas husband', 'alas lemon', 'alas menu', 'alas old', 'alas ve', 'alaskan', 'alaskan king', 'alaus', 'alaus darykla', 'albacore', 'albacore cooked', 'albacore crudo', 'albacore tuna', 'albeit', 'albeit high', 'albeit slightly', 'alber', 'alber amazing', 'alber gave', 'alber spent', 'album', 'album wait', 'albums', 'albums beirut', 'albums soundtrack', 'alcohol', 'alcohol available', 'alcohol bite', 'alcohol content', 'alcohol cool', 'alcohol did', 'alcohol don', 'alcohol doused', 'alcohol drink', 'alcohol finally', 'alcohol honestly', 'alcohol husband', 'alcohol ice', 'alcohol kept', 'alcohol make', 'alcohol poisoning', 'alcohol prices', 'alcohol slushies', 'alcohol specialty', 'alcohol ve', 'alcohol walls', 'alcoholic', 'alcoholic drinks', 'aldo', 'aldo lots', 'ale', 'ale apparently', 'ale boyfriend', 'ale chicken', 'ale kiltlifter', 'ale menu', 'ale microbrews', 'ale peaks', 'ale sonoran', 'ale tonic', 'ale yummy', 'alert', 'alert beckon', 'alert dog', 'alert doubt', 'alert ready', 'alex', 'alex friendly', 'alex helpful', 'alex special', 'alexandra', 'alexandra knowledgable', 'alfalfa', 'alfalfa sprouts', 'alfonso', 'alfonso suggested', 'alfonso waiter', 'alfred', 'alfred paid', 'alfredo', 'alfredo creme', 'alfredo dark', 'alfredo entrees', 'alfredo jar', 'alfredo just', 'alfredo loved', 'alfredo sauce', 'alfredo spices', 'alfredo veal', 'algae', 'algae bad', 'algae infested', 'algae prices', 'ali', 'ali knows', 'ali vow', 'alice', 'alice cooper', 'alice waters', 'alice wonderland', 'alicia', 'alicia worked', 'aliens', 'aliens space', 'alike', 'alike offer', 'alike ramen', 'alike waffle', 'alittle', 'alittle quality', 'alive', 'alive flies', 'alive like', 'alive living', 'alive moment', 'alive probably', 'alla', 'alla puttanesca', 'allayed', 'allayed concerns', 'alleged', 'alleged defunct', 'allegiant', 'allegiant airlines', 'allen', 'allen best', 'allende', 'allende taste', 'allergen', 'allergen knows', 'allergic', 'allergic eggs', 'allergic fragrance', 'allergic mango', 'allergic onions', 'allergic seasoning', 'allergic wheat', 'allergies', 'allergies cautious', 'allergies entree', 'allergies eye', 'allergies gluten', 'allergies place', 'allergies probably', 'allergies situation', 'allergies suffice', 'allergy', 'allergy chart', 'allergy did', 'allergy easily', 'allergy food', 'allergy shrimp', 'allergy use', 'alleviated', 'alleviated concern', 'alley', 'alley decided', 'alley offer', 'alligator', 'alligator creole', 'alligator got', 'alligator ok', 'allocating', 'allocating parking', 'allot', 'allot energy', 'alloted', 'alloted quantity', 'allotted', 'allotted time', 'allow', 'allow begin', 'allow behaved', 'allow bigger', 'allow christ', 'allow diner', 'allow entire', 'allow fly', 'allow let', 'allow like', 'allow purchase', 'allow share', 'allow staff', 'allow stars', 'allow use', 'allow zero', 'allowable', 'allowable ammo', 'allowance', 'allowance instead', 'allowed', 'allowed 15', 'allowed answered', 'allowed bites', 'allowed breathe', 'allowed buy', 'allowed enjoy', 'allowed hold', 'allowed kelly', 'allowed phil', 'allowed prepare', 'allowed sample', 'allowed say', 'allowed suspenders', 'allowed tenant', 'allowed time', 'allowed trip', 'allowed use', 'allowing', 'allowing achieve', 'allowing change', 'allowing continue', 'allowing creative', 'allowing extremely', 'allowing time', 'allows', 'allows comfortable', 'allows didn', 'allows eating', 'allows flavors', 'allows let', 'allows patrons', 'allows person', 'allows tons', 'allure', 'allure trails', 'almond', 'almond brittle', 'almond buttercrunch', 'almond champagne', 'almond chocolate', 'almond croissant', 'almond croissants', 'almond joy', 'almond milk', 'almond orange', 'almonds', 'almonds choice', 'almonds ingredients', 'almonds maybe', 'almonds mixed', 'aloe', 'aloe arizona', 'aloe vera', 'alofts', 'alofts probably', 'alofts ve', 'aloha', 'aloha hour', 'aloha kitchen', 'alongside', 'alongside barely', 'alongside orange', 'alongside smooth', 'alongside steak', 'alons', 'alons rock', 'aloo', 'aloo tikki', 'aloof', 'aloof fawning', 'alot', 'alot better', 'alot blow', 'alot cheese', 'alot cupcakes', 'alot flavor', 'alot food', 'alot good', 'alot great', 'alot mom', 'alot money', 'alot pay', 'aloud', 'aloud long', 'aloud sorry', 'alp', 'alp let', 'alright', 'alright admit', 'alright away', 'alright certainly', 'alright deal', 'alright experience', 'alright going', 'alright got', 'alright jim', 'alright like', 'alright morons', 'alright price', 'alright seriously', 'alright times', 'alright waitress', 'alright went', 'alteration', 'alteration just', 'alteration service', 'alterations', 'alterations emergency', 'alterations essential', 'alterations shoe', 'alterations week', 'altercation', 'altercation patron', 'altered', 'altered bridesmaids', 'altered work', 'altering', 'altering circumstance', 'altering drugs', 'alternately', 'alternately brown', 'alternately papaya', 'alternative', 'alternative contacts', 'alternative delicious', 'alternative favorite', 'alternative hotel', 'alternative offices', 'alternative place', 'alternative typical', 'alternatively', 'alternatives', 'alternatives area', 'alternatives pizzeria', 'altic', 'altic pa', 'aluminum', 'aluminum box', 'alway', 'alway order', 'ama', 'ama ebi', 'amaaaaazing', 'amaaaaazing restaurant', 'amaazing', 'amaazing mix', 'amados', 'amalfi', 'amalfi uncanny', 'amanda', 'amanda anyplace', 'amanda bar', 'amanda bartender', 'amanda coming', 'amanda great', 'amanda helpful', 'amanda knowledgeable', 'amanda offered', 'amanda polite', 'amanda taking', 'amaretti', 'amaretti nice', 'amaretti omg', 'amaretto', 'amaretto rocks', 'amarillo', 'amarillo season', 'amaro', 'amaro italian', 'amaro meatloaf', 'amateur', 'amateur singing', 'amaze', 'amaze food', 'amaze husband', 'amazed', 'amazed awesome', 'amazed comfortable', 'amazed couple', 'amazed execution', 'amazed food', 'amazed frankly', 'amazed industry', 'amazed lamb', 'amazed love', 'amazed movie', 'amazed truly', 'amazed value', 'amazement', 'amazement spontaneous', 'amazes', 'amazes choose', 'amazes survived', 'amazing', 'amazing 10', 'amazing 1952', 'amazing 86', 'amazing absolutely', 'amazing accommodating', 'amazing acts', 'amazing amanda', 'amazing amazing', 'amazing ambiance', 'amazing appetizer', 'amazing area', 'amazing ask', 'amazing assortment', 'amazing atmosphere', 'amazing az', 'amazing bagels', 'amazing bakery', 'amazing balcony', 'amazing basmati', 'amazing bathrooms', 'amazing beautiful', 'amazing beers', 'amazing best', 'amazing better', 'amazing bing', 'amazing birthday', 'amazing bit', 'amazing bleu', 'amazing bottled', 'amazing bought', 'amazing bread', 'amazing breakfast', 'amazing brisket', 'amazing brought', 'amazing burger', 'amazing called', 'amazing camelback', 'amazing care', 'amazing carne', 'amazing ceviche', 'amazing chamber', 'amazing cheap', 'amazing cheaper', 'amazing cheesecake', 'amazing chicken', 'amazing chocolate', 'amazing classy', 'amazing clean', 'amazing clothing', 'amazing coconut', 'amazing combination', 'amazing come', 'amazing comes', 'amazing congratulate', 'amazing cornbread', 'amazing couple', 'amazing course', 'amazing crave', 'amazing craving', 'amazing crispy', 'amazing croissants', 'amazing cuisine', 'amazing currently', 'amazing customer', 'amazing cut', 'amazing cute', 'amazing dancer', 'amazing day', 'amazing deals', 'amazing decor', 'amazing definitely', 'amazing delicious', 'amazing dentists', 'amazing desert', 'amazing dessert', 'amazing detailed', 'amazing dish', 'amazing dishes', 'amazing does', 'amazing dog', 'amazing doing', 'amazing don', 'amazing donuts', 'amazing downtown', 'amazing drinks', 'amazing duck', 'amazing easily', 'amazing easy', 'amazing eat', 'amazing employees', 'amazing enjoyed', 'amazing especially', 'amazing event', 'amazing expecting', 'amazing experience', 'amazing explained', 'amazing explaining', 'amazing fabulous', 'amazing far', 'amazing favorite', 'amazing feeling', 'amazing feta', 'amazing fiance', 'amazing fight', 'amazing fish', 'amazing flavor', 'amazing flavors', 'amazing food', 'amazing forgot', 'amazing fresh', 'amazing friendly', 'amazing fuego', 'amazing fulfilling', 'amazing furniture', 'amazing garlic', 'amazing gelato', 'amazing generally', 'amazing gets', 'amazing glad', 'amazing goat', 'amazing going', 'amazing got', 'amazing gourmet', 'amazing great', 'amazing greek', 'amazing green', 'amazing gyro', 'amazing hair', 'amazing happens', 'amazing having', 'amazing healthcare', 'amazing heart', 'amazing heartbeat', 'amazing himalayan', 'amazing hotdog', 'amazing hour', 'amazing husband', 'amazing ice', 'amazing ideas', 'amazing including', 'amazing incredibly', 'amazing informative', 'amazing ipa', 'amazing italian', 'amazing jimmy', 'amazing job', 'amazing just', 'amazing katie', 'amazing keg', 'amazing kimberly', 'amazing know', 'amazing kufta', 'amazing layered', 'amazing learn', 'amazing leave', 'amazing left', 'amazing legacy', 'amazing lettuce', 'amazing levels', 'amazing light', 'amazing like', 'amazing little', 'amazing ll', 'amazing location', 'amazing long', 'amazing looking', 'amazing love', 'amazing low', 'amazing mahi', 'amazing margaritas', 'amazing mark', 'amazing martini', 'amazing matter', 'amazing meal', 'amazing meat', 'amazing menu', 'amazing mexican', 'amazing mike', 'amazing mini', 'amazing mr', 'amazing mussels', 'amazing need', 'amazing new', 'amazing nice', 'amazing normally', 'amazing options', 'amazing ordered', 'amazing original', 'amazing outdoor', 'amazing outside', 'amazing owner', 'amazing pad', 'amazing paletas', 'amazing panang', 'amazing pasta', 'amazing perfect', 'amazing perfection', 'amazing perfectly', 'amazing pics', 'amazing piece', 'amazing piping', 'amazing pizza', 'amazing place', 'amazing play', 'amazing portion', 'amazing portions', 'amazing presentation', 'amazing pretty', 'amazing previously', 'amazing prices', 'amazing probably', 'amazing products', 'amazing promise', 'amazing purchased', 'amazing quality', 'amazing read', 'amazing real', 'amazing realize', 'amazing really', 'amazing recently', 'amazing reclining', 'amazing referred', 'amazing reliable', 'amazing rely', 'amazing remembered', 'amazing reminds', 'amazing ricotta', 'amazing right', 'amazing robert', 'amazing rocket', 'amazing romantic', 'amazing said', 'amazing sandwhich', 'amazing sandwich', 'amazing sandwiches', 'amazing sans', 'amazing sashimi', 'amazing sauce', 'amazing sauerkraut', 'amazing say', 'amazing scalloped', 'amazing scent', 'amazing second', 'amazing section', 'amazing selection', 'amazing seriously', 'amazing serve', 'amazing service', 'amazing shared', 'amazing shoes', 'amazing sister', 'amazing sizable', 'amazing smoked', 'amazing speak', 'amazing special', 'amazing speed', 'amazing split', 'amazing staff', 'amazing stayed', 'amazing steak', 'amazing sucks', 'amazing super', 'amazing taco', 'amazing taste', 'amazing tasted', 'amazing tasting', 'amazing terrible', 'amazing thai', 'amazing therapists', 'amazing thing', 'amazing things', 'amazing think', 'amazing thinking', 'amazing thought', 'amazing thrift', 'amazing time', 'amazing tofu', 'amazing told', 'amazing traditional', 'amazing treat', 'amazing tried', 'amazing true', 'amazing truly', 'amazing try', 'amazing turn', 'amazing typically', 'amazing unemployed', 'amazing varieties', 'amazing ve', 'amazing veggies', 'amazing views', 'amazing visit', 'amazing walk', 'amazing want', 'amazing wanted', 'amazing wardrobe', 'amazing week', 'amazing went', 'amazing white', 'amazing wine', 'amazing wish', 'amazing wonderful', 'amazing wood', 'amazing work', 'amazing worth', 'amazing wouldn', 'amazing wrap', 'amazing yasu', 'amazing year', 'amazing yellow', 'amazing yelp', 'amazing young', 'amazingly', 'amazingly beautiful', 'amazingly consistent', 'amazingly crisp', 'amazingly delicious', 'amazingly different', 'amazingly flexible', 'amazingly good', 'amazingly gooy', 'amazingly helpful', 'amazingly huge', 'amazingly inexpensive', 'amazingly tasty', 'amazingly unique', 'amazingness', 'amazingness comes', 'amazingness real', 'amazon', 'amazon com', 'amazon googling', 'amazon stores', 'amazzzzzzing', 'amazzzzzzing fair', 'ambassador', 'ambassador help', 'ambassador mentioned', 'amber', 'amber ale', 'amber closing', 'amber good', 'amber nachos', 'amber scrambler', 'amber scramblers', 'amber tried', 'ambiance', 'ambiance amazing', 'ambiance awesome', 'ambiance came', 'ambiance chefs', 'ambiance chic', 'ambiance christopher', 'ambiance coffee', 'ambiance contemporary', 'ambiance course', 'ambiance culture', 'ambiance dark', 'ambiance decor', 'ambiance drinks', 'ambiance elegant', 'ambiance entire', 'ambiance fancy', 'ambiance faves', 'ambiance fit', 'ambiance food', 'ambiance fun', 'ambiance great', 'ambiance incredible', 'ambiance just', 'ambiance lackluster', 'ambiance leave', 'ambiance locations', 'ambiance lot', 'ambiance macalpines', 'ambiance nailed', 'ambiance nice', 'ambiance nights', 'ambiance outside', 'ambiance place', 'ambiance pleasant', 'ambiance remains', 'ambiance restaurant', 'ambiance service', 'ambiance set', 'ambiance slightly', 'ambiance tad', 'ambiance tip', 'ambiance twinkly', 'ambiance unexpected', 'ambiance value', 'ambiance wonderful', 'ambiance wood', 'ambience', 'ambience amazing', 'ambience area', 'ambience chill', 'ambience cute', 'ambience delivery', 'ambience friendly', 'ambience place', 'ambience trust', 'ambience way', 'ambient', 'ambient music', 'ambient rhythms', 'ambient setting', 'ambrosia', 'ambrosia actually', 'ambrosia shaving', 'amc', 'amc 24', 'amc doesn', 'amc experience', 'amc just', 'amc making', 'amc management', 'amc month', 'amc movie', 'amc theater', 'amc theaters', 'amc westgate', 'amenable', 'amenable allowing', 'amendment', 'amendment wallet', 'amenities', 'amenities comfortable', 'amenities feeling', 'amenities food', 'amenities golf', 'amenities included', 'amenities locally', 'amenities pool', 'amenities relatively', 'amenities saw', 'amenities wrigley', 'america', 'america amazing', 'america card', 'america decoration', 'america did', 'america friendliest', 'america moving', 'america numerous', 'america pretty', 'america published', 'america taco', 'america test', 'america think', 'america wants', 'america wouldn', 'american', 'american airport', 'american apparel', 'american breakfast', 'american burgers', 'american cheese', 'american cheeseburger', 'american chinese', 'american comfort', 'american conservatism', 'american creation', 'american cuisine', 'american farmhouse', 'american food', 'american foods', 'american french', 'american frontiers', 'american grocery', 'american italian', 'american junkie', 'american let', 'american lunch', 'american meal', 'american parents', 'american potatoes', 'american snack', 'american southwest', 'american style', 'american tastes', 'american twist', 'american type', 'americana', 'americana route', 'americanized', 'americanized asian', 'americanized chinese', 'americanized fast', 'americanized italian', 'americanized yes', 'americano', 'americano splash', 'americano use', 'americanos', 'americanos beans', 'americanos lattes', 'americans', 'americans carry', 'americans honoring', 'americans loud', 'americans love', 'americans offended', 'americans opportunity', 'americans southwestern', 'americans think', 'ami', 'amicable', 'amicable ordered', 'amidst', 'amidst chaos', 'amidst flowers', 'amin', 'amin came', 'amin work', 'amish', 'amish french', 'amish goodness', 'amish just', 'ammo', 'ammo really', 'amomi', 'amomi spa', 'amore', 'amore authentic', 'amore awesome', 'amounted', 'amounted zilch', 'amounts', 'amounts flat', 'amounts food', 'amounts meat', 'amounts preservatives', 'amp', 'amp blade', 'amp fuse', 'amphitheatre', 'amphitheatre easily', 'ample', 'ample adjacent', 'ample appetizer', 'ample day', 'ample heat', 'ample layer', 'ample meal', 'ample outdoor', 'ample portion', 'ample portions', 'ample seating', 'ample shade', 'ample stools', 'ample time', 'ampm', 'ampm station', 'amtrack', 'amtrack ticket', 'amuse', 'amuse bouche', 'amuse sort', 'amused', 'amused just', 'amused slowly', 'amusement', 'amusement park', 'amusing', 'amusing laughed', 'amusing saw', 'amy', 'amy discussed', 'amy got', 'amy kwss', 'amy ordered', 'amy tried', 'amy visiting', 'amy wicked', 'anal', 'anal glands', 'analysis', 'analysis opinion', 'ancho', 'ancho bread', 'anchor', 'anchor gangplank', 'anchor talking', 'anchors', 'anchors like', 'anchovies', 'anchovies best', 'anchovy', 'anchovy sauce', 'andiamo', 'andiamo food', 'andouille', 'andouille gumbo', 'andouille simply', 'andrea', 'andrea chris', 'andrea lifesaver', 'andrew', 'andrew bird', 'andrew definitely', 'andrew fifth', 'andrew great', 'andrew grown', 'andrew makes', 'andrew manager', 'andrew meeting', 'andrew role', 'andy', 'andy andrew', 'andy nails', 'anecdotes', 'anecdotes actually', 'anemic', 'anemic filling', 'anesthetic', 'anesthetic days', 'anew', 'angel', 'angel investor', 'angel nurses', 'angel sweet', 'angela', 'angela come', 'angela doc', 'angela fantastic', 'angela scheduled', 'angela sweet', 'angela truffles', 'angeles', 'angeles come', 'angeles dine', 'angeles eat', 'angeles given', 'angeles just', 'angeles searching', 'angelic', 'angelic voice', 'angello', 'angello dorato', 'angels', 'angels imagery', 'anger', 'anger clothes', 'anger write', 'anglaise', 'anglaise dessert', 'angle', 'angle restaurant', 'angler', 'angler fish', 'angles', 'angles combination', 'angry', 'angry little', 'angry live', 'angry lonely', 'angry occasionally', 'angry resist', 'angry tiny', 'angry whopper', 'angst', 'angst bite', 'anibal', 'anibal stopped', 'animal', 'animal accommodations', 'animal balloons', 'animal bonding', 'animal bought', 'animal clinic', 'animal definitely', 'animal foods', 'animal friend', 'animal gave', 'animal getting', 'animal happened', 'animal hospital', 'animal rescue', 'animal section', 'animal stuff', 'animal style', 'animals', 'animals care', 'animals clean', 'animals friendly', 'animals got', 'animals just', 'animals little', 'animals maps', 'animals play', 'animals raffles', 'animals really', 'animals run', 'animals said', 'animals streets', 'animals taken', 'animals thank', 'animals thanks', 'animals treat', 'animals treated', 'animals understand', 'animals vet', 'animals walking', 'animated', 'animated clothes', 'animated pieces', 'animatronics', 'animatronics huge', 'anise', 'anise overall', 'anise star', 'aniston', 'aniston wrong', 'ankle', 'ankle painful', 'ankles', 'ankles felt', 'ankles surprised', 'ann', 'ann hillard', 'ann review', 'anne', 'anne rice', 'annie', 'annie jr', 'annihilator', 'annihilator personal', 'anniversary', 'anniversary amazing', 'anniversary cake', 'anniversary cakes', 'anniversary cease', 'anniversary congrats', 'anniversary dinner', 'anniversary employee', 'anniversary extremely', 'anniversary gotta', 'anniversary look', 'anniversary make', 'anniversary party', 'anniversary pre', 'anniversary pretty', 'anniversary say', 'anniversary seated', 'anniversary second', 'anniversary time', 'anniversary trip', 'announced', 'announced karaoke', 'annoy', 'annoy general', 'annoy hell', 'annoyance', 'annoyance cutting', 'annoyance original', 'annoyance staying', 'annoyed', 'annoyed bliss', 'annoyed got', 'annoyed point', 'annoying', 'annoying clothing', 'annoying cravings', 'annoying dentists', 'annoying eat', 'annoying food', 'annoying girls', 'annoying music', 'annoying needless', 'annoying oh', 'annoying place', 'annoying places', 'annoying plus', 'annoying remember', 'annoying scary', 'annoying scottsdale', 'annoying things', 'annoying wait', 'annoying wanting', 'annual', 'annual celebration', 'annual clearance', 'annual membership', 'annual middle', 'annual pass', 'annual sales', 'annual thanksliving', 'annual user', 'anomaly', 'anomaly phoenix', 'anonymous', 'anonymous soon', 'ans', 'ans cooked', 'ansel', 'ansel payard', 'answer', 'answer 500', 'answer calls', 'answer cindy', 'answer couple', 'answer german', 'answer got', 'answer listed', 'answer mr', 'answer oh', 'answer order', 'answer pecan', 'answer phone', 'answer question', 'answer questions', 'answer single', 'answer straightforward', 'answer yes', 'answered', 'answered cell', 'answered dealt', 'answered dr', 'answered girl', 'answered phone', 'answered questions', 'answered said', 'answered turns', 'answering', 'answering machine', 'answering questions', 'answers', 'answers called', 'answers granted', 'answers phone', 'answers promptly', 'answers questions', 'answers sat', 'ant', 'ant kind', 'anthem', 'anthem check', 'anthem free', 'anthem little', 'anthem week', 'anthony', 'anthony best', 'anti', 'anti aging', 'anti pasta', 'anti social', 'anti virus', 'anticipate', 'anticipate returning', 'anticipate shins', 'anticipate wait', 'anticipated', 'anticipated price', 'anticipated standout', 'anticipating', 'anticipating bus', 'anticipation', 'anticipation bar', 'antipasti', 'antipasti glad', 'antipasti great', 'antipasti mesh', 'antipasti plate', 'antipasti played', 'antipasti range', 'antipasti yes', 'antipasto', 'antipasto rosa', 'antipasto salad', 'antipasto sliced', 'antique', 'antique food', 'antique train', 'antiques', 'antiques linen', 'antiques roadshow', 'antiquing', 'antiquing 7th', 'antiseptic', 'antiseptic infected', 'antithesis', 'antithesis glamorous', 'antler', 'antler chandeliers', 'antonio', 'antonio missed', 'antono', 'antono ego', 'ants', 'ants staff', 'anxiety', 'anxiety feeling', 'anxious', 'anxious patients', 'anxious return', 'anxious set', 'anxious uncomfortable', 'anxious walk', 'anxiously', 'anxiously waited', 'anybody', 'anybody comfortable', 'anybody looking', 'anybody tells', 'anyday', 'anyday place', 'anyday staff', 'anyhoo', 'anyhoo does', 'anymore', 'anymore developed', 'anymore double', 'anymore drinks', 'anymore eat', 'anymore expect', 'anymore explained', 'anymore forward', 'anymore fun', 'anymore gone', 'anymore great', 'anymore hair', 'anymore haven', 'anymore literally', 'anymore live', 'anymore luckily', 'anymore manager', 'anymore place', 'anymore problems', 'anymore promised', 'anymore puts', 'anymore right', 'anymore started', 'anymore stopped', 'anymore sweet', 'anymore thanks', 'anymore think', 'anymore went', 'anyplace', 'anyplace serves', 'anythings', 'anythings good', 'anytime', 'anytime advice', 'anytime craving', 'anytime near', 'anytime noon', 'anytime prorate', 'anytime soon', 'anytime think', 'anytime want', 'anyways', 'anyways adore', 'anyways debating', 'anyways don', 'anyways fabulous', 'anyways flat', 'anyways good', 'anyways listens', 'anyways menu', 'anyways period', 'anyways reason', 'anyways right', 'anyways showed', 'anyways sourdough', 'anyways surprised', 'anyways sushi', 'anyways toast', 'anyways took', 'anyways yay', 'anywho', 'anywho pulled', 'ao', 'ao sen', 'ap', 'ap chao', 'apache', 'apache amazing', 'apache trail', 'apart', 'apart brought', 'apart doesn', 'apart effort', 'apart greasy', 'apart handed', 'apart helping', 'apart immediately', 'apart impostors', 'apart just', 'apart plus', 'apart scrambler', 'apart service', 'apart took', 'apart tvs', 'apart wasn', 'apart yankin', 'apartment', 'apartment complex', 'apartment keys', 'apartment leasing', 'apartment living', 'apartment neighbors', 'apartment passed', 'apartment responsible', 'apartment restaurant', 'apartment staff', 'apartment sure', 'apartment walk', 'apartments', 'apartments dogs', 'apartments insulation', 'apartments year', 'ape', 'ape say', 'apiece', 'apiece 20', 'apologetic', 'apologetic aside', 'apologetically', 'apologetically agreed', 'apologists', 'apologists finger', 'apologize', 'apologize creative', 'apologize gone', 'apologize inconvenice', 'apologize offer', 'apologize sampling', 'apologize wait', 'apologized', 'apologized 50', 'apologized brought', 'apologized comped', 'apologized customers', 'apologized did', 'apologized doesn', 'apologized gave', 'apologized hurting', 'apologized husband', 'apologized immediately', 'apologized keeping', 'apologized proceeded', 'apologized profusely', 'apologized right', 'apologized said', 'apologized sent', 'apologized tried', 'apologized trouble', 'apologized umpteen', 'apologized unusually', 'apologized wait', 'apologizes', 'apologizes profusely', 'apologizing', 'apologizing just', 'apologizing offering', 'apologizing telephone', 'apology', 'apology accepted', 'apology admitting', 'apology glass', 'apology happened', 'apology kidding', 'apology letter', 'apology manager', 'apology moldy', 'apology really', 'apology saying', 'apology sorry', 'apology stops', 'apology weren', 'apostles', 'apostles letters', 'apothecary', 'apothecary cabinet', 'apothic', 'apothic red', 'app', 'app deals', 'app delicious', 'app dessert', 'app excellent', 'app girl', 'app great', 'app large', 'app order', 'app outstanding', 'app phone', 'app quite', 'app sandwich', 'app service', 'app split', 'appalachians', 'appalachians delicious', 'appaled', 'appaled endeavor', 'appalled', 'appalled point', 'appalled took', 'appalling', 'appalling doors', 'apparantly', 'apparantly ac', 'apparel', 'apparel briefs', 'apparel returning', 'apparent', 'apparent attention', 'apparent step', 'apparently', 'apparently advantage', 'apparently affects', 'apparently amazing', 'apparently better', 'apparently canidae', 'apparently checking', 'apparently constitute', 'apparently contained', 'apparently couldn', 'apparently customers', 'apparently delicious', 'apparently did', 'apparently didn', 'apparently eat', 'apparently fellow', 'apparently gm', 'apparently good', 'apparently hipster', 'apparently interrupted', 'apparently main', 'apparently means', 'apparently meant', 'apparently napkins', 'apparently needs', 'apparently noticed', 'apparently order', 'apparently presentation', 'apparently refuse', 'apparently richardson', 'apparently sell', 'apparently serve', 'apparently therapist', 'apparently time', 'apparently understaffed', 'apparently wasn', 'apparently way', 'appauling', 'appauling disgusting', 'appeal', 'appeal acne', 'appeal coworkers', 'appeal wide', 'appealed', 'appealed low', 'appealing', 'appealing bit', 'appealing chemical', 'appealing eyes', 'appealing fondant', 'appealing high', 'appealing inviting', 'appealing ll', 'appealing look', 'appealing nicer', 'appealing silver', 'appealing taste', 'appeals', 'appeals husband', 'appeals place', 'appear', 'appear allowable', 'appear ask', 'appear az', 'appear case', 'appear changed', 'appear filled', 'appear highly', 'appear mirror', 'appear really', 'appear surprise', 'appearance', 'appearance half', 'appearance location', 'appearance place', 'appearance restaurant', 'appearance tasty', 'appearances', 'appearances coupling', 'appearances fool', 'appeared', 'appeared approached', 'appeared fried', 'appeared good', 'appeared homemade', 'appeared long', 'appeared manager', 'appeared owned', 'appears', 'appears converted', 'appears did', 'appears employees', 'appears escaped', 'appears gives', 'appears labeling', 'appears little', 'appears maybe', 'appears need', 'appears particularly', 'appears plenty', 'appears priority', 'appears street', 'appears tell', 'appears traditional', 'appears tray', 'appears wine', 'appeasing', 'appeasing spirits', 'appertizer', 'appertizer cold', 'appetit', 'appetit don', 'appetite', 'appetite burratta', 'appetite grilled', 'appetite likes', 'appetite longer', 'appetite margarita', 'appetito', 'appetizaer', 'appetizaer tower', 'appetizer', 'appetizer 10', 'appetizer 5th', 'appetizer actually', 'appetizer add', 'appetizer amazing', 'appetizer antipasti', 'appetizer assorted', 'appetizer assure', 'appetizer best', 'appetizer bilbo', 'appetizer bottle', 'appetizer bread', 'appetizer calimari', 'appetizer called', 'appetizer came', 'appetizer charged', 'appetizer cheese', 'appetizer consists', 'appetizer coupon', 'appetizer course', 'appetizer dad', 'appetizer daily', 'appetizer definitely', 'appetizer delish', 'appetizer different', 'appetizer dinner', 'appetizer easy', 'appetizer elote', 'appetizer ended', 'appetizer entree', 'appetizer entrees', 'appetizer entrée', 'appetizer evening', 'appetizer excellent', 'appetizer fantastic', 'appetizer fresh', 'appetizer fritto', 'appetizer glad', 'appetizer good', 'appetizer got', 'appetizer great', 'appetizer heavy', 'appetizer holy', 'appetizer house', 'appetizer just', 'appetizer lightly', 'appetizer lobster', 'appetizer looked', 'appetizer magical', 'appetizer main', 'appetizer menu', 'appetizer mild', 'appetizer mom', 'appetizer mushroom', 'appetizer ordered', 'appetizer partners', 'appetizer perfect', 'appetizer piatto', 'appetizer pics', 'appetizer place', 'appetizer planning', 'appetizer plate', 'appetizer platter', 'appetizer really', 'appetizer recently', 'appetizer reheated', 'appetizer sabzi', 'appetizer sauces', 'appetizer scottsdale', 'appetizer sea', 'appetizer sedona', 'appetizer selected', 'appetizer selection', 'appetizer served', 'appetizer share', 'appetizer shrimp', 'appetizer skimpy', 'appetizer soft', 'appetizer special', 'appetizer spectacular', 'appetizer spent', 'appetizer spicy', 'appetizer start', 'appetizer stuffed', 'appetizer talked', 'appetizer taquitos', 'appetizer taste', 'appetizer technically', 'appetizer told', 'appetizer tomato', 'appetizer unfortunately', 'appetizer waffle', 'appetizer whaat', 'appetizer wrapped', 'appetizer yakisoba', 'appetizers', 'appetizers amazing', 'appetizers asking', 'appetizers awesome', 'appetizers bacon', 'appetizers bar', 'appetizers beverages', 'appetizers buy', 'appetizers calzones', 'appetizers checked', 'appetizers cheese', 'appetizers chili', 'appetizers chips', 'appetizers cocktail', 'appetizers coworker', 'appetizers crazy', 'appetizers day', 'appetizers decided', 'appetizers definitely', 'appetizers delicious', 'appetizers dinner', 'appetizers dishes', 'appetizers dont', 'appetizers fan', 'appetizers favorite', 'appetizers finishing', 'appetizers gluten', 'appetizers good', 'appetizers house', 'appetizers immediately', 'appetizers like', 'appetizers mama', 'appetizers night', 'appetizers ordered', 'appetizers overly', 'appetizers oysters', 'appetizers pesto', 'appetizers pita', 'appetizers plan', 'appetizers pork', 'appetizers price', 'appetizers raw', 'appetizers rockin', 'appetizers salads', 'appetizers seafood', 'appetizers summer', 'appetizers switch', 'appetizers time', 'appetizers tonight', 'appetizers tried', 'appetizers waiter', 'appetizers wine', 'appetizers wonderful', 'appetizers yep', 'appetizing', 'appetizing bins', 'appetizing freaking', 'appetizing hell', 'applaud', 'applaud attempt', 'apple', 'apple arugula', 'apple brie', 'apple butter', 'apple cider', 'apple didn', 'apple fig', 'apple fitter', 'apple fritters', 'apple harvest', 'apple insulting', 'apple martini', 'apple orange', 'apple pancakes', 'apple pesto', 'apple pie', 'apple salad', 'apple salmon', 'apple slices', 'apple snow', 'apple store', 'apple stuffed', 'applebee', 'applebees', 'applebees locales', 'apples', 'apples black', 'apples brie', 'apples came', 'apples grandma', 'apples nuts', 'apples stand', 'apples strawberry', 'appletini', 'appletini answer', 'appletini lemon', 'appletinis', 'appletinis sake', 'appliances', 'appliances ask', 'appliances dishes', 'appliances home', 'applied', 'applied computing', 'applied food', 'applied pressure', 'applies', 'applies fez', 'apply', 'apply concepts', 'apply new', 'apply ve', 'applying', 'applying liquor', 'appoinmtnt', 'appoinmtnt online', 'appointed', 'appointed service', 'appointed setting', 'appointed space', 'appointment', 'appointment actually', 'appointment advance', 'appointment afternoon', 'appointment cancelled', 'appointment coffee', 'appointment downtown', 'appointment free', 'appointment gladly', 'appointment highly', 'appointment husband', 'appointment immediately', 'appointment jodi', 'appointment just', 'appointment laser', 'appointment mani', 'appointment massage', 'appointment missed', 'appointment owner', 'appointment particular', 'appointment phone', 'appointment pure', 'appointment recommend', 'appointment requested', 'appointment saturday', 'appointment scheduled', 'appointment short', 'appointment start', 'appointment started', 'appointment sweet', 'appointment tech', 'appointment time', 'appointment try', 'appointment wait', 'appointment yay', 'appointment year', 'appointments', 'appointments 3pm', 'appointments great', 'appointments plenty', 'appointments rescheduled', 'appointments sunday', 'appointments wont', 'appologized', 'appologized husband', 'appraisal', 'appraisal engagement', 'appraisal insurance', 'appraisals', 'appraisals appointment', 'appraiser', 'appraiser look', 'appreciate', 'appreciate able', 'appreciate beautiful', 'appreciate beauty', 'appreciate best', 'appreciate business', 'appreciate character', 'appreciate customers', 'appreciate drink', 'appreciate extreme', 'appreciate good', 'appreciate grocer', 'appreciate honestly', 'appreciate left', 'appreciate makes', 'appreciate maybe', 'appreciate menu', 'appreciate need', 'appreciate photographic', 'appreciate places', 'appreciate proven', 'appreciate services', 'appreciate setup', 'appreciate tempura', 'appreciate time', 'appreciate went', 'appreciated', 'appreciated cleanliness', 'appreciated despite', 'appreciated didn', 'appreciated experienced', 'appreciated fault', 'appreciated helped', 'appreciated kept', 'appreciated kudos', 'appreciated lot', 'appreciated make', 'appreciated manger', 'appreciated mcgrath', 'appreciated perfect', 'appreciated professional', 'appreciated seeing', 'appreciated service', 'appreciated takes', 'appreciates', 'appreciates enjoyed', 'appreciation', 'appreciation green', 'appreciation man', 'appreciation option', 'appreciation rolls', 'appreciation sushi', 'appreciative', 'appreciative apology', 'apprehensive', 'apprehensive couple', 'apprehensive gone', 'apprehensive normal', 'apprehensive really', 'apprehensive smell', 'appreicate', 'appreicate asian', 'approach', 'approach apology', 'approach green', 'approach menu', 'approach really', 'approach seriously', 'approach terms', 'approach trim', 'approach work', 'approachable', 'approachable best', 'approachable exciting', 'approachable reasonably', 'approached', 'approached blond', 'approached curiously', 'approached desk', 'approached dimly', 'approached essence', 'approached manager', 'approached phone', 'approached register', 'approached regular', 'approaches', 'approaches guy', 'approaching', 'approaching entrance', 'approaching manager', 'appropriate', 'appropriate ask', 'appropriate conversations', 'appropriate divine', 'appropriate fun', 'appropriate light', 'appropriate little', 'appropriate phoenix', 'appropriate recommended', 'appropriate responds', 'appropriate time', 'appropriate torta', 'appropriate utensil', 'appropriate ve', 'appropriately', 'appropriately expected', 'appropriately priced', 'appropriately understated', 'approx', 'approx hour', 'approximate', 'approximate coffee', 'approximately', 'approximately 00', 'approximately 15', 'approximately equivalent', 'approximately minutes', 'approximately times', 'apps', 'apps delicious', 'apps sandwiches', 'apps think', 'apps try', 'apps wine', 'apps wonderful', 'appt', 'appt car', 'appt going', 'appt importantly', 'appt needed', 'appt saturday', 'appt set', 'appt told', 'appys', 'appys endless', 'apricot', 'apricot chicken', 'apricot jams', 'april', 'april 10', 'april 15th', 'april 2010', 'april 2012', 'april 22', 'april enchanted', 'april wave', 'apron', 'apron buddy', 'apt', 'apt complex', 'apt following', 'aqua', 'aqua finding', 'aqua sale', 'aquarium', 'aquarium room', 'aquiring', 'aquiring new', 'ar', 'ar good', 'arabic', 'arabic bread', 'arabic type', 'arai', 'arai pastry', 'arbol', 'arbol best', 'arbol radish', 'arboreal', 'arboreal carnage', 'arborio', 'arborio rice', 'arcade', 'arcade epic', 'arcade really', 'arcadia', 'arcadia area', 'arcadia biltmore', 'arcadia families', 'arcadia farms', 'arcadia love', 'arcadia neighborhood', 'arcadia pleeeaaassse', 'arcadia room', 'arcadia sala', 'arcane', 'arcane sickest', 'arches', 'arches laura', 'architect', 'architect love', 'architecture', 'architecture lifestyle', 'architecture spirit', 'archive', 'archive dental', 'archway', 'archway friends', 'arco', 'arco sign', 'area', 'area 15', 'area 2nd', 'area actually', 'area adjacent', 'area adult', 'area apparently', 'area asian', 'area attendees', 'area bar', 'area barber', 'area barely', 'area beat', 'area benches', 'area best', 'area better', 'area big', 'area bright', 'area build', 'area building', 'area cali', 'area called', 'area cats', 'area check', 'area chili', 'area chose', 'area clean', 'area close', 'area closed', 'area code', 'area coffee', 'area companies', 'area compare', 'area compared', 'area completely', 'area congratulations', 'area content', 'area convenient', 'area couches', 'area course', 'area cup', 'area customer', 'area decent', 'area decided', 'area decorated', 'area definitely', 'area didn', 'area dined', 'area dining', 'area dirty', 'area dobson', 'area doing', 'area don', 'area drink', 'area drive', 'area driving', 'area drove', 'area dui', 'area ed', 'area enjoy', 'area enjoying', 'area entering', 'area entertaining', 'area especially', 'area event', 'area excellent', 'area express', 'area far', 'area features', 'area filled', 'area filthy', 'area food', 'area forgot', 'area frequent', 'area games', 'area gets', 'area getting', 'area going', 'area good', 'area gorgeous', 'area great', 'area hand', 'area hands', 'area harkins', 'area hasn', 'area haven', 'area head', 'area hear', 'area helped', 'area hike', 'area hit', 'area hold', 'area home', 'area huge', 'area hungry', 'area insisted', 'area instructors', 'area issue', 'area junk', 'area just', 'area kids', 'area killer', 'area know', 'area large', 'area lay', 'area like', 'area line', 'area little', 'area ll', 'area located', 'area looking', 'area looks', 'area lots', 'area make', 'area managed', 'area mandatory', 'area maybe', 'area multiple', 'area near', 'area new', 'area nice', 'area offering', 'area outstanding', 'area painted', 'area party', 'area pedicure', 'area people', 'area perfect', 'area phoenix', 'area picazzo', 'area place', 'area plagued', 'area plus', 'area point', 'area pool', 'area prefer', 'area presence', 'area prevented', 'area price', 'area probably', 'area putting', 'area quite', 'area random', 'area read', 'area ready', 'area really', 'area recommend', 'area relatively', 'area resident', 'area restaurant', 'area restaurants', 'area returned', 'area right', 'area rokerij', 'area rooms', 'area said', 'area sand', 'area scal', 'area selectioned', 'area servers', 'area service', 'area services', 'area shops', 'area significantly', 'area simply', 'area sip', 'area sit', 'area small', 'area smokin', 'area soon', 'area spoke', 'area stage', 'area steam', 'area stop', 'area stopping', 'area stumbled', 'area substandard', 'area suggest', 'area supposedly', 'area tastefully', 'area tempe', 'area thanksgiving', 'area think', 'area thirdly', 'area thought', 'area time', 'area times', 'area town', 'area transplant', 'area tried', 'area tucked', 'area tvs', 'area unfortunate', 'area ve', 'area versus', 'area volleyball', 'area wait', 'area warm', 'area warned', 'area wasn', 'area water', 'area way', 'area weekend', 'area went', 'area whooping', 'area worth', 'area wreck', 'area wrote', 'area year', 'areas', 'areas bar', 'areas baseball', 'areas beat', 'areas does', 'areas drove', 'areas end', 'areas finally', 'areas food', 'areas friday', 'areas hiking', 'areas huge', 'areas limited', 'areas members', 'areas open', 'areas ping', 'areas plus', 'areas quite', 'areas thinner', 'areas unrelated', 'areas ve', 'aren', 'aren accepted', 'aren anymore', 'aren appreciate', 'aren asian', 'aren bad', 'aren capable', 'aren careful', 'aren check', 'aren exactly', 'aren exotic', 'aren fighting', 'aren filler', 'aren financially', 'aren food', 'aren french', 'aren games', 'aren going', 'aren good', 'aren greasy', 'aren great', 'aren gym', 'aren higher', 'aren immediately', 'aren just', 'aren kidding', 'aren like', 'aren lot', 'aren makes', 'aren mood', 'aren multiple', 'aren open', 'aren polite', 'aren really', 'aren reviews', 'aren salt', 'aren seats', 'aren signs', 'aren special', 'aren spending', 'aren super', 'aren switchbacks', 'aren thing', 'aren trained', 'aren type', 'aren worth', 'arena', 'arena drive', 'arena huge', 'arena place', 'arena right', 'arena say', 'arena super', 'arent', 'arent used', 'arent weirdo', 'argentine', 'argentine po', 'argentine sandwich', 'argue', 'argue fist', 'argue just', 'argue lalibela', 'argue point', 'argue server', 'argued', 'argued bitch', 'argued customer', 'argued let', 'argued susan', 'argued wasn', 'arguing', 'arguing discussed', 'arguing finally', 'argumentative', 'argumentative just', 'argyle', 'argyle bubbly', 'ariel', 'ariel like', 'ariel new', 'ariel took', 'arigato', 'arise', 'arise thanks', 'arise work', 'arizona', 'arizona 17', 'arizona activity', 'arizona amazing', 'arizona art', 'arizona auto', 'arizona banana', 'arizona best', 'arizona burger', 'arizona burritos', 'arizona came', 'arizona caviar', 'arizona center', 'arizona charm', 'arizona chino', 'arizona chiropractic', 'arizona choices', 'arizona closing', 'arizona consists', 'arizona cooler', 'arizona couldn', 'arizona courses', 'arizona dancers', 'arizona decent', 'arizona did', 'arizona does', 'arizona doesn', 'arizona don', 'arizona downside', 'arizona entrepreneurship', 'arizona fact', 'arizona feel', 'arizona free', 'arizona gen', 'arizona hats', 'arizona heat', 'arizona homemade', 'arizona humane', 'arizona intensity', 'arizona just', 'arizona kingston', 'arizona knew', 'arizona lake', 'arizona location', 'arizona lot', 'arizona madness', 'arizona make', 'arizona memorial', 'arizona mills', 'arizona native', 'arizona note', 'arizona opera', 'arizona partial', 'arizona pbs', 'arizona peach', 'arizona pistachios', 'arizona pizza', 'arizona place', 'arizona places', 'arizona played', 'arizona pork', 'arizona portions', 'arizona proposed', 'arizona provide', 'arizona provides', 'arizona really', 'arizona recommend', 'arizona remember', 'arizona resident', 'arizona rolls', 'arizona seafood', 'arizona season', 'arizona sell', 'arizona service', 'arizona southwestern', 'arizona state', 'arizona stronghold', 'arizona sucker', 'arizona summer', 'arizona suppliers', 'arizona tasty', 'arizona thanks', 'arizona time', 'arizona try', 'arizona understand', 'arizona unrivaled', 'arizona warm', 'arizona warned', 'arizona weather', 'arizona website', 'arizona went', 'arizona wine', 'arizona winter', 'arizona years', 'arizonan', 'arizonan hopi', 'arizonans', 'arizonans unique', 'arkansas', 'arkansas 20', 'arlecchino', 'arlecchino definitely', 'arlecchino pretty', 'arm', 'arm 15', 'arm forced', 'arm leg', 'arm tell', 'armando', 'armando bros', 'armed', 'armed spoons', 'armour', 'armour manikin', 'arms', 'arms cacti', 'arms certainly', 'arms face', 'arms hands', 'arms manager', 'arms morning', 'arms quite', 'arms start', 'arms table', 'arms weren', 'army', 'army 17', 'army make', 'army started', 'army ve', 'aroma', 'aroma don', 'aroma humans', 'aroma overpowering', 'aroma pizza', 'aroma pizzas', 'aromas', 'aromas food', 'aromas simply', 'aromatic', 'aromatic literally', 'aromatics', 'aromatics vanilla', 'arousal', 'arousal described', 'arpege', 'arpege genin', 'arragont', 'arragont unflexible', 'arrange', 'arrange coincide', 'arrange special', 'arranged', 'arranged allow', 'arranged circular', 'arranged nice', 'arranged throught', 'arrangement', 'arrangement firebird', 'arrangement gorgeous', 'arrangement rachel', 'arrangements', 'arrangements accurate', 'arrangements airfair', 'arrangements bs', 'arrangements marvelous', 'arrangements said', 'arranging', 'arranging set', 'array', 'array artistically', 'array beers', 'array choices', 'array classes', 'array crazy', 'array desserts', 'array flavors', 'array food', 'array fresh', 'array munchies', 'array salads', 'array stuff', 'arrested', 'arrested underaged', 'arriba', 'arriba believe', 'arriba new', 'arriba place', 'arriba sure', 'arribas', 'arribas contacted', 'arribas eff', 'arribas hatch', 'arribas location', 'arribas thought', 'arribas uses', 'arribas went', 'arrival', 'arrival 10', 'arrival order', 'arrival outside', 'arrival server', 'arrival stayed', 'arrival told', 'arrive', 'arrive 20', 'arrive bad', 'arrive bobby', 'arrive did', 'arrive donuts', 'arrive early', 'arrive final', 'arrive gate', 'arrive happened', 'arrive like', 'arrive midnight', 'arrive moment', 'arrive ordered', 'arrive phoenix', 'arrive police', 'arrive restaurant', 'arrive round', 'arrive shortly', 'arrive sitting', 'arrive sixth', 'arrive strange', 'arrive table', 'arrived', 'arrived 00pm', 'arrived 05', 'arrived 10', 'arrived 11', 'arrived 15', 'arrived 30', 'arrived 60', 'arrived 945am', 'arrived approximately', 'arrived aromas', 'arrived brief', 'arrived center', 'arrived couldn', 'arrived departed', 'arrived dinner', 'arrived dish', 'arrived door', 'arrived fairly', 'arrived filthy', 'arrived fish', 'arrived free', 'arrived fully', 'arrived greene', 'arrived greeted', 'arrived impressed', 'arrived indicated', 'arrived just', 'arrived late', 'arrived later', 'arrived left', 'arrived look', 'arrived lucky', 'arrived maui', 'arrived meal', 'arrived minutes', 'arrived ones', 'arrived onions', 'arrived ordered', 'arrived promptly', 'arrived pronto', 'arrived quickly', 'arrived right', 'arrived sat', 'arrived scheduled', 'arrived scottsdale', 'arrived seated', 'arrived served', 'arrived shocked', 'arrived shortly', 'arrived southern', 'arrived staff', 'arrived steaming', 'arrived sun', 'arrived sunday', 'arrived table', 'arrived time', 'arrived timely', 'arrived tiny', 'arrived tiring', 'arrived took', 'arrived total', 'arrived waiter', 'arrived weekend', 'arrived weeks', 'arrived worried', 'arrived young', 'arrivederci', 'arrivederci bomb', 'arrives', 'arrives don', 'arrives huge', 'arrives looks', 'arrives shot', 'arrives slightly', 'arrives way', 'arrives wooden', 'arriving', 'arriving 30', 'arriving doors', 'arriving limos', 'arriving little', 'arriving park', 'arriving phoenix', 'arriving scene', 'arriving super', 'arriving surprisingly', 'arrogance', 'arrogance reading', 'arrogant', 'arrogant butcher', 'arrogant pushy', 'arrogant stuffy', 'arrogant truly', 'arrogant whatsosever', 'arrogant workers', 'arrowhead', 'arrowhead ranch', 'arroz', 'arroz imperial', 'art', 'art assuming', 'art bitch', 'art body', 'art bought', 'art bright', 'art chinese', 'art cities', 'art collective', 'art dear', 'art decor', 'art definitely', 'art face', 'art facility', 'art fine', 'art form', 'art grace', 'art hearts', 'art heavenly', 'art history', 'art husband', 'art labor', 'art local', 'art museum', 'art nice', 'art project', 'art showings', 'art shows', 'art smell', 'art spring', 'art sunday', 'art supplies', 'art supply', 'art teacher', 'art terrill', 'art travels', 'art vendors', 'art view', 'art walls', 'art want', 'art work', 'artesian', 'artesian breads', 'artful', 'artful kind', 'artfully', 'artfully shaved', 'artfully table', 'arthur', 'arthur season', 'artichoke', 'artichoke appetizer', 'artichoke brie', 'artichoke delicious', 'artichoke dip', 'artichoke fabulous', 'artichoke hearts', 'artichoke pesto', 'artichoke portabella', 'artichoke queso', 'artichoke salad', 'artichoke soup', 'artichoke spinach', 'artichokes', 'artichokes chicken', 'artichokes delicious', 'artichokes fingerling', 'artichokes red', 'article', 'article clover', 'article hasn', 'article paper', 'article place', 'article weeks', 'articles', 'articles artwork', 'articles clothing', 'articles discovered', 'articles nice', 'articles phone', 'articles read', 'artie', 'artie ace', 'artifacts', 'artifacts especially', 'artifacts walls', 'artificial', 'artificial buy', 'artificial coconut', 'artificial flavor', 'artificial like', 'artisan', 'artisan pizza', 'artist', 'artist extra', 'artist going', 'artist grinning', 'artist hope', 'artist long', 'artist quite', 'artist try', 'artist ve', 'artistic', 'artistic ambiance', 'artistic display', 'artistic genius', 'artistically', 'artistically arranged', 'artistry', 'artistry baristas', 'artistry kitchen', 'artists', 'artists designers', 'artists different', 'artists helps', 'artists lit', 'artists look', 'artists maybe', 'artists prefer', 'artists shop', 'artois', 'artois draft', 'artois french', 'arts', 'arts crafts', 'arts interesting', 'arts performance', 'arts previous', 'arts upset', 'artsy', 'artsy decor', 'artsy paintings', 'artsy places', 'artwork', 'artwork bite', 'artwork currently', 'artwork lasagna', 'artwork painted', 'artwork perfect', 'artwork walls', 'arugala', 'arugala nice', 'arugula', 'arugula champagne', 'arugula fig', 'arugula forgot', 'arugula olive', 'arugula radishes', 'arugula ricotta', 'arugula salads', 'asada', 'asada bean', 'asada burrito', 'asada chile', 'asada civiche', 'asada enchilada', 'asada fajita', 'asada fries', 'asada good', 'asada just', 'asada pastor', 'asada piled', 'asada place', 'asada pleasant', 'asada pollo', 'asada potatoes', 'asada pupusa', 'asada quesadilla', 'asada rubbery', 'asada sausage', 'asada shrimp', 'asada steak', 'asada street', 'asada taco', 'asada tacos', 'asada tasted', 'asada tender', 'asada torta', 'asada valley', 'asada ve', 'asado', 'asado burrito', 'asado salad', 'asado shredded', 'asado tacos', 'asado usually', 'asahi', 'asahi beer', 'asaian', 'asaian store', 'asap', 'asap dead', 'asap used', 'asasda', 'asasda taco', 'ascend', 'ascend staircase', 'ascent', 'ascent just', 'ash', 'ash went', 'ashamed', 'ashamed didn', 'ashamed leave', 'ashamed love', 'ashamedly', 'ashamedly talking', 'ashes', 'ashes single', 'ashley', 'ashley clinic', 'ashley miranda', 'ashley promise', 'ashtanga', 'ashtanga inspired', 'ashtray', 'ashtray wasn', 'asia', 'asia good', 'asiago', 'asiago dip', 'asian', 'asian actually', 'asian cafe', 'asian cooking', 'asian cuisine', 'asian culture', 'asian day', 'asian deco', 'asian decor', 'asian eggplants', 'asian experience', 'asian fare', 'asian feel', 'asian food', 'asian fusion', 'asian glaze', 'asian home', 'asian influence', 'asian knew', 'asian market', 'asian markets', 'asian meals', 'asian mexican', 'asian mushroom', 'asian people', 'asian restaurant', 'asian restaurants', 'asian sangria', 'asian slaw', 'asian spewed', 'asian spices', 'asian spring', 'asian staff', 'asian store', 'asian supermarkets', 'asian tapas', 'asian twist', 'asian wholly', 'asians', 'asians don', 'asians frequent', 'asians patrons', 'aside', 'aside big', 'aside delicious', 'aside did', 'aside fact', 'aside food', 'aside giving', 'aside highly', 'aside ketchup', 'aside macy', 'aside posted', 'aside practical', 'aside pricier', 'aside said', 'aside service', 'aside slightly', 'aside spearmint', 'aside try', 'ask', 'ask air', 'ask alex', 'ask alexandra', 'ask andy', 'ask atm', 'ask balsamic', 'ask bartender', 'ask best', 'ask better', 'ask brazilian', 'ask broth', 'ask burger', 'ask cafe', 'ask cha', 'ask charcoal', 'ask charged', 'ask chef', 'ask chris', 'ask cocktail', 'ask coffee', 'ask come', 'ask corndog', 'ask counter', 'ask cream', 'ask crispy', 'ask customer', 'ask daniel', 'ask day', 'ask delicious', 'ask did', 'ask didn', 'ask dizzy', 'ask does', 'ask dog', 'ask doing', 'ask don', 'ask drink', 'ask eating', 'ask enjoying', 'ask extra', 'ask fetch', 'ask finally', 'ask fresh', 'ask friendly', 'ask fruit', 'ask gay', 'ask going', 'ask great', 'ask grilled', 'ask guy', 'ask hakata', 'ask hats', 'ask having', 'ask highly', 'ask hoping', 'ask hot', 'ask house', 'ask icon', 'ask jen', 'ask just', 'ask kelly', 'ask kiersten', 'ask kills', 'ask kind', 'ask kitchen', 'ask knew', 'ask knock', 'ask larry', 'ask librarian', 'ask like', 'ask local', 'ask lots', 'ask love', 'ask lucky', 'ask luis', 'ask mailing', 'ask make', 'ask manager', 'ask marsha', 'ask meet', 'ask membership', 'ask mens', 'ask mexican', 'ask mom', 'ask money', 'ask mr', 'ask need', 'ask needed', 'ask new', 'ask offered', 'ask ok', 'ask onions', 'ask open', 'ask order', 'ask owns', 'ask pat', 'ask patrons', 'ask place', 'ask plates', 'ask point', 'ask preference', 'ask question', 'ask questions', 'ask ramikans', 'ask rare', 'ask ready', 'ask really', 'ask recommended', 'ask red', 'ask refill', 'ask repeat', 'ask rest', 'ask rub', 'ask said', 'ask salsa', 'ask scandinavian', 'ask scott', 'ask server', 'ask service', 'ask simply', 'ask sorry', 'ask soy', 'ask special', 'ask specific', 'ask spicy', 'ask spot', 'ask staff', 'ask surprisingly', 'ask table', 'ask taste', 'ask tawnya', 'ask tell', 'ask thanks', 'ask things', 'ask time', 'ask twice', 'ask understand', 'ask ve', 'ask visit', 'ask visiting', 'ask wait', 'ask waiter', 'ask waiting', 'ask want', 'ask water', 'ask went', 'ask work', 'ask works', 'ask wrong', 'ask wrote', 'ask yasu', 'asked', 'asked 100', 'asked advice', 'asked ahead', 'asked ama', 'asked aside', 'asked asked', 'asked available', 'asked bartender', 'asked beer', 'asked blowdry', 'asked boba', 'asked bread', 'asked brought', 'asked calm', 'asked check', 'asked chef', 'asked chocolate', 'asked clarification', 'asked class', 'asked clean', 'asked concierge', 'asked contact', 'asked cook', 'asked corrected', 'asked daniel', 'asked decided', 'asked definitely', 'asked desk', 'asked didn', 'asked dorrie', 'asked drink', 'asked ears', 'asked estimate', 'asked event', 'asked experienced', 'asked flight', 'asked food', 'asked french', 'asked fresh', 'asked gave', 'asked giardinara', 'asked girl', 'asked girls', 'asked group', 'asked hair', 'asked happy', 'asked hashbrowns', 'asked heard', 'asked help', 'asked helped', 'asked hostess', 'asked hot', 'asked hotel', 'asked hottest', 'asked indian', 'asked info', 'asked jay', 'asked jeff', 'asked just', 'asked knew', 'asked lady', 'asked lemons', 'asked like', 'asked liked', 'asked location', 'asked long', 'asked lot', 'asked make', 'asked manager', 'asked maybe', 'asked medium', 'asked memberships', 'asked mess', 'asked mind', 'asked minded', 'asked minutes', 'asked missing', 'asked mixers', 'asked models', 'asked mom', 'asked mousse', 'asked movie', 'asked needed', 'asked new', 'asked offered', 'asked oh', 'asked order', 'asked pain', 'asked patron', 'asked pay', 'asked perform', 'asked personal', 'asked pick', 'asked piece', 'asked plain', 'asked plate', 'asked preferred', 'asked press', 'asked pressure', 'asked pretzel', 'asked problem', 'asked pronounce', 'asked questions', 'asked quiet', 'asked quite', 'asked random', 'asked ready', 'asked recommendations', 'asked refill', 'asked refund', 'asked regional', 'asked remembered', 'asked replaced', 'asked restaurant', 'asked right', 'asked said', 'asked sandwich', 'asked saw', 'asked seated', 'asked separate', 'asked server', 'asked shrimp', 'asked single', 'asked sit', 'asked slightly', 'asked smoked', 'asked soon', 'asked speak', 'asked specifics', 'asked speed', 'asked spot', 'asked started', 'asked status', 'asked stay', 'asked stick', 'asked stole', 'asked stupid', 'asked suggestion', 'asked supervisors', 'asked sure', 'asked takeout', 'asked talk', 'asked teeth', 'asked things', 'asked time', 'asked times', 'asked toast', 'asked utensils', 'asked variety', 'asked vegan', 'asked vegetable', 'asked wait', 'asked waiter', 'asked waitress', 'asked want', 'asked wanted', 'asked water', 'asked weight', 'asked wine', 'asked woman', 'askin', 'askin amusing', 'asking', 'asking alright', 'asking appetizers', 'asking came', 'asking cash', 'asking certain', 'asking come', 'asking different', 'asking dinner', 'asking entering', 'asking fair', 'asking familiar', 'asking finally', 'asking food', 'asking given', 'asking good', 'asking heater', 'asking main', 'asking new', 'asking ok', 'asking order', 'asking paid', 'asking people', 'asking permission', 'asking pico', 'asking questions', 'asking recently', 'asking sandwich', 'asking send', 'asking server', 'asking shot', 'asking staffperson', 'asking takes', 'asking waitress', 'asking wanted', 'asking went', 'asks', 'asks appetizers', 'asks burrito', 'asks doing', 'asks food', 'asks haven', 'asks job', 'asks little', 'asks lot', 'asks michael', 'asks ordered', 'asks outdoor', 'asks type', 'asks ve', 'asks worst', 'asleep', 'asleep airplane', 'asleep cleaning', 'asleep royal', 'asp', 'asp http', 'asparagus', 'asparagus chanterelles', 'asparagus cooked', 'asparagus cranberry', 'asparagus definitely', 'asparagus delicate', 'asparagus die', 'asparagus espresso', 'asparagus filet', 'asparagus free', 'asparagus hollandaise', 'asparagus hollendaise', 'asparagus horrible', 'asparagus inside', 'asparagus jalapeno', 'asparagus sandwiches', 'asparagus tasted', 'aspect', 'aspect checking', 'aspect evening', 'aspect hkgb', 'aspect makes', 'aspect price', 'aspect remember', 'aspect salad', 'aspect tweets', 'aspects', 'aspects lodge', 'aspects social', 'aspire', 'aspire like', 'aspirin', 'aspirin dessert', 'aspiring', 'aspiring higher', 'aspx', 'aspx joked', 'ass', 'ass 2600', 'ass backwards', 'ass barbers', 'ass bottle', 'ass broke', 'ass burger', 'ass chips', 'ass coffee', 'ass definitely', 'ass did', 'ass feel', 'ass flour', 'ass food', 'ass glutton', 'ass just', 'ass kissing', 'ass like', 'ass mean', 'ass moreso', 'ass mutts', 'ass omelet', 'ass ordering', 'ass pieces', 'ass place', 'ass playlist', 'ass sad', 'ass studio', 'ass surprised', 'ass thank', 'ass time', 'ass wipe', 'assault', 'assault infringement', 'assaulted', 'assaulted hair', 'asserted', 'asserted middle', 'asses', 'asses gossiping', 'asses kicked', 'asses little', 'assessed', 'assessed problem', 'assessment', 'assessment dog', 'assessment hang', 'assessment really', 'assessment recently', 'asset', 'asset area', 'asset phoenix', 'assets', 'assets orchestra', 'asshat', 'asshat corndog', 'asshole', 'asshole clearly', 'assholes', 'assholes encountered', 'assholes great', 'assholes period', 'assigned', 'assigned ambassador', 'assigned fitness', 'assigned nail', 'assigned wristbands', 'assignment', 'assignment phoenix', 'assinine', 'assinine traffic', 'assistance', 'assistance busy', 'assistance community', 'assistance minutes', 'assistance small', 'assistant', 'assistant brought', 'assistant joshua', 'assistant melissa', 'assistant work', 'assisted', 'assisted choosing', 'assisted putting', 'assisted yellow', 'assoc', 'assoc friendly', 'associate', 'associate date', 'associate qualifier', 'associate taste', 'associate weird', 'associated', 'associated concerned', 'associated responsibilities', 'associated tin', 'associates', 'associates getting', 'associates meeting', 'associates think', 'associates wondering', 'association', 'association got', 'assorted', 'assorted chip', 'assorted debris', 'assorted outsourced', 'assorted pictures', 'assorted pieces', 'assorted sandwiches', 'assorted tempura', 'assortment', 'assortment accessories', 'assortment breads', 'assortment cheeses', 'assortment chocolates', 'assortment drink', 'assortment home', 'assortment italian', 'assortment items', 'assortment liquors', 'assortment people', 'assortment spirits', 'assortment sports', 'assortment tasty', 'assortment traditional', 'assume', 'assume bar', 'assume called', 'assume did', 'assume elbows', 'assume paying', 'assume recommended', 'assume rotation', 'assume truly', 'assumed', 'assumed best', 'assumed make', 'assumed naturally', 'assumed paying', 'assumed pub', 'assumed somebody', 'assumed thing', 'assumes', 'assumes tip', 'assuming', 'assuming driver', 'assuming hype', 'assuming local', 'assuming ve', 'assumption', 'assumption diner', 'assumptions', 'assumptions correct', 'assurance', 'assurance reservation', 'assure', 'assure damn', 'assure dibs', 'assure highly', 'assure place', 'assured', 'assured did', 'assured die', 'assured experience', 'assured mousse', 'assured paid', 'assured particular', 'assured sauce', 'assured yummy', 'assuredly', 'assuredly spot', 'astatically', 'astatically pleasing', 'astonished', 'astonished round', 'astonished warm', 'astonishing', 'astonishing young', 'astounded', 'astounded flavors', 'astounded rude', 'astounding', 'astounding easily', 'astounding word', 'asu', 'asu anymore', 'asu ave', 'asu bookstore', 'asu break', 'asu came', 'asu campus', 'asu edu', 'asu football', 'asu game', 'asu gym', 'asu imagine', 'asu kids', 'asu spring', 'asu students', 'asu waitresses', 'asus', 'asus campus', 'atc', 'atc giving', 'atc musical', 'ate', 'ate 24', 'ate asian', 'ate bar', 'ate bibimbap', 'ate big', 'ate birthday', 'ate bit', 'ate bolted', 'ate bug', 'ate carrot', 'ate corn', 'ate crudo', 'ate diamond', 'ate downtown', 'ate entire', 'ate ex', 'ate eyes', 'ate fast', 'ate food', 'ate garbage', 'ate grimaldi', 'ate guacamole', 'ate half', 'ate hands', 'ate hiccup', 'ate horrible', 'ate immaculate', 'ate inferior', 'ate instead', 'ate items', 'ate just', 'ate lamb', 'ate life', 'ate like', 'ate little', 'ate lounge', 'ate nibbles', 'ate night', 'ate nogales', 'ate non', 'ate notch', 'ate original', 'ate patio', 'ate pechuga', 'ate pleasant', 'ate remaining', 'ate remember', 'ate restaurants', 'ate review', 'ate sandwich', 'ate saturday', 'ate served', 'ate soo', 'ate starving', 'ate stomach', 'ate swb', 'ate thing', 'ate time', 'ate tons', 'ate trough', 'ate ugh', 'ate vacation', 'ate waitress', 'ate weekend', 'ate went', 'ate yeah', 'athelete', 'athelete tv', 'athlete', 'athlete quickly', 'athletes', 'athletes sports', 'athletica', 'athletica scottsdale', 'ation', 'ation genius', 'atl', 'atl wings', 'atlanta', 'atlanta braves', 'atlantic', 'atlantic haddock', 'atlantic northeast', 'atlantic salmon', 'atleast', 'atleast 10', 'atleast 12', 'atleast minutes', 'atleast years', 'atm', 'atm cash', 'atm curt', 'atm guy', 'atm inside', 'atm lobby', 'atm machine', 'atm office', 'atm pulled', 'atm really', 'atm surcharge', 'atm yelp', 'atmosphere', 'atmosphere 20', 'atmosphere add', 'atmosphere amazing', 'atmosphere ambiance', 'atmosphere artsy', 'atmosphere attitudes', 'atmosphere awesome', 'atmosphere beautiful', 'atmosphere better', 'atmosphere bit', 'atmosphere blue', 'atmosphere boring', 'atmosphere bread', 'atmosphere bright', 'atmosphere bruschetta', 'atmosphere buff', 'atmosphere busy', 'atmosphere casual', 'atmosphere character', 'atmosphere chill', 'atmosphere city', 'atmosphere combined', 'atmosphere come', 'atmosphere comfortable', 'atmosphere complete', 'atmosphere completely', 'atmosphere corner', 'atmosphere course', 'atmosphere cozy', 'atmosphere dark', 'atmosphere date', 'atmosphere decor', 'atmosphere definatly', 'atmosphere definitely', 'atmosphere delightful', 'atmosphere dining', 'atmosphere dish', 'atmosphere drinks', 'atmosphere entering', 'atmosphere equals', 'atmosphere excellent', 'atmosphere expect', 'atmosphere expense', 'atmosphere expensive', 'atmosphere fall', 'atmosphere fantastic', 'atmosphere favorite', 'atmosphere feel', 'atmosphere food', 'atmosphere friend', 'atmosphere friendly', 'atmosphere fun', 'atmosphere game', 'atmosphere good', 'atmosphere great', 'atmosphere greets', 'atmosphere house', 'atmosphere humble', 'atmosphere inconvenience', 'atmosphere inside', 'atmosphere interior', 'atmosphere inviting', 'atmosphere just', 'atmosphere laid', 'atmosphere lemon', 'atmosphere like', 'atmosphere listening', 'atmosphere ll', 'atmosphere location', 'atmosphere loved', 'atmosphere lucky', 'atmosphere makes', 'atmosphere menu', 'atmosphere modern', 'atmosphere music', 'atmosphere negative', 'atmosphere nice', 'atmosphere non', 'atmosphere notch', 'atmosphere ok', 'atmosphere okay', 'atmosphere originally', 'atmosphere outdoor', 'atmosphere outstanding', 'atmosphere owner', 'atmosphere patio', 'atmosphere patios', 'atmosphere pei', 'atmosphere perfect', 'atmosphere pizza', 'atmosphere place', 'atmosphere plates', 'atmosphere pleasant', 'atmosphere pleasantly', 'atmosphere plenty', 'atmosphere pretty', 'atmosphere prices', 'atmosphere professional', 'atmosphere provided', 'atmosphere quality', 'atmosphere quite', 'atmosphere really', 'atmosphere reasonable', 'atmosphere relaxed', 'atmosphere relaxing', 'atmosphere reliably', 'atmosphere reminds', 'atmosphere restaurant', 'atmosphere rocks', 'atmosphere roomy', 'atmosphere sat', 'atmosphere save', 'atmosphere send', 'atmosphere servers', 'atmosphere shopping', 'atmosphere sitting', 'atmosphere sleek', 'atmosphere slightly', 'atmosphere small', 'atmosphere snacks', 'atmosphere somewhat', 'atmosphere specialness', 'atmosphere spot', 'atmosphere staff', 'atmosphere strongly', 'atmosphere subtly', 'atmosphere suitable', 'atmosphere tacky', 'atmosphere thoroughly', 'atmosphere took', 'atmosphere unique', 'atmosphere used', 'atmosphere usually', 'atmosphere value', 'atmosphere ve', 'atmosphere walk', 'atmosphere want', 'atmosphere warm', 'atmosphere welcomed', 'atmosphere welcoming', 'atmosphere wise', 'atmosphere wonderful', 'atomic', 'atomosphere', 'atomosphere service', 'atop', 'atop glass', 'atop heaven', 'atop mound', 'atoyac', 'atoyac better', 'atri', 'atri wow', 'atrium', 'atrium unique', 'atrocious', 'atrocious inconveniencing', 'atrociously', 'atrociously long', 'attached', 'attached bloody', 'attached city', 'attached hanger', 'attached huge', 'attached restaurant', 'attached serve', 'attached talk', 'attached wild', 'attack', 'attack care', 'attack thought', 'attacked', 'attacked dog', 'attacks', 'attacks dragon', 'attain', 'attain results', 'attarct', 'attarct traffic', 'attempt', 'attempt chefing', 'attempt correct', 'attempt cost', 'attempt dine', 'attempt mexican', 'attempt money', 'attempt personally', 'attempt proverbial', 'attempt sushi', 'attempt udupai', 'attempted', 'attempted finish', 'attempted order', 'attempting', 'attempting clean', 'attempting operation', 'attempting park', 'attempting recover', 'attempting save', 'attempting walk', 'attempts', 'attempts dr', 'attempts months', 'attempts substitute', 'attend', 'attend california', 'attend class', 'attend gym', 'attend live', 'attend tables', 'attendance', 'attendance decided', 'attendance shift', 'attendant', 'attendant appears', 'attendant napping', 'attendant understand', 'attendant walking', 'attendants', 'attendants brought', 'attendants miss', 'attendants possible', 'attendants rude', 'attendants totally', 'attended', 'attended accredited', 'attended asked', 'attended brown', 'attended classes', 'attended event', 'attended friendliest', 'attended game', 'attended kindergarten', 'attended maybe', 'attended party', 'attended past', 'attended pestered', 'attended pink', 'attended restaurant', 'attended spring', 'attended table', 'attended uye', 'attendee', 'attendee spoke', 'attendees', 'attendees called', 'attending', 'attending 10', 'attending conference', 'attending events', 'attending future', 'attending months', 'attending postinos', 'attending price', 'attending simply', 'attending sporting', 'attending sunday', 'attention', 'attention alert', 'attention amazing', 'attention belittled', 'attention big', 'attention business', 'attention came', 'attention cheap', 'attention chefs', 'attention creative', 'attention definitely', 'attention details', 'attention did', 'attention didn', 'attention dr', 'attention fabulous', 'attention fact', 'attention got', 'attention hardly', 'attention heard', 'attention highly', 'attention inside', 'attention just', 'attention la', 'attention left', 'attention like', 'attention longer', 'attention lunch', 'attention make', 'attention milk', 'attention moment', 'attention munchies', 'attention notch', 'attention oh', 'attention order', 'attention people', 'attention quit', 'attention receive', 'attention servers', 'attention smooth', 'attention staff', 'attention table', 'attention time', 'attention tv', 'attention waiter', 'attention waitress', 'attention welcomed', 'attention whore', 'attention wife', 'attention wives', 'attentive', 'attentive adorable', 'attentive aggressive', 'attentive ahead', 'attentive atmosphere', 'attentive bathrooms', 'attentive check', 'attentive checked', 'attentive completely', 'attentive cool', 'attentive defiantly', 'attentive definitely', 'attentive diners', 'attentive dining', 'attentive don', 'attentive especially', 'attentive extra', 'attentive felt', 'attentive food', 'attentive friendly', 'attentive fun', 'attentive funny', 'attentive good', 'attentive great', 'attentive having', 'attentive helpful', 'attentive honestly', 'attentive hostess', 'attentive intrusive', 'attentive kept', 'attentive kitchen', 'attentive knew', 'attentive location', 'attentive love', 'attentive needs', 'attentive nice', 'attentive oriented', 'attentive owner', 'attentive patient', 'attentive pleasant', 'attentive prices', 'attentive professional', 'attentive pushy', 'attentive servers', 'attentive service', 'attentive speak', 'attentive super', 'attentive sushi', 'attentive thorough', 'attentive thoroughly', 'attentive thursday', 'attentive took', 'attest', 'attest pastor', 'attic', 'attic check', 'attire', 'attire group', 'attire moved', 'attitude', 'attitude asked', 'attitude avoid', 'attitude bar', 'attitude birthday', 'attitude children', 'attitude didn', 'attitude efficient', 'attitude employees', 'attitude excited', 'attitude finds', 'attitude fuck', 'attitude great', 'attitude haven', 'attitude lady', 'attitude making', 'attitude mediocre', 'attitude morons', 'attitude obvious', 'attitude pompous', 'attitude rare', 'attitude resolved', 'attitude response', 'attitude said', 'attitude shall', 'attitude spent', 'attitude staff', 'attitude struggling', 'attitude thinking', 'attitude upbeat', 'attitude used', 'attitude whatsoever', 'attitudes', 'attitudes filled', 'attitudes really', 'attorney', 'attorney guess', 'attorney reminded', 'attract', 'attract attention', 'attract happy', 'attract retain', 'attraction', 'attraction drew', 'attraction tuna', 'attractions', 'attractions city', 'attractions food', 'attractive', 'attractive crowd', 'attractive version', 'attracts', 'attracts hummingbirds', 'attribute', 'attribute scottsdale', 'attributes', 'attributes dj', 'atypical', 'atypical experience', 'atypical sodas', 'au', 'au gratin', 'au jus', 'au lait', 'au poivre', 'au vin', 'auctioned', 'auctioned didn', 'audacity', 'audacity include', 'audacity mad', 'audience', 'audience attention', 'audience working', 'audio', 'audio automatically', 'audio book', 'audio books', 'audio video', 'audition', 'audition anxiously', 'audition le', 'audition play', 'auditorium', 'auditorium starting', 'aug', 'aug 18', 'augments', 'augments flavor', 'august', 'august 105', 'august 3rd', 'august birthdays', 'august eaten', 'august event', 'august place', 'aunt', 'aunt birthday', 'aunt chicken', 'aunt chiladas', 'aunt greek', 'aunt nice', 'aunt thursday', 'auspices', 'auspices don', 'aussie', 'aussie shep', 'austin', 'austin howl', 'austin mom', 'austin tx', 'australia', 'australia models', 'australian', 'australian shepherd', 'authentic', 'authentic absolutely', 'authentic aguas', 'authentic asian', 'authentic bbq', 'authentic bueno', 'authentic chinese', 'authentic concentrated', 'authentic content', 'authentic cuisine', 'authentic delicious', 'authentic drinks', 'authentic eats', 'authentic eclectic', 'authentic excellent', 'authentic fare', 'authentic food', 'authentic german', 'authentic gets', 'authentic gospel', 'authentic high', 'authentic hong', 'authentic husband', 'authentic italian', 'authentic japanese', 'authentic korean', 'authentic local', 'authentic menu', 'authentic mexican', 'authentic mix', 'authentic modest', 'authentic mouth', 'authentic new', 'authentic northern', 'authentic overall', 'authentic philly', 'authentic pho', 'authentic plus', 'authentic real', 'authentic relevant', 'authentic serving', 'authentic shanghai', 'authentic staff', 'authentic street', 'authentic style', 'authentic sweet', 'authentic taste', 'authentic tea', 'authentic thai', 'authentic vietnamese', 'authentically', 'authentically cool', 'authentically friendly', 'authentically italian', 'authenticity', 'authenticity mexican', 'authenticity note', 'authenticity tastes', 'authenticly', 'authenticly cool', 'author', 'author woman', 'autismcenter', 'autismcenter org', 'autistic', 'autistic http', 'auto', 'auto body', 'auto care', 'auto picks', 'auto relayed', 'auto repair', 'auto scottsdale', 'auto shop', 'auto today', 'auto twitter', 'autographed', 'autographed items', 'autograt', 'autograt dozen', 'automatic', 'automatic doors', 'automatic given', 'automatic gratuity', 'automatically', 'automatically added', 'automatically coolant', 'automatically piece', 'automatically starts', 'automatically wondering', 'automobile', 'automobile advocated', 'automotive', 'automotive figured', 'automotive ignorance', 'automotive thanks', 'autumn', 'autumn like', 'autumn morning', 'avacado', 'avacado ended', 'avacado pizza', 'avacado tasted', 'avacado wasabi', 'avadado', 'avadado mexican', 'avail', 'avail personal', 'avail use', 'availability', 'availability different', 'availability machines', 'availability walk', 'available', 'available 30', 'available actually', 'available adjacent', 'available answer', 'available appointment', 'available asked', 'available bar', 'available buy', 'available ceiling', 'available constantly', 'available crust', 'available dandelion', 'available day', 'available door', 'available drive', 'available feeling', 'available fridge', 'available heard', 'available home', 'available just', 'available karaoke', 'available mail', 'available met', 'available month', 'available near', 'available night', 'available offer', 'available phoenician', 'available place', 'available plus', 'available purchase', 'available race', 'available ready', 'available really', 'available said', 'available sampled', 'available second', 'available served', 'available settled', 'available sizes', 'available spots', 'available stop', 'available sushi', 'available table', 'available thing', 'available times', 'available tuesdays', 'available ve', 'available vegetarian', 'available wait', 'available walk', 'available wandered', 'available wedding', 'avalanches', 'ave', 'ave apparently', 'ave avoid', 'ave bell', 'ave buckeye', 'ave entrance', 'ave glendale', 'ave got', 'ave missing', 'ave orangewood', 'ave price', 'ave really', 'ave right', 'ave said', 'ave thunderbird', 'ave trust', 'ave worth', 'avenue', 'avenue actually', 'avenue agreeable', 'avenue canteen', 'avenue district', 'avenue ingredients', 'avenue maybe', 'avenue previous', 'avenue prime', 'avenue told', 'avenue wonderful', 'aver', 'aver dozen', 'average', 'average american', 'average area', 'average best', 'average bucks', 'average casual', 'average certainly', 'average crate', 'average dish', 'average drinks', 'average fast', 'average food', 'average good', 'average inventory', 'average item', 'average load', 'average maybe', 'average mexican', 'average needed', 'average odd', 'average overall', 'average pho', 'average potential', 'average price', 'average priced', 'average prices', 'average quality', 'average restaurant', 'average run', 'average salon', 'average service', 'average shell', 'average shrimp', 'average sit', 'average taqueria', 'average thai', 'average think', 'average took', 'average uk', 'average unenjoyably', 'averaged', 'averaged drink', 'averages', 'averages 10', 'averaging', 'averaging 15', 'averaging little', 'averse', 'averse parking', 'avg', 'avg instead', 'avid', 'avid coffee', 'avid gym', 'avid world', 'avocado', 'avocado avocado', 'avocado bacon', 'avocado best', 'avocado big', 'avocado eggrolls', 'avocado hand', 'avocado ice', 'avocado kid', 'avocado kinds', 'avocado lover', 'avocado makes', 'avocado margarita', 'avocado pizza', 'avocado pretty', 'avocado salad', 'avocado sandwich', 'avocado snow', 'avocado speak', 'avocado sprouts', 'avocado tomato', 'avocado visit', 'avocado wrapped', 'avocados', 'avocados carnitas', 'avoid', 'avoid asian', 'avoid beets', 'avoid camelback', 'avoid cancelling', 'avoid continue', 'avoid cost', 'avoid costs', 'avoid crowds', 'avoid daily', 'avoid dregs', 'avoid einstein', 'avoid getting', 'avoid going', 'avoid having', 'avoid huge', 'avoid lunchtime', 'avoid markup', 'avoid place', 'avoid prices', 'avoid restaurants', 'avoid unless', 'avoid wait', 'avoid week', 'avoidance', 'avoidance dentist', 'avoided', 'avoided going', 'avoided place', 'avoiding', 'avoiding crooks', 'avoiding nightmare', 'avondale', 'avondale feel', 'awaited', 'awaited sat', 'awaited unfortunately', 'awaiting', 'awaiting po', 'awaits', 'awaits diners', 'awakening', 'awakening 1st', 'award', 'award don', 'award generous', 'award kickassery', 'award practically', 'award winning', 'awards', 'awards lifetime', 'awards named', 'aware', 'aware cash', 'aware french', 'aware gluten', 'aware lots', 'aware theatre', 'aware things', 'awareness', 'awareness growing', 'awareness notice', 'away', 'away 2006', 'away 5th', 'away action', 'away add', 'away annoy', 'away area', 'away asked', 'away asking', 'away astounded', 'away atmosphere', 'away bad', 'away bars', 'away beautiful', 'away best', 'away brought', 'away buildings', 'away called', 'away canned', 'away cash', 'away cause', 'away charcoal', 'away churros', 'away closer', 'away coming', 'away corner', 'away cosmos', 'away customers', 'away daughter', 'away decide', 'away decor', 'away definitely', 'away delivery', 'away described', 'away didn', 'away don', 'away dos', 'away drive', 'away driver', 'away entering', 'away extremely', 'away eye', 'away fight', 'away filing', 'away finding', 'away flavor', 'away flyover', 'away food', 'away fry', 'away funny', 'away gas', 'away gave', 'away glaring', 'away good', 'away great', 'away grub', 'away guy', 'away hallway', 'away having', 'away heavenly', 'away home', 'away house', 'away huge', 'away iced', 'away inside', 'away instead', 'away interrupted', 'away items', 'away junk', 'away kids', 'away kind', 'away like', 'away little', 'away ll', 'away location', 'away looked', 'away loudly', 'away luck', 'away lunch', 'away magical', 'away make', 'away meal', 'away mediocre', 'away memorable', 'away mesa', 'away mind', 'away moment', 'away nails', 'away nasty', 'away near', 'away new', 'away night', 'away non', 'away offered', 'away old', 'away omelette', 'away orders', 'away oreo', 'away orgy', 'away parties', 'away people', 'away phx', 'away place', 'away planning', 'away pretty', 'away previously', 'away pulls', 'away quality', 'away restaurant', 'away restaurants', 'away review', 'away rifles', 'away said', 'away salmon', 'away save', 'away section', 'away service', 'away services', 'away spa', 'away st', 'away staff', 'away started', 'away stayed', 'away stopped', 'away streets', 'away strip', 'away suite', 'away surprisingly', 'away sushi', 'away tacos', 'away tastiness', 'away tempe', 'away thank', 'away time', 'away toddler', 'away told', 'away took', 'away tuna', 'away twice', 'away ugh', 'away vegan', 'away walking', 'away wasn', 'away way', 'away went', 'away wine', 'away word', 'away worst', 'away yelp', 'away yogurtland', 'away young', 'aways', 'aways lickin', 'awaze', 'awaze spice', 'awe', 'awe entire', 'awe recommend', 'awed', 'awed staff', 'awesome', 'awesome 80s', 'awesome actually', 'awesome affordable', 'awesome amazing', 'awesome asked', 'awesome asset', 'awesome authentic', 'awesome available', 'awesome awesome', 'awesome bands', 'awesome bar', 'awesome bartender', 'awesome baseball', 'awesome batman', 'awesome battlers', 'awesome beautiful', 'awesome beds', 'awesome believe', 'awesome best', 'awesome better', 'awesome big', 'awesome buffet', 'awesome burgers', 'awesome byob', 'awesome cafeteria', 'awesome canidae', 'awesome care', 'awesome carry', 'awesome cheesy', 'awesome city', 'awesome combination', 'awesome combo', 'awesome company', 'awesome compare', 'awesome concept', 'awesome cool', 'awesome cornish', 'awesome country', 'awesome cousin', 'awesome cream', 'awesome crepe', 'awesome customer', 'awesome damn', 'awesome definitely', 'awesome delicious', 'awesome delivers', 'awesome dia', 'awesome didn', 'awesome difference', 'awesome dining', 'awesome donut', 'awesome dress', 'awesome eager', 'awesome eating', 'awesome environment', 'awesome establishment', 'awesome expected', 'awesome experience', 'awesome eyes', 'awesome facial', 'awesome fantastic', 'awesome favorite', 'awesome fiance', 'awesome food', 'awesome fortunately', 'awesome fresh', 'awesome fridays', 'awesome friendly', 'awesome fries', 'awesome funny', 'awesome furniture', 'awesome gilbert', 'awesome glad', 'awesome going', 'awesome good', 'awesome great', 'awesome hair', 'awesome haven', 'awesome hotel', 'awesome hubby', 'awesome iconic', 'awesome idea', 'awesome including', 'awesome job', 'awesome just', 'awesome kind', 'awesome know', 'awesome la', 'awesome las', 'awesome let', 'awesome like', 'awesome list', 'awesome literally', 'awesome little', 'awesome location', 'awesome look', 'awesome looking', 'awesome loose', 'awesome love', 'awesome loved', 'awesome lunch', 'awesome machaca', 'awesome meal', 'awesome mean', 'awesome meat', 'awesome memorable', 'awesome mexican', 'awesome mr', 'awesome music', 'awesome neighborhood', 'awesome ness', 'awesome nice', 'awesome onion', 'awesome open', 'awesome outdoor', 'awesome outside', 'awesome owner', 'awesome owners', 'awesome park', 'awesome pastor', 'awesome patio', 'awesome peaceful', 'awesome pear', 'awesome people', 'awesome personal', 'awesome personally', 'awesome pizza', 'awesome place', 'awesome plenty', 'awesome plus', 'awesome polite', 'awesome post', 'awesome potato', 'awesome prices', 'awesome probably', 'awesome products', 'awesome read', 'awesome really', 'awesome reasonably', 'awesome recommended', 'awesome red', 'awesome replaced', 'awesome resort', 'awesome rest', 'awesome restaurants', 'awesome roast', 'awesome salad', 'awesome sandwich', 'awesome sang', 'awesome sauce', 'awesome saw', 'awesome scottsdale', 'awesome seasonal', 'awesome servers', 'awesome service', 'awesome shit', 'awesome simply', 'awesome single', 'awesome slices', 'awesome slow', 'awesome smoked', 'awesome soon', 'awesome sound', 'awesome space', 'awesome spicy', 'awesome staff', 'awesome star', 'awesome stars', 'awesome start', 'awesome stew', 'awesome stores', 'awesome stories', 'awesome stracciatella', 'awesome stuff', 'awesome suggest', 'awesome sushi', 'awesome table', 'awesome taste', 'awesome think', 'awesome time', 'awesome timers', 'awesome took', 'awesome tortilla', 'awesome touch', 'awesome traveling', 'awesome tried', 'awesome try', 'awesome typically', 'awesome unlimited', 'awesome upscale', 'awesome use', 'awesome ve', 'awesome versions', 'awesome video', 'awesome view', 'awesome waitress', 'awesome walk', 'awesome wall', 'awesome want', 'awesome warned', 'awesome wasn', 'awesome way', 'awesome wikipedia', 'awesome work', 'awesome wrong', 'awesome yelp', 'awesome yes', 'awesomely', 'awesomely sweet', 'awesomeness', 'awesomeness brisket', 'awesomeness burgers', 'awesomeness hole', 'awful', 'awful aside', 'awful bitter', 'awful bring', 'awful bucca', 'awful chicken', 'awful complete', 'awful condescending', 'awful couple', 'awful eatery', 'awful ended', 'awful experience', 'awful food', 'awful gooey', 'awful got', 'awful hard', 'awful hope', 'awful hopeful', 'awful horrible', 'awful hungover', 'awful idiotic', 'awful lunch', 'awful meineke', 'awful mess', 'awful microwaved', 'awful mistake', 'awful mom', 'awful owner', 'awful payed', 'awful place', 'awful prices', 'awful really', 'awful say', 'awful send', 'awful server', 'awful service', 'awful sure', 'awful time', 'awful wife', 'awful worth', 'awfully', 'awfully lovely', 'awhile', 'awhile ago', 'awhile ask', 'awhile believe', 'awhile despite', 'awhile doubt', 'awhile eaten', 'awhile elevator', 'awhile excellent', 'awhile extremely', 'awhile gyro', 'awhile head', 'awhile know', 'awhile location', 'awhile lots', 'awhile normal', 'awhile occasions', 'awhile save', 'awhile sure', 'awhile try', 'awhile ve', 'awkward', 'awkward bc', 'awkward honeslty', 'awkward music', 'awkward note', 'awkward point', 'awkward times', 'awkwardly', 'awkwardly waiting', 'awning', 'awning misters', 'awsome', 'awsome listens', 'axe', 'axe murder', 'az', 'az 10', 'az 2010', 'az 88', 'az art', 'az auto', 'az autumn', 'az beautiful', 'az buddy', 'az came', 'az central', 'az chicken', 'az climate', 'az close', 'az coffee', 'az contest', 'az definetly', 'az definitely', 'az deliver', 'az desert', 'az drawn', 'az eggrolls', 'az excellent', 'az farm', 'az fills', 'az finally', 'az fresh', 'az game', 'az glad', 'az going', 'az gorgeous', 'az great', 'az guaranteed', 'az hands', 'az heard', 'az high', 'az humane', 'az joliet', 'az know', 'az like', 'az local', 'az location', 'az los', 'az make', 'az means', 'az mexican', 'az mills', 'az moving', 'az nascar', 'az need', 'az offer', 'az overheating', 'az parking', 'az past', 'az perform', 'az portion', 'az quit', 'az quite', 'az reminded', 'az rent', 'az reptile', 'az restaurant', 'az sautéed', 'az say', 'az scrambled', 'az seriously', 'az service', 'az sf', 'az spa', 'az surprised', 'az taken', 'az thanks', 'az tops', 'az used', 'az vibe', 'az view', 'az visiting', 'az water', 'az weather', 'az went', 'az wine', 'az won', 'az worth', 'az year', 'az years', 'az88', 'az88 eye', 'az88 good', 'az88 hang', 'az88 list', 'az88 tempe', 'azkaban', 'azkaban appears', 'azn', 'azn mesa', 'azpbs', 'azpbs org', 'azspagirls', 'azspagirls face', 'azucena', 'azucena tovar', 'ba', 'ba http', 'baaaaaaad', 'baaaaaaad 10', 'baba', 'baba better', 'baba drinks', 'baba ganoosh', 'baba ganouj', 'baba ganoush', 'baba grocery', 'baba real', 'babaganoush', 'babaganoush dolmas', 'babbo', 'babbo better', 'babies', 'babies thank', 'babies walls', 'baby', 'baby absolute', 'baby actually', 'baby cake', 'baby carrots', 'baby chicks', 'baby churros', 'baby corbin', 'baby corn', 'baby cows', 'baby did', 'baby dr', 'baby felt', 'baby fever', 'baby food', 'baby glitters', 'baby groomed', 'baby hey', 'baby ice', 'baby kid', 'baby large', 'baby loved', 'baby lyrics', 'baby make', 'baby ob', 'baby pizza', 'baby ps', 'baby ranch', 'baby reassured', 'baby right', 'baby shower', 'baby sized', 'baby spinach', 'baby spincach', 'baby spot', 'baby stuff', 'baby taken', 'baby unique', 'baby wanted', 'baby wearing', 'baby wedding', 'babyback', 'babyback ribs', 'babysitter', 'babysitter began', 'babysitter wants', 'bacado', 'bacado glorious', 'bacado yes', 'bachelor', 'bachelor party', 'bachelorette', 'bachelorette party', 'backdrop', 'backdrop large', 'backed', 'backed appreciate', 'backed asked', 'backed car', 'backed pima', 'backed sewer', 'background', 'background checks', 'background christopher', 'background ears', 'background information', 'background music', 'background noise', 'background played', 'background putting', 'background salivates', 'background thanks', 'backing', 'backing pull', 'backlit', 'backlit colorful', 'backlit warm', 'backpack', 'backpack munch', 'backside', 'backside table', 'backstage', 'backstage fanstatic', 'backstory', 'backstory locally', 'backtracked', 'backtracked couple', 'backup', 'backup fave', 'backwards', 'backwards kind', 'backwards lost', 'backwards make', 'backyard', 'backyard course', 'backyard friend', 'backyard love', 'backyard unobstructed', 'bacon', 'bacon advise', 'bacon alike', 'bacon amazing', 'bacon american', 'bacon apple', 'bacon asparagus', 'bacon avocado', 'bacon awesome', 'bacon bacon', 'bacon best', 'bacon bits', 'bacon bomb', 'bacon brittle', 'bacon burger', 'bacon case', 'bacon celery', 'bacon char', 'bacon cheddar', 'bacon cheese', 'bacon cheeseburger', 'bacon chicken', 'bacon chocolate', 'bacon comes', 'bacon cooked', 'bacon creme', 'bacon crisp', 'bacon cut', 'bacon desert', 'bacon despite', 'bacon die', 'bacon don', 'bacon edemame', 'bacon egg', 'bacon eggs', 'bacon filled', 'bacon flavor', 'bacon food', 'bacon fried', 'bacon good', 'bacon guacamole', 'bacon guiness', 'bacon ham', 'bacon havarti', 'bacon heart', 'bacon highly', 'bacon home', 'bacon ick', 'bacon just', 'bacon kids', 'bacon kind', 'bacon lastly', 'bacon like', 'bacon liked', 'bacon looked', 'bacon maytag', 'bacon mean', 'bacon milkshake', 'bacon mixed', 'bacon multi', 'bacon oh', 'bacon omelette', 'bacon onion', 'bacon overload', 'bacon pancakes', 'bacon peanut', 'bacon piece', 'bacon potatoes', 'bacon real', 'bacon really', 'bacon roasted', 'bacon sampled', 'bacon sauced', 'bacon sausage', 'bacon sautéed', 'bacon sour', 'bacon stale', 'bacon strips', 'bacon tasteless', 'bacon tiny', 'bacon tomatoes', 'bacon try', 'bacon undercooked', 'bacon waffles', 'bacon wrapped', 'bacon yeah', 'bacon zinburger', 'bacteria', 'bacteria cup', 'bad', 'bad 18', 'bad airlines', 'bad area', 'bad ass', 'bad attitude', 'bad bad', 'bad bar', 'bad bed', 'bad behavior', 'bad better', 'bad black', 'bad blistered', 'bad bouncers', 'bad bunch', 'bad burrito', 'bad business', 'bad came', 'bad chinese', 'bad choice', 'bad clean', 'bad closed', 'bad cox', 'bad crazy', 'bad credit', 'bad customer', 'bad date', 'bad day', 'bad desk', 'bad despite', 'bad did', 'bad didn', 'bad didnt', 'bad dinner', 'bad dish', 'bad dk', 'bad doesn', 'bad drink', 'bad effort', 'bad egg', 'bad employee', 'bad exactly', 'bad excellent', 'bad experience', 'bad experiences', 'bad feel', 'bad fellow', 'bad felt', 'bad fiance', 'bad finished', 'bad food', 'bad free', 'bad frequenting', 'bad gets', 'bad going', 'bad groups', 'bad guacamole', 'bad guy', 'bad gyros', 'bad hair', 'bad hear', 'bad help', 'bad idea', 'bad imitation', 'bad impession', 'bad impressions', 'bad isn', 'bad item', 'bad just', 'bad lack', 'bad late', 'bad later', 'bad lay', 'bad let', 'bad lines', 'bad loathed', 'bad lol', 'bad longer', 'bad lot', 'bad love', 'bad lower', 'bad luxury', 'bad meal', 'bad mean', 'bad means', 'bad mixed', 'bad nail', 'bad names', 'bad news', 'bad night', 'bad ordered', 'bad parking', 'bad peak', 'bad people', 'bad person', 'bad place', 'bad plate', 'bad prices', 'bad probably', 'bad quality', 'bad really', 'bad rest', 'bad return', 'bad review', 'bad reviews', 'bad ruined', 'bad say', 'bad se', 'bad seat', 'bad seated', 'bad sell', 'bad server', 'bad servers', 'bad service', 'bad serving', 'bad shamefully', 'bad shape', 'bad shop', 'bad sign', 'bad slivers', 'bad stabbed', 'bad store', 'bad storm', 'bad story', 'bad super', 'bad sushi', 'bad table', 'bad taking', 'bad tasted', 'bad tasteless', 'bad teeth', 'bad tells', 'bad tempe', 'bad thing', 'bad think', 'bad thought', 'bad time', 'bad tire', 'bad ton', 'bad took', 'bad total', 'bad town', 'bad train', 'bad treatment', 'bad tried', 'bad try', 'bad tv', 'bad ugly', 'bad unless', 'bad use', 'bad way', 'bad went', 'bad whopper', 'bad wine', 'bad wontons', 'bad word', 'bad world', 'bad worse', 'bad worst', 'bad write', 'bad wrong', 'bad years', 'bad yelp', 'bad yes', 'badass', 'badass came', 'bader', 'bader accommodating', 'bader hands', 'badger', 'badger penis', 'badly', 'badly larger', 'badly stained', 'badly want', 'badmouth', 'badmouth net', 'baeley', 'baeley bartenders', 'baffled', 'baffled asked', 'baffled place', 'baffled unfavorable', 'baffling', 'baffling orange', 'bag', 'bag 150', 'bag 20', 'bag agent', 'bag arms', 'bag beans', 'bag bob', 'bag chicken', 'bag chips', 'bag couldn', 'bag deep', 'bag didn', 'bag discount', 'bag employees', 'bag fees', 'bag figure', 'bag forms', 'bag games', 'bag good', 'bag goodies', 'bag ground', 'bag half', 'bag head', 'bag home', 'bag just', 'bag level', 'bag like', 'bag little', 'bag ll', 'bag lots', 'bag lunch', 'bag meant', 'bag meat', 'bag morally', 'bag online', 'bag order', 'bag rice', 'bag stay', 'bag stolen', 'bag sure', 'bag sweaty', 'bag talks', 'bag wallet', 'bage', 'bage said', 'bagel', 'bagel chips', 'bagel continues', 'bagel cream', 'bagel didn', 'bagel east', 'bagel half', 'bagel joints', 'bagel nosh', 'bagel sandwich', 'bagel slathered', 'bagel stick', 'bagel store', 'bagel supposed', 'bagel yummier', 'bagels', 'bagels aren', 'bagels best', 'bagels campus', 'bagels disappointing', 'bagels dump', 'bagels great', 'bagels importantly', 'bagels lox', 'bagels sandwiches', 'bagels standards', 'bagels stop', 'bagels waffles', 'baggage', 'baggage claimed', 'baggage fees', 'baggage original', 'bagged', 'bagged romaine', 'baggins', 'baggins ey', 'baggy', 'baggy jeans', 'baggy shirts', 'baghlava', 'baghlava great', 'baghlava ice', 'bagly', 'bagly points', 'bags', 'bags bag', 'bags boxes', 'bags charged', 'bags checked', 'bags customers', 'bags double', 'bags drinks', 'bags flavor', 'bags fly', 'bags getting', 'bags good', 'bags hand', 'bags hay', 'bags heavy', 'bags high', 'bags honestly', 'bags hooks', 'bags huge', 'bags ice', 'bags kickboxing', 'bags listed', 'bags main', 'bags manufacturer', 'bags mixed', 'bags openly', 'bags speed', 'bags tissue', 'bags treated', 'bags walk', 'baguette', 'baguette good', 'baguette style', 'baguette try', 'bahama', 'bahama street', 'bahamas', 'bahamas forget', 'bahn', 'bahn mi', 'bail', 'bail clean', 'bail fresh', 'bailey', 'bailey add', 'baileys', 'baileys cupcake', 'bait', 'bait switch', 'baiz', 'baiz market', 'baiz numero', 'baiz place', 'baja', 'baja fresh', 'baja sauce', 'bajesus', 'bajesus carmel', 'bajillion', 'bajillion gelato', 'bake', 'bake crust', 'bake right', 'baked', 'baked barramundi', 'baked beans', 'baked bread', 'baked casserole', 'baked chocolate', 'baked coal', 'baked cookies', 'baked day', 'baked deli', 'baked felt', 'baked fresh', 'baked goods', 'baked green', 'baked ham', 'baked just', 'baked kind', 'baked loaves', 'baked option', 'baked peanut', 'baked perfection', 'baked pita', 'baked potato', 'baked potatoes', 'baked ravioli', 'baked right', 'baked scallops', 'baked stone', 'baked thank', 'baked time', 'baked treats', 'baked wings', 'baked ziti', 'baker', 'baker doll', 'baker nursery', 'baker photos', 'baker town', 'baker tucson', 'baker used', 'bakeries', 'bakeries distributors', 'bakeries veronique', 'bakers', 'bakers hours', 'bakers live', 'bakery', 'bakery assortment', 'bakery biltmore', 'bakery croissants', 'bakery deli', 'bakery does', 'bakery door', 'bakery good', 'bakery hot', 'bakery items', 'bakery just', 'bakery meat', 'bakery mind', 'bakery mouth', 'bakery near', 'bakery north', 'bakery nyc', 'bakery offers', 'bakery oh', 'bakery paris', 'bakery perfect', 'bakery places', 'bakery said', 'bakery sampled', 'bakery shops', 'bakery special', 'bakery spotless', 'bakery started', 'bakery state', 'bakery stays', 'bakery stopped', 'bakery street', 'bakery sweet', 'bakery taste', 'bakery use', 'bakery wasn', 'bakery window', 'bakery wow', 'baking', 'baking arizona', 'baking coal', 'baking cookies', 'baking harmful', 'baklava', 'baklava best', 'baklava complex', 'baklava different', 'baklava mark', 'balance', 'balance cheese', 'balance crispy', 'balance definitely', 'balance flavor', 'balance flavors', 'balance fruity', 'balance funny', 'balance having', 'balance ingredients', 'balance junk', 'balance meat', 'balance moist', 'balance pastry', 'balance sauce', 'balance tomato', 'balance tumbled', 'balanced', 'balanced mix', 'balanced perfectly', 'balanced sweet', 'balances', 'balances mango', 'balancing', 'balancing precariously', 'balcony', 'balcony golf', 'balcony large', 'balcony perfect', 'balcony wraps', 'bald', 'bald doesn', 'bald head', 'bald headed', 'balidated', 'balidated eritrean', 'balking', 'balking issue', 'ball', 'ball bit', 'ball corn', 'ball ended', 'ball fluff', 'ball going', 'ball lots', 'ball minutes', 'ball parks', 'ball shame', 'ball soup', 'ball toss', 'ballet', 'ballet az', 'ballet centre', 'ballet dancer', 'ballet excited', 'ballet jazz', 'ballin', 'ballin budget', 'balloons', 'balloons best', 'ballpark', 'ballpark cactus', 'ballpark food', 'ballparks', 'ballparks lake', 'ballroom', 'ballroom available', 'ballroom ll', 'balls', 'balls 50', 'balls don', 'balls face', 'balls falafel', 'balls filling', 'balls guy', 'balls long', 'balls marching', 'balls mini', 'balsalmic', 'balsalmic vingerette', 'balsamic', 'balsamic 13', 'balsamic added', 'balsamic artichoke', 'balsamic called', 'balsamic dressing', 'balsamic excellent', 'balsamic lavender', 'balsamic raspberry', 'balsamic red', 'balsamic salad', 'balsamic simple', 'balsamic takes', 'balsamic vinagrette', 'balsamic vinaigrette', 'balsamic vinegar', 'baltimore', 'baltimore experienced', 'baltimore scottsdale', 'bam', 'bam clean', 'bam far', 'bam thank', 'bamboo', 'bamboo excellent', 'bamboo grille', 'ban', 'ban university', 'ban wait', 'banana', 'banana bread', 'banana breakfast', 'banana burrito', 'banana chocolate', 'banana creme', 'banana crepe', 'banana dessert', 'banana did', 'banana eat', 'banana employee', 'banana foster', 'banana hazelnut', 'banana ice', 'banana icecream', 'banana infused', 'banana just', 'banana kiwi', 'banana leaf', 'banana love', 'banana pancakes', 'banana pecan', 'banana pudding', 'banana pumpkin', 'banana relish', 'banana republic', 'banana sandwich', 'banana smoothie', 'banana split', 'banana thingies', 'banana topped', 'banana trees', 'banana wraps', 'bananas', 'bananas bananas', 'bananas didn', 'bananas displaying', 'bananas drizzle', 'bananas foster', 'bananas just', 'bananas pumpkin', 'bananoffee', 'bananoffee pie', 'band', 'band bands', 'band beers', 'band case', 'band girls', 'band horses', 'band isn', 'band lively', 'band long', 'band playing', 'band sucking', 'band tickets', 'band usually', 'bandages', 'bandages week', 'bandaid', 'bandaid dish', 'bandaid icing', 'bandaid panang', 'bandaid sorry', 'bandaid told', 'bandana', 'bandana harley', 'banded', 'banded items', 'bandera', 'bandera houston', 'bandera just', 'bandera like', 'bandera ribs', 'bandera tonight', 'bandido', 'bandido mouth', 'bandido snickerdoodle', 'bandido staple', 'bandit', 'bandit going', 'bandito', 'bandito friend', 'bands', 'bands adorable', 'bands basement', 'bands began', 'bands corner', 'bands interesting', 'bands local', 'bands play', 'bands really', 'bands return', 'bands seen', 'banfield', 'banfield okay', 'banfield vet', 'bang', 'bang bang', 'bang buck', 'bang job', 'bang ll', 'bang lose', 'bang pounding', 'bang tempe', 'bang wtf', 'bangers', 'bangers mash', 'bangin', 'bangin sauce', 'banging', 'banging door', 'bangkok', 'bangkok sort', 'bangs', 'bangs thought', 'bank', 'bank account', 'bank america', 'bank building', 'bank clothing', 'bank compared', 'bank dinner', 'bank person', 'bank tamales', 'banked', 'banked performers', 'banker', 'banker discuss', 'banking', 'banking hope', 'bankruptcy', 'bankruptcy think', 'bannanas', 'bannanas pecans', 'banned', 'banned favorite', 'banned people', 'banner', 'banner reads', 'banquette', 'banquette seating', 'banter', 'banter heavy', 'bantering', 'bantering bingsoo', 'bap', 'bap roll', 'bar', 'bar 10', 'bar 15pm', 'bar addition', 'bar aforementioned']\n"
     ]
    }
   ],
   "source": [
    "# last 50 features\n",
    "print(vect.get_feature_names()[0:10000])"
   ]
  },
  {
   "cell_type": "code",
   "execution_count": 38,
   "metadata": {
    "scrolled": true
   },
   "outputs": [
    {
     "data": {
      "text/plain": [
       "6841    FILLY-B's!!!!!  only 8 reviews?? NINE now!!!\\n...\n",
       "1728    My husband and I absolutely LOVE this restaura...\n",
       "3853    We went today after lunch. I got my usual of l...\n",
       "671     Totally dissapointed.  I had purchased a coupo...\n",
       "4920    Costco Travel - My husband and I recently retu...\n",
       "                              ...                        \n",
       "9396    Pros: \\n-No breed restrictions on dogs\\n-Washe...\n",
       "2661    Sorry Banana Leaf... I'm usually not picky at ...\n",
       "9756    Alright this is the deal of deals, 2.75 for st...\n",
       "554     Hands down a great lil joint! Gotta get the gu...\n",
       "2575    Absolutely disgusting.  I had enchiladas and a...\n",
       "Name: text, Length: 3064, dtype: object"
      ]
     },
     "execution_count": 38,
     "metadata": {},
     "output_type": "execute_result"
    }
   ],
   "source": [
    "X_train"
   ]
  },
  {
   "cell_type": "code",
   "execution_count": 39,
   "metadata": {
    "executionInfo": {
     "elapsed": 1622,
     "status": "ok",
     "timestamp": 1618745316655,
     "user": {
      "displayName": "Sayan Dey",
      "photoUrl": "https://lh3.googleusercontent.com/a-/AOh14GgqVHJ9o6-7idGiRbNNd4iVc1VjzvuPnwmAnvEtD6U=s64",
      "userId": "03603580465490055794"
     },
     "user_tz": -330
    },
    "id": "7FOv-gMbV5Hw",
    "scrolled": false
   },
   "outputs": [
    {
     "name": "stdout",
     "output_type": "stream",
     "text": [
      "(3064, 2336)\n",
      "(1022, 2336)\n",
      "Number of Features\n",
      "2336\n",
      "Training Accuracy\n",
      "0.9513707571801566\n",
      "Testing Accuracy\n",
      "0.913894324853229\n",
      "Confusion Matrix\n",
      "[[151  33]\n",
      " [ 55 783]]\n",
      "Classifcation Report\n",
      "              precision    recall  f1-score   support\n",
      "\n",
      "           1       0.73      0.82      0.77       184\n",
      "           5       0.96      0.93      0.95       838\n",
      "\n",
      "    accuracy                           0.91      1022\n",
      "   macro avg       0.85      0.88      0.86      1022\n",
      "weighted avg       0.92      0.91      0.92      1022\n",
      "\n"
     ]
    }
   ],
   "source": [
    "from sklearn.metrics import confusion_matrix,classification_report\n",
    "vect = CountVectorizer(stop_words='english',lowercase=True,min_df=10)\n",
    "X_train_dtm = vect.fit_transform(X_train)\n",
    "X_test_dtm = vect.transform(X_test)\n",
    "print(X_train_dtm.shape)\n",
    "print(X_test_dtm.shape)\n",
    "from sklearn.linear_model import LogisticRegression\n",
    "nb = MultinomialNB()\n",
    "nb.fit(X_train_dtm, y_train)\n",
    "y_pred_class = nb.predict(X_test_dtm)\n",
    "print(\"Number of Features\")\n",
    "print(X_train_dtm.shape[1])\n",
    "print(\"Training Accuracy\")\n",
    "print(nb.score(X_train_dtm,y_train))\n",
    "print(\"Testing Accuracy\")\n",
    "print(nb.score(X_test_dtm,y_test))\n",
    "print(\"Confusion Matrix\")\n",
    "print(confusion_matrix(y_test,y_pred_class))\n",
    "print(\"Classifcation Report\")\n",
    "print(classification_report(y_test,y_pred_class))"
   ]
  },
  {
   "cell_type": "code",
   "execution_count": 28,
   "metadata": {},
   "outputs": [
    {
     "name": "stdout",
     "output_type": "stream",
     "text": [
      "Training Accuracy\n",
      "0.7914666666666667\n",
      "Testing Accuracy\n",
      "0.4672\n",
      "Confusion Matrix\n",
      "[[ 56  20  24  59  26]\n",
      " [ 23  21  38 130  22]\n",
      " [  6   6  37 270  46]\n",
      " [  7   1  16 635 225]\n",
      " [ 10   4  10 389 419]]\n",
      "Classifcation Report\n",
      "              precision    recall  f1-score   support\n",
      "\n",
      "           1       0.55      0.30      0.39       185\n",
      "           2       0.40      0.09      0.15       234\n",
      "           3       0.30      0.10      0.15       365\n",
      "           4       0.43      0.72      0.54       884\n",
      "           5       0.57      0.50      0.53       832\n",
      "\n",
      "    accuracy                           0.47      2500\n",
      "   macro avg       0.45      0.34      0.35      2500\n",
      "weighted avg       0.46      0.47      0.43      2500\n",
      "\n"
     ]
    }
   ],
   "source": [
    "from sklearn.metrics import confusion_matrix,classification_report\n",
    "from sklearn.pipeline import Pipeline\n",
    "from sklearn.linear_model import LogisticRegression\n",
    "pipe = Pipeline((  \n",
    "(\"vect\",CountVectorizer(stop_words='english',lowercase=True)),\n",
    "(\"nb\",MultinomialNB()) ,    \n",
    "))\n",
    "pipe.fit(X_train,y_train)\n",
    "y_pred_class = pipe.predict(X_test)\n",
    "\n",
    "print(\"Training Accuracy\")\n",
    "print(pipe.score(X_train,y_train))\n",
    "print(\"Testing Accuracy\")\n",
    "print(pipe.score(X_test,y_test))\n",
    "print(\"Confusion Matrix\")\n",
    "print(confusion_matrix(y_test,y_pred_class))\n",
    "print(\"Classifcation Report\")\n",
    "print(classification_report(y_test,y_pred_class))"
   ]
  },
  {
   "cell_type": "markdown",
   "metadata": {
    "id": "rE6sCTxjhPxR"
   },
   "source": [
    "### 7. Building a Deep Learning Model"
   ]
  },
  {
   "cell_type": "code",
   "execution_count": 32,
   "metadata": {
    "executionInfo": {
     "elapsed": 1859,
     "status": "ok",
     "timestamp": 1618745307630,
     "user": {
      "displayName": "Sayan Dey",
      "photoUrl": "https://lh3.googleusercontent.com/a-/AOh14GgqVHJ9o6-7idGiRbNNd4iVc1VjzvuPnwmAnvEtD6U=s64",
      "userId": "03603580465490055794"
     },
     "user_tz": -330
    },
    "id": "LM7JYkaoV5Gn"
   },
   "outputs": [
    {
     "data": {
      "text/html": [
       "<div>\n",
       "<style scoped>\n",
       "    .dataframe tbody tr th:only-of-type {\n",
       "        vertical-align: middle;\n",
       "    }\n",
       "\n",
       "    .dataframe tbody tr th {\n",
       "        vertical-align: top;\n",
       "    }\n",
       "\n",
       "    .dataframe thead th {\n",
       "        text-align: right;\n",
       "    }\n",
       "</style>\n",
       "<table border=\"1\" class=\"dataframe\">\n",
       "  <thead>\n",
       "    <tr style=\"text-align: right;\">\n",
       "      <th></th>\n",
       "      <th>stars</th>\n",
       "      <th>cool</th>\n",
       "      <th>useful</th>\n",
       "      <th>funny</th>\n",
       "    </tr>\n",
       "  </thead>\n",
       "  <tbody>\n",
       "    <tr>\n",
       "      <th>count</th>\n",
       "      <td>10000.000000</td>\n",
       "      <td>10000.000000</td>\n",
       "      <td>10000.000000</td>\n",
       "      <td>10000.000000</td>\n",
       "    </tr>\n",
       "    <tr>\n",
       "      <th>mean</th>\n",
       "      <td>2.777500</td>\n",
       "      <td>0.876800</td>\n",
       "      <td>1.409300</td>\n",
       "      <td>0.701300</td>\n",
       "    </tr>\n",
       "    <tr>\n",
       "      <th>std</th>\n",
       "      <td>1.214636</td>\n",
       "      <td>2.067861</td>\n",
       "      <td>2.336647</td>\n",
       "      <td>1.907942</td>\n",
       "    </tr>\n",
       "    <tr>\n",
       "      <th>min</th>\n",
       "      <td>0.000000</td>\n",
       "      <td>0.000000</td>\n",
       "      <td>0.000000</td>\n",
       "      <td>0.000000</td>\n",
       "    </tr>\n",
       "    <tr>\n",
       "      <th>25%</th>\n",
       "      <td>2.000000</td>\n",
       "      <td>0.000000</td>\n",
       "      <td>0.000000</td>\n",
       "      <td>0.000000</td>\n",
       "    </tr>\n",
       "    <tr>\n",
       "      <th>50%</th>\n",
       "      <td>3.000000</td>\n",
       "      <td>0.000000</td>\n",
       "      <td>1.000000</td>\n",
       "      <td>0.000000</td>\n",
       "    </tr>\n",
       "    <tr>\n",
       "      <th>75%</th>\n",
       "      <td>4.000000</td>\n",
       "      <td>1.000000</td>\n",
       "      <td>2.000000</td>\n",
       "      <td>1.000000</td>\n",
       "    </tr>\n",
       "    <tr>\n",
       "      <th>max</th>\n",
       "      <td>4.000000</td>\n",
       "      <td>77.000000</td>\n",
       "      <td>76.000000</td>\n",
       "      <td>57.000000</td>\n",
       "    </tr>\n",
       "  </tbody>\n",
       "</table>\n",
       "</div>"
      ],
      "text/plain": [
       "              stars          cool        useful         funny\n",
       "count  10000.000000  10000.000000  10000.000000  10000.000000\n",
       "mean       2.777500      0.876800      1.409300      0.701300\n",
       "std        1.214636      2.067861      2.336647      1.907942\n",
       "min        0.000000      0.000000      0.000000      0.000000\n",
       "25%        2.000000      0.000000      0.000000      0.000000\n",
       "50%        3.000000      0.000000      1.000000      0.000000\n",
       "75%        4.000000      1.000000      2.000000      1.000000\n",
       "max        4.000000     77.000000     76.000000     57.000000"
      ]
     },
     "execution_count": 32,
     "metadata": {},
     "output_type": "execute_result"
    }
   ],
   "source": [
    "yelp = pd.read_csv('yelp.csv')\n",
    "yelp.head()\n",
    "yelp_best_worst = yelp\n",
    "yelp_best_worst['stars']=yelp_best_worst['stars'].apply(lambda x: x-1)\n",
    "yelp.describe()"
   ]
  },
  {
   "cell_type": "code",
   "execution_count": 33,
   "metadata": {
    "executionInfo": {
     "elapsed": 1589,
     "status": "ok",
     "timestamp": 1618745307631,
     "user": {
      "displayName": "Sayan Dey",
      "photoUrl": "https://lh3.googleusercontent.com/a-/AOh14GgqVHJ9o6-7idGiRbNNd4iVc1VjzvuPnwmAnvEtD6U=s64",
      "userId": "03603580465490055794"
     },
     "user_tz": -330
    },
    "id": "q0YTa_K5V5Gs"
   },
   "outputs": [],
   "source": [
    "# define X and y\n",
    "X = yelp_best_worst.text\n",
    "y = yelp_best_worst.stars"
   ]
  },
  {
   "cell_type": "code",
   "execution_count": 34,
   "metadata": {
    "executionInfo": {
     "elapsed": 1454,
     "status": "ok",
     "timestamp": 1618745307631,
     "user": {
      "displayName": "Sayan Dey",
      "photoUrl": "https://lh3.googleusercontent.com/a-/AOh14GgqVHJ9o6-7idGiRbNNd4iVc1VjzvuPnwmAnvEtD6U=s64",
      "userId": "03603580465490055794"
     },
     "user_tz": -330
    },
    "id": "Ean64GFMV5Gv"
   },
   "outputs": [],
   "source": [
    "# split the new DataFrame into training and testing sets\n",
    "X_train, X_test, y_train, y_test = train_test_split(X, y, random_state=1)"
   ]
  },
  {
   "cell_type": "code",
   "execution_count": 35,
   "metadata": {},
   "outputs": [
    {
     "name": "stdout",
     "output_type": "stream",
     "text": [
      "Number of Features\n",
      "6772\n"
     ]
    }
   ],
   "source": [
    "vect = CountVectorizer(ngram_range=(1, 2),stop_words='english',lowercase=True,min_df=10)\n",
    "X_train_dtm = vect.fit_transform(X_train)\n",
    "X_test_dtm = vect.transform(X_test)\n",
    "print(\"Number of Features\")\n",
    "print(X_train_dtm.shape[1])"
   ]
  },
  {
   "cell_type": "code",
   "execution_count": 106,
   "metadata": {
    "id": "pXcQt_TchaNW"
   },
   "outputs": [],
   "source": [
    "import tensorflow as tf"
   ]
  },
  {
   "cell_type": "markdown",
   "metadata": {
    "id": "MofkwztZheaj"
   },
   "source": [
    "We will use CountVectorizer features in this case. This can be replaced by TF-IDF features"
   ]
  },
  {
   "cell_type": "code",
   "execution_count": 111,
   "metadata": {
    "id": "Qwt45bfbhcur"
   },
   "outputs": [],
   "source": [
    "#Start building a Keras Sequential Model\n",
    "tf.keras.backend.clear_session()\n",
    "model = tf.keras.Sequential()"
   ]
  },
  {
   "cell_type": "code",
   "execution_count": 112,
   "metadata": {},
   "outputs": [
    {
     "data": {
      "text/plain": [
       "\"Rosie, Dakota, and I LOVE Chaparral Dog Park!!! It's very convenient and surrounded by a lot of paths, a desert xeriscape, baseball fields, ballparks, and a lake with ducks.\\n\\nThe Scottsdale Park and Rec Dept. does a wonderful job of keeping the park clean and shaded.  You can find trash cans and poopy-pick up mitts located all over the park and paths.\\n\\nThe fenced in area is huge to let the dogs run, play, and sniff!\""
      ]
     },
     "execution_count": 112,
     "metadata": {},
     "output_type": "execute_result"
    }
   ],
   "source": [
    "X_train[3]"
   ]
  },
  {
   "cell_type": "code",
   "execution_count": 113,
   "metadata": {},
   "outputs": [
    {
     "data": {
      "text/plain": [
       "array([0., 0., 0., 0., 1.], dtype=float32)"
      ]
     },
     "execution_count": 113,
     "metadata": {},
     "output_type": "execute_result"
    }
   ],
   "source": [
    "y_train[3]"
   ]
  },
  {
   "cell_type": "code",
   "execution_count": 114,
   "metadata": {},
   "outputs": [],
   "source": [
    "y_train = tf.keras.utils.to_categorical(y_train, num_classes=5)\n",
    "y_test = tf.keras.utils.to_categorical(y_test, num_classes=5)"
   ]
  },
  {
   "cell_type": "code",
   "execution_count": 115,
   "metadata": {},
   "outputs": [
    {
     "data": {
      "text/plain": [
       "array([[1., 0., 0., 0., 0.],\n",
       "       [1., 0., 0., 0., 0.],\n",
       "       [1., 0., 0., 0., 0.],\n",
       "       [1., 0., 0., 0., 0.],\n",
       "       [0., 1., 0., 0., 0.]], dtype=float32)"
      ]
     },
     "execution_count": 115,
     "metadata": {},
     "output_type": "execute_result"
    }
   ],
   "source": [
    "y_train[3]"
   ]
  },
  {
   "cell_type": "code",
   "execution_count": 116,
   "metadata": {
    "id": "jmYjSF9Mh11J"
   },
   "outputs": [],
   "source": [
    "model = tf.keras.models.Sequential()\n",
    "model.add(tf.keras.layers.Reshape((6772,),input_shape=(6772,)))\n",
    "model.add(tf.keras.layers.BatchNormalization())\n",
    "model.add(tf.keras.layers.Dense(100, activation='relu'))\n",
    "model.add(tf.keras.layers.Dense(10, activation='relu'))\n",
    "model.add(tf.keras.layers.Dense(5, activation='softmax'))"
   ]
  },
  {
   "cell_type": "code",
   "execution_count": 117,
   "metadata": {
    "id": "SgedKYQBQVNE",
    "outputId": "18cef328-cd96-4033-e1da-4cbba05df28c"
   },
   "outputs": [
    {
     "name": "stdout",
     "output_type": "stream",
     "text": [
      "Model: \"sequential_1\"\n",
      "_________________________________________________________________\n",
      "Layer (type)                 Output Shape              Param #   \n",
      "=================================================================\n",
      "reshape (Reshape)            (None, 6772)              0         \n",
      "_________________________________________________________________\n",
      "batch_normalization (BatchNo (None, 6772)              27088     \n",
      "_________________________________________________________________\n",
      "dense (Dense)                (None, 100)               677300    \n",
      "_________________________________________________________________\n",
      "dense_1 (Dense)              (None, 10)                1010      \n",
      "_________________________________________________________________\n",
      "dense_2 (Dense)              (None, 5)                 55        \n",
      "=================================================================\n",
      "Total params: 705,453\n",
      "Trainable params: 691,909\n",
      "Non-trainable params: 13,544\n",
      "_________________________________________________________________\n"
     ]
    }
   ],
   "source": [
    "model.summary()"
   ]
  },
  {
   "cell_type": "code",
   "execution_count": 266,
   "metadata": {
    "id": "MUPy_5VIiUG9"
   },
   "outputs": [],
   "source": [
    "adam_op = tf.keras.optimizers.Adam(lr=0.001)\n",
    "#model.compile(optimizer=adam_op, loss='binary_crossentropy', metrics=['acc'])\n",
    "model.compile(optimizer=adam_op, loss='categorical_crossentropy', metrics=[tf.keras.metrics.Recall()])"
   ]
  },
  {
   "cell_type": "code",
   "execution_count": 267,
   "metadata": {
    "id": "7HTSt1LIkbQh"
   },
   "outputs": [],
   "source": [
    "#X_train_ct_array = X_train_ct.toarray()\n",
    "#X_test_ct_array = X_test_ct.toarray()"
   ]
  },
  {
   "cell_type": "code",
   "execution_count": 270,
   "metadata": {
    "colab": {
     "base_uri": "https://localhost:8080/"
    },
    "executionInfo": {
     "elapsed": 188870,
     "status": "ok",
     "timestamp": 1618747921673,
     "user": {
      "displayName": "Sayan Dey",
      "photoUrl": "https://lh3.googleusercontent.com/a-/AOh14GgqVHJ9o6-7idGiRbNNd4iVc1VjzvuPnwmAnvEtD6U=s64",
      "userId": "03603580465490055794"
     },
     "user_tz": -330
    },
    "id": "zH-LnFyXiXqc",
    "outputId": "a24f293d-caad-4e31-9fce-81b20c7c3a59",
    "scrolled": true
   },
   "outputs": [
    {
     "name": "stdout",
     "output_type": "stream",
     "text": [
      "Epoch 1/50\n",
      "59/59 [==============================] - 1s 11ms/step - loss: 0.4011 - recall: 0.8221 - val_loss: 3.5646 - val_recall: 0.4176\n",
      "Epoch 2/50\n",
      "59/59 [==============================] - 1s 12ms/step - loss: 0.3700 - recall: 0.8228 - val_loss: 3.4450 - val_recall: 0.4104\n",
      "Epoch 3/50\n",
      "59/59 [==============================] - 1s 11ms/step - loss: 0.3584 - recall: 0.8361 - val_loss: 3.3972 - val_recall: 0.4256\n",
      "Epoch 4/50\n",
      "59/59 [==============================] - 1s 11ms/step - loss: 0.3606 - recall: 0.8249 - val_loss: 3.3644 - val_recall: 0.4068\n",
      "Epoch 5/50\n",
      "59/59 [==============================] - 1s 13ms/step - loss: 0.3646 - recall: 0.8263 - val_loss: 3.3406 - val_recall: 0.4156\n",
      "Epoch 6/50\n",
      "59/59 [==============================] - 1s 11ms/step - loss: 0.3390 - recall: 0.8387 - val_loss: 3.3316 - val_recall: 0.4116\n",
      "Epoch 7/50\n",
      "59/59 [==============================] - 1s 11ms/step - loss: 0.3586 - recall: 0.8277 - val_loss: 3.2625 - val_recall: 0.4272\n",
      "Epoch 8/50\n",
      "59/59 [==============================] - 1s 11ms/step - loss: 0.3506 - recall: 0.8357 - val_loss: 3.2563 - val_recall: 0.4228\n",
      "Epoch 9/50\n",
      "59/59 [==============================] - 1s 12ms/step - loss: 0.3475 - recall: 0.8341 - val_loss: 3.2759 - val_recall: 0.4164\n",
      "Epoch 10/50\n",
      "59/59 [==============================] - 1s 11ms/step - loss: 0.3574 - recall: 0.8308 - val_loss: 3.2329 - val_recall: 0.4240\n",
      "Epoch 11/50\n",
      "59/59 [==============================] - 1s 12ms/step - loss: 0.3556 - recall: 0.8335 - val_loss: 3.1801 - val_recall: 0.4228\n",
      "Epoch 12/50\n",
      "59/59 [==============================] - 1s 10ms/step - loss: 0.3519 - recall: 0.8323 - val_loss: 3.2023 - val_recall: 0.4200\n",
      "Epoch 13/50\n",
      "59/59 [==============================] - 1s 11ms/step - loss: 0.3614 - recall: 0.8347 - val_loss: 3.1850 - val_recall: 0.4260\n",
      "Epoch 14/50\n",
      "59/59 [==============================] - 1s 10ms/step - loss: 0.3483 - recall: 0.8329 - val_loss: 3.1781 - val_recall: 0.4180\n",
      "Epoch 15/50\n",
      "59/59 [==============================] - 1s 11ms/step - loss: 0.3443 - recall: 0.8328 - val_loss: 3.1347 - val_recall: 0.4100\n",
      "Epoch 16/50\n",
      "59/59 [==============================] - 1s 10ms/step - loss: 0.3553 - recall: 0.8353 - val_loss: 3.1541 - val_recall: 0.4096\n",
      "Epoch 17/50\n",
      "59/59 [==============================] - 1s 11ms/step - loss: 0.3366 - recall: 0.8355 - val_loss: 3.1427 - val_recall: 0.4192\n",
      "Epoch 18/50\n",
      "59/59 [==============================] - 1s 10ms/step - loss: 0.3394 - recall: 0.8423 - val_loss: 3.1300 - val_recall: 0.4212\n",
      "Epoch 19/50\n",
      "59/59 [==============================] - 1s 11ms/step - loss: 0.3436 - recall: 0.8365 - val_loss: 3.1448 - val_recall: 0.4232\n",
      "Epoch 20/50\n",
      "59/59 [==============================] - 1s 11ms/step - loss: 0.3203 - recall: 0.8421 - val_loss: 3.2096 - val_recall: 0.4204\n",
      "Epoch 21/50\n",
      "59/59 [==============================] - 1s 11ms/step - loss: 0.3242 - recall: 0.8449 - val_loss: 3.2252 - val_recall: 0.4228\n",
      "Epoch 22/50\n",
      "59/59 [==============================] - 1s 11ms/step - loss: 0.3394 - recall: 0.8380 - val_loss: 3.2054 - val_recall: 0.4172\n",
      "Epoch 23/50\n",
      "59/59 [==============================] - 1s 11ms/step - loss: 0.3266 - recall: 0.8399 - val_loss: 3.1877 - val_recall: 0.4224\n",
      "Epoch 24/50\n",
      "59/59 [==============================] - 1s 11ms/step - loss: 0.3284 - recall: 0.8399 - val_loss: 3.2428 - val_recall: 0.4224\n",
      "Epoch 25/50\n",
      "59/59 [==============================] - 1s 11ms/step - loss: 0.3238 - recall: 0.8485 - val_loss: 3.2504 - val_recall: 0.4256\n",
      "Epoch 26/50\n",
      "59/59 [==============================] - 1s 11ms/step - loss: 0.3214 - recall: 0.8513 - val_loss: 3.2626 - val_recall: 0.4264\n",
      "Epoch 27/50\n",
      "59/59 [==============================] - 1s 10ms/step - loss: 0.3374 - recall: 0.8425 - val_loss: 3.1910 - val_recall: 0.4276\n",
      "Epoch 28/50\n",
      "59/59 [==============================] - 1s 12ms/step - loss: 0.3175 - recall: 0.8536 - val_loss: 3.1803 - val_recall: 0.4344\n",
      "Epoch 29/50\n",
      "59/59 [==============================] - 1s 11ms/step - loss: 0.3252 - recall: 0.8495 - val_loss: 3.2035 - val_recall: 0.4320\n",
      "Epoch 30/50\n",
      "59/59 [==============================] - 1s 12ms/step - loss: 0.3200 - recall: 0.8432 - val_loss: 3.2407 - val_recall: 0.4260\n",
      "Epoch 31/50\n",
      "59/59 [==============================] - 1s 12ms/step - loss: 0.3233 - recall: 0.8485 - val_loss: 3.2856 - val_recall: 0.4360\n",
      "Epoch 32/50\n",
      "59/59 [==============================] - 1s 11ms/step - loss: 0.3151 - recall: 0.8439 - val_loss: 3.3234 - val_recall: 0.4356\n",
      "Epoch 33/50\n",
      "59/59 [==============================] - 1s 10ms/step - loss: 0.3175 - recall: 0.8517 - val_loss: 3.3146 - val_recall: 0.4332\n",
      "Epoch 34/50\n",
      "59/59 [==============================] - 1s 11ms/step - loss: 0.3319 - recall: 0.8427 - val_loss: 3.3426 - val_recall: 0.4368\n",
      "Epoch 35/50\n",
      "59/59 [==============================] - 1s 11ms/step - loss: 0.3202 - recall: 0.8489 - val_loss: 3.3027 - val_recall: 0.4344\n",
      "Epoch 36/50\n",
      "59/59 [==============================] - 1s 11ms/step - loss: 0.3244 - recall: 0.8491 - val_loss: 3.3085 - val_recall: 0.4368\n",
      "Epoch 37/50\n",
      "59/59 [==============================] - 1s 11ms/step - loss: 0.3146 - recall: 0.8567 - val_loss: 3.2716 - val_recall: 0.4340\n",
      "Epoch 38/50\n",
      "59/59 [==============================] - 1s 11ms/step - loss: 0.3166 - recall: 0.8505 - val_loss: 3.2646 - val_recall: 0.4312\n",
      "Epoch 39/50\n",
      "59/59 [==============================] - 1s 11ms/step - loss: 0.3292 - recall: 0.8455 - val_loss: 3.2671 - val_recall: 0.4316\n",
      "Epoch 40/50\n",
      "59/59 [==============================] - 1s 11ms/step - loss: 0.3188 - recall: 0.8500 - val_loss: 3.2561 - val_recall: 0.4300\n",
      "Epoch 41/50\n",
      "59/59 [==============================] - 1s 11ms/step - loss: 0.3225 - recall: 0.8451 - val_loss: 3.2029 - val_recall: 0.4316\n",
      "Epoch 42/50\n",
      "59/59 [==============================] - 1s 11ms/step - loss: 0.3012 - recall: 0.8511 - val_loss: 3.2909 - val_recall: 0.4312\n",
      "Epoch 43/50\n",
      "59/59 [==============================] - 1s 11ms/step - loss: 0.3126 - recall: 0.8564 - val_loss: 3.3937 - val_recall: 0.4384\n",
      "Epoch 44/50\n",
      "59/59 [==============================] - 1s 10ms/step - loss: 0.3194 - recall: 0.8493 - val_loss: 3.2714 - val_recall: 0.4300\n",
      "Epoch 45/50\n",
      "59/59 [==============================] - 1s 12ms/step - loss: 0.3156 - recall: 0.8505 - val_loss: 3.3747 - val_recall: 0.4268\n",
      "Epoch 46/50\n",
      "59/59 [==============================] - 1s 12ms/step - loss: 0.3135 - recall: 0.8472 - val_loss: 3.3599 - val_recall: 0.4252\n",
      "Epoch 47/50\n",
      "59/59 [==============================] - 1s 16ms/step - loss: 0.3193 - recall: 0.8527 - val_loss: 3.3049 - val_recall: 0.4252\n",
      "Epoch 48/50\n",
      "59/59 [==============================] - 1s 11ms/step - loss: 0.3042 - recall: 0.8545 - val_loss: 3.3333 - val_recall: 0.4248\n",
      "Epoch 49/50\n",
      "59/59 [==============================] - 1s 15ms/step - loss: 0.3153 - recall: 0.8461 - val_loss: 3.3733 - val_recall: 0.4256\n",
      "Epoch 50/50\n",
      "59/59 [==============================] - 1s 13ms/step - loss: 0.3215 - recall: 0.8500 - val_loss: 3.3342 - val_recall: 0.4228\n"
     ]
    },
    {
     "data": {
      "text/plain": [
       "<tensorflow.python.keras.callbacks.History at 0x1922c50c610>"
      ]
     },
     "execution_count": 270,
     "metadata": {},
     "output_type": "execute_result"
    }
   ],
   "source": [
    "model.fit(X_train_dtm.toarray(), y_train,\n",
    "           validation_data=(X_test_dtm.toarray(), y_test), \n",
    "           epochs=50, batch_size=128)"
   ]
  },
  {
   "cell_type": "code",
   "execution_count": null,
   "metadata": {},
   "outputs": [],
   "source": []
  },
  {
   "cell_type": "code",
   "execution_count": null,
   "metadata": {},
   "outputs": [],
   "source": []
  },
  {
   "cell_type": "code",
   "execution_count": null,
   "metadata": {},
   "outputs": [],
   "source": []
  },
  {
   "cell_type": "code",
   "execution_count": null,
   "metadata": {},
   "outputs": [],
   "source": []
  },
  {
   "cell_type": "code",
   "execution_count": 36,
   "metadata": {
    "executionInfo": {
     "elapsed": 1344,
     "status": "ok",
     "timestamp": 1618745318049,
     "user": {
      "displayName": "Sayan Dey",
      "photoUrl": "https://lh3.googleusercontent.com/a-/AOh14GgqVHJ9o6-7idGiRbNNd4iVc1VjzvuPnwmAnvEtD6U=s64",
      "userId": "03603580465490055794"
     },
     "user_tz": -330
    },
    "id": "yiulrsg5V5IO"
   },
   "outputs": [],
   "source": [
    "# define a function that accepts a vectorizer and calculates the accuracy\n",
    "def tokenize_test(vect):\n",
    "    vect.fit(X_train)\n",
    "    X_train_dtm = vect.transform(X_train)\n",
    "    print ('Features: ', X_train_dtm.shape[1])\n",
    "    X_test_dtm = vect.transform(X_test)\n",
    "    nb = MultinomialNB()\n",
    "    nb.fit(X_train_dtm, y_train)\n",
    "    y_pred_class = nb.predict(X_test_dtm)\n",
    "    print(\"Training Accuracy\")\n",
    "    print(nb.score(X_train_dtm,y_train))\n",
    "    print(\"Testing Accuracy\")\n",
    "    print(nb.score(X_test_dtm,y_test))\n",
    "    print(\"Confusion Matrix\")\n",
    "    print(confusion_matrix(y_test,y_pred_class))\n",
    "    print(\"Classifcation Report\")\n",
    "    print(classification_report(y_test,y_pred_class))"
   ]
  },
  {
   "cell_type": "code",
   "execution_count": 37,
   "metadata": {
    "colab": {
     "base_uri": "https://localhost:8080/"
    },
    "executionInfo": {
     "elapsed": 1939,
     "status": "ok",
     "timestamp": 1618745320200,
     "user": {
      "displayName": "Sayan Dey",
      "photoUrl": "https://lh3.googleusercontent.com/a-/AOh14GgqVHJ9o6-7idGiRbNNd4iVc1VjzvuPnwmAnvEtD6U=s64",
      "userId": "03603580465490055794"
     },
     "user_tz": -330
    },
    "id": "vrfZoI6gV5IQ",
    "outputId": "cd2e6864-9705-4f7a-aba7-ac6fab312573"
   },
   "outputs": [
    {
     "name": "stdout",
     "output_type": "stream",
     "text": [
      "Features:  28847\n",
      "Training Accuracy\n",
      "0.9008\n",
      "Testing Accuracy\n",
      "0.5048\n",
      "Confusion Matrix\n",
      "[[ 78  40  17  31  19]\n",
      " [ 36  39  56  80  23]\n",
      " [ 14  20  81 196  54]\n",
      " [  9   3  44 565 263]\n",
      " [ 12   4  16 301 499]]\n",
      "Classifcation Report\n",
      "              precision    recall  f1-score   support\n",
      "\n",
      "           0       0.52      0.42      0.47       185\n",
      "           1       0.37      0.17      0.23       234\n",
      "           2       0.38      0.22      0.28       365\n",
      "           3       0.48      0.64      0.55       884\n",
      "           4       0.58      0.60      0.59       832\n",
      "\n",
      "    accuracy                           0.50      2500\n",
      "   macro avg       0.47      0.41      0.42      2500\n",
      "weighted avg       0.49      0.50      0.49      2500\n",
      "\n"
     ]
    }
   ],
   "source": [
    "# include 1-grams and 2-grams\n",
    "#vect = CountVectorizer(stop_words='english')\n",
    "vect = CountVectorizer(ngram_range=(1, 2),stop_words='english',min_df=3)\n",
    "tokenize_test(vect)"
   ]
  },
  {
   "cell_type": "markdown",
   "metadata": {
    "id": "JbWEPFDCV5IW"
   },
   "source": [
    "## 3: Stopword Removal"
   ]
  },
  {
   "cell_type": "markdown",
   "metadata": {
    "id": "xGitbsjTV5IW"
   },
   "source": [
    "- **What:** Remove common words that will likely appear in any text\n",
    "- **Why:** They don't tell you much about your text"
   ]
  },
  {
   "cell_type": "code",
   "execution_count": 38,
   "metadata": {
    "colab": {
     "base_uri": "https://localhost:8080/"
    },
    "executionInfo": {
     "elapsed": 1179,
     "status": "ok",
     "timestamp": 1618745563548,
     "user": {
      "displayName": "Sayan Dey",
      "photoUrl": "https://lh3.googleusercontent.com/a-/AOh14GgqVHJ9o6-7idGiRbNNd4iVc1VjzvuPnwmAnvEtD6U=s64",
      "userId": "03603580465490055794"
     },
     "user_tz": -330
    },
    "id": "80WCnSJyV5IX",
    "outputId": "5120c283-9a11-46ed-a970-4f9e4be8127b"
   },
   "outputs": [
    {
     "data": {
      "text/plain": [
       "CountVectorizer(min_df=3, ngram_range=(1, 2), stop_words='english')"
      ]
     },
     "execution_count": 38,
     "metadata": {},
     "output_type": "execute_result"
    }
   ],
   "source": [
    "# show vectorizer options\n",
    "vect"
   ]
  },
  {
   "cell_type": "markdown",
   "metadata": {
    "id": "kdoTaYcvV5IZ"
   },
   "source": [
    "- **stop_words:** string {'english'}, list, or None (default)\n",
    "- If 'english', a built-in stop word list for English is used.\n",
    "- If a list, that list is assumed to contain stop words, all of which will be removed from the resulting tokens.\n",
    "- If None, no stop words will be used. "
   ]
  },
  {
   "cell_type": "code",
   "execution_count": 39,
   "metadata": {
    "executionInfo": {
     "elapsed": 1073,
     "status": "ok",
     "timestamp": 1618745564941,
     "user": {
      "displayName": "Sayan Dey",
      "photoUrl": "https://lh3.googleusercontent.com/a-/AOh14GgqVHJ9o6-7idGiRbNNd4iVc1VjzvuPnwmAnvEtD6U=s64",
      "userId": "03603580465490055794"
     },
     "user_tz": -330
    },
    "id": "RlekrQUUV5IZ"
   },
   "outputs": [],
   "source": [
    "vect = CountVectorizer(stop_words='english')"
   ]
  },
  {
   "cell_type": "code",
   "execution_count": 40,
   "metadata": {
    "colab": {
     "base_uri": "https://localhost:8080/"
    },
    "executionInfo": {
     "elapsed": 750,
     "status": "ok",
     "timestamp": 1618745567699,
     "user": {
      "displayName": "Sayan Dey",
      "photoUrl": "https://lh3.googleusercontent.com/a-/AOh14GgqVHJ9o6-7idGiRbNNd4iVc1VjzvuPnwmAnvEtD6U=s64",
      "userId": "03603580465490055794"
     },
     "user_tz": -330
    },
    "id": "KT5eRuwYV5Ic",
    "outputId": "d1aa3b48-33aa-4194-b26b-eb7acb0c836f"
   },
   "outputs": [
    {
     "name": "stdout",
     "output_type": "stream",
     "text": [
      "frozenset({'each', 'be', 'or', 'yourselves', 'inc', 'side', 'someone', 'sometime', 'so', 'find', 'you', 'beyond', 'do', 'to', 'up', 'thence', 'my', 'also', 'with', 're', 'whatever', 'our', 'four', 'that', 'somewhere', 'moreover', 'thereby', 'were', 'hasnt', 'eight', 'part', 'yet', 'twelve', 'together', 'have', 'among', 'very', 'again', 'elsewhere', 'last', 'go', 'may', 'might', 'interest', 'him', 'cannot', 'made', 'any', 'whom', 'everywhere', 'done', 'much', 'something', 'as', 'but', 'thru', 'most', 'else', 'whence', 'will', 'these', 'after', 'co', 'her', 'which', 'seems', 'almost', 'cant', 'an', 'towards', 'himself', 'former', 'twenty', 'ten', 'noone', 'through', 'by', 'can', 'those', 'front', 'everything', 'always', 'ie', 'ours', 'whereas', 'when', 'herein', 'two', 'across', 'out', 'yours', 'nevertheless', 'their', 'whenever', 'what', 'me', 'become', 'is', 'thereafter', 'whereafter', 'the', 'because', 'while', 'fifteen', 'often', 'until', 'they', 'throughout', 'otherwise', 'latter', 'top', 'call', 'of', 'on', 'whoever', 'show', 'found', 'further', 'amoungst', 'put', 'could', 'would', 'and', 'are', 'should', 'i', 'meanwhile', 'name', 'although', 'couldnt', 'had', 'therein', 'either', 'bottom', 'neither', 'anything', 'along', 'why', 'still', 'please', 'every', 'them', 'around', 'ourselves', 'one', 'must', 'nobody', 'under', 'fill', 'many', 'beside', 'a', 'for', 'it', 'within', 'how', 'indeed', 'de', 'itself', 'during', 'he', 'afterwards', 'next', 'not', 'ever', 'about', 'ltd', 'beforehand', 'seeming', 'onto', 'without', 'per', 'hundred', 'same', 'in', 'least', 'other', 'no', 'cry', 'seem', 'all', 'well', 'against', 'hereafter', 'keep', 'hers', 'several', 'behind', 'amount', 'she', 'between', 'some', 'eleven', 'full', 'eg', 'over', 'themselves', 'fifty', 'upon', 'myself', 'too', 'due', 'own', 'only', 'became', 'via', 'namely', 'becomes', 'describe', 'whereupon', 'however', 'another', 'wherever', 'never', 'hence', 'above', 'whereby', 'thin', 'fire', 'anyway', 'anyhow', 'five', 'few', 'besides', 'see', 'third', 'here', 'we', 'sincere', 'sometimes', 'if', 'alone', 'where', 'except', 'herself', 'thus', 'whether', 'hereupon', 'into', 'from', 'get', 'whose', 'rather', 'whither', 'though', 'this', 'already', 'thick', 'seemed', 'becoming', 'am', 'down', 'serious', 'toward', 'nor', 'your', 'even', 'nowhere', 'everyone', 'empty', 'give', 'none', 'three', 'before', 'bill', 'sixty', 'take', 'was', 'somehow', 'off', 'mill', 'both', 'once', 'move', 'his', 'anywhere', 'now', 'wherein', 'yourself', 'there', 'than', 'being', 'anyone', 'whole', 'mine', 'un', 'its', 'mostly', 'back', 'us', 'forty', 'has', 'latterly', 'first', 'others', 'con', 'six', 'thereupon', 'nothing', 'then', 'below', 'such', 'at', 'nine', 'been', 'perhaps', 'formerly', 'enough', 'who', 'detail', 'therefore', 'amongst', 'more', 'system', 'since', 'etc', 'hereby', 'less'})\n"
     ]
    }
   ],
   "source": [
    "# set of stop words\n",
    "print(vect.get_stop_words())"
   ]
  },
  {
   "cell_type": "code",
   "execution_count": 41,
   "metadata": {},
   "outputs": [
    {
     "data": {
      "text/plain": [
       "318"
      ]
     },
     "execution_count": 41,
     "metadata": {},
     "output_type": "execute_result"
    }
   ],
   "source": [
    "len(vect.get_stop_words())"
   ]
  },
  {
   "cell_type": "code",
   "execution_count": 46,
   "metadata": {
    "colab": {
     "base_uri": "https://localhost:8080/"
    },
    "executionInfo": {
     "elapsed": 2173,
     "status": "ok",
     "timestamp": 1618745569142,
     "user": {
      "displayName": "Sayan Dey",
      "photoUrl": "https://lh3.googleusercontent.com/a-/AOh14GgqVHJ9o6-7idGiRbNNd4iVc1VjzvuPnwmAnvEtD6U=s64",
      "userId": "03603580465490055794"
     },
     "user_tz": -330
    },
    "id": "SS5x5aFnV5Ih",
    "outputId": "23939f9d-3182-4e6f-dbc9-038642244150"
   },
   "outputs": [
    {
     "name": "stdout",
     "output_type": "stream",
     "text": [
      "Features:  25496\n",
      "Training Accuracy\n",
      "0.7914666666666667\n",
      "Testing Accuracy\n",
      "0.4672\n",
      "Confusion Matrix\n",
      "[[ 56  20  24  59  26]\n",
      " [ 23  21  38 130  22]\n",
      " [  6   6  37 270  46]\n",
      " [  7   1  16 635 225]\n",
      " [ 10   4  10 389 419]]\n",
      "Classifcation Report\n",
      "              precision    recall  f1-score   support\n",
      "\n",
      "           0       0.55      0.30      0.39       185\n",
      "           1       0.40      0.09      0.15       234\n",
      "           2       0.30      0.10      0.15       365\n",
      "           3       0.43      0.72      0.54       884\n",
      "           4       0.57      0.50      0.53       832\n",
      "\n",
      "    accuracy                           0.47      2500\n",
      "   macro avg       0.45      0.34      0.35      2500\n",
      "weighted avg       0.46      0.47      0.43      2500\n",
      "\n"
     ]
    }
   ],
   "source": [
    "# remove English stop words\n",
    "vect = CountVectorizer(stop_words='english')\n",
    "tokenize_test(vect)"
   ]
  },
  {
   "cell_type": "code",
   "execution_count": 47,
   "metadata": {
    "colab": {
     "base_uri": "https://localhost:8080/"
    },
    "executionInfo": {
     "elapsed": 2824,
     "status": "ok",
     "timestamp": 1618745569808,
     "user": {
      "displayName": "Sayan Dey",
      "photoUrl": "https://lh3.googleusercontent.com/a-/AOh14GgqVHJ9o6-7idGiRbNNd4iVc1VjzvuPnwmAnvEtD6U=s64",
      "userId": "03603580465490055794"
     },
     "user_tz": -330
    },
    "id": "kCUJqWIwV5Io",
    "outputId": "45e2c869-2afd-4801-db30-b9241e9adf7a"
   },
   "outputs": [
    {
     "data": {
      "text/plain": [
       "<7500x25797 sparse matrix of type '<class 'numpy.int64'>'\n",
       "\twith 622700 stored elements in Compressed Sparse Row format>"
      ]
     },
     "execution_count": 47,
     "metadata": {},
     "output_type": "execute_result"
    }
   ],
   "source": [
    "# without stopwords, dtm size\n",
    "vect = CountVectorizer()\n",
    "vect.fit(X_train)\n",
    "vect.transform(X_train)"
   ]
  },
  {
   "cell_type": "code",
   "execution_count": 48,
   "metadata": {
    "colab": {
     "base_uri": "https://localhost:8080/"
    },
    "executionInfo": {
     "elapsed": 1407,
     "status": "ok",
     "timestamp": 1618745571690,
     "user": {
      "displayName": "Sayan Dey",
      "photoUrl": "https://lh3.googleusercontent.com/a-/AOh14GgqVHJ9o6-7idGiRbNNd4iVc1VjzvuPnwmAnvEtD6U=s64",
      "userId": "03603580465490055794"
     },
     "user_tz": -330
    },
    "id": "uRUAneRIV5Ir",
    "outputId": "fdd80e5f-156f-4380-847f-5b7152f1907f"
   },
   "outputs": [
    {
     "data": {
      "text/plain": [
       "<7500x25496 sparse matrix of type '<class 'numpy.int64'>'\n",
       "\twith 378882 stored elements in Compressed Sparse Row format>"
      ]
     },
     "execution_count": 48,
     "metadata": {},
     "output_type": "execute_result"
    }
   ],
   "source": [
    "# with stopwords, dtm size\n",
    "vect = CountVectorizer(stop_words='english')\n",
    "vect.fit(X_train)\n",
    "vect.transform(X_train)"
   ]
  },
  {
   "cell_type": "code",
   "execution_count": 49,
   "metadata": {
    "executionInfo": {
     "elapsed": 1108,
     "status": "ok",
     "timestamp": 1618745605385,
     "user": {
      "displayName": "Sayan Dey",
      "photoUrl": "https://lh3.googleusercontent.com/a-/AOh14GgqVHJ9o6-7idGiRbNNd4iVc1VjzvuPnwmAnvEtD6U=s64",
      "userId": "03603580465490055794"
     },
     "user_tz": -330
    },
    "id": "wMN7IyRNV5Iv"
   },
   "outputs": [],
   "source": [
    "my_additional_stop_words = ['place','zumba']"
   ]
  },
  {
   "cell_type": "code",
   "execution_count": 50,
   "metadata": {
    "executionInfo": {
     "elapsed": 1238,
     "status": "ok",
     "timestamp": 1618745628024,
     "user": {
      "displayName": "Sayan Dey",
      "photoUrl": "https://lh3.googleusercontent.com/a-/AOh14GgqVHJ9o6-7idGiRbNNd4iVc1VjzvuPnwmAnvEtD6U=s64",
      "userId": "03603580465490055794"
     },
     "user_tz": -330
    },
    "id": "oCQmKC3kV5Iy"
   },
   "outputs": [],
   "source": [
    "from sklearn.feature_extraction import text \n",
    "my_stop_words = text.ENGLISH_STOP_WORDS.union(my_additional_stop_words)"
   ]
  },
  {
   "cell_type": "code",
   "execution_count": 51,
   "metadata": {},
   "outputs": [
    {
     "data": {
      "text/plain": [
       "320"
      ]
     },
     "execution_count": 51,
     "metadata": {},
     "output_type": "execute_result"
    }
   ],
   "source": [
    "len(my_stop_words)"
   ]
  },
  {
   "cell_type": "code",
   "execution_count": 52,
   "metadata": {
    "colab": {
     "base_uri": "https://localhost:8080/"
    },
    "executionInfo": {
     "elapsed": 1513,
     "status": "ok",
     "timestamp": 1618745629348,
     "user": {
      "displayName": "Sayan Dey",
      "photoUrl": "https://lh3.googleusercontent.com/a-/AOh14GgqVHJ9o6-7idGiRbNNd4iVc1VjzvuPnwmAnvEtD6U=s64",
      "userId": "03603580465490055794"
     },
     "user_tz": -330
    },
    "id": "E5wWa8e1V5I7",
    "outputId": "36fc4306-0a6a-4fdd-a61c-2c7cd70fc324"
   },
   "outputs": [
    {
     "data": {
      "text/plain": [
       "<7500x25494 sparse matrix of type '<class 'numpy.int64'>'\n",
       "\twith 375648 stored elements in Compressed Sparse Row format>"
      ]
     },
     "execution_count": 52,
     "metadata": {},
     "output_type": "execute_result"
    }
   ],
   "source": [
    "# with stopwords, dtm size\n",
    "vect = CountVectorizer(stop_words=my_stop_words)\n",
    "vect.fit(X_train)\n",
    "vect.transform(X_train)"
   ]
  },
  {
   "cell_type": "code",
   "execution_count": 195,
   "metadata": {
    "colab": {
     "base_uri": "https://localhost:8080/"
    },
    "executionInfo": {
     "elapsed": 1927,
     "status": "ok",
     "timestamp": 1618745646960,
     "user": {
      "displayName": "Sayan Dey",
      "photoUrl": "https://lh3.googleusercontent.com/a-/AOh14GgqVHJ9o6-7idGiRbNNd4iVc1VjzvuPnwmAnvEtD6U=s64",
      "userId": "03603580465490055794"
     },
     "user_tz": -330
    },
    "id": "rU6QLgT4V5JJ",
    "outputId": "ddd56589-55b2-4d48-ba4b-d7e6d26914ff"
   },
   "outputs": [
    {
     "name": "stdout",
     "output_type": "stream",
     "text": [
      "Features:  25494\n",
      "Training Accuracy\n",
      "0.7924\n",
      "Testing Accuracy\n",
      "0.4672\n",
      "Confusion Matrix\n",
      "[[ 58  20  26  57  24]\n",
      " [ 24  22  37 130  21]\n",
      " [  6   5  36 273  45]\n",
      " [  7   1  16 633 227]\n",
      " [ 10   5   9 389 419]]\n",
      "Classifcation Report\n",
      "              precision    recall  f1-score   support\n",
      "\n",
      "           1       0.55      0.31      0.40       185\n",
      "           2       0.42      0.09      0.15       234\n",
      "           3       0.29      0.10      0.15       365\n",
      "           4       0.43      0.72      0.54       884\n",
      "           5       0.57      0.50      0.53       832\n",
      "\n",
      "    accuracy                           0.47      2500\n",
      "   macro avg       0.45      0.35      0.35      2500\n",
      "weighted avg       0.46      0.47      0.43      2500\n",
      "\n"
     ]
    }
   ],
   "source": [
    "# remove updated stop words \n",
    "vect = CountVectorizer(stop_words=my_stop_words)\n",
    "tokenize_test(vect)"
   ]
  },
  {
   "cell_type": "markdown",
   "metadata": {
    "id": "2oXo-TymV5JM"
   },
   "source": [
    "## 4: Other CountVectorizer Options"
   ]
  },
  {
   "cell_type": "markdown",
   "metadata": {
    "id": "U6eceZ7TV5JN"
   },
   "source": [
    "- **max_features:** int or None, default=None\n",
    "- If not None, build a vocabulary that only consider the top max_features ordered by term frequency across the corpus."
   ]
  },
  {
   "cell_type": "code",
   "execution_count": 196,
   "metadata": {
    "colab": {
     "base_uri": "https://localhost:8080/"
    },
    "executionInfo": {
     "elapsed": 1537,
     "status": "ok",
     "timestamp": 1618745653110,
     "user": {
      "displayName": "Sayan Dey",
      "photoUrl": "https://lh3.googleusercontent.com/a-/AOh14GgqVHJ9o6-7idGiRbNNd4iVc1VjzvuPnwmAnvEtD6U=s64",
      "userId": "03603580465490055794"
     },
     "user_tz": -330
    },
    "id": "yP4T-UqeV5JN",
    "outputId": "af54c2af-a8bc-4e84-80ff-9b933aac3a64"
   },
   "outputs": [
    {
     "name": "stdout",
     "output_type": "stream",
     "text": [
      "Features:  100\n",
      "Training Accuracy\n",
      "0.4688\n",
      "Testing Accuracy\n",
      "0.4516\n",
      "Confusion Matrix\n",
      "[[ 61  21  15  49  39]\n",
      " [ 54  36  28  71  45]\n",
      " [ 22  28  62 185  68]\n",
      " [ 33  24  60 472 295]\n",
      " [ 34  17  14 269 498]]\n",
      "Classifcation Report\n",
      "              precision    recall  f1-score   support\n",
      "\n",
      "           1       0.30      0.33      0.31       185\n",
      "           2       0.29      0.15      0.20       234\n",
      "           3       0.35      0.17      0.23       365\n",
      "           4       0.45      0.53      0.49       884\n",
      "           5       0.53      0.60      0.56       832\n",
      "\n",
      "    accuracy                           0.45      2500\n",
      "   macro avg       0.38      0.36      0.36      2500\n",
      "weighted avg       0.43      0.45      0.43      2500\n",
      "\n"
     ]
    }
   ],
   "source": [
    "# remove English stop words and only keep 100 features\n",
    "vect = CountVectorizer(stop_words='english', max_features=100)\n",
    "tokenize_test(vect)"
   ]
  },
  {
   "cell_type": "code",
   "execution_count": 197,
   "metadata": {
    "colab": {
     "base_uri": "https://localhost:8080/"
    },
    "executionInfo": {
     "elapsed": 1438,
     "status": "ok",
     "timestamp": 1618745653110,
     "user": {
      "displayName": "Sayan Dey",
      "photoUrl": "https://lh3.googleusercontent.com/a-/AOh14GgqVHJ9o6-7idGiRbNNd4iVc1VjzvuPnwmAnvEtD6U=s64",
      "userId": "03603580465490055794"
     },
     "user_tz": -330
    },
    "id": "bYlvK8caV5JV",
    "outputId": "d091f7c7-a858-4985-86c9-000e93329ddc"
   },
   "outputs": [
    {
     "name": "stdout",
     "output_type": "stream",
     "text": [
      "['amazing', 'area', 'atmosphere', 'awesome', 'bad', 'bar', 'beer', 'best', 'better', 'big', 'bit', 'bread', 'burger', 'came', 'cheese', 'chicken', 'coffee', 'come', 'day', 'definitely', 'delicious', 'did', 'didn', 'dinner', 'don', 'drink', 'drinks', 'eat', 'experience', 'favorite', 'feel', 'food', 'fresh', 'friendly', 'fries', 'going', 'good', 'got', 'great', 'happy', 'home', 'hot', 'hour', 'just', 'know', 'like', 'little', 'll', 'location', 'long', 'looking', 'lot', 'love', 'lunch', 'make', 'meal', 'menu', 'minutes', 'new', 'nice', 'night', 'order', 'ordered', 'people', 'phoenix', 'pizza', 'place', 'pretty', 'price', 'prices', 'really', 'restaurant', 'right', 'said', 'salad', 'sandwich', 'sauce', 'say', 'service', 'small', 'staff', 'stars', 'sure', 'sweet', 'table', 'tasty', 'thing', 'things', 'think', 'time', 'times', 'try', 've', 'wait', 'want', 'wasn', 'way', 'went', 'wine', 'worth']\n"
     ]
    }
   ],
   "source": [
    "# all 100 features\n",
    "print(vect.get_feature_names())"
   ]
  },
  {
   "cell_type": "code",
   "execution_count": 198,
   "metadata": {
    "colab": {
     "base_uri": "https://localhost:8080/"
    },
    "executionInfo": {
     "elapsed": 2999,
     "status": "ok",
     "timestamp": 1618745655075,
     "user": {
      "displayName": "Sayan Dey",
      "photoUrl": "https://lh3.googleusercontent.com/a-/AOh14GgqVHJ9o6-7idGiRbNNd4iVc1VjzvuPnwmAnvEtD6U=s64",
      "userId": "03603580465490055794"
     },
     "user_tz": -330
    },
    "id": "c_Hv3qo0V5Jm",
    "outputId": "32b1ff58-7381-4e60-b059-02cd76ce5306"
   },
   "outputs": [
    {
     "name": "stdout",
     "output_type": "stream",
     "text": [
      "Features:  100000\n",
      "Training Accuracy\n",
      "0.9398666666666666\n",
      "Testing Accuracy\n",
      "0.4868\n",
      "Confusion Matrix\n",
      "[[ 51  16  16  73  29]\n",
      " [ 21  17  30 143  23]\n",
      " [  1   3  26 293  42]\n",
      " [  0   0   9 659 216]\n",
      " [  4   0   0 364 464]]\n",
      "Classifcation Report\n",
      "              precision    recall  f1-score   support\n",
      "\n",
      "           1       0.66      0.28      0.39       185\n",
      "           2       0.47      0.07      0.13       234\n",
      "           3       0.32      0.07      0.12       365\n",
      "           4       0.43      0.75      0.55       884\n",
      "           5       0.60      0.56      0.58       832\n",
      "\n",
      "    accuracy                           0.49      2500\n",
      "   macro avg       0.50      0.34      0.35      2500\n",
      "weighted avg       0.49      0.49      0.44      2500\n",
      "\n"
     ]
    }
   ],
   "source": [
    "# include 1-grams and 2-grams, and limit the number of features\n",
    "vect = CountVectorizer(ngram_range=(1, 2), max_features=100000)\n",
    "tokenize_test(vect)"
   ]
  },
  {
   "cell_type": "markdown",
   "metadata": {
    "id": "4S_r7h4HV5Jw"
   },
   "source": [
    "- **min_df:** float in range [0.0, 1.0] or int, default=1\n",
    "- When building the vocabulary ignore terms that have a document frequency strictly lower than the given threshold. This value is also called cut-off in the literature. If float, the parameter represents a proportion of documents, integer absolute counts."
   ]
  },
  {
   "cell_type": "code",
   "execution_count": 199,
   "metadata": {
    "colab": {
     "base_uri": "https://localhost:8080/"
    },
    "executionInfo": {
     "elapsed": 3565,
     "status": "ok",
     "timestamp": 1618745656619,
     "user": {
      "displayName": "Sayan Dey",
      "photoUrl": "https://lh3.googleusercontent.com/a-/AOh14GgqVHJ9o6-7idGiRbNNd4iVc1VjzvuPnwmAnvEtD6U=s64",
      "userId": "03603580465490055794"
     },
     "user_tz": -330
    },
    "id": "xh3tI5vKV5Jx",
    "outputId": "927bc642-ae7b-4392-fccf-47d60d3deffd"
   },
   "outputs": [
    {
     "name": "stdout",
     "output_type": "stream",
     "text": [
      "Features:  95504\n",
      "Training Accuracy\n",
      "0.9410666666666667\n",
      "Testing Accuracy\n",
      "0.4908\n",
      "Confusion Matrix\n",
      "[[ 58  16  19  63  29]\n",
      " [ 24  22  30 135  23]\n",
      " [  1   3  32 285  44]\n",
      " [  0   1  10 649 224]\n",
      " [  4   0   0 362 466]]\n",
      "Classifcation Report\n",
      "              precision    recall  f1-score   support\n",
      "\n",
      "           1       0.67      0.31      0.43       185\n",
      "           2       0.52      0.09      0.16       234\n",
      "           3       0.35      0.09      0.14       365\n",
      "           4       0.43      0.73      0.55       884\n",
      "           5       0.59      0.56      0.58       832\n",
      "\n",
      "    accuracy                           0.49      2500\n",
      "   macro avg       0.51      0.36      0.37      2500\n",
      "weighted avg       0.50      0.49      0.45      2500\n",
      "\n"
     ]
    }
   ],
   "source": [
    "# include 1-grams and 2-grams, and only include terms that appear at least 2 times\n",
    "vect = CountVectorizer(ngram_range=(1, 2), min_df=2)\n",
    "tokenize_test(vect)"
   ]
  },
  {
   "cell_type": "markdown",
   "metadata": {
    "id": "2fFobBUOV5J4"
   },
   "source": [
    "##  5: Introduction to TextBlob"
   ]
  },
  {
   "cell_type": "markdown",
   "metadata": {
    "id": "2l-iSErRV5J7"
   },
   "source": [
    "TextBlob: \"Simplified Text Processing\""
   ]
  },
  {
   "cell_type": "code",
   "execution_count": 43,
   "metadata": {
    "colab": {
     "base_uri": "https://localhost:8080/",
     "height": 158
    },
    "executionInfo": {
     "elapsed": 3917,
     "status": "ok",
     "timestamp": 1601642810209,
     "user": {
      "displayName": "Sayan Dey",
      "photoUrl": "https://lh3.googleusercontent.com/a-/AOh14GgqVHJ9o6-7idGiRbNNd4iVc1VjzvuPnwmAnvEtD6U=s64",
      "userId": "03603580465490055794"
     },
     "user_tz": -330
    },
    "id": "EL9t4i9HV5J8",
    "outputId": "1ccfc4e5-2e81-42d7-937f-ecfee9ab6b6c"
   },
   "outputs": [
    {
     "name": "stdout",
     "output_type": "stream",
     "text": [
      "My wife took me here on my birthday for breakfast and it was excellent.  The weather was perfect which made sitting outside overlooking their grounds an absolute pleasure.  Our waitress was excellent and our food arrived quickly on the semi-busy Saturday morning.  It looked like the place fills up pretty quickly so the earlier you get here the better.\n",
      "\n",
      "Do yourself a favor and get their Bloody Mary.  It was phenomenal and simply the best I've ever had.  I'm pretty sure they only use ingredients from their garden and blend them fresh when you order it.  It was amazing.\n",
      "\n",
      "While EVERYTHING on the menu looks excellent, I had the white truffle scrambled eggs vegetable skillet and it was tasty and delicious.  It came with 2 pieces of their griddled bread with was amazing and it absolutely made the meal complete.  It was the best \"toast\" I've ever had.\n",
      "\n",
      "Anyway, I can't wait to go back!\n"
     ]
    }
   ],
   "source": [
    "# print the first review\n",
    "print (yelp_best_worst.text[0])"
   ]
  },
  {
   "cell_type": "code",
   "execution_count": 44,
   "metadata": {},
   "outputs": [
    {
     "data": {
      "text/plain": [
       "5"
      ]
     },
     "execution_count": 44,
     "metadata": {},
     "output_type": "execute_result"
    }
   ],
   "source": [
    "yelp_best_worst.stars[0]"
   ]
  },
  {
   "cell_type": "code",
   "execution_count": 45,
   "metadata": {
    "id": "maanVCcaV5J_"
   },
   "outputs": [],
   "source": [
    "# save it as a TextBlob object\n",
    "review = TextBlob(yelp_best_worst.text[0])"
   ]
  },
  {
   "cell_type": "code",
   "execution_count": 46,
   "metadata": {
    "colab": {
     "base_uri": "https://localhost:8080/",
     "height": 69
    },
    "executionInfo": {
     "elapsed": 2001,
     "status": "ok",
     "timestamp": 1601642819612,
     "user": {
      "displayName": "Sayan Dey",
      "photoUrl": "https://lh3.googleusercontent.com/a-/AOh14GgqVHJ9o6-7idGiRbNNd4iVc1VjzvuPnwmAnvEtD6U=s64",
      "userId": "03603580465490055794"
     },
     "user_tz": -330
    },
    "id": "5U0ZPAtys7W-",
    "outputId": "2f949910-eb29-4210-bae4-1a1ad764cdfb",
    "scrolled": false
   },
   "outputs": [
    {
     "name": "stderr",
     "output_type": "stream",
     "text": [
      "[nltk_data] Downloading package punkt to C:\\Users\\Sayan\n",
      "[nltk_data]     Dey\\AppData\\Roaming\\nltk_data...\n",
      "[nltk_data]   Unzipping tokenizers\\punkt.zip.\n"
     ]
    },
    {
     "data": {
      "text/plain": [
       "True"
      ]
     },
     "execution_count": 46,
     "metadata": {},
     "output_type": "execute_result"
    }
   ],
   "source": [
    "nltk.download('punkt')"
   ]
  },
  {
   "cell_type": "code",
   "execution_count": 47,
   "metadata": {
    "colab": {
     "base_uri": "https://localhost:8080/",
     "height": 54
    },
    "executionInfo": {
     "elapsed": 1073,
     "status": "ok",
     "timestamp": 1601642819614,
     "user": {
      "displayName": "Sayan Dey",
      "photoUrl": "https://lh3.googleusercontent.com/a-/AOh14GgqVHJ9o6-7idGiRbNNd4iVc1VjzvuPnwmAnvEtD6U=s64",
      "userId": "03603580465490055794"
     },
     "user_tz": -330
    },
    "id": "ng0v0gULV5KD",
    "outputId": "de095912-77b5-47a8-bf07-ee0c3ca44e69"
   },
   "outputs": [
    {
     "data": {
      "text/plain": [
       "WordList(['My', 'wife', 'took', 'me', 'here', 'on', 'my', 'birthday', 'for', 'breakfast', 'and', 'it', 'was', 'excellent', 'The', 'weather', 'was', 'perfect', 'which', 'made', 'sitting', 'outside', 'overlooking', 'their', 'grounds', 'an', 'absolute', 'pleasure', 'Our', 'waitress', 'was', 'excellent', 'and', 'our', 'food', 'arrived', 'quickly', 'on', 'the', 'semi-busy', 'Saturday', 'morning', 'It', 'looked', 'like', 'the', 'place', 'fills', 'up', 'pretty', 'quickly', 'so', 'the', 'earlier', 'you', 'get', 'here', 'the', 'better', 'Do', 'yourself', 'a', 'favor', 'and', 'get', 'their', 'Bloody', 'Mary', 'It', 'was', 'phenomenal', 'and', 'simply', 'the', 'best', 'I', \"'ve\", 'ever', 'had', 'I', \"'m\", 'pretty', 'sure', 'they', 'only', 'use', 'ingredients', 'from', 'their', 'garden', 'and', 'blend', 'them', 'fresh', 'when', 'you', 'order', 'it', 'It', 'was', 'amazing', 'While', 'EVERYTHING', 'on', 'the', 'menu', 'looks', 'excellent', 'I', 'had', 'the', 'white', 'truffle', 'scrambled', 'eggs', 'vegetable', 'skillet', 'and', 'it', 'was', 'tasty', 'and', 'delicious', 'It', 'came', 'with', '2', 'pieces', 'of', 'their', 'griddled', 'bread', 'with', 'was', 'amazing', 'and', 'it', 'absolutely', 'made', 'the', 'meal', 'complete', 'It', 'was', 'the', 'best', 'toast', 'I', \"'ve\", 'ever', 'had', 'Anyway', 'I', 'ca', \"n't\", 'wait', 'to', 'go', 'back'])"
      ]
     },
     "execution_count": 47,
     "metadata": {},
     "output_type": "execute_result"
    }
   ],
   "source": [
    "# list the words\n",
    "review.words"
   ]
  },
  {
   "cell_type": "code",
   "execution_count": 48,
   "metadata": {
    "colab": {
     "base_uri": "https://localhost:8080/",
     "height": 224
    },
    "executionInfo": {
     "elapsed": 1601,
     "status": "ok",
     "timestamp": 1601642820892,
     "user": {
      "displayName": "Sayan Dey",
      "photoUrl": "https://lh3.googleusercontent.com/a-/AOh14GgqVHJ9o6-7idGiRbNNd4iVc1VjzvuPnwmAnvEtD6U=s64",
      "userId": "03603580465490055794"
     },
     "user_tz": -330
    },
    "id": "1FVxOp2vV5KK",
    "outputId": "74ed5340-b38e-4792-e783-33752c85861d",
    "scrolled": true
   },
   "outputs": [
    {
     "data": {
      "text/plain": [
       "[Sentence(\"My wife took me here on my birthday for breakfast and it was excellent.\"),\n",
       " Sentence(\"The weather was perfect which made sitting outside overlooking their grounds an absolute pleasure.\"),\n",
       " Sentence(\"Our waitress was excellent and our food arrived quickly on the semi-busy Saturday morning.\"),\n",
       " Sentence(\"It looked like the place fills up pretty quickly so the earlier you get here the better.\"),\n",
       " Sentence(\"Do yourself a favor and get their Bloody Mary.\"),\n",
       " Sentence(\"It was phenomenal and simply the best I've ever had.\"),\n",
       " Sentence(\"I'm pretty sure they only use ingredients from their garden and blend them fresh when you order it.\"),\n",
       " Sentence(\"It was amazing.\"),\n",
       " Sentence(\"While EVERYTHING on the menu looks excellent, I had the white truffle scrambled eggs vegetable skillet and it was tasty and delicious.\"),\n",
       " Sentence(\"It came with 2 pieces of their griddled bread with was amazing and it absolutely made the meal complete.\"),\n",
       " Sentence(\"It was the best \"toast\" I've ever had.\"),\n",
       " Sentence(\"Anyway, I can't wait to go back!\")]"
      ]
     },
     "execution_count": 48,
     "metadata": {},
     "output_type": "execute_result"
    }
   ],
   "source": [
    "# list the sentences\n",
    "review.sentences"
   ]
  },
  {
   "cell_type": "code",
   "execution_count": 59,
   "metadata": {
    "colab": {
     "base_uri": "https://localhost:8080/",
     "height": 158
    },
    "executionInfo": {
     "elapsed": 1390,
     "status": "ok",
     "timestamp": 1601642820901,
     "user": {
      "displayName": "Sayan Dey",
      "photoUrl": "https://lh3.googleusercontent.com/a-/AOh14GgqVHJ9o6-7idGiRbNNd4iVc1VjzvuPnwmAnvEtD6U=s64",
      "userId": "03603580465490055794"
     },
     "user_tz": -330
    },
    "id": "WXXf-MqsV5KN",
    "outputId": "617916c0-078b-4f56-caf8-9406301415a4"
   },
   "outputs": [
    {
     "data": {
      "text/plain": [
       "TextBlob(\"my wife took me here on my birthday for breakfast and it was excellent.  the weather was perfect which made sitting outside overlooking their grounds an absolute pleasure.  our waitress was excellent and our food arrived quickly on the semi-busy saturday morning.  it looked like the place fills up pretty quickly so the earlier you get here the better.\n",
       "\n",
       "do yourself a favor and get their bloody mary.  it was phenomenal and simply the best i've ever had.  i'm pretty sure they only use ingredients from their garden and blend them fresh when you order it.  it was amazing.\n",
       "\n",
       "while everything on the menu looks excellent, i had the white truffle scrambled eggs vegetable skillet and it was tasty and delicious.  it came with 2 pieces of their griddled bread with was amazing and it absolutely made the meal complete.  it was the best \"toast\" i've ever had.\n",
       "\n",
       "anyway, i can't wait to go back!\")"
      ]
     },
     "execution_count": 59,
     "metadata": {},
     "output_type": "execute_result"
    }
   ],
   "source": [
    "# some string methods are available\n",
    "review.lower()"
   ]
  },
  {
   "cell_type": "markdown",
   "metadata": {
    "id": "Nr4-EPt2V5KX"
   },
   "source": [
    "##  6: Stemming and Lemmatization"
   ]
  },
  {
   "cell_type": "markdown",
   "metadata": {
    "id": "hCBb6A6KV5KX"
   },
   "source": [
    "**Stemming:**\n",
    "\n",
    "- **What:** Reduce a word to its base/stem/root form\n",
    "- **Why:** Often makes sense to treat related words the same way\n",
    "- **Notes:**\n",
    "    - Uses a \"simple\" and fast rule-based approach\n",
    "    - Stemmed words are usually not shown to users (used for analysis/indexing)\n",
    "    - Some search engines treat words with the same stem as synonyms"
   ]
  },
  {
   "cell_type": "code",
   "execution_count": 208,
   "metadata": {},
   "outputs": [
    {
     "data": {
      "text/plain": [
       "WordList(['My', 'wife', 'took', 'me', 'here', 'on', 'my', 'birthday', 'for', 'breakfast', 'and', 'it', 'was', 'excellent', 'The', 'weather', 'was', 'perfect', 'which', 'made', 'sitting', 'outside', 'overlooking', 'their', 'grounds', 'an', 'absolute', 'pleasure', 'Our', 'waitress', 'was', 'excellent', 'and', 'our', 'food', 'arrived', 'quickly', 'on', 'the', 'semi-busy', 'Saturday', 'morning', 'It', 'looked', 'like', 'the', 'place', 'fills', 'up', 'pretty', 'quickly', 'so', 'the', 'earlier', 'you', 'get', 'here', 'the', 'better', 'Do', 'yourself', 'a', 'favor', 'and', 'get', 'their', 'Bloody', 'Mary', 'It', 'was', 'phenomenal', 'and', 'simply', 'the', 'best', 'I', \"'ve\", 'ever', 'had', 'I', \"'m\", 'pretty', 'sure', 'they', 'only', 'use', 'ingredients', 'from', 'their', 'garden', 'and', 'blend', 'them', 'fresh', 'when', 'you', 'order', 'it', 'It', 'was', 'amazing', 'While', 'EVERYTHING', 'on', 'the', 'menu', 'looks', 'excellent', 'I', 'had', 'the', 'white', 'truffle', 'scrambled', 'eggs', 'vegetable', 'skillet', 'and', 'it', 'was', 'tasty', 'and', 'delicious', 'It', 'came', 'with', '2', 'pieces', 'of', 'their', 'griddled', 'bread', 'with', 'was', 'amazing', 'and', 'it', 'absolutely', 'made', 'the', 'meal', 'complete', 'It', 'was', 'the', 'best', 'toast', 'I', \"'ve\", 'ever', 'had', 'Anyway', 'I', 'ca', \"n't\", 'wait', 'to', 'go', 'back'])"
      ]
     },
     "execution_count": 208,
     "metadata": {},
     "output_type": "execute_result"
    }
   ],
   "source": [
    "review.words"
   ]
  },
  {
   "cell_type": "code",
   "execution_count": 209,
   "metadata": {
    "id": "SaV9SrVUV5KY"
   },
   "outputs": [],
   "source": [
    "# initialize stemmer\n",
    "stemmer = SnowballStemmer('english')"
   ]
  },
  {
   "cell_type": "code",
   "execution_count": 210,
   "metadata": {
    "colab": {
     "base_uri": "https://localhost:8080/",
     "height": 54
    },
    "executionInfo": {
     "elapsed": 1381,
     "status": "ok",
     "timestamp": 1601642827650,
     "user": {
      "displayName": "Sayan Dey",
      "photoUrl": "https://lh3.googleusercontent.com/a-/AOh14GgqVHJ9o6-7idGiRbNNd4iVc1VjzvuPnwmAnvEtD6U=s64",
      "userId": "03603580465490055794"
     },
     "user_tz": -330
    },
    "id": "R5NMPmnBV5Ko",
    "outputId": "8d359b62-3705-4cfd-e55d-340aad5ac6bb"
   },
   "outputs": [
    {
     "name": "stdout",
     "output_type": "stream",
     "text": [
      "['my', 'wife', 'took', 'me', 'here', 'on', 'my', 'birthday', 'for', 'breakfast', 'and', 'it', 'was', 'excel', 'the', 'weather', 'was', 'perfect', 'which', 'made', 'sit', 'outsid', 'overlook', 'their', 'ground', 'an', 'absolut', 'pleasur', 'our', 'waitress', 'was', 'excel', 'and', 'our', 'food', 'arriv', 'quick', 'on', 'the', 'semi-busi', 'saturday', 'morn', 'it', 'look', 'like', 'the', 'place', 'fill', 'up', 'pretti', 'quick', 'so', 'the', 'earlier', 'you', 'get', 'here', 'the', 'better', 'do', 'yourself', 'a', 'favor', 'and', 'get', 'their', 'bloodi', 'mari', 'it', 'was', 'phenomen', 'and', 'simpli', 'the', 'best', 'i', 've', 'ever', 'had', 'i', \"'m\", 'pretti', 'sure', 'they', 'onli', 'use', 'ingredi', 'from', 'their', 'garden', 'and', 'blend', 'them', 'fresh', 'when', 'you', 'order', 'it', 'it', 'was', 'amaz', 'while', 'everyth', 'on', 'the', 'menu', 'look', 'excel', 'i', 'had', 'the', 'white', 'truffl', 'scrambl', 'egg', 'veget', 'skillet', 'and', 'it', 'was', 'tasti', 'and', 'delici', 'it', 'came', 'with', '2', 'piec', 'of', 'their', 'griddl', 'bread', 'with', 'was', 'amaz', 'and', 'it', 'absolut', 'made', 'the', 'meal', 'complet', 'it', 'was', 'the', 'best', 'toast', 'i', 've', 'ever', 'had', 'anyway', 'i', 'ca', \"n't\", 'wait', 'to', 'go', 'back']\n"
     ]
    }
   ],
   "source": [
    "# stem each word\n",
    "print ([stemmer.stem(word) for word in review.words])"
   ]
  },
  {
   "cell_type": "markdown",
   "metadata": {
    "id": "IhGK9CaeV5Kq"
   },
   "source": [
    "**Lemmatization**\n",
    "\n",
    "- **What:** Derive the canonical form ('lemma') of a word\n",
    "- **Why:** Can be better than stemming\n",
    "- **Notes:** Uses a dictionary-based approach (slower than stemming)"
   ]
  },
  {
   "cell_type": "code",
   "execution_count": 211,
   "metadata": {
    "colab": {
     "base_uri": "https://localhost:8080/",
     "height": 69
    },
    "executionInfo": {
     "elapsed": 1806,
     "status": "ok",
     "timestamp": 1601642833965,
     "user": {
      "displayName": "Sayan Dey",
      "photoUrl": "https://lh3.googleusercontent.com/a-/AOh14GgqVHJ9o6-7idGiRbNNd4iVc1VjzvuPnwmAnvEtD6U=s64",
      "userId": "03603580465490055794"
     },
     "user_tz": -330
    },
    "id": "xjqUkz7eV5Kq",
    "outputId": "7c080994-6966-4ee0-c258-4f29ffddc072"
   },
   "outputs": [
    {
     "name": "stderr",
     "output_type": "stream",
     "text": [
      "[nltk_data] Downloading package wordnet to\n",
      "[nltk_data]     C:\\Users\\Sayan\\AppData\\Roaming\\nltk_data...\n",
      "[nltk_data]   Package wordnet is already up-to-date!\n"
     ]
    },
    {
     "data": {
      "text/plain": [
       "True"
      ]
     },
     "execution_count": 211,
     "metadata": {},
     "output_type": "execute_result"
    }
   ],
   "source": [
    "nltk.download('wordnet')"
   ]
  },
  {
   "cell_type": "code",
   "execution_count": 212,
   "metadata": {
    "colab": {
     "base_uri": "https://localhost:8080/",
     "height": 54
    },
    "executionInfo": {
     "elapsed": 3225,
     "status": "ok",
     "timestamp": 1601642840331,
     "user": {
      "displayName": "Sayan Dey",
      "photoUrl": "https://lh3.googleusercontent.com/a-/AOh14GgqVHJ9o6-7idGiRbNNd4iVc1VjzvuPnwmAnvEtD6U=s64",
      "userId": "03603580465490055794"
     },
     "user_tz": -330
    },
    "id": "JdF1yxbXV5Ku",
    "outputId": "326fc5e0-8815-4568-8bf4-6bfd2f788c3f"
   },
   "outputs": [
    {
     "name": "stdout",
     "output_type": "stream",
     "text": [
      "['My', 'wife', 'took', 'me', 'here', 'on', 'my', 'birthday', 'for', 'breakfast', 'and', 'it', 'wa', 'excellent', 'The', 'weather', 'wa', 'perfect', 'which', 'made', 'sitting', 'outside', 'overlooking', 'their', 'ground', 'an', 'absolute', 'pleasure', 'Our', 'waitress', 'wa', 'excellent', 'and', 'our', 'food', 'arrived', 'quickly', 'on', 'the', 'semi-busy', 'Saturday', 'morning', 'It', 'looked', 'like', 'the', 'place', 'fill', 'up', 'pretty', 'quickly', 'so', 'the', 'earlier', 'you', 'get', 'here', 'the', 'better', 'Do', 'yourself', 'a', 'favor', 'and', 'get', 'their', 'Bloody', 'Mary', 'It', 'wa', 'phenomenal', 'and', 'simply', 'the', 'best', 'I', \"'ve\", 'ever', 'had', 'I', \"'m\", 'pretty', 'sure', 'they', 'only', 'use', 'ingredient', 'from', 'their', 'garden', 'and', 'blend', 'them', 'fresh', 'when', 'you', 'order', 'it', 'It', 'wa', 'amazing', 'While', 'EVERYTHING', 'on', 'the', 'menu', 'look', 'excellent', 'I', 'had', 'the', 'white', 'truffle', 'scrambled', 'egg', 'vegetable', 'skillet', 'and', 'it', 'wa', 'tasty', 'and', 'delicious', 'It', 'came', 'with', '2', 'piece', 'of', 'their', 'griddled', 'bread', 'with', 'wa', 'amazing', 'and', 'it', 'absolutely', 'made', 'the', 'meal', 'complete', 'It', 'wa', 'the', 'best', 'toast', 'I', \"'ve\", 'ever', 'had', 'Anyway', 'I', 'ca', \"n't\", 'wait', 'to', 'go', 'back']\n"
     ]
    }
   ],
   "source": [
    "# assume every word is a noun\n",
    "print ([word.lemmatize() for word in review.words])"
   ]
  },
  {
   "cell_type": "code",
   "execution_count": 213,
   "metadata": {
    "colab": {
     "base_uri": "https://localhost:8080/",
     "height": 54
    },
    "executionInfo": {
     "elapsed": 1230,
     "status": "ok",
     "timestamp": 1601642840922,
     "user": {
      "displayName": "Sayan Dey",
      "photoUrl": "https://lh3.googleusercontent.com/a-/AOh14GgqVHJ9o6-7idGiRbNNd4iVc1VjzvuPnwmAnvEtD6U=s64",
      "userId": "03603580465490055794"
     },
     "user_tz": -330
    },
    "id": "hHuL6R_MV5Kw",
    "outputId": "57354b1b-3bd6-403e-f6d6-430349a4d01c"
   },
   "outputs": [
    {
     "name": "stdout",
     "output_type": "stream",
     "text": [
      "['My', 'wife', 'take', 'me', 'here', 'on', 'my', 'birthday', 'for', 'breakfast', 'and', 'it', 'be', 'excellent', 'The', 'weather', 'be', 'perfect', 'which', 'make', 'sit', 'outside', 'overlook', 'their', 'ground', 'an', 'absolute', 'pleasure', 'Our', 'waitress', 'be', 'excellent', 'and', 'our', 'food', 'arrive', 'quickly', 'on', 'the', 'semi-busy', 'Saturday', 'morning', 'It', 'look', 'like', 'the', 'place', 'fill', 'up', 'pretty', 'quickly', 'so', 'the', 'earlier', 'you', 'get', 'here', 'the', 'better', 'Do', 'yourself', 'a', 'favor', 'and', 'get', 'their', 'Bloody', 'Mary', 'It', 'be', 'phenomenal', 'and', 'simply', 'the', 'best', 'I', \"'ve\", 'ever', 'have', 'I', \"'m\", 'pretty', 'sure', 'they', 'only', 'use', 'ingredients', 'from', 'their', 'garden', 'and', 'blend', 'them', 'fresh', 'when', 'you', 'order', 'it', 'It', 'be', 'amaze', 'While', 'EVERYTHING', 'on', 'the', 'menu', 'look', 'excellent', 'I', 'have', 'the', 'white', 'truffle', 'scramble', 'egg', 'vegetable', 'skillet', 'and', 'it', 'be', 'tasty', 'and', 'delicious', 'It', 'come', 'with', '2', 'piece', 'of', 'their', 'griddle', 'bread', 'with', 'be', 'amaze', 'and', 'it', 'absolutely', 'make', 'the', 'meal', 'complete', 'It', 'be', 'the', 'best', 'toast', 'I', \"'ve\", 'ever', 'have', 'Anyway', 'I', 'ca', \"n't\", 'wait', 'to', 'go', 'back']\n"
     ]
    }
   ],
   "source": [
    "# assume every word is a verb\n",
    "print ([word.lemmatize(pos='v') for word in review.words])"
   ]
  },
  {
   "cell_type": "code",
   "execution_count": null,
   "metadata": {
    "id": "fKlUSLVnV5K1"
   },
   "outputs": [],
   "source": []
  },
  {
   "cell_type": "code",
   "execution_count": 214,
   "metadata": {
    "id": "WNFJ87DUV5K8"
   },
   "outputs": [],
   "source": [
    "# define a function that accepts text and returns a list of lemmas\n",
    "def split_into_lemmas(text):\n",
    "    text = text.lower()\n",
    "    words = TextBlob(text).words\n",
    "    return [word.lemmatize() for word in words]"
   ]
  },
  {
   "cell_type": "code",
   "execution_count": 215,
   "metadata": {
    "colab": {
     "base_uri": "https://localhost:8080/",
     "height": 34
    },
    "executionInfo": {
     "elapsed": 1180,
     "status": "ok",
     "timestamp": 1601642841450,
     "user": {
      "displayName": "Sayan Dey",
      "photoUrl": "https://lh3.googleusercontent.com/a-/AOh14GgqVHJ9o6-7idGiRbNNd4iVc1VjzvuPnwmAnvEtD6U=s64",
      "userId": "03603580465490055794"
     },
     "user_tz": -330
    },
    "id": "qP0De5cwV5K_",
    "outputId": "42868b8b-d768-4a5b-ef1f-a1a3c8cce734"
   },
   "outputs": [
    {
     "data": {
      "text/plain": [
       "<function __main__.split_into_lemmas(text)>"
      ]
     },
     "execution_count": 215,
     "metadata": {},
     "output_type": "execute_result"
    }
   ],
   "source": [
    "split_into_lemmas"
   ]
  },
  {
   "cell_type": "code",
   "execution_count": 216,
   "metadata": {
    "id": "cO24Uf7UV5LD"
   },
   "outputs": [],
   "source": [
    "# use split_into_lemmas as the feature extraction function (WARNING: SLOW!)\n",
    "vect = CountVectorizer(analyzer=split_into_lemmas,stop_words='english',ngram_range=(1, 1),min_df=5)\n",
    "#vect = CountVectorizer(stop_words='english',ngram_range=(1, 1),min_df=1)"
   ]
  },
  {
   "cell_type": "code",
   "execution_count": 217,
   "metadata": {
    "colab": {
     "base_uri": "https://localhost:8080/",
     "height": 327
    },
    "executionInfo": {
     "elapsed": 21551,
     "status": "ok",
     "timestamp": 1601642863751,
     "user": {
      "displayName": "Sayan Dey",
      "photoUrl": "https://lh3.googleusercontent.com/a-/AOh14GgqVHJ9o6-7idGiRbNNd4iVc1VjzvuPnwmAnvEtD6U=s64",
      "userId": "03603580465490055794"
     },
     "user_tz": -330
    },
    "id": "MI8GqLEvV5LG",
    "outputId": "a6256f9a-5964-42d1-e753-c9cdde6f2fd8"
   },
   "outputs": [
    {
     "name": "stdout",
     "output_type": "stream",
     "text": [
      "Features:  6845\n",
      "Training Accuracy\n",
      "0.7425333333333334\n",
      "Testing Accuracy\n",
      "0.498\n",
      "Confusion Matrix\n",
      "[[ 93  40  25  13  14]\n",
      " [ 53  65  67  36  13]\n",
      " [ 24  29 122 148  42]\n",
      " [ 22  20  83 498 261]\n",
      " [ 28  14  25 298 467]]\n",
      "Classifcation Report\n",
      "              precision    recall  f1-score   support\n",
      "\n",
      "           1       0.42      0.50      0.46       185\n",
      "           2       0.39      0.28      0.32       234\n",
      "           3       0.38      0.33      0.36       365\n",
      "           4       0.50      0.56      0.53       884\n",
      "           5       0.59      0.56      0.57       832\n",
      "\n",
      "    accuracy                           0.50      2500\n",
      "   macro avg       0.46      0.45      0.45      2500\n",
      "weighted avg       0.50      0.50      0.49      2500\n",
      "\n"
     ]
    }
   ],
   "source": [
    "tokenize_test(vect)"
   ]
  },
  {
   "cell_type": "markdown",
   "metadata": {
    "id": "vhjGSxOKV5LS"
   },
   "source": [
    "## 7: Term Frequency-Inverse Document Frequency (TF-IDF)"
   ]
  },
  {
   "cell_type": "markdown",
   "metadata": {
    "id": "WcjmyYa2V5LT"
   },
   "source": [
    "- **What:** Computes \"relative frequency\" that a word appears in a document compared to its frequency across all documents\n",
    "- **Why:** More useful than \"term frequency\" for identifying \"important\" words in each document (high frequency in that document, low frequency in other documents)\n",
    "- **Notes:** Used for search engine scoring, text summarization, document clustering"
   ]
  },
  {
   "cell_type": "code",
   "execution_count": 218,
   "metadata": {
    "id": "WG0y6By0V5LT"
   },
   "outputs": [],
   "source": [
    "# example documents\n",
    "simple_train = ['call you tonight', 'Call me a cab', 'please call me... PLEASE!']"
   ]
  },
  {
   "cell_type": "code",
   "execution_count": 219,
   "metadata": {
    "colab": {
     "base_uri": "https://localhost:8080/",
     "height": 140
    },
    "executionInfo": {
     "elapsed": 18989,
     "status": "ok",
     "timestamp": 1601642864280,
     "user": {
      "displayName": "Sayan Dey",
      "photoUrl": "https://lh3.googleusercontent.com/a-/AOh14GgqVHJ9o6-7idGiRbNNd4iVc1VjzvuPnwmAnvEtD6U=s64",
      "userId": "03603580465490055794"
     },
     "user_tz": -330
    },
    "id": "xHUfTpV5V5LV",
    "outputId": "e5d42e8f-3944-4df2-c4c2-8ad7c8ba2d83"
   },
   "outputs": [
    {
     "data": {
      "text/html": [
       "<div>\n",
       "<style scoped>\n",
       "    .dataframe tbody tr th:only-of-type {\n",
       "        vertical-align: middle;\n",
       "    }\n",
       "\n",
       "    .dataframe tbody tr th {\n",
       "        vertical-align: top;\n",
       "    }\n",
       "\n",
       "    .dataframe thead th {\n",
       "        text-align: right;\n",
       "    }\n",
       "</style>\n",
       "<table border=\"1\" class=\"dataframe\">\n",
       "  <thead>\n",
       "    <tr style=\"text-align: right;\">\n",
       "      <th></th>\n",
       "      <th>cab</th>\n",
       "      <th>call</th>\n",
       "      <th>me</th>\n",
       "      <th>please</th>\n",
       "      <th>tonight</th>\n",
       "      <th>you</th>\n",
       "    </tr>\n",
       "  </thead>\n",
       "  <tbody>\n",
       "    <tr>\n",
       "      <th>0</th>\n",
       "      <td>0</td>\n",
       "      <td>1</td>\n",
       "      <td>0</td>\n",
       "      <td>0</td>\n",
       "      <td>1</td>\n",
       "      <td>1</td>\n",
       "    </tr>\n",
       "    <tr>\n",
       "      <th>1</th>\n",
       "      <td>1</td>\n",
       "      <td>1</td>\n",
       "      <td>1</td>\n",
       "      <td>0</td>\n",
       "      <td>0</td>\n",
       "      <td>0</td>\n",
       "    </tr>\n",
       "    <tr>\n",
       "      <th>2</th>\n",
       "      <td>0</td>\n",
       "      <td>1</td>\n",
       "      <td>1</td>\n",
       "      <td>2</td>\n",
       "      <td>0</td>\n",
       "      <td>0</td>\n",
       "    </tr>\n",
       "  </tbody>\n",
       "</table>\n",
       "</div>"
      ],
      "text/plain": [
       "   cab  call  me  please  tonight  you\n",
       "0    0     1   0       0        1    1\n",
       "1    1     1   1       0        0    0\n",
       "2    0     1   1       2        0    0"
      ]
     },
     "execution_count": 219,
     "metadata": {},
     "output_type": "execute_result"
    }
   ],
   "source": [
    "# Term Frequency\n",
    "vect = CountVectorizer()\n",
    "tf = pd.DataFrame(vect.fit_transform(simple_train).toarray(), columns=vect.get_feature_names())\n",
    "tf"
   ]
  },
  {
   "cell_type": "code",
   "execution_count": 220,
   "metadata": {
    "colab": {
     "base_uri": "https://localhost:8080/",
     "height": 79
    },
    "executionInfo": {
     "elapsed": 18838,
     "status": "ok",
     "timestamp": 1601642864281,
     "user": {
      "displayName": "Sayan Dey",
      "photoUrl": "https://lh3.googleusercontent.com/a-/AOh14GgqVHJ9o6-7idGiRbNNd4iVc1VjzvuPnwmAnvEtD6U=s64",
      "userId": "03603580465490055794"
     },
     "user_tz": -330
    },
    "id": "JRQnGW0sV5LY",
    "outputId": "62d145cc-9f6e-4423-bfe8-0b5d85bfba8e"
   },
   "outputs": [
    {
     "data": {
      "text/html": [
       "<div>\n",
       "<style scoped>\n",
       "    .dataframe tbody tr th:only-of-type {\n",
       "        vertical-align: middle;\n",
       "    }\n",
       "\n",
       "    .dataframe tbody tr th {\n",
       "        vertical-align: top;\n",
       "    }\n",
       "\n",
       "    .dataframe thead th {\n",
       "        text-align: right;\n",
       "    }\n",
       "</style>\n",
       "<table border=\"1\" class=\"dataframe\">\n",
       "  <thead>\n",
       "    <tr style=\"text-align: right;\">\n",
       "      <th></th>\n",
       "      <th>cab</th>\n",
       "      <th>call</th>\n",
       "      <th>me</th>\n",
       "      <th>please</th>\n",
       "      <th>tonight</th>\n",
       "      <th>you</th>\n",
       "    </tr>\n",
       "  </thead>\n",
       "  <tbody>\n",
       "    <tr>\n",
       "      <th>0</th>\n",
       "      <td>1</td>\n",
       "      <td>3</td>\n",
       "      <td>2</td>\n",
       "      <td>1</td>\n",
       "      <td>1</td>\n",
       "      <td>1</td>\n",
       "    </tr>\n",
       "  </tbody>\n",
       "</table>\n",
       "</div>"
      ],
      "text/plain": [
       "   cab  call  me  please  tonight  you\n",
       "0    1     3   2       1        1    1"
      ]
     },
     "execution_count": 220,
     "metadata": {},
     "output_type": "execute_result"
    }
   ],
   "source": [
    "# Document Frequency\n",
    "vect = CountVectorizer(binary=True)\n",
    "df = vect.fit_transform(simple_train).toarray().sum(axis=0)\n",
    "pd.DataFrame(df.reshape(1, 6), columns=vect.get_feature_names())"
   ]
  },
  {
   "cell_type": "code",
   "execution_count": 221,
   "metadata": {
    "colab": {
     "base_uri": "https://localhost:8080/",
     "height": 140
    },
    "executionInfo": {
     "elapsed": 18740,
     "status": "ok",
     "timestamp": 1601642864281,
     "user": {
      "displayName": "Sayan Dey",
      "photoUrl": "https://lh3.googleusercontent.com/a-/AOh14GgqVHJ9o6-7idGiRbNNd4iVc1VjzvuPnwmAnvEtD6U=s64",
      "userId": "03603580465490055794"
     },
     "user_tz": -330
    },
    "id": "Jht-LGnTV5La",
    "outputId": "c1de6fe0-2494-47c2-ca56-f8e6173df114"
   },
   "outputs": [
    {
     "data": {
      "text/html": [
       "<div>\n",
       "<style scoped>\n",
       "    .dataframe tbody tr th:only-of-type {\n",
       "        vertical-align: middle;\n",
       "    }\n",
       "\n",
       "    .dataframe tbody tr th {\n",
       "        vertical-align: top;\n",
       "    }\n",
       "\n",
       "    .dataframe thead th {\n",
       "        text-align: right;\n",
       "    }\n",
       "</style>\n",
       "<table border=\"1\" class=\"dataframe\">\n",
       "  <thead>\n",
       "    <tr style=\"text-align: right;\">\n",
       "      <th></th>\n",
       "      <th>cab</th>\n",
       "      <th>call</th>\n",
       "      <th>me</th>\n",
       "      <th>please</th>\n",
       "      <th>tonight</th>\n",
       "      <th>you</th>\n",
       "    </tr>\n",
       "  </thead>\n",
       "  <tbody>\n",
       "    <tr>\n",
       "      <th>0</th>\n",
       "      <td>0.000000</td>\n",
       "      <td>0.385372</td>\n",
       "      <td>0.000000</td>\n",
       "      <td>0.000000</td>\n",
       "      <td>0.652491</td>\n",
       "      <td>0.652491</td>\n",
       "    </tr>\n",
       "    <tr>\n",
       "      <th>1</th>\n",
       "      <td>0.720333</td>\n",
       "      <td>0.425441</td>\n",
       "      <td>0.547832</td>\n",
       "      <td>0.000000</td>\n",
       "      <td>0.000000</td>\n",
       "      <td>0.000000</td>\n",
       "    </tr>\n",
       "    <tr>\n",
       "      <th>2</th>\n",
       "      <td>0.000000</td>\n",
       "      <td>0.266075</td>\n",
       "      <td>0.342620</td>\n",
       "      <td>0.901008</td>\n",
       "      <td>0.000000</td>\n",
       "      <td>0.000000</td>\n",
       "    </tr>\n",
       "  </tbody>\n",
       "</table>\n",
       "</div>"
      ],
      "text/plain": [
       "        cab      call        me    please   tonight       you\n",
       "0  0.000000  0.385372  0.000000  0.000000  0.652491  0.652491\n",
       "1  0.720333  0.425441  0.547832  0.000000  0.000000  0.000000\n",
       "2  0.000000  0.266075  0.342620  0.901008  0.000000  0.000000"
      ]
     },
     "execution_count": 221,
     "metadata": {},
     "output_type": "execute_result"
    }
   ],
   "source": [
    "# TfidfVectorizer\n",
    "vect = TfidfVectorizer()\n",
    "pd.DataFrame(vect.fit_transform(simple_train).toarray(), columns=vect.get_feature_names())"
   ]
  },
  {
   "cell_type": "markdown",
   "metadata": {
    "id": "M2vSpkRMV5Le"
   },
   "source": [
    "## Classify Yelp Review with TFIDF?"
   ]
  },
  {
   "cell_type": "markdown",
   "metadata": {
    "id": "-6s3ljAyV5Le"
   },
   "source": [
    "1. Separate data into train and test"
   ]
  },
  {
   "cell_type": "code",
   "execution_count": null,
   "metadata": {
    "id": "c92JPdG7V5Lf"
   },
   "outputs": [],
   "source": []
  },
  {
   "cell_type": "markdown",
   "metadata": {
    "id": "AlXM6iumV5Lh"
   },
   "source": [
    "2. Create DTM using TFIDF"
   ]
  },
  {
   "cell_type": "code",
   "execution_count": null,
   "metadata": {
    "id": "4sk1Vw3GV5Lh"
   },
   "outputs": [],
   "source": []
  },
  {
   "cell_type": "markdown",
   "metadata": {
    "collapsed": true,
    "id": "jOcpQTtMV5Lk"
   },
   "source": [
    "3. Build classification model with Naive Bayes"
   ]
  },
  {
   "cell_type": "code",
   "execution_count": null,
   "metadata": {
    "id": "89EfCwC6V5Lq"
   },
   "outputs": [],
   "source": []
  },
  {
   "cell_type": "markdown",
   "metadata": {
    "id": "W7lZO5qzV5Lz"
   },
   "source": [
    "4. Calculate classification score"
   ]
  },
  {
   "cell_type": "code",
   "execution_count": null,
   "metadata": {
    "id": "zCOeKq3dV5L0"
   },
   "outputs": [],
   "source": []
  },
  {
   "cell_type": "markdown",
   "metadata": {
    "id": "qObC9Tn4V5L3"
   },
   "source": [
    "5. Compare it with CountVectorizer"
   ]
  },
  {
   "cell_type": "code",
   "execution_count": null,
   "metadata": {
    "id": "ECzGNh1JV5L4"
   },
   "outputs": [],
   "source": []
  },
  {
   "cell_type": "markdown",
   "metadata": {
    "id": "xeoZYoGKV5L7"
   },
   "source": [
    "6. Lemmatization Vs. Stemming when using in TFIDF"
   ]
  },
  {
   "cell_type": "code",
   "execution_count": null,
   "metadata": {
    "id": "NR8Z68DQV5L7"
   },
   "outputs": [],
   "source": []
  },
  {
   "cell_type": "markdown",
   "metadata": {
    "id": "H1jiqGGVV5MC"
   },
   "source": [
    "## 9: Sentiment Analysis"
   ]
  },
  {
   "cell_type": "code",
   "execution_count": 61,
   "metadata": {
    "id": "HxFOtDyJW2Oi"
   },
   "outputs": [],
   "source": [
    "review = TextBlob(\"Sayan is teaching amazingly well !!!\")"
   ]
  },
  {
   "cell_type": "code",
   "execution_count": 62,
   "metadata": {
    "colab": {
     "base_uri": "https://localhost:8080/",
     "height": 158
    },
    "executionInfo": {
     "elapsed": 1280,
     "status": "ok",
     "timestamp": 1601642972942,
     "user": {
      "displayName": "Sayan Dey",
      "photoUrl": "https://lh3.googleusercontent.com/a-/AOh14GgqVHJ9o6-7idGiRbNNd4iVc1VjzvuPnwmAnvEtD6U=s64",
      "userId": "03603580465490055794"
     },
     "user_tz": -330
    },
    "id": "lAUB6q2cV5MD",
    "outputId": "ce322afb-5b1c-44ed-ccbc-894e98bc3645"
   },
   "outputs": [
    {
     "name": "stdout",
     "output_type": "stream",
     "text": [
      "Sayan is teaching amazingly well !!!\n"
     ]
    }
   ],
   "source": [
    "print (review)"
   ]
  },
  {
   "cell_type": "code",
   "execution_count": 63,
   "metadata": {
    "colab": {
     "base_uri": "https://localhost:8080/",
     "height": 34
    },
    "executionInfo": {
     "elapsed": 1277,
     "status": "ok",
     "timestamp": 1601642978571,
     "user": {
      "displayName": "Sayan Dey",
      "photoUrl": "https://lh3.googleusercontent.com/a-/AOh14GgqVHJ9o6-7idGiRbNNd4iVc1VjzvuPnwmAnvEtD6U=s64",
      "userId": "03603580465490055794"
     },
     "user_tz": -330
    },
    "id": "y3kGiXcmV5ME",
    "outputId": "27a20b5c-3dd2-4336-e345-97e4c0ff0b1b"
   },
   "outputs": [
    {
     "data": {
      "text/plain": [
       "1.0"
      ]
     },
     "execution_count": 63,
     "metadata": {},
     "output_type": "execute_result"
    }
   ],
   "source": [
    "# polarity ranges from -1 (most negative) to 1 (most positive)\n",
    "review.sentiment.polarity"
   ]
  },
  {
   "cell_type": "code",
   "execution_count": 58,
   "metadata": {},
   "outputs": [
    {
     "data": {
      "text/html": [
       "<div>\n",
       "<style scoped>\n",
       "    .dataframe tbody tr th:only-of-type {\n",
       "        vertical-align: middle;\n",
       "    }\n",
       "\n",
       "    .dataframe tbody tr th {\n",
       "        vertical-align: top;\n",
       "    }\n",
       "\n",
       "    .dataframe thead th {\n",
       "        text-align: right;\n",
       "    }\n",
       "</style>\n",
       "<table border=\"1\" class=\"dataframe\">\n",
       "  <thead>\n",
       "    <tr style=\"text-align: right;\">\n",
       "      <th></th>\n",
       "      <th>business_id</th>\n",
       "      <th>date</th>\n",
       "      <th>review_id</th>\n",
       "      <th>stars</th>\n",
       "      <th>text</th>\n",
       "      <th>type</th>\n",
       "      <th>user_id</th>\n",
       "      <th>cool</th>\n",
       "      <th>useful</th>\n",
       "      <th>funny</th>\n",
       "    </tr>\n",
       "  </thead>\n",
       "  <tbody>\n",
       "    <tr>\n",
       "      <th>0</th>\n",
       "      <td>9yKzy9PApeiPPOUJEtnvkg</td>\n",
       "      <td>2011-01-26</td>\n",
       "      <td>fWKvX83p0-ka4JS3dc6E5A</td>\n",
       "      <td>5</td>\n",
       "      <td>My wife took me here on my birthday for breakf...</td>\n",
       "      <td>review</td>\n",
       "      <td>rLtl8ZkDX5vH5nAx9C3q5Q</td>\n",
       "      <td>2</td>\n",
       "      <td>5</td>\n",
       "      <td>0</td>\n",
       "    </tr>\n",
       "    <tr>\n",
       "      <th>1</th>\n",
       "      <td>ZRJwVLyzEJq1VAihDhYiow</td>\n",
       "      <td>2011-07-27</td>\n",
       "      <td>IjZ33sJrzXqU-0X6U8NwyA</td>\n",
       "      <td>5</td>\n",
       "      <td>I have no idea why some people give bad review...</td>\n",
       "      <td>review</td>\n",
       "      <td>0a2KyEL0d3Yb1V6aivbIuQ</td>\n",
       "      <td>0</td>\n",
       "      <td>0</td>\n",
       "      <td>0</td>\n",
       "    </tr>\n",
       "    <tr>\n",
       "      <th>2</th>\n",
       "      <td>6oRAC4uyJCsJl1X0WZpVSA</td>\n",
       "      <td>2012-06-14</td>\n",
       "      <td>IESLBzqUCLdSzSqm0eCSxQ</td>\n",
       "      <td>4</td>\n",
       "      <td>love the gyro plate. Rice is so good and I als...</td>\n",
       "      <td>review</td>\n",
       "      <td>0hT2KtfLiobPvh6cDC8JQg</td>\n",
       "      <td>0</td>\n",
       "      <td>1</td>\n",
       "      <td>0</td>\n",
       "    </tr>\n",
       "    <tr>\n",
       "      <th>3</th>\n",
       "      <td>_1QQZuf4zZOyFCvXc0o6Vg</td>\n",
       "      <td>2010-05-27</td>\n",
       "      <td>G-WvGaISbqqaMHlNnByodA</td>\n",
       "      <td>5</td>\n",
       "      <td>Rosie, Dakota, and I LOVE Chaparral Dog Park!!...</td>\n",
       "      <td>review</td>\n",
       "      <td>uZetl9T0NcROGOyFfughhg</td>\n",
       "      <td>1</td>\n",
       "      <td>2</td>\n",
       "      <td>0</td>\n",
       "    </tr>\n",
       "    <tr>\n",
       "      <th>4</th>\n",
       "      <td>6ozycU1RpktNG2-1BroVtw</td>\n",
       "      <td>2012-01-05</td>\n",
       "      <td>1uJFq2r5QfJG_6ExMRCaGw</td>\n",
       "      <td>5</td>\n",
       "      <td>General Manager Scott Petello is a good egg!!!...</td>\n",
       "      <td>review</td>\n",
       "      <td>vYmM4KTsC8ZfQBg-j5MWkw</td>\n",
       "      <td>0</td>\n",
       "      <td>0</td>\n",
       "      <td>0</td>\n",
       "    </tr>\n",
       "    <tr>\n",
       "      <th>5</th>\n",
       "      <td>-yxfBYGB6SEqszmxJxd97A</td>\n",
       "      <td>2007-12-13</td>\n",
       "      <td>m2CKSsepBCoRYWxiRUsxAg</td>\n",
       "      <td>4</td>\n",
       "      <td>Quiessence is, simply put, beautiful.  Full wi...</td>\n",
       "      <td>review</td>\n",
       "      <td>sqYN3lNgvPbPCTRsMFu27g</td>\n",
       "      <td>4</td>\n",
       "      <td>3</td>\n",
       "      <td>1</td>\n",
       "    </tr>\n",
       "    <tr>\n",
       "      <th>6</th>\n",
       "      <td>zp713qNhx8d9KCJJnrw1xA</td>\n",
       "      <td>2010-02-12</td>\n",
       "      <td>riFQ3vxNpP4rWLk_CSri2A</td>\n",
       "      <td>5</td>\n",
       "      <td>Drop what you're doing and drive here. After I...</td>\n",
       "      <td>review</td>\n",
       "      <td>wFweIWhv2fREZV_dYkz_1g</td>\n",
       "      <td>7</td>\n",
       "      <td>7</td>\n",
       "      <td>4</td>\n",
       "    </tr>\n",
       "    <tr>\n",
       "      <th>7</th>\n",
       "      <td>hW0Ne_HTHEAgGF1rAdmR-g</td>\n",
       "      <td>2012-07-12</td>\n",
       "      <td>JL7GXJ9u4YMx7Rzs05NfiQ</td>\n",
       "      <td>4</td>\n",
       "      <td>Luckily, I didn't have to travel far to make m...</td>\n",
       "      <td>review</td>\n",
       "      <td>1ieuYcKS7zeAv_U15AB13A</td>\n",
       "      <td>0</td>\n",
       "      <td>1</td>\n",
       "      <td>0</td>\n",
       "    </tr>\n",
       "    <tr>\n",
       "      <th>8</th>\n",
       "      <td>wNUea3IXZWD63bbOQaOH-g</td>\n",
       "      <td>2012-08-17</td>\n",
       "      <td>XtnfnYmnJYi71yIuGsXIUA</td>\n",
       "      <td>4</td>\n",
       "      <td>Definitely come for Happy hour! Prices are ama...</td>\n",
       "      <td>review</td>\n",
       "      <td>Vh_DlizgGhSqQh4qfZ2h6A</td>\n",
       "      <td>0</td>\n",
       "      <td>0</td>\n",
       "      <td>0</td>\n",
       "    </tr>\n",
       "    <tr>\n",
       "      <th>9</th>\n",
       "      <td>nMHhuYan8e3cONo3PornJA</td>\n",
       "      <td>2010-08-11</td>\n",
       "      <td>jJAIXA46pU1swYyRCdfXtQ</td>\n",
       "      <td>5</td>\n",
       "      <td>Nobuo shows his unique talents with everything...</td>\n",
       "      <td>review</td>\n",
       "      <td>sUNkXg8-KFtCMQDV6zRzQg</td>\n",
       "      <td>0</td>\n",
       "      <td>1</td>\n",
       "      <td>0</td>\n",
       "    </tr>\n",
       "    <tr>\n",
       "      <th>10</th>\n",
       "      <td>AsSCv0q_BWqIe3mX2JqsOQ</td>\n",
       "      <td>2010-06-16</td>\n",
       "      <td>E11jzpKz9Kw5K7fuARWfRw</td>\n",
       "      <td>5</td>\n",
       "      <td>The oldish man who owns the store is as sweet ...</td>\n",
       "      <td>review</td>\n",
       "      <td>-OMlS6yWkYjVldNhC31wYg</td>\n",
       "      <td>1</td>\n",
       "      <td>3</td>\n",
       "      <td>1</td>\n",
       "    </tr>\n",
       "    <tr>\n",
       "      <th>11</th>\n",
       "      <td>e9nN4XxjdHj4qtKCOPq_vg</td>\n",
       "      <td>2011-10-21</td>\n",
       "      <td>3rPt0LxF7rgmEUrznoH22w</td>\n",
       "      <td>5</td>\n",
       "      <td>Wonderful Vietnamese sandwich shoppe. Their ba...</td>\n",
       "      <td>review</td>\n",
       "      <td>C1rHp3dmepNea7XiouwB6Q</td>\n",
       "      <td>1</td>\n",
       "      <td>1</td>\n",
       "      <td>0</td>\n",
       "    </tr>\n",
       "    <tr>\n",
       "      <th>12</th>\n",
       "      <td>h53YuCiIDfEFSJCQpk8v1g</td>\n",
       "      <td>2010-01-11</td>\n",
       "      <td>cGnKNX3I9rthE0-TH24-qA</td>\n",
       "      <td>5</td>\n",
       "      <td>They have a limited time thing going on right ...</td>\n",
       "      <td>review</td>\n",
       "      <td>UPtysDF6cUDUxq2KY-6Dcg</td>\n",
       "      <td>1</td>\n",
       "      <td>2</td>\n",
       "      <td>0</td>\n",
       "    </tr>\n",
       "    <tr>\n",
       "      <th>13</th>\n",
       "      <td>WGNIYMeXPyoWav1APUq7jA</td>\n",
       "      <td>2011-12-23</td>\n",
       "      <td>FvEEw1_OsrYdvwLV5Hrliw</td>\n",
       "      <td>4</td>\n",
       "      <td>Good tattoo shop. Clean space, multiple artist...</td>\n",
       "      <td>review</td>\n",
       "      <td>Xm8HXE1JHqscXe5BKf0GFQ</td>\n",
       "      <td>1</td>\n",
       "      <td>2</td>\n",
       "      <td>0</td>\n",
       "    </tr>\n",
       "    <tr>\n",
       "      <th>14</th>\n",
       "      <td>yc5AH9H71xJidA_J2mChLA</td>\n",
       "      <td>2010-05-20</td>\n",
       "      <td>pfUwBKYYmUXeiwrhDluQcw</td>\n",
       "      <td>4</td>\n",
       "      <td>I'm 2 weeks new to Phoenix. I looked up Irish ...</td>\n",
       "      <td>review</td>\n",
       "      <td>JOG-4G4e8ae3lx_szHtR8g</td>\n",
       "      <td>1</td>\n",
       "      <td>1</td>\n",
       "      <td>0</td>\n",
       "    </tr>\n",
       "    <tr>\n",
       "      <th>15</th>\n",
       "      <td>Vb9FPCEL6Ly24PNxLBaAFw</td>\n",
       "      <td>2011-03-20</td>\n",
       "      <td>HvqmdqWcerVWO3Gs6zbrOw</td>\n",
       "      <td>2</td>\n",
       "      <td>Was it worth the 21$ for a salad and small piz...</td>\n",
       "      <td>review</td>\n",
       "      <td>ylWOj2y7TV2e3yYeWhu2QA</td>\n",
       "      <td>0</td>\n",
       "      <td>2</td>\n",
       "      <td>0</td>\n",
       "    </tr>\n",
       "    <tr>\n",
       "      <th>16</th>\n",
       "      <td>supigcPNO9IKo6olaTNV-g</td>\n",
       "      <td>2008-10-12</td>\n",
       "      <td>HXP_0Ul-FCmA4f-k9CqvaQ</td>\n",
       "      <td>3</td>\n",
       "      <td>We went here on a Saturday afternoon and this ...</td>\n",
       "      <td>review</td>\n",
       "      <td>SBbftLzfYYKItOMFwOTIJg</td>\n",
       "      <td>3</td>\n",
       "      <td>4</td>\n",
       "      <td>2</td>\n",
       "    </tr>\n",
       "    <tr>\n",
       "      <th>17</th>\n",
       "      <td>O510Re68mOy9dU490JTKCg</td>\n",
       "      <td>2010-05-03</td>\n",
       "      <td>j4SIzrIy0WrmW4yr4--Khg</td>\n",
       "      <td>5</td>\n",
       "      <td>okay this is the best place EVER! i grew up sh...</td>\n",
       "      <td>review</td>\n",
       "      <td>u1KWcbPMvXFEEYkZZ0Yktg</td>\n",
       "      <td>0</td>\n",
       "      <td>0</td>\n",
       "      <td>0</td>\n",
       "    </tr>\n",
       "    <tr>\n",
       "      <th>18</th>\n",
       "      <td>b5cEoKR8iQliq-yT2_O0LQ</td>\n",
       "      <td>2009-03-06</td>\n",
       "      <td>v0cTd3PNpYCkTyGKSpOfGA</td>\n",
       "      <td>3</td>\n",
       "      <td>I met a friend for lunch yesterday. \\n\\nLoved ...</td>\n",
       "      <td>review</td>\n",
       "      <td>UsULgP4bKA8RMzs8dQzcsA</td>\n",
       "      <td>5</td>\n",
       "      <td>6</td>\n",
       "      <td>4</td>\n",
       "    </tr>\n",
       "    <tr>\n",
       "      <th>19</th>\n",
       "      <td>4JzzbSbK9wmlOBJZWYfuCg</td>\n",
       "      <td>2011-11-17</td>\n",
       "      <td>a0lCu-j2Sk_kHQsZi_eNgw</td>\n",
       "      <td>4</td>\n",
       "      <td>They've gotten better and better for me in the...</td>\n",
       "      <td>review</td>\n",
       "      <td>nDBly08j5URmrHQ2JCbyiw</td>\n",
       "      <td>1</td>\n",
       "      <td>1</td>\n",
       "      <td>1</td>\n",
       "    </tr>\n",
       "  </tbody>\n",
       "</table>\n",
       "</div>"
      ],
      "text/plain": [
       "               business_id        date               review_id  stars  \\\n",
       "0   9yKzy9PApeiPPOUJEtnvkg  2011-01-26  fWKvX83p0-ka4JS3dc6E5A      5   \n",
       "1   ZRJwVLyzEJq1VAihDhYiow  2011-07-27  IjZ33sJrzXqU-0X6U8NwyA      5   \n",
       "2   6oRAC4uyJCsJl1X0WZpVSA  2012-06-14  IESLBzqUCLdSzSqm0eCSxQ      4   \n",
       "3   _1QQZuf4zZOyFCvXc0o6Vg  2010-05-27  G-WvGaISbqqaMHlNnByodA      5   \n",
       "4   6ozycU1RpktNG2-1BroVtw  2012-01-05  1uJFq2r5QfJG_6ExMRCaGw      5   \n",
       "5   -yxfBYGB6SEqszmxJxd97A  2007-12-13  m2CKSsepBCoRYWxiRUsxAg      4   \n",
       "6   zp713qNhx8d9KCJJnrw1xA  2010-02-12  riFQ3vxNpP4rWLk_CSri2A      5   \n",
       "7   hW0Ne_HTHEAgGF1rAdmR-g  2012-07-12  JL7GXJ9u4YMx7Rzs05NfiQ      4   \n",
       "8   wNUea3IXZWD63bbOQaOH-g  2012-08-17  XtnfnYmnJYi71yIuGsXIUA      4   \n",
       "9   nMHhuYan8e3cONo3PornJA  2010-08-11  jJAIXA46pU1swYyRCdfXtQ      5   \n",
       "10  AsSCv0q_BWqIe3mX2JqsOQ  2010-06-16  E11jzpKz9Kw5K7fuARWfRw      5   \n",
       "11  e9nN4XxjdHj4qtKCOPq_vg  2011-10-21  3rPt0LxF7rgmEUrznoH22w      5   \n",
       "12  h53YuCiIDfEFSJCQpk8v1g  2010-01-11  cGnKNX3I9rthE0-TH24-qA      5   \n",
       "13  WGNIYMeXPyoWav1APUq7jA  2011-12-23  FvEEw1_OsrYdvwLV5Hrliw      4   \n",
       "14  yc5AH9H71xJidA_J2mChLA  2010-05-20  pfUwBKYYmUXeiwrhDluQcw      4   \n",
       "15  Vb9FPCEL6Ly24PNxLBaAFw  2011-03-20  HvqmdqWcerVWO3Gs6zbrOw      2   \n",
       "16  supigcPNO9IKo6olaTNV-g  2008-10-12  HXP_0Ul-FCmA4f-k9CqvaQ      3   \n",
       "17  O510Re68mOy9dU490JTKCg  2010-05-03  j4SIzrIy0WrmW4yr4--Khg      5   \n",
       "18  b5cEoKR8iQliq-yT2_O0LQ  2009-03-06  v0cTd3PNpYCkTyGKSpOfGA      3   \n",
       "19  4JzzbSbK9wmlOBJZWYfuCg  2011-11-17  a0lCu-j2Sk_kHQsZi_eNgw      4   \n",
       "\n",
       "                                                 text    type  \\\n",
       "0   My wife took me here on my birthday for breakf...  review   \n",
       "1   I have no idea why some people give bad review...  review   \n",
       "2   love the gyro plate. Rice is so good and I als...  review   \n",
       "3   Rosie, Dakota, and I LOVE Chaparral Dog Park!!...  review   \n",
       "4   General Manager Scott Petello is a good egg!!!...  review   \n",
       "5   Quiessence is, simply put, beautiful.  Full wi...  review   \n",
       "6   Drop what you're doing and drive here. After I...  review   \n",
       "7   Luckily, I didn't have to travel far to make m...  review   \n",
       "8   Definitely come for Happy hour! Prices are ama...  review   \n",
       "9   Nobuo shows his unique talents with everything...  review   \n",
       "10  The oldish man who owns the store is as sweet ...  review   \n",
       "11  Wonderful Vietnamese sandwich shoppe. Their ba...  review   \n",
       "12  They have a limited time thing going on right ...  review   \n",
       "13  Good tattoo shop. Clean space, multiple artist...  review   \n",
       "14  I'm 2 weeks new to Phoenix. I looked up Irish ...  review   \n",
       "15  Was it worth the 21$ for a salad and small piz...  review   \n",
       "16  We went here on a Saturday afternoon and this ...  review   \n",
       "17  okay this is the best place EVER! i grew up sh...  review   \n",
       "18  I met a friend for lunch yesterday. \\n\\nLoved ...  review   \n",
       "19  They've gotten better and better for me in the...  review   \n",
       "\n",
       "                   user_id  cool  useful  funny  \n",
       "0   rLtl8ZkDX5vH5nAx9C3q5Q     2       5      0  \n",
       "1   0a2KyEL0d3Yb1V6aivbIuQ     0       0      0  \n",
       "2   0hT2KtfLiobPvh6cDC8JQg     0       1      0  \n",
       "3   uZetl9T0NcROGOyFfughhg     1       2      0  \n",
       "4   vYmM4KTsC8ZfQBg-j5MWkw     0       0      0  \n",
       "5   sqYN3lNgvPbPCTRsMFu27g     4       3      1  \n",
       "6   wFweIWhv2fREZV_dYkz_1g     7       7      4  \n",
       "7   1ieuYcKS7zeAv_U15AB13A     0       1      0  \n",
       "8   Vh_DlizgGhSqQh4qfZ2h6A     0       0      0  \n",
       "9   sUNkXg8-KFtCMQDV6zRzQg     0       1      0  \n",
       "10  -OMlS6yWkYjVldNhC31wYg     1       3      1  \n",
       "11  C1rHp3dmepNea7XiouwB6Q     1       1      0  \n",
       "12  UPtysDF6cUDUxq2KY-6Dcg     1       2      0  \n",
       "13  Xm8HXE1JHqscXe5BKf0GFQ     1       2      0  \n",
       "14  JOG-4G4e8ae3lx_szHtR8g     1       1      0  \n",
       "15  ylWOj2y7TV2e3yYeWhu2QA     0       2      0  \n",
       "16  SBbftLzfYYKItOMFwOTIJg     3       4      2  \n",
       "17  u1KWcbPMvXFEEYkZZ0Yktg     0       0      0  \n",
       "18  UsULgP4bKA8RMzs8dQzcsA     5       6      4  \n",
       "19  nDBly08j5URmrHQ2JCbyiw     1       1      1  "
      ]
     },
     "execution_count": 58,
     "metadata": {},
     "output_type": "execute_result"
    }
   ],
   "source": [
    "yelp_best_worst.head(20)"
   ]
  },
  {
   "cell_type": "code",
   "execution_count": 59,
   "metadata": {
    "id": "HxFOtDyJW2Oi"
   },
   "outputs": [],
   "source": [
    "# save it as a TextBlob object\n",
    "review = TextBlob(yelp_best_worst.text[12])"
   ]
  },
  {
   "cell_type": "code",
   "execution_count": 60,
   "metadata": {
    "colab": {
     "base_uri": "https://localhost:8080/",
     "height": 158
    },
    "executionInfo": {
     "elapsed": 1280,
     "status": "ok",
     "timestamp": 1601642972942,
     "user": {
      "displayName": "Sayan Dey",
      "photoUrl": "https://lh3.googleusercontent.com/a-/AOh14GgqVHJ9o6-7idGiRbNNd4iVc1VjzvuPnwmAnvEtD6U=s64",
      "userId": "03603580465490055794"
     },
     "user_tz": -330
    },
    "id": "lAUB6q2cV5MD",
    "outputId": "ce322afb-5b1c-44ed-ccbc-894e98bc3645"
   },
   "outputs": [
    {
     "name": "stdout",
     "output_type": "stream",
     "text": [
      "They have a limited time thing going on right now with BBQ chicken pizza (not sure how long it's going to last) but let me just say it was amazing.  Probably THE best BBQ Chicken pizza I have ever had.  I have tried other things too, like the tomato basil soup, and many of their sandwiches ... very good, very fresh - every time.  \n",
      "\n",
      "The 5 stars is for the pizza, but if I were to rate Jason's Deli over all they would get about a 4.\n"
     ]
    }
   ],
   "source": [
    "print (review)"
   ]
  },
  {
   "cell_type": "code",
   "execution_count": 61,
   "metadata": {
    "colab": {
     "base_uri": "https://localhost:8080/",
     "height": 34
    },
    "executionInfo": {
     "elapsed": 1277,
     "status": "ok",
     "timestamp": 1601642978571,
     "user": {
      "displayName": "Sayan Dey",
      "photoUrl": "https://lh3.googleusercontent.com/a-/AOh14GgqVHJ9o6-7idGiRbNNd4iVc1VjzvuPnwmAnvEtD6U=s64",
      "userId": "03603580465490055794"
     },
     "user_tz": -330
    },
    "id": "y3kGiXcmV5ME",
    "outputId": "27a20b5c-3dd2-4336-e345-97e4c0ff0b1b"
   },
   "outputs": [
    {
     "data": {
      "text/plain": [
       "0.15302197802197803"
      ]
     },
     "execution_count": 61,
     "metadata": {},
     "output_type": "execute_result"
    }
   ],
   "source": [
    "# polarity ranges from -1 (most negative) to 1 (most positive)\n",
    "review.sentiment.polarity"
   ]
  },
  {
   "cell_type": "code",
   "execution_count": 62,
   "metadata": {
    "colab": {
     "base_uri": "https://localhost:8080/",
     "height": 96
    },
    "executionInfo": {
     "elapsed": 1984,
     "status": "ok",
     "timestamp": 1601643038590,
     "user": {
      "displayName": "Sayan Dey",
      "photoUrl": "https://lh3.googleusercontent.com/a-/AOh14GgqVHJ9o6-7idGiRbNNd4iVc1VjzvuPnwmAnvEtD6U=s64",
      "userId": "03603580465490055794"
     },
     "user_tz": -330
    },
    "id": "XOd0DYj-V5MG",
    "outputId": "af41f2ab-75c8-489f-9072-d2cd8f1a2d18"
   },
   "outputs": [
    {
     "data": {
      "text/html": [
       "<div>\n",
       "<style scoped>\n",
       "    .dataframe tbody tr th:only-of-type {\n",
       "        vertical-align: middle;\n",
       "    }\n",
       "\n",
       "    .dataframe tbody tr th {\n",
       "        vertical-align: top;\n",
       "    }\n",
       "\n",
       "    .dataframe thead th {\n",
       "        text-align: right;\n",
       "    }\n",
       "</style>\n",
       "<table border=\"1\" class=\"dataframe\">\n",
       "  <thead>\n",
       "    <tr style=\"text-align: right;\">\n",
       "      <th></th>\n",
       "      <th>business_id</th>\n",
       "      <th>date</th>\n",
       "      <th>review_id</th>\n",
       "      <th>stars</th>\n",
       "      <th>text</th>\n",
       "      <th>type</th>\n",
       "      <th>user_id</th>\n",
       "      <th>cool</th>\n",
       "      <th>useful</th>\n",
       "      <th>funny</th>\n",
       "      <th>length</th>\n",
       "    </tr>\n",
       "  </thead>\n",
       "  <tbody>\n",
       "    <tr>\n",
       "      <th>0</th>\n",
       "      <td>9yKzy9PApeiPPOUJEtnvkg</td>\n",
       "      <td>2011-01-26</td>\n",
       "      <td>fWKvX83p0-ka4JS3dc6E5A</td>\n",
       "      <td>5</td>\n",
       "      <td>My wife took me here on my birthday for breakf...</td>\n",
       "      <td>review</td>\n",
       "      <td>rLtl8ZkDX5vH5nAx9C3q5Q</td>\n",
       "      <td>2</td>\n",
       "      <td>5</td>\n",
       "      <td>0</td>\n",
       "      <td>889</td>\n",
       "    </tr>\n",
       "    <tr>\n",
       "      <th>1</th>\n",
       "      <td>ZRJwVLyzEJq1VAihDhYiow</td>\n",
       "      <td>2011-07-27</td>\n",
       "      <td>IjZ33sJrzXqU-0X6U8NwyA</td>\n",
       "      <td>5</td>\n",
       "      <td>I have no idea why some people give bad review...</td>\n",
       "      <td>review</td>\n",
       "      <td>0a2KyEL0d3Yb1V6aivbIuQ</td>\n",
       "      <td>0</td>\n",
       "      <td>0</td>\n",
       "      <td>0</td>\n",
       "      <td>1345</td>\n",
       "    </tr>\n",
       "    <tr>\n",
       "      <th>2</th>\n",
       "      <td>6oRAC4uyJCsJl1X0WZpVSA</td>\n",
       "      <td>2012-06-14</td>\n",
       "      <td>IESLBzqUCLdSzSqm0eCSxQ</td>\n",
       "      <td>4</td>\n",
       "      <td>love the gyro plate. Rice is so good and I als...</td>\n",
       "      <td>review</td>\n",
       "      <td>0hT2KtfLiobPvh6cDC8JQg</td>\n",
       "      <td>0</td>\n",
       "      <td>1</td>\n",
       "      <td>0</td>\n",
       "      <td>76</td>\n",
       "    </tr>\n",
       "    <tr>\n",
       "      <th>3</th>\n",
       "      <td>_1QQZuf4zZOyFCvXc0o6Vg</td>\n",
       "      <td>2010-05-27</td>\n",
       "      <td>G-WvGaISbqqaMHlNnByodA</td>\n",
       "      <td>5</td>\n",
       "      <td>Rosie, Dakota, and I LOVE Chaparral Dog Park!!...</td>\n",
       "      <td>review</td>\n",
       "      <td>uZetl9T0NcROGOyFfughhg</td>\n",
       "      <td>1</td>\n",
       "      <td>2</td>\n",
       "      <td>0</td>\n",
       "      <td>419</td>\n",
       "    </tr>\n",
       "    <tr>\n",
       "      <th>4</th>\n",
       "      <td>6ozycU1RpktNG2-1BroVtw</td>\n",
       "      <td>2012-01-05</td>\n",
       "      <td>1uJFq2r5QfJG_6ExMRCaGw</td>\n",
       "      <td>5</td>\n",
       "      <td>General Manager Scott Petello is a good egg!!!...</td>\n",
       "      <td>review</td>\n",
       "      <td>vYmM4KTsC8ZfQBg-j5MWkw</td>\n",
       "      <td>0</td>\n",
       "      <td>0</td>\n",
       "      <td>0</td>\n",
       "      <td>469</td>\n",
       "    </tr>\n",
       "  </tbody>\n",
       "</table>\n",
       "</div>"
      ],
      "text/plain": [
       "              business_id        date               review_id  stars  \\\n",
       "0  9yKzy9PApeiPPOUJEtnvkg  2011-01-26  fWKvX83p0-ka4JS3dc6E5A      5   \n",
       "1  ZRJwVLyzEJq1VAihDhYiow  2011-07-27  IjZ33sJrzXqU-0X6U8NwyA      5   \n",
       "2  6oRAC4uyJCsJl1X0WZpVSA  2012-06-14  IESLBzqUCLdSzSqm0eCSxQ      4   \n",
       "3  _1QQZuf4zZOyFCvXc0o6Vg  2010-05-27  G-WvGaISbqqaMHlNnByodA      5   \n",
       "4  6ozycU1RpktNG2-1BroVtw  2012-01-05  1uJFq2r5QfJG_6ExMRCaGw      5   \n",
       "\n",
       "                                                text    type  \\\n",
       "0  My wife took me here on my birthday for breakf...  review   \n",
       "1  I have no idea why some people give bad review...  review   \n",
       "2  love the gyro plate. Rice is so good and I als...  review   \n",
       "3  Rosie, Dakota, and I LOVE Chaparral Dog Park!!...  review   \n",
       "4  General Manager Scott Petello is a good egg!!!...  review   \n",
       "\n",
       "                  user_id  cool  useful  funny  length  \n",
       "0  rLtl8ZkDX5vH5nAx9C3q5Q     2       5      0     889  \n",
       "1  0a2KyEL0d3Yb1V6aivbIuQ     0       0      0    1345  \n",
       "2  0hT2KtfLiobPvh6cDC8JQg     0       1      0      76  \n",
       "3  uZetl9T0NcROGOyFfughhg     1       2      0     419  \n",
       "4  vYmM4KTsC8ZfQBg-j5MWkw     0       0      0     469  "
      ]
     },
     "execution_count": 62,
     "metadata": {},
     "output_type": "execute_result"
    }
   ],
   "source": [
    "# understanding the apply method\n",
    "yelp['length'] = yelp.text.apply(len)\n",
    "yelp.head()"
   ]
  },
  {
   "cell_type": "code",
   "execution_count": 63,
   "metadata": {
    "id": "03GrT411V5MI"
   },
   "outputs": [],
   "source": [
    "# define a function that accepts text and returns the polarity\n",
    "def detect_sentiment(text):\n",
    "    return TextBlob(text).sentiment.polarity"
   ]
  },
  {
   "cell_type": "code",
   "execution_count": 64,
   "metadata": {
    "id": "0C_OMvsgV5MM"
   },
   "outputs": [],
   "source": [
    "# create a new DataFrame column for sentiment (WARNING: SLOW!)\n",
    "yelp['sentiment'] = yelp.text.apply(detect_sentiment)"
   ]
  },
  {
   "cell_type": "code",
   "execution_count": 85,
   "metadata": {
    "colab": {
     "base_uri": "https://localhost:8080/",
     "height": 287
    },
    "executionInfo": {
     "elapsed": 1693,
     "status": "ok",
     "timestamp": 1601643092017,
     "user": {
      "displayName": "Sayan Dey",
      "photoUrl": "https://lh3.googleusercontent.com/a-/AOh14GgqVHJ9o6-7idGiRbNNd4iVc1VjzvuPnwmAnvEtD6U=s64",
      "userId": "03603580465490055794"
     },
     "user_tz": -330
    },
    "id": "0g85fWfWXdwK",
    "outputId": "25eb044b-e3b2-4828-c8fd-39a9f4bd9fd0"
   },
   "outputs": [
    {
     "data": {
      "text/html": [
       "<div>\n",
       "<style scoped>\n",
       "    .dataframe tbody tr th:only-of-type {\n",
       "        vertical-align: middle;\n",
       "    }\n",
       "\n",
       "    .dataframe tbody tr th {\n",
       "        vertical-align: top;\n",
       "    }\n",
       "\n",
       "    .dataframe thead th {\n",
       "        text-align: right;\n",
       "    }\n",
       "</style>\n",
       "<table border=\"1\" class=\"dataframe\">\n",
       "  <thead>\n",
       "    <tr style=\"text-align: right;\">\n",
       "      <th></th>\n",
       "      <th>business_id</th>\n",
       "      <th>date</th>\n",
       "      <th>review_id</th>\n",
       "      <th>stars</th>\n",
       "      <th>text</th>\n",
       "      <th>type</th>\n",
       "      <th>user_id</th>\n",
       "      <th>cool</th>\n",
       "      <th>useful</th>\n",
       "      <th>funny</th>\n",
       "      <th>length</th>\n",
       "      <th>sentiment</th>\n",
       "    </tr>\n",
       "  </thead>\n",
       "  <tbody>\n",
       "    <tr>\n",
       "      <th>23</th>\n",
       "      <td>IJ0o6b8bJFAbG6MjGfBebQ</td>\n",
       "      <td>2010-09-05</td>\n",
       "      <td>Dx9sfFU6Zn0GYOckijom-g</td>\n",
       "      <td>1</td>\n",
       "      <td>U can go there n check the car out. If u wanna...</td>\n",
       "      <td>review</td>\n",
       "      <td>zRlQEDYd_HKp0VS3hnAffA</td>\n",
       "      <td>0</td>\n",
       "      <td>1</td>\n",
       "      <td>1</td>\n",
       "      <td>594</td>\n",
       "      <td>-0.264021</td>\n",
       "    </tr>\n",
       "    <tr>\n",
       "      <th>31</th>\n",
       "      <td>vvA3fbps4F9nGlAEYKk_sA</td>\n",
       "      <td>2012-05-04</td>\n",
       "      <td>S9OVpXat8k5YwWCn6FAgXg</td>\n",
       "      <td>1</td>\n",
       "      <td>Disgusting!  Had a Groupon so my daughter and ...</td>\n",
       "      <td>review</td>\n",
       "      <td>8AMn6644NmBf96xGO3w6OA</td>\n",
       "      <td>0</td>\n",
       "      <td>1</td>\n",
       "      <td>0</td>\n",
       "      <td>361</td>\n",
       "      <td>-0.099091</td>\n",
       "    </tr>\n",
       "    <tr>\n",
       "      <th>35</th>\n",
       "      <td>o1GIYYZJjM6nM03fQs_uEQ</td>\n",
       "      <td>2011-11-30</td>\n",
       "      <td>ApKbwpYJdnhhgP4NbjQw2Q</td>\n",
       "      <td>1</td>\n",
       "      <td>I've eaten here many times, but none as bad as...</td>\n",
       "      <td>review</td>\n",
       "      <td>iwUN95LIaEr75TZE_JC6bg</td>\n",
       "      <td>0</td>\n",
       "      <td>4</td>\n",
       "      <td>3</td>\n",
       "      <td>1198</td>\n",
       "      <td>-0.035973</td>\n",
       "    </tr>\n",
       "    <tr>\n",
       "      <th>61</th>\n",
       "      <td>l4vBbCL9QbGiwLuLKwD_bA</td>\n",
       "      <td>2011-11-22</td>\n",
       "      <td>DJVxOfj2Rw9zklC9tU3i1w</td>\n",
       "      <td>1</td>\n",
       "      <td>I have always been a fan of Burlington's deals...</td>\n",
       "      <td>review</td>\n",
       "      <td>EPROVap0M19Y6_4uf3eCmQ</td>\n",
       "      <td>0</td>\n",
       "      <td>0</td>\n",
       "      <td>0</td>\n",
       "      <td>569</td>\n",
       "      <td>-0.015278</td>\n",
       "    </tr>\n",
       "    <tr>\n",
       "      <th>64</th>\n",
       "      <td>CEswyP-9SsXRNLR9fFGKKw</td>\n",
       "      <td>2012-05-19</td>\n",
       "      <td>GXj4PNAi095-q9ynPYH3kg</td>\n",
       "      <td>1</td>\n",
       "      <td>Another night meeting friends here.  I have to...</td>\n",
       "      <td>review</td>\n",
       "      <td>MjLAe48XNfYlTeFYca5gMw</td>\n",
       "      <td>0</td>\n",
       "      <td>1</td>\n",
       "      <td>2</td>\n",
       "      <td>498</td>\n",
       "      <td>-0.063456</td>\n",
       "    </tr>\n",
       "    <tr>\n",
       "      <th>...</th>\n",
       "      <td>...</td>\n",
       "      <td>...</td>\n",
       "      <td>...</td>\n",
       "      <td>...</td>\n",
       "      <td>...</td>\n",
       "      <td>...</td>\n",
       "      <td>...</td>\n",
       "      <td>...</td>\n",
       "      <td>...</td>\n",
       "      <td>...</td>\n",
       "      <td>...</td>\n",
       "      <td>...</td>\n",
       "    </tr>\n",
       "    <tr>\n",
       "      <th>9924</th>\n",
       "      <td>mhQCxOiqp03qnhGRTtPduw</td>\n",
       "      <td>2012-07-07</td>\n",
       "      <td>PCjnn__E8AzNa2kXFXxTHQ</td>\n",
       "      <td>1</td>\n",
       "      <td>Horrible service.</td>\n",
       "      <td>review</td>\n",
       "      <td>rvaJcf5OIY2So_pkoqDHLQ</td>\n",
       "      <td>0</td>\n",
       "      <td>1</td>\n",
       "      <td>0</td>\n",
       "      <td>17</td>\n",
       "      <td>-1.000000</td>\n",
       "    </tr>\n",
       "    <tr>\n",
       "      <th>9931</th>\n",
       "      <td>C_eWAEOvkHZ_IZYGwjtpmg</td>\n",
       "      <td>2011-04-25</td>\n",
       "      <td>QfdoE-XqEeCsttJH8g0ugQ</td>\n",
       "      <td>1</td>\n",
       "      <td>I love Saddle Ranch for its casual night time ...</td>\n",
       "      <td>review</td>\n",
       "      <td>yhGfcKunPjcy-v-1ppr6oQ</td>\n",
       "      <td>0</td>\n",
       "      <td>2</td>\n",
       "      <td>0</td>\n",
       "      <td>995</td>\n",
       "      <td>-0.064238</td>\n",
       "    </tr>\n",
       "    <tr>\n",
       "      <th>9953</th>\n",
       "      <td>QCxXYA13PtkD3wec47_r8Q</td>\n",
       "      <td>2012-03-14</td>\n",
       "      <td>V2N2TCqnaqMYfg7zXGG-Rg</td>\n",
       "      <td>1</td>\n",
       "      <td>\"Hipster,Trendy\" ????-I think NOT !!!! Very di...</td>\n",
       "      <td>review</td>\n",
       "      <td>JEQ6el2-tLtKJU6k_SpE-w</td>\n",
       "      <td>0</td>\n",
       "      <td>2</td>\n",
       "      <td>0</td>\n",
       "      <td>296</td>\n",
       "      <td>0.049074</td>\n",
       "    </tr>\n",
       "    <tr>\n",
       "      <th>9984</th>\n",
       "      <td>wepFVY82q_tuDzG6lQjHWw</td>\n",
       "      <td>2012-02-12</td>\n",
       "      <td>spusZYROtBKw_5tv3gYm4Q</td>\n",
       "      <td>1</td>\n",
       "      <td>Went last night to Whore Foods to get basics t...</td>\n",
       "      <td>review</td>\n",
       "      <td>W7zmm1uzlyUkEqpSG7PlBw</td>\n",
       "      <td>0</td>\n",
       "      <td>1</td>\n",
       "      <td>2</td>\n",
       "      <td>1673</td>\n",
       "      <td>-0.071673</td>\n",
       "    </tr>\n",
       "    <tr>\n",
       "      <th>9987</th>\n",
       "      <td>r-a-Cn9hxdEnYTtVTB5bMQ</td>\n",
       "      <td>2012-04-07</td>\n",
       "      <td>j9HwZZoBBmJgOlqDSuJcxg</td>\n",
       "      <td>1</td>\n",
       "      <td>The food is delicious.  The service:  discrimi...</td>\n",
       "      <td>review</td>\n",
       "      <td>toPtsUtYoRB-5-ThrOy2Fg</td>\n",
       "      <td>0</td>\n",
       "      <td>0</td>\n",
       "      <td>0</td>\n",
       "      <td>200</td>\n",
       "      <td>0.333333</td>\n",
       "    </tr>\n",
       "  </tbody>\n",
       "</table>\n",
       "<p>749 rows × 12 columns</p>\n",
       "</div>"
      ],
      "text/plain": [
       "                 business_id        date               review_id  stars  \\\n",
       "23    IJ0o6b8bJFAbG6MjGfBebQ  2010-09-05  Dx9sfFU6Zn0GYOckijom-g      1   \n",
       "31    vvA3fbps4F9nGlAEYKk_sA  2012-05-04  S9OVpXat8k5YwWCn6FAgXg      1   \n",
       "35    o1GIYYZJjM6nM03fQs_uEQ  2011-11-30  ApKbwpYJdnhhgP4NbjQw2Q      1   \n",
       "61    l4vBbCL9QbGiwLuLKwD_bA  2011-11-22  DJVxOfj2Rw9zklC9tU3i1w      1   \n",
       "64    CEswyP-9SsXRNLR9fFGKKw  2012-05-19  GXj4PNAi095-q9ynPYH3kg      1   \n",
       "...                      ...         ...                     ...    ...   \n",
       "9924  mhQCxOiqp03qnhGRTtPduw  2012-07-07  PCjnn__E8AzNa2kXFXxTHQ      1   \n",
       "9931  C_eWAEOvkHZ_IZYGwjtpmg  2011-04-25  QfdoE-XqEeCsttJH8g0ugQ      1   \n",
       "9953  QCxXYA13PtkD3wec47_r8Q  2012-03-14  V2N2TCqnaqMYfg7zXGG-Rg      1   \n",
       "9984  wepFVY82q_tuDzG6lQjHWw  2012-02-12  spusZYROtBKw_5tv3gYm4Q      1   \n",
       "9987  r-a-Cn9hxdEnYTtVTB5bMQ  2012-04-07  j9HwZZoBBmJgOlqDSuJcxg      1   \n",
       "\n",
       "                                                   text    type  \\\n",
       "23    U can go there n check the car out. If u wanna...  review   \n",
       "31    Disgusting!  Had a Groupon so my daughter and ...  review   \n",
       "35    I've eaten here many times, but none as bad as...  review   \n",
       "61    I have always been a fan of Burlington's deals...  review   \n",
       "64    Another night meeting friends here.  I have to...  review   \n",
       "...                                                 ...     ...   \n",
       "9924                                  Horrible service.  review   \n",
       "9931  I love Saddle Ranch for its casual night time ...  review   \n",
       "9953  \"Hipster,Trendy\" ????-I think NOT !!!! Very di...  review   \n",
       "9984  Went last night to Whore Foods to get basics t...  review   \n",
       "9987  The food is delicious.  The service:  discrimi...  review   \n",
       "\n",
       "                     user_id  cool  useful  funny  length  sentiment  \n",
       "23    zRlQEDYd_HKp0VS3hnAffA     0       1      1     594  -0.264021  \n",
       "31    8AMn6644NmBf96xGO3w6OA     0       1      0     361  -0.099091  \n",
       "35    iwUN95LIaEr75TZE_JC6bg     0       4      3    1198  -0.035973  \n",
       "61    EPROVap0M19Y6_4uf3eCmQ     0       0      0     569  -0.015278  \n",
       "64    MjLAe48XNfYlTeFYca5gMw     0       1      2     498  -0.063456  \n",
       "...                      ...   ...     ...    ...     ...        ...  \n",
       "9924  rvaJcf5OIY2So_pkoqDHLQ     0       1      0      17  -1.000000  \n",
       "9931  yhGfcKunPjcy-v-1ppr6oQ     0       2      0     995  -0.064238  \n",
       "9953  JEQ6el2-tLtKJU6k_SpE-w     0       2      0     296   0.049074  \n",
       "9984  W7zmm1uzlyUkEqpSG7PlBw     0       1      2    1673  -0.071673  \n",
       "9987  toPtsUtYoRB-5-ThrOy2Fg     0       0      0     200   0.333333  \n",
       "\n",
       "[749 rows x 12 columns]"
      ]
     },
     "execution_count": 85,
     "metadata": {},
     "output_type": "execute_result"
    }
   ],
   "source": [
    "yelp[yelp['stars']==1]"
   ]
  },
  {
   "cell_type": "code",
   "execution_count": 86,
   "metadata": {
    "colab": {
     "base_uri": "https://localhost:8080/",
     "height": 318
    },
    "executionInfo": {
     "elapsed": 13045,
     "status": "ok",
     "timestamp": 1601643069139,
     "user": {
      "displayName": "Sayan Dey",
      "photoUrl": "https://lh3.googleusercontent.com/a-/AOh14GgqVHJ9o6-7idGiRbNNd4iVc1VjzvuPnwmAnvEtD6U=s64",
      "userId": "03603580465490055794"
     },
     "user_tz": -330
    },
    "id": "i08kMot7V5MN",
    "outputId": "86afa7c3-ad7a-49d0-9e4e-d640524e3302"
   },
   "outputs": [
    {
     "data": {
      "text/plain": [
       "<matplotlib.axes._subplots.AxesSubplot at 0x23e47351400>"
      ]
     },
     "execution_count": 86,
     "metadata": {},
     "output_type": "execute_result"
    },
    {
     "data": {
      "image/png": "[encoded data removed]",
      "text/plain": [
       "<Figure size 432x288 with 1 Axes>"
      ]
     },
     "metadata": {
      "needs_background": "light"
     },
     "output_type": "display_data"
    }
   ],
   "source": [
    "# box plot of sentiment grouped by stars\n",
    "yelp.boxplot(column='sentiment', by='stars')"
   ]
  },
  {
   "cell_type": "code",
   "execution_count": 87,
   "metadata": {
    "colab": {
     "base_uri": "https://localhost:8080/",
     "height": 293
    },
    "executionInfo": {
     "elapsed": 1235,
     "status": "ok",
     "timestamp": 1601643372300,
     "user": {
      "displayName": "Sayan Dey",
      "photoUrl": "https://lh3.googleusercontent.com/a-/AOh14GgqVHJ9o6-7idGiRbNNd4iVc1VjzvuPnwmAnvEtD6U=s64",
      "userId": "03603580465490055794"
     },
     "user_tz": -330
    },
    "id": "mFPbpIrZYEX3",
    "outputId": "3a6af35e-2ffe-4a53-e5c0-724a4b32ff55",
    "scrolled": true
   },
   "outputs": [
    {
     "data": {
      "text/html": [
       "<div>\n",
       "<style scoped>\n",
       "    .dataframe tbody tr th:only-of-type {\n",
       "        vertical-align: middle;\n",
       "    }\n",
       "\n",
       "    .dataframe tbody tr th {\n",
       "        vertical-align: top;\n",
       "    }\n",
       "\n",
       "    .dataframe thead th {\n",
       "        text-align: right;\n",
       "    }\n",
       "</style>\n",
       "<table border=\"1\" class=\"dataframe\">\n",
       "  <thead>\n",
       "    <tr style=\"text-align: right;\">\n",
       "      <th></th>\n",
       "      <th>stars</th>\n",
       "      <th>cool</th>\n",
       "      <th>useful</th>\n",
       "      <th>funny</th>\n",
       "      <th>length</th>\n",
       "      <th>sentiment</th>\n",
       "    </tr>\n",
       "  </thead>\n",
       "  <tbody>\n",
       "    <tr>\n",
       "      <th>count</th>\n",
       "      <td>749.0</td>\n",
       "      <td>749.000000</td>\n",
       "      <td>749.000000</td>\n",
       "      <td>749.000000</td>\n",
       "      <td>749.000000</td>\n",
       "      <td>749.000000</td>\n",
       "    </tr>\n",
       "    <tr>\n",
       "      <th>mean</th>\n",
       "      <td>1.0</td>\n",
       "      <td>0.576769</td>\n",
       "      <td>1.604806</td>\n",
       "      <td>1.056075</td>\n",
       "      <td>826.515354</td>\n",
       "      <td>-0.017906</td>\n",
       "    </tr>\n",
       "    <tr>\n",
       "      <th>std</th>\n",
       "      <td>0.0</td>\n",
       "      <td>1.474759</td>\n",
       "      <td>2.302354</td>\n",
       "      <td>2.480309</td>\n",
       "      <td>742.929304</td>\n",
       "      <td>0.210476</td>\n",
       "    </tr>\n",
       "    <tr>\n",
       "      <th>min</th>\n",
       "      <td>1.0</td>\n",
       "      <td>0.000000</td>\n",
       "      <td>0.000000</td>\n",
       "      <td>0.000000</td>\n",
       "      <td>11.000000</td>\n",
       "      <td>-1.000000</td>\n",
       "    </tr>\n",
       "    <tr>\n",
       "      <th>25%</th>\n",
       "      <td>1.0</td>\n",
       "      <td>0.000000</td>\n",
       "      <td>0.000000</td>\n",
       "      <td>0.000000</td>\n",
       "      <td>315.000000</td>\n",
       "      <td>-0.103379</td>\n",
       "    </tr>\n",
       "    <tr>\n",
       "      <th>50%</th>\n",
       "      <td>1.0</td>\n",
       "      <td>0.000000</td>\n",
       "      <td>1.000000</td>\n",
       "      <td>0.000000</td>\n",
       "      <td>600.000000</td>\n",
       "      <td>0.008523</td>\n",
       "    </tr>\n",
       "    <tr>\n",
       "      <th>75%</th>\n",
       "      <td>1.0</td>\n",
       "      <td>1.000000</td>\n",
       "      <td>2.000000</td>\n",
       "      <td>1.000000</td>\n",
       "      <td>1075.000000</td>\n",
       "      <td>0.094707</td>\n",
       "    </tr>\n",
       "    <tr>\n",
       "      <th>max</th>\n",
       "      <td>1.0</td>\n",
       "      <td>17.000000</td>\n",
       "      <td>20.000000</td>\n",
       "      <td>30.000000</td>\n",
       "      <td>4618.000000</td>\n",
       "      <td>1.000000</td>\n",
       "    </tr>\n",
       "  </tbody>\n",
       "</table>\n",
       "</div>"
      ],
      "text/plain": [
       "       stars        cool      useful       funny       length   sentiment\n",
       "count  749.0  749.000000  749.000000  749.000000   749.000000  749.000000\n",
       "mean     1.0    0.576769    1.604806    1.056075   826.515354   -0.017906\n",
       "std      0.0    1.474759    2.302354    2.480309   742.929304    0.210476\n",
       "min      1.0    0.000000    0.000000    0.000000    11.000000   -1.000000\n",
       "25%      1.0    0.000000    0.000000    0.000000   315.000000   -0.103379\n",
       "50%      1.0    0.000000    1.000000    0.000000   600.000000    0.008523\n",
       "75%      1.0    1.000000    2.000000    1.000000  1075.000000    0.094707\n",
       "max      1.0   17.000000   20.000000   30.000000  4618.000000    1.000000"
      ]
     },
     "execution_count": 87,
     "metadata": {},
     "output_type": "execute_result"
    }
   ],
   "source": [
    "onestar = yelp[yelp['stars']==1]\n",
    "onestar.describe()"
   ]
  },
  {
   "cell_type": "code",
   "execution_count": 88,
   "metadata": {
    "colab": {
     "base_uri": "https://localhost:8080/",
     "height": 103
    },
    "executionInfo": {
     "elapsed": 1354,
     "status": "ok",
     "timestamp": 1601643651720,
     "user": {
      "displayName": "Sayan Dey",
      "photoUrl": "https://lh3.googleusercontent.com/a-/AOh14GgqVHJ9o6-7idGiRbNNd4iVc1VjzvuPnwmAnvEtD6U=s64",
      "userId": "03603580465490055794"
     },
     "user_tz": -330
    },
    "id": "F9hAyDnLYZFy",
    "outputId": "051dd078-12a1-47bc-ea12-8dbebe6f32a2"
   },
   "outputs": [
    {
     "data": {
      "text/plain": [
       "array([['iHmfkYeEsIxbAqEj3dloQQ', '2012-07-03', 'N_hL1-fyunhVpDDX6fz9Sg',\n",
       "        1,\n",
       "        \"The owner has changed hands & this place isn't what it used to be.  If you want up to date paper & quality product...go to Scrap Happy OR Crop Girls!\",\n",
       "        'review', 'HY9A-ShZQ1MvdFvEhNY4LQ', 0, 1, 0, 149, 1.0]],\n",
       "      dtype=object)"
      ]
     },
     "execution_count": 88,
     "metadata": {},
     "output_type": "execute_result"
    }
   ],
   "source": [
    "onestar[onestar['sentiment']==1].values"
   ]
  },
  {
   "cell_type": "code",
   "execution_count": 89,
   "metadata": {
    "colab": {
     "base_uri": "https://localhost:8080/",
     "height": 120
    },
    "executionInfo": {
     "elapsed": 1943,
     "status": "ok",
     "timestamp": 1601643869275,
     "user": {
      "displayName": "Sayan Dey",
      "photoUrl": "https://lh3.googleusercontent.com/a-/AOh14GgqVHJ9o6-7idGiRbNNd4iVc1VjzvuPnwmAnvEtD6U=s64",
      "userId": "03603580465490055794"
     },
     "user_tz": -330
    },
    "id": "oUfHtrGcV5MP",
    "outputId": "13a56b4c-172e-47fc-bb05-9f9ca0ed8448"
   },
   "outputs": [
    {
     "data": {
      "text/plain": [
       "254    Our server Gary was awesome. Food was amazing....\n",
       "347    3 syllables for this place. \\nA-MAZ-ING!\\n\\nTh...\n",
       "420                                    LOVE the food!!!!\n",
       "459    Love it!!! Wish we still lived in Arizona as C...\n",
       "679                                     Excellent burger\n",
       "Name: text, dtype: object"
      ]
     },
     "execution_count": 89,
     "metadata": {},
     "output_type": "execute_result"
    }
   ],
   "source": [
    "# reviews with most positive sentiment\n",
    "yelp[yelp.sentiment == 1].text.head()"
   ]
  },
  {
   "cell_type": "code",
   "execution_count": 90,
   "metadata": {
    "colab": {
     "base_uri": "https://localhost:8080/",
     "height": 120
    },
    "executionInfo": {
     "elapsed": 1475,
     "status": "ok",
     "timestamp": 1601643869277,
     "user": {
      "displayName": "Sayan Dey",
      "photoUrl": "https://lh3.googleusercontent.com/a-/AOh14GgqVHJ9o6-7idGiRbNNd4iVc1VjzvuPnwmAnvEtD6U=s64",
      "userId": "03603580465490055794"
     },
     "user_tz": -330
    },
    "id": "X5yMhX4ZV5MR",
    "outputId": "3738cde9-13dc-4b66-eaff-08f435f9050e"
   },
   "outputs": [
    {
     "data": {
      "text/plain": [
       "773     This was absolutely horrible. I got the suprem...\n",
       "1517                  Nasty workers and over priced trash\n",
       "3266    Absolutely awful... these guys have NO idea wh...\n",
       "4766                                       Very bad food!\n",
       "5812        I wouldn't send my worst enemy to this place.\n",
       "Name: text, dtype: object"
      ]
     },
     "execution_count": 90,
     "metadata": {},
     "output_type": "execute_result"
    }
   ],
   "source": [
    "# reviews with most negative sentiment\n",
    "yelp[yelp.sentiment == -1].text.head()"
   ]
  },
  {
   "cell_type": "code",
   "execution_count": 91,
   "metadata": {
    "id": "TbrZtopwV5MS"
   },
   "outputs": [],
   "source": [
    "# widen the column display\n",
    "pd.set_option('max_colwidth', 500)"
   ]
  },
  {
   "cell_type": "code",
   "execution_count": 94,
   "metadata": {
    "colab": {
     "base_uri": "https://localhost:8080/",
     "height": 130
    },
    "executionInfo": {
     "elapsed": 1428,
     "status": "ok",
     "timestamp": 1601643882010,
     "user": {
      "displayName": "Sayan Dey",
      "photoUrl": "https://lh3.googleusercontent.com/a-/AOh14GgqVHJ9o6-7idGiRbNNd4iVc1VjzvuPnwmAnvEtD6U=s64",
      "userId": "03603580465490055794"
     },
     "user_tz": -330
    },
    "id": "ZWcixu3nV5MU",
    "outputId": "ad2ee4a9-56f0-49c1-ff47-96e1801b654c"
   },
   "outputs": [
    {
     "data": {
      "text/html": [
       "<div>\n",
       "<style scoped>\n",
       "    .dataframe tbody tr th:only-of-type {\n",
       "        vertical-align: middle;\n",
       "    }\n",
       "\n",
       "    .dataframe tbody tr th {\n",
       "        vertical-align: top;\n",
       "    }\n",
       "\n",
       "    .dataframe thead th {\n",
       "        text-align: right;\n",
       "    }\n",
       "</style>\n",
       "<table border=\"1\" class=\"dataframe\">\n",
       "  <thead>\n",
       "    <tr style=\"text-align: right;\">\n",
       "      <th></th>\n",
       "      <th>business_id</th>\n",
       "      <th>date</th>\n",
       "      <th>review_id</th>\n",
       "      <th>stars</th>\n",
       "      <th>text</th>\n",
       "      <th>type</th>\n",
       "      <th>user_id</th>\n",
       "      <th>cool</th>\n",
       "      <th>useful</th>\n",
       "      <th>funny</th>\n",
       "      <th>length</th>\n",
       "      <th>sentiment</th>\n",
       "    </tr>\n",
       "  </thead>\n",
       "  <tbody>\n",
       "    <tr>\n",
       "      <th>1781</th>\n",
       "      <td>53YGfwmbW73JhFiemNeyzQ</td>\n",
       "      <td>2012-06-22</td>\n",
       "      <td>Gi-4O3EhE175vujbFGDIew</td>\n",
       "      <td>1</td>\n",
       "      <td>If you like the stuck up Scottsdale vibe this is a good place for you. The food isn't impressive. Nice outdoor seating.</td>\n",
       "      <td>review</td>\n",
       "      <td>Hqgx3IdJAAaoQjvrUnbNvw</td>\n",
       "      <td>0</td>\n",
       "      <td>1</td>\n",
       "      <td>2</td>\n",
       "      <td>119</td>\n",
       "      <td>0.766667</td>\n",
       "    </tr>\n",
       "    <tr>\n",
       "      <th>2353</th>\n",
       "      <td>3Srfy_VeCgwDbo4iyUFOtw</td>\n",
       "      <td>2006-08-23</td>\n",
       "      <td>K8tXedC2NMBEZ8p77zg23Q</td>\n",
       "      <td>1</td>\n",
       "      <td>My co-workers and I refer to this place as \"Pizza n' Ants\".  The staff will be happy to serve you with bare hands, right after using the till.  Also, as the nickname suggests, there has been a noticable insect problem. \\n\\n\\n\\nAs if that could all be overlooked, the pizza isn't even good.  If you are in this part of town, go to Z Pizza or Slices for great pizza instead!</td>\n",
       "      <td>review</td>\n",
       "      <td>rPGZttaVjRoVi3GYbs62cg</td>\n",
       "      <td>0</td>\n",
       "      <td>1</td>\n",
       "      <td>0</td>\n",
       "      <td>368</td>\n",
       "      <td>0.567143</td>\n",
       "    </tr>\n",
       "    <tr>\n",
       "      <th>5257</th>\n",
       "      <td>cXx-fHY11Se8rFHkkUeaUg</td>\n",
       "      <td>2009-10-27</td>\n",
       "      <td>2yHyr0N_XNZggmIfZ7JaHw</td>\n",
       "      <td>1</td>\n",
       "      <td>Remember how I said that the Trivia was the best thing about this place?  Well, they got rid of long time Triva host, Dave (who had been featured in the College Times and was the best thing about the trivia).  Without Dave's personality, this place just doesn't cut it.  Will never go here again. Bummer.</td>\n",
       "      <td>review</td>\n",
       "      <td>nx2PS25Qe3MCEFUdO_XOtw</td>\n",
       "      <td>2</td>\n",
       "      <td>4</td>\n",
       "      <td>0</td>\n",
       "      <td>304</td>\n",
       "      <td>0.650000</td>\n",
       "    </tr>\n",
       "    <tr>\n",
       "      <th>6222</th>\n",
       "      <td>fDZzCjlxaA4OOmnFO-i0vw</td>\n",
       "      <td>2012-07-09</td>\n",
       "      <td>F5aRE4oqmHthiHudmnShLQ</td>\n",
       "      <td>1</td>\n",
       "      <td>My mother always told me, if I didn't have anything nice to say, say nothing!</td>\n",
       "      <td>review</td>\n",
       "      <td>J92bzxYVmyoLHULzh9xNCA</td>\n",
       "      <td>1</td>\n",
       "      <td>2</td>\n",
       "      <td>1</td>\n",
       "      <td>77</td>\n",
       "      <td>0.750000</td>\n",
       "    </tr>\n",
       "    <tr>\n",
       "      <th>6702</th>\n",
       "      <td>77oW-QeIXbUoTbUbrdD2aA</td>\n",
       "      <td>2012-01-05</td>\n",
       "      <td>oVYk9Gxa3TY63FAeoeCEzg</td>\n",
       "      <td>1</td>\n",
       "      <td>Most livable city my eye!\\nPlastic yuppies around every corner looking for a reason to belong.  I can't wait for the homosexuals to take control of this dog park and give it some class.\\n\\nAvoid at all cost.</td>\n",
       "      <td>review</td>\n",
       "      <td>ek4GWXatDshMorJwGC2JAw</td>\n",
       "      <td>1</td>\n",
       "      <td>2</td>\n",
       "      <td>4</td>\n",
       "      <td>204</td>\n",
       "      <td>0.625000</td>\n",
       "    </tr>\n",
       "  </tbody>\n",
       "</table>\n",
       "</div>"
      ],
      "text/plain": [
       "                 business_id        date               review_id  stars  \\\n",
       "1781  53YGfwmbW73JhFiemNeyzQ  2012-06-22  Gi-4O3EhE175vujbFGDIew      1   \n",
       "2353  3Srfy_VeCgwDbo4iyUFOtw  2006-08-23  K8tXedC2NMBEZ8p77zg23Q      1   \n",
       "5257  cXx-fHY11Se8rFHkkUeaUg  2009-10-27  2yHyr0N_XNZggmIfZ7JaHw      1   \n",
       "6222  fDZzCjlxaA4OOmnFO-i0vw  2012-07-09  F5aRE4oqmHthiHudmnShLQ      1   \n",
       "6702  77oW-QeIXbUoTbUbrdD2aA  2012-01-05  oVYk9Gxa3TY63FAeoeCEzg      1   \n",
       "\n",
       "                                                                                                                                                                                                                                                                                                                                                                                      text  \\\n",
       "1781                                                                                                                                                                                                                                                               If you like the stuck up Scottsdale vibe this is a good place for you. The food isn't impressive. Nice outdoor seating.   \n",
       "2353  My co-workers and I refer to this place as \"Pizza n' Ants\".  The staff will be happy to serve you with bare hands, right after using the till.  Also, as the nickname suggests, there has been a noticable insect problem. \\n\\n\\n\\nAs if that could all be overlooked, the pizza isn't even good.  If you are in this part of town, go to Z Pizza or Slices for great pizza instead!   \n",
       "5257                                                                      Remember how I said that the Trivia was the best thing about this place?  Well, they got rid of long time Triva host, Dave (who had been featured in the College Times and was the best thing about the trivia).  Without Dave's personality, this place just doesn't cut it.  Will never go here again. Bummer.   \n",
       "6222                                                                                                                                                                                                                                                                                                         My mother always told me, if I didn't have anything nice to say, say nothing!   \n",
       "6702                                                                                                                                                                       Most livable city my eye!\\nPlastic yuppies around every corner looking for a reason to belong.  I can't wait for the homosexuals to take control of this dog park and give it some class.\\n\\nAvoid at all cost.   \n",
       "\n",
       "        type                 user_id  cool  useful  funny  length  sentiment  \n",
       "1781  review  Hqgx3IdJAAaoQjvrUnbNvw     0       1      2     119   0.766667  \n",
       "2353  review  rPGZttaVjRoVi3GYbs62cg     0       1      0     368   0.567143  \n",
       "5257  review  nx2PS25Qe3MCEFUdO_XOtw     2       4      0     304   0.650000  \n",
       "6222  review  J92bzxYVmyoLHULzh9xNCA     1       2      1      77   0.750000  \n",
       "6702  review  ek4GWXatDshMorJwGC2JAw     1       2      4     204   0.625000  "
      ]
     },
     "execution_count": 94,
     "metadata": {},
     "output_type": "execute_result"
    }
   ],
   "source": [
    "# negative sentiment in a 5-star review\n",
    "yelp[(yelp.stars == 1) & (yelp.sentiment > 0.5)].head()"
   ]
  },
  {
   "cell_type": "code",
   "execution_count": 131,
   "metadata": {
    "colab": {
     "base_uri": "https://localhost:8080/",
     "height": 130
    },
    "executionInfo": {
     "elapsed": 1081,
     "status": "ok",
     "timestamp": 1601643882011,
     "user": {
      "displayName": "Sayan Dey",
      "photoUrl": "https://lh3.googleusercontent.com/a-/AOh14GgqVHJ9o6-7idGiRbNNd4iVc1VjzvuPnwmAnvEtD6U=s64",
      "userId": "03603580465490055794"
     },
     "user_tz": -330
    },
    "id": "LoljQ9UdV5MW",
    "outputId": "429e2d7e-90d8-4337-fbcc-227ce24424a7"
   },
   "outputs": [
    {
     "data": {
      "text/html": [
       "<div>\n",
       "<style scoped>\n",
       "    .dataframe tbody tr th:only-of-type {\n",
       "        vertical-align: middle;\n",
       "    }\n",
       "\n",
       "    .dataframe tbody tr th {\n",
       "        vertical-align: top;\n",
       "    }\n",
       "\n",
       "    .dataframe thead th {\n",
       "        text-align: right;\n",
       "    }\n",
       "</style>\n",
       "<table border=\"1\" class=\"dataframe\">\n",
       "  <thead>\n",
       "    <tr style=\"text-align: right;\">\n",
       "      <th></th>\n",
       "      <th>business_id</th>\n",
       "      <th>date</th>\n",
       "      <th>review_id</th>\n",
       "      <th>stars</th>\n",
       "      <th>text</th>\n",
       "      <th>type</th>\n",
       "      <th>user_id</th>\n",
       "      <th>cool</th>\n",
       "      <th>useful</th>\n",
       "      <th>funny</th>\n",
       "      <th>length</th>\n",
       "      <th>sentiment</th>\n",
       "    </tr>\n",
       "  </thead>\n",
       "  <tbody>\n",
       "    <tr>\n",
       "      <th>1781</th>\n",
       "      <td>53YGfwmbW73JhFiemNeyzQ</td>\n",
       "      <td>2012-06-22</td>\n",
       "      <td>Gi-4O3EhE175vujbFGDIew</td>\n",
       "      <td>1</td>\n",
       "      <td>If you like the stuck up Scottsdale vibe this is a good place for you. The food isn't impressive. Nice outdoor seating.</td>\n",
       "      <td>review</td>\n",
       "      <td>Hqgx3IdJAAaoQjvrUnbNvw</td>\n",
       "      <td>0</td>\n",
       "      <td>1</td>\n",
       "      <td>2</td>\n",
       "      <td>119</td>\n",
       "      <td>0.766667</td>\n",
       "    </tr>\n",
       "    <tr>\n",
       "      <th>2353</th>\n",
       "      <td>3Srfy_VeCgwDbo4iyUFOtw</td>\n",
       "      <td>2006-08-23</td>\n",
       "      <td>K8tXedC2NMBEZ8p77zg23Q</td>\n",
       "      <td>1</td>\n",
       "      <td>My co-workers and I refer to this place as \"Pizza n' Ants\".  The staff will be happy to serve you with bare hands, right after using the till.  Also, as the nickname suggests, there has been a noticable insect problem. \\n\\n\\n\\nAs if that could all be overlooked, the pizza isn't even good.  If you are in this part of town, go to Z Pizza or Slices for great pizza instead!</td>\n",
       "      <td>review</td>\n",
       "      <td>rPGZttaVjRoVi3GYbs62cg</td>\n",
       "      <td>0</td>\n",
       "      <td>1</td>\n",
       "      <td>0</td>\n",
       "      <td>368</td>\n",
       "      <td>0.567143</td>\n",
       "    </tr>\n",
       "    <tr>\n",
       "      <th>5257</th>\n",
       "      <td>cXx-fHY11Se8rFHkkUeaUg</td>\n",
       "      <td>2009-10-27</td>\n",
       "      <td>2yHyr0N_XNZggmIfZ7JaHw</td>\n",
       "      <td>1</td>\n",
       "      <td>Remember how I said that the Trivia was the best thing about this place?  Well, they got rid of long time Triva host, Dave (who had been featured in the College Times and was the best thing about the trivia).  Without Dave's personality, this place just doesn't cut it.  Will never go here again. Bummer.</td>\n",
       "      <td>review</td>\n",
       "      <td>nx2PS25Qe3MCEFUdO_XOtw</td>\n",
       "      <td>2</td>\n",
       "      <td>4</td>\n",
       "      <td>0</td>\n",
       "      <td>304</td>\n",
       "      <td>0.650000</td>\n",
       "    </tr>\n",
       "    <tr>\n",
       "      <th>6222</th>\n",
       "      <td>fDZzCjlxaA4OOmnFO-i0vw</td>\n",
       "      <td>2012-07-09</td>\n",
       "      <td>F5aRE4oqmHthiHudmnShLQ</td>\n",
       "      <td>1</td>\n",
       "      <td>My mother always told me, if I didn't have anything nice to say, say nothing!</td>\n",
       "      <td>review</td>\n",
       "      <td>J92bzxYVmyoLHULzh9xNCA</td>\n",
       "      <td>1</td>\n",
       "      <td>2</td>\n",
       "      <td>1</td>\n",
       "      <td>77</td>\n",
       "      <td>0.750000</td>\n",
       "    </tr>\n",
       "    <tr>\n",
       "      <th>6702</th>\n",
       "      <td>77oW-QeIXbUoTbUbrdD2aA</td>\n",
       "      <td>2012-01-05</td>\n",
       "      <td>oVYk9Gxa3TY63FAeoeCEzg</td>\n",
       "      <td>1</td>\n",
       "      <td>Most livable city my eye!\\nPlastic yuppies around every corner looking for a reason to belong.  I can't wait for the homosexuals to take control of this dog park and give it some class.\\n\\nAvoid at all cost.</td>\n",
       "      <td>review</td>\n",
       "      <td>ek4GWXatDshMorJwGC2JAw</td>\n",
       "      <td>1</td>\n",
       "      <td>2</td>\n",
       "      <td>4</td>\n",
       "      <td>204</td>\n",
       "      <td>0.625000</td>\n",
       "    </tr>\n",
       "  </tbody>\n",
       "</table>\n",
       "</div>"
      ],
      "text/plain": [
       "                 business_id        date               review_id  stars  \\\n",
       "1781  53YGfwmbW73JhFiemNeyzQ  2012-06-22  Gi-4O3EhE175vujbFGDIew      1   \n",
       "2353  3Srfy_VeCgwDbo4iyUFOtw  2006-08-23  K8tXedC2NMBEZ8p77zg23Q      1   \n",
       "5257  cXx-fHY11Se8rFHkkUeaUg  2009-10-27  2yHyr0N_XNZggmIfZ7JaHw      1   \n",
       "6222  fDZzCjlxaA4OOmnFO-i0vw  2012-07-09  F5aRE4oqmHthiHudmnShLQ      1   \n",
       "6702  77oW-QeIXbUoTbUbrdD2aA  2012-01-05  oVYk9Gxa3TY63FAeoeCEzg      1   \n",
       "\n",
       "                                                                                                                                                                                                                                                                                                                                                                                      text  \\\n",
       "1781                                                                                                                                                                                                                                                               If you like the stuck up Scottsdale vibe this is a good place for you. The food isn't impressive. Nice outdoor seating.   \n",
       "2353  My co-workers and I refer to this place as \"Pizza n' Ants\".  The staff will be happy to serve you with bare hands, right after using the till.  Also, as the nickname suggests, there has been a noticable insect problem. \\n\\n\\n\\nAs if that could all be overlooked, the pizza isn't even good.  If you are in this part of town, go to Z Pizza or Slices for great pizza instead!   \n",
       "5257                                                                      Remember how I said that the Trivia was the best thing about this place?  Well, they got rid of long time Triva host, Dave (who had been featured in the College Times and was the best thing about the trivia).  Without Dave's personality, this place just doesn't cut it.  Will never go here again. Bummer.   \n",
       "6222                                                                                                                                                                                                                                                                                                         My mother always told me, if I didn't have anything nice to say, say nothing!   \n",
       "6702                                                                                                                                                                       Most livable city my eye!\\nPlastic yuppies around every corner looking for a reason to belong.  I can't wait for the homosexuals to take control of this dog park and give it some class.\\n\\nAvoid at all cost.   \n",
       "\n",
       "        type                 user_id  cool  useful  funny  length  sentiment  \n",
       "1781  review  Hqgx3IdJAAaoQjvrUnbNvw     0       1      2     119   0.766667  \n",
       "2353  review  rPGZttaVjRoVi3GYbs62cg     0       1      0     368   0.567143  \n",
       "5257  review  nx2PS25Qe3MCEFUdO_XOtw     2       4      0     304   0.650000  \n",
       "6222  review  J92bzxYVmyoLHULzh9xNCA     1       2      1      77   0.750000  \n",
       "6702  review  ek4GWXatDshMorJwGC2JAw     1       2      4     204   0.625000  "
      ]
     },
     "execution_count": 131,
     "metadata": {},
     "output_type": "execute_result"
    }
   ],
   "source": [
    "# positive sentiment in a 1-star review\n",
    "yelp[(yelp.stars == 1) & (yelp.sentiment > 0.5)].head(5)"
   ]
  },
  {
   "cell_type": "code",
   "execution_count": 132,
   "metadata": {
    "id": "M0oWYNHBV5Ma"
   },
   "outputs": [],
   "source": [
    "# reset the column display width\n",
    "pd.reset_option('max_colwidth')"
   ]
  },
  {
   "cell_type": "markdown",
   "metadata": {
    "id": "y5e1brrTV5Mf"
   },
   "source": [
    "## 10: Adding Features to a Document-Term Matrix"
   ]
  },
  {
   "cell_type": "code",
   "execution_count": 133,
   "metadata": {
    "id": "6adXJtvNV5Mg"
   },
   "outputs": [],
   "source": [
    "# create a DataFrame that only contains the 5-star and 1-star reviews\n",
    "yelp_best_worst = yelp[(yelp.stars==5) | (yelp.stars==1)]"
   ]
  },
  {
   "cell_type": "code",
   "execution_count": 134,
   "metadata": {
    "id": "tHWeMHM4V5Mi"
   },
   "outputs": [],
   "source": [
    "# define X and y\n",
    "feature_cols = ['text', 'sentiment', 'cool', 'useful', 'funny']\n",
    "X = yelp_best_worst[feature_cols]\n",
    "y = yelp_best_worst.stars"
   ]
  },
  {
   "cell_type": "code",
   "execution_count": 135,
   "metadata": {
    "id": "qXONO1JtV5Ml"
   },
   "outputs": [],
   "source": [
    "# split into training and testing sets\n",
    "X_train, X_test, y_train, y_test = train_test_split(X, y, random_state=1)"
   ]
  },
  {
   "cell_type": "code",
   "execution_count": 136,
   "metadata": {
    "id": "8IcCtypyV5Mn"
   },
   "outputs": [],
   "source": [
    "# use CountVectorizer with text column only\n",
    "vect = CountVectorizer()"
   ]
  },
  {
   "cell_type": "code",
   "execution_count": 137,
   "metadata": {
    "id": "tkf9hAewV5Mp"
   },
   "outputs": [],
   "source": [
    "X_train_dtm = vect.fit_transform(X_train.text)"
   ]
  },
  {
   "cell_type": "code",
   "execution_count": 138,
   "metadata": {
    "id": "QdibJZWvV5Mr"
   },
   "outputs": [],
   "source": [
    "X_test_dtm = vect.transform(X_test.text)"
   ]
  },
  {
   "cell_type": "code",
   "execution_count": 139,
   "metadata": {
    "colab": {
     "base_uri": "https://localhost:8080/",
     "height": 51
    },
    "executionInfo": {
     "elapsed": 1485,
     "status": "ok",
     "timestamp": 1601643935664,
     "user": {
      "displayName": "Sayan Dey",
      "photoUrl": "https://lh3.googleusercontent.com/a-/AOh14GgqVHJ9o6-7idGiRbNNd4iVc1VjzvuPnwmAnvEtD6U=s64",
      "userId": "03603580465490055794"
     },
     "user_tz": -330
    },
    "id": "hozec-jXV5Mw",
    "outputId": "90908042-a345-4e8f-e13f-0733a222db5b"
   },
   "outputs": [
    {
     "name": "stdout",
     "output_type": "stream",
     "text": [
      "(3064, 16825)\n",
      "(1022, 16825)\n"
     ]
    }
   ],
   "source": [
    "print (X_train_dtm.shape)\n",
    "print (X_test_dtm.shape)"
   ]
  },
  {
   "cell_type": "code",
   "execution_count": 140,
   "metadata": {
    "colab": {
     "base_uri": "https://localhost:8080/",
     "height": 34
    },
    "executionInfo": {
     "elapsed": 1221,
     "status": "ok",
     "timestamp": 1601643937857,
     "user": {
      "displayName": "Sayan Dey",
      "photoUrl": "https://lh3.googleusercontent.com/a-/AOh14GgqVHJ9o6-7idGiRbNNd4iVc1VjzvuPnwmAnvEtD6U=s64",
      "userId": "03603580465490055794"
     },
     "user_tz": -330
    },
    "id": "5aQb4U9wV5M5",
    "outputId": "7ac0a7d2-7a23-4366-f0fa-c9ab541d457c"
   },
   "outputs": [
    {
     "data": {
      "text/plain": [
       "(3064, 4)"
      ]
     },
     "execution_count": 140,
     "metadata": {},
     "output_type": "execute_result"
    }
   ],
   "source": [
    "# shape of other four feature columns\n",
    "X_train.drop('text', axis=1).shape"
   ]
  },
  {
   "cell_type": "code",
   "execution_count": 141,
   "metadata": {
    "colab": {
     "base_uri": "https://localhost:8080/",
     "height": 34
    },
    "executionInfo": {
     "elapsed": 1311,
     "status": "ok",
     "timestamp": 1601643939429,
     "user": {
      "displayName": "Sayan Dey",
      "photoUrl": "https://lh3.googleusercontent.com/a-/AOh14GgqVHJ9o6-7idGiRbNNd4iVc1VjzvuPnwmAnvEtD6U=s64",
      "userId": "03603580465490055794"
     },
     "user_tz": -330
    },
    "id": "8A8nHnRMV5M8",
    "outputId": "54d7e399-6d93-4369-c415-b22a0bc8352d"
   },
   "outputs": [
    {
     "data": {
      "text/plain": [
       "(3064, 4)"
      ]
     },
     "execution_count": 141,
     "metadata": {},
     "output_type": "execute_result"
    }
   ],
   "source": [
    "# cast other feature columns to float and convert to a sparse matrix\n",
    "extra = sp.sparse.csr_matrix(X_train.drop('text', axis=1).astype(float))\n",
    "extra.shape"
   ]
  },
  {
   "cell_type": "code",
   "execution_count": 142,
   "metadata": {
    "colab": {
     "base_uri": "https://localhost:8080/",
     "height": 34
    },
    "executionInfo": {
     "elapsed": 1059,
     "status": "ok",
     "timestamp": 1601643939432,
     "user": {
      "displayName": "Sayan Dey",
      "photoUrl": "https://lh3.googleusercontent.com/a-/AOh14GgqVHJ9o6-7idGiRbNNd4iVc1VjzvuPnwmAnvEtD6U=s64",
      "userId": "03603580465490055794"
     },
     "user_tz": -330
    },
    "id": "AjUVZKNKV5NA",
    "outputId": "26769c09-adbd-4119-f5f6-91cd02bfef41"
   },
   "outputs": [
    {
     "data": {
      "text/plain": [
       "(3064, 16829)"
      ]
     },
     "execution_count": 142,
     "metadata": {},
     "output_type": "execute_result"
    }
   ],
   "source": [
    "# combine sparse matrices\n",
    "X_train_dtm_extra = sp.sparse.hstack((X_train_dtm, extra))\n",
    "X_train_dtm_extra.shape"
   ]
  },
  {
   "cell_type": "code",
   "execution_count": 143,
   "metadata": {
    "colab": {
     "base_uri": "https://localhost:8080/",
     "height": 34
    },
    "executionInfo": {
     "elapsed": 1447,
     "status": "ok",
     "timestamp": 1601643943240,
     "user": {
      "displayName": "Sayan Dey",
      "photoUrl": "https://lh3.googleusercontent.com/a-/AOh14GgqVHJ9o6-7idGiRbNNd4iVc1VjzvuPnwmAnvEtD6U=s64",
      "userId": "03603580465490055794"
     },
     "user_tz": -330
    },
    "id": "HEtySj5QV5NB",
    "outputId": "efb55ad3-be1b-4e52-c44c-599ac1374e87"
   },
   "outputs": [
    {
     "data": {
      "text/plain": [
       "(1022, 16829)"
      ]
     },
     "execution_count": 143,
     "metadata": {},
     "output_type": "execute_result"
    }
   ],
   "source": [
    "# repeat for testing set\n",
    "extra = sp.sparse.csr_matrix(X_test.drop('text', axis=1).astype(float))\n",
    "X_test_dtm_extra = sp.sparse.hstack((X_test_dtm, extra))\n",
    "X_test_dtm_extra.shape"
   ]
  },
  {
   "cell_type": "code",
   "execution_count": 144,
   "metadata": {
    "colab": {
     "base_uri": "https://localhost:8080/",
     "height": 34
    },
    "executionInfo": {
     "elapsed": 2137,
     "status": "ok",
     "timestamp": 1601643944248,
     "user": {
      "displayName": "Sayan Dey",
      "photoUrl": "https://lh3.googleusercontent.com/a-/AOh14GgqVHJ9o6-7idGiRbNNd4iVc1VjzvuPnwmAnvEtD6U=s64",
      "userId": "03603580465490055794"
     },
     "user_tz": -330
    },
    "id": "4cUv5FvLV5NC",
    "outputId": "66fb6d7c-73e6-4468-f739-5402c0dc3d43"
   },
   "outputs": [
    {
     "name": "stdout",
     "output_type": "stream",
     "text": [
      "0.9246575342465754\n"
     ]
    }
   ],
   "source": [
    "# use logistic regression with text column only\n",
    "logreg = LogisticRegression(C=1e9)\n",
    "logreg.fit(X_train_dtm, y_train)\n",
    "y_pred_class = logreg.predict(X_test_dtm)\n",
    "print (metrics.accuracy_score(y_test, y_pred_class))"
   ]
  },
  {
   "cell_type": "code",
   "execution_count": 145,
   "metadata": {
    "colab": {
     "base_uri": "https://localhost:8080/",
     "height": 34
    },
    "executionInfo": {
     "elapsed": 1684,
     "status": "ok",
     "timestamp": 1601643964183,
     "user": {
      "displayName": "Sayan Dey",
      "photoUrl": "https://lh3.googleusercontent.com/a-/AOh14GgqVHJ9o6-7idGiRbNNd4iVc1VjzvuPnwmAnvEtD6U=s64",
      "userId": "03603580465490055794"
     },
     "user_tz": -330
    },
    "id": "UnOIGjhKV5NE",
    "outputId": "566bfd03-f71d-4a63-99fd-1f05d926923d"
   },
   "outputs": [
    {
     "name": "stdout",
     "output_type": "stream",
     "text": [
      "0.9207436399217221\n"
     ]
    }
   ],
   "source": [
    "# use logistic regression with all features\n",
    "logreg = LogisticRegression(C=1e9)\n",
    "logreg.fit(X_train_dtm_extra, y_train)\n",
    "y_pred_class = logreg.predict(X_test_dtm_extra)\n",
    "print (metrics.accuracy_score(y_test, y_pred_class))"
   ]
  },
  {
   "cell_type": "markdown",
   "metadata": {
    "id": "awjaXucyV5NF"
   },
   "source": [
    "## 11: Fun TextBlob Features"
   ]
  },
  {
   "cell_type": "code",
   "execution_count": 117,
   "metadata": {
    "colab": {
     "base_uri": "https://localhost:8080/",
     "height": 34
    },
    "executionInfo": {
     "elapsed": 1141,
     "status": "ok",
     "timestamp": 1601643981318,
     "user": {
      "displayName": "Sayan Dey",
      "photoUrl": "https://lh3.googleusercontent.com/a-/AOh14GgqVHJ9o6-7idGiRbNNd4iVc1VjzvuPnwmAnvEtD6U=s64",
      "userId": "03603580465490055794"
     },
     "user_tz": -330
    },
    "id": "4qzFpYPrV5NF",
    "outputId": "54431385-2963-4b5d-b2ae-52af8c48b45e"
   },
   "outputs": [
    {
     "data": {
      "text/plain": [
       "TextBlob(\"india is good counrteyz\")"
      ]
     },
     "execution_count": 117,
     "metadata": {},
     "output_type": "execute_result"
    }
   ],
   "source": [
    "# spelling correction\n",
    "TextBlob('indai is good counrteyz').correct()"
   ]
  },
  {
   "cell_type": "code",
   "execution_count": 120,
   "metadata": {
    "colab": {
     "base_uri": "https://localhost:8080/",
     "height": 34
    },
    "executionInfo": {
     "elapsed": 1139,
     "status": "ok",
     "timestamp": 1601643985393,
     "user": {
      "displayName": "Sayan Dey",
      "photoUrl": "https://lh3.googleusercontent.com/a-/AOh14GgqVHJ9o6-7idGiRbNNd4iVc1VjzvuPnwmAnvEtD6U=s64",
      "userId": "03603580465490055794"
     },
     "user_tz": -330
    },
    "id": "tXbVysnAV5NH",
    "outputId": "8fa471fa-00c7-4dd2-8da5-90b32251f190"
   },
   "outputs": [
    {
     "data": {
      "text/plain": [
       "[('part', 0.9929478138222849), ('parrot', 0.007052186177715092)]"
      ]
     },
     "execution_count": 120,
     "metadata": {},
     "output_type": "execute_result"
    }
   ],
   "source": [
    "# spellcheck\n",
    "Word('parot').spellcheck()"
   ]
  },
  {
   "cell_type": "code",
   "execution_count": 122,
   "metadata": {
    "colab": {
     "base_uri": "https://localhost:8080/",
     "height": 155
    },
    "executionInfo": {
     "elapsed": 1191,
     "status": "ok",
     "timestamp": 1601643988782,
     "user": {
      "displayName": "Sayan Dey",
      "photoUrl": "https://lh3.googleusercontent.com/a-/AOh14GgqVHJ9o6-7idGiRbNNd4iVc1VjzvuPnwmAnvEtD6U=s64",
      "userId": "03603580465490055794"
     },
     "user_tz": -330
    },
    "id": "hKXyJjQwV5NL",
    "outputId": "0dd660af-506c-4ac4-ec66-e6a2673f6d59"
   },
   "outputs": [
    {
     "data": {
      "text/plain": [
       "['tip laterally',\n",
       " 'enclose with a bank',\n",
       " 'do business with a bank or keep an account at a bank',\n",
       " 'act as the banker in a game or in gambling',\n",
       " 'be in the banking business',\n",
       " 'put into a bank account',\n",
       " 'cover with ashes so to control the rate of burning',\n",
       " 'have confidence or faith in']"
      ]
     },
     "execution_count": 122,
     "metadata": {},
     "output_type": "execute_result"
    }
   ],
   "source": [
    "# definitions\n",
    "Word('bank').define('v')"
   ]
  },
  {
   "cell_type": "code",
   "execution_count": 65,
   "metadata": {
    "colab": {
     "base_uri": "https://localhost:8080/",
     "height": 35
    },
    "executionInfo": {
     "elapsed": 763,
     "status": "ok",
     "timestamp": 1601643991029,
     "user": {
      "displayName": "Sayan Dey",
      "photoUrl": "https://lh3.googleusercontent.com/a-/AOh14GgqVHJ9o6-7idGiRbNNd4iVc1VjzvuPnwmAnvEtD6U=s64",
      "userId": "03603580465490055794"
     },
     "user_tz": -330
    },
    "id": "TRHFZ8HdV5NO",
    "outputId": "d8f70fc8-7c98-4696-c900-11bde510c322"
   },
   "outputs": [
    {
     "ename": "HTTPError",
     "evalue": "HTTP Error 502: Bad Gateway",
     "output_type": "error",
     "traceback": [
      "\u001b[1;31m---------------------------------------------------------------------------\u001b[0m",
      "\u001b[1;31mHTTPError\u001b[0m                                 Traceback (most recent call last)",
      "\u001b[1;32mC:\\Users\\SAYAND~1\\AppData\\Local\\Temp/ipykernel_26532/883331129.py\u001b[0m in \u001b[0;36m<module>\u001b[1;34m\u001b[0m\n\u001b[0;32m      1\u001b[0m \u001b[1;31m# language identification\u001b[0m\u001b[1;33m\u001b[0m\u001b[1;33m\u001b[0m\u001b[0m\n\u001b[1;32m----> 2\u001b[1;33m \u001b[0mTextBlob\u001b[0m\u001b[1;33m(\u001b[0m\u001b[1;34m'விஜய் தனது புதிய யூடியூப் சேனலை திறக்கிறார்'\u001b[0m\u001b[1;33m)\u001b[0m\u001b[1;33m.\u001b[0m\u001b[0mdetect_language\u001b[0m\u001b[1;33m(\u001b[0m\u001b[1;33m)\u001b[0m\u001b[1;33m\u001b[0m\u001b[1;33m\u001b[0m\u001b[0m\n\u001b[0m",
      "\u001b[1;32m~\\anaconda3\\lib\\site-packages\\textblob\\blob.py\u001b[0m in \u001b[0;36mdetect_language\u001b[1;34m(self)\u001b[0m\n\u001b[0;32m    595\u001b[0m             \u001b[0mDeprecationWarning\u001b[0m\u001b[1;33m\u001b[0m\u001b[1;33m\u001b[0m\u001b[0m\n\u001b[0;32m    596\u001b[0m         )\n\u001b[1;32m--> 597\u001b[1;33m         \u001b[1;32mreturn\u001b[0m \u001b[0mself\u001b[0m\u001b[1;33m.\u001b[0m\u001b[0mtranslator\u001b[0m\u001b[1;33m.\u001b[0m\u001b[0mdetect\u001b[0m\u001b[1;33m(\u001b[0m\u001b[0mself\u001b[0m\u001b[1;33m.\u001b[0m\u001b[0mraw\u001b[0m\u001b[1;33m)\u001b[0m\u001b[1;33m\u001b[0m\u001b[1;33m\u001b[0m\u001b[0m\n\u001b[0m\u001b[0;32m    598\u001b[0m \u001b[1;33m\u001b[0m\u001b[0m\n\u001b[0;32m    599\u001b[0m     \u001b[1;32mdef\u001b[0m \u001b[0mcorrect\u001b[0m\u001b[1;33m(\u001b[0m\u001b[0mself\u001b[0m\u001b[1;33m)\u001b[0m\u001b[1;33m:\u001b[0m\u001b[1;33m\u001b[0m\u001b[1;33m\u001b[0m\u001b[0m\n",
      "\u001b[1;32m~\\anaconda3\\lib\\site-packages\\textblob\\translate.py\u001b[0m in \u001b[0;36mdetect\u001b[1;34m(self, source, host, type_)\u001b[0m\n\u001b[0;32m     74\u001b[0m             \u001b[0mclient\u001b[0m\u001b[1;33m=\u001b[0m\u001b[1;34m\"te\"\u001b[0m\u001b[1;33m,\u001b[0m\u001b[1;33m\u001b[0m\u001b[1;33m\u001b[0m\u001b[0m\n\u001b[0;32m     75\u001b[0m         )\n\u001b[1;32m---> 76\u001b[1;33m         \u001b[0mresponse\u001b[0m \u001b[1;33m=\u001b[0m \u001b[0mself\u001b[0m\u001b[1;33m.\u001b[0m\u001b[0m_request\u001b[0m\u001b[1;33m(\u001b[0m\u001b[0murl\u001b[0m\u001b[1;33m,\u001b[0m \u001b[0mhost\u001b[0m\u001b[1;33m=\u001b[0m\u001b[0mhost\u001b[0m\u001b[1;33m,\u001b[0m \u001b[0mtype_\u001b[0m\u001b[1;33m=\u001b[0m\u001b[0mtype_\u001b[0m\u001b[1;33m,\u001b[0m \u001b[0mdata\u001b[0m\u001b[1;33m=\u001b[0m\u001b[0mdata\u001b[0m\u001b[1;33m)\u001b[0m\u001b[1;33m\u001b[0m\u001b[1;33m\u001b[0m\u001b[0m\n\u001b[0m\u001b[0;32m     77\u001b[0m         \u001b[0mresult\u001b[0m\u001b[1;33m,\u001b[0m \u001b[0mlanguage\u001b[0m \u001b[1;33m=\u001b[0m \u001b[0mjson\u001b[0m\u001b[1;33m.\u001b[0m\u001b[0mloads\u001b[0m\u001b[1;33m(\u001b[0m\u001b[0mresponse\u001b[0m\u001b[1;33m)\u001b[0m\u001b[1;33m\u001b[0m\u001b[1;33m\u001b[0m\u001b[0m\n\u001b[0;32m     78\u001b[0m         \u001b[1;32mreturn\u001b[0m \u001b[0mlanguage\u001b[0m\u001b[1;33m\u001b[0m\u001b[1;33m\u001b[0m\u001b[0m\n",
      "\u001b[1;32m~\\anaconda3\\lib\\site-packages\\textblob\\translate.py\u001b[0m in \u001b[0;36m_request\u001b[1;34m(self, url, host, type_, data)\u001b[0m\n\u001b[0;32m     94\u001b[0m         \u001b[1;32mif\u001b[0m \u001b[0mhost\u001b[0m \u001b[1;32mor\u001b[0m \u001b[0mtype_\u001b[0m\u001b[1;33m:\u001b[0m\u001b[1;33m\u001b[0m\u001b[1;33m\u001b[0m\u001b[0m\n\u001b[0;32m     95\u001b[0m             \u001b[0mreq\u001b[0m\u001b[1;33m.\u001b[0m\u001b[0mset_proxy\u001b[0m\u001b[1;33m(\u001b[0m\u001b[0mhost\u001b[0m\u001b[1;33m=\u001b[0m\u001b[0mhost\u001b[0m\u001b[1;33m,\u001b[0m \u001b[0mtype\u001b[0m\u001b[1;33m=\u001b[0m\u001b[0mtype_\u001b[0m\u001b[1;33m)\u001b[0m\u001b[1;33m\u001b[0m\u001b[1;33m\u001b[0m\u001b[0m\n\u001b[1;32m---> 96\u001b[1;33m         \u001b[0mresp\u001b[0m \u001b[1;33m=\u001b[0m \u001b[0mrequest\u001b[0m\u001b[1;33m.\u001b[0m\u001b[0murlopen\u001b[0m\u001b[1;33m(\u001b[0m\u001b[0mreq\u001b[0m\u001b[1;33m)\u001b[0m\u001b[1;33m\u001b[0m\u001b[1;33m\u001b[0m\u001b[0m\n\u001b[0m\u001b[0;32m     97\u001b[0m         \u001b[0mcontent\u001b[0m \u001b[1;33m=\u001b[0m \u001b[0mresp\u001b[0m\u001b[1;33m.\u001b[0m\u001b[0mread\u001b[0m\u001b[1;33m(\u001b[0m\u001b[1;33m)\u001b[0m\u001b[1;33m\u001b[0m\u001b[1;33m\u001b[0m\u001b[0m\n\u001b[0;32m     98\u001b[0m         \u001b[1;32mreturn\u001b[0m \u001b[0mcontent\u001b[0m\u001b[1;33m.\u001b[0m\u001b[0mdecode\u001b[0m\u001b[1;33m(\u001b[0m\u001b[1;34m'utf-8'\u001b[0m\u001b[1;33m)\u001b[0m\u001b[1;33m\u001b[0m\u001b[1;33m\u001b[0m\u001b[0m\n",
      "\u001b[1;32m~\\anaconda3\\lib\\urllib\\request.py\u001b[0m in \u001b[0;36murlopen\u001b[1;34m(url, data, timeout, cafile, capath, cadefault, context)\u001b[0m\n\u001b[0;32m    212\u001b[0m     \u001b[1;32melse\u001b[0m\u001b[1;33m:\u001b[0m\u001b[1;33m\u001b[0m\u001b[1;33m\u001b[0m\u001b[0m\n\u001b[0;32m    213\u001b[0m         \u001b[0mopener\u001b[0m \u001b[1;33m=\u001b[0m \u001b[0m_opener\u001b[0m\u001b[1;33m\u001b[0m\u001b[1;33m\u001b[0m\u001b[0m\n\u001b[1;32m--> 214\u001b[1;33m     \u001b[1;32mreturn\u001b[0m \u001b[0mopener\u001b[0m\u001b[1;33m.\u001b[0m\u001b[0mopen\u001b[0m\u001b[1;33m(\u001b[0m\u001b[0murl\u001b[0m\u001b[1;33m,\u001b[0m \u001b[0mdata\u001b[0m\u001b[1;33m,\u001b[0m \u001b[0mtimeout\u001b[0m\u001b[1;33m)\u001b[0m\u001b[1;33m\u001b[0m\u001b[1;33m\u001b[0m\u001b[0m\n\u001b[0m\u001b[0;32m    215\u001b[0m \u001b[1;33m\u001b[0m\u001b[0m\n\u001b[0;32m    216\u001b[0m \u001b[1;32mdef\u001b[0m \u001b[0minstall_opener\u001b[0m\u001b[1;33m(\u001b[0m\u001b[0mopener\u001b[0m\u001b[1;33m)\u001b[0m\u001b[1;33m:\u001b[0m\u001b[1;33m\u001b[0m\u001b[1;33m\u001b[0m\u001b[0m\n",
      "\u001b[1;32m~\\anaconda3\\lib\\urllib\\request.py\u001b[0m in \u001b[0;36mopen\u001b[1;34m(self, fullurl, data, timeout)\u001b[0m\n\u001b[0;32m    521\u001b[0m         \u001b[1;32mfor\u001b[0m \u001b[0mprocessor\u001b[0m \u001b[1;32min\u001b[0m \u001b[0mself\u001b[0m\u001b[1;33m.\u001b[0m\u001b[0mprocess_response\u001b[0m\u001b[1;33m.\u001b[0m\u001b[0mget\u001b[0m\u001b[1;33m(\u001b[0m\u001b[0mprotocol\u001b[0m\u001b[1;33m,\u001b[0m \u001b[1;33m[\u001b[0m\u001b[1;33m]\u001b[0m\u001b[1;33m)\u001b[0m\u001b[1;33m:\u001b[0m\u001b[1;33m\u001b[0m\u001b[1;33m\u001b[0m\u001b[0m\n\u001b[0;32m    522\u001b[0m             \u001b[0mmeth\u001b[0m \u001b[1;33m=\u001b[0m \u001b[0mgetattr\u001b[0m\u001b[1;33m(\u001b[0m\u001b[0mprocessor\u001b[0m\u001b[1;33m,\u001b[0m \u001b[0mmeth_name\u001b[0m\u001b[1;33m)\u001b[0m\u001b[1;33m\u001b[0m\u001b[1;33m\u001b[0m\u001b[0m\n\u001b[1;32m--> 523\u001b[1;33m             \u001b[0mresponse\u001b[0m \u001b[1;33m=\u001b[0m \u001b[0mmeth\u001b[0m\u001b[1;33m(\u001b[0m\u001b[0mreq\u001b[0m\u001b[1;33m,\u001b[0m \u001b[0mresponse\u001b[0m\u001b[1;33m)\u001b[0m\u001b[1;33m\u001b[0m\u001b[1;33m\u001b[0m\u001b[0m\n\u001b[0m\u001b[0;32m    524\u001b[0m \u001b[1;33m\u001b[0m\u001b[0m\n\u001b[0;32m    525\u001b[0m         \u001b[1;32mreturn\u001b[0m \u001b[0mresponse\u001b[0m\u001b[1;33m\u001b[0m\u001b[1;33m\u001b[0m\u001b[0m\n",
      "\u001b[1;32m~\\anaconda3\\lib\\urllib\\request.py\u001b[0m in \u001b[0;36mhttp_response\u001b[1;34m(self, request, response)\u001b[0m\n\u001b[0;32m    630\u001b[0m         \u001b[1;31m# request was successfully received, understood, and accepted.\u001b[0m\u001b[1;33m\u001b[0m\u001b[1;33m\u001b[0m\u001b[0m\n\u001b[0;32m    631\u001b[0m         \u001b[1;32mif\u001b[0m \u001b[1;32mnot\u001b[0m \u001b[1;33m(\u001b[0m\u001b[1;36m200\u001b[0m \u001b[1;33m<=\u001b[0m \u001b[0mcode\u001b[0m \u001b[1;33m<\u001b[0m \u001b[1;36m300\u001b[0m\u001b[1;33m)\u001b[0m\u001b[1;33m:\u001b[0m\u001b[1;33m\u001b[0m\u001b[1;33m\u001b[0m\u001b[0m\n\u001b[1;32m--> 632\u001b[1;33m             response = self.parent.error(\n\u001b[0m\u001b[0;32m    633\u001b[0m                 'http', request, response, code, msg, hdrs)\n\u001b[0;32m    634\u001b[0m \u001b[1;33m\u001b[0m\u001b[0m\n",
      "\u001b[1;32m~\\anaconda3\\lib\\urllib\\request.py\u001b[0m in \u001b[0;36merror\u001b[1;34m(self, proto, *args)\u001b[0m\n\u001b[0;32m    559\u001b[0m         \u001b[1;32mif\u001b[0m \u001b[0mhttp_err\u001b[0m\u001b[1;33m:\u001b[0m\u001b[1;33m\u001b[0m\u001b[1;33m\u001b[0m\u001b[0m\n\u001b[0;32m    560\u001b[0m             \u001b[0margs\u001b[0m \u001b[1;33m=\u001b[0m \u001b[1;33m(\u001b[0m\u001b[0mdict\u001b[0m\u001b[1;33m,\u001b[0m \u001b[1;34m'default'\u001b[0m\u001b[1;33m,\u001b[0m \u001b[1;34m'http_error_default'\u001b[0m\u001b[1;33m)\u001b[0m \u001b[1;33m+\u001b[0m \u001b[0morig_args\u001b[0m\u001b[1;33m\u001b[0m\u001b[1;33m\u001b[0m\u001b[0m\n\u001b[1;32m--> 561\u001b[1;33m             \u001b[1;32mreturn\u001b[0m \u001b[0mself\u001b[0m\u001b[1;33m.\u001b[0m\u001b[0m_call_chain\u001b[0m\u001b[1;33m(\u001b[0m\u001b[1;33m*\u001b[0m\u001b[0margs\u001b[0m\u001b[1;33m)\u001b[0m\u001b[1;33m\u001b[0m\u001b[1;33m\u001b[0m\u001b[0m\n\u001b[0m\u001b[0;32m    562\u001b[0m \u001b[1;33m\u001b[0m\u001b[0m\n\u001b[0;32m    563\u001b[0m \u001b[1;31m# XXX probably also want an abstract factory that knows when it makes\u001b[0m\u001b[1;33m\u001b[0m\u001b[1;33m\u001b[0m\u001b[0m\n",
      "\u001b[1;32m~\\anaconda3\\lib\\urllib\\request.py\u001b[0m in \u001b[0;36m_call_chain\u001b[1;34m(self, chain, kind, meth_name, *args)\u001b[0m\n\u001b[0;32m    492\u001b[0m         \u001b[1;32mfor\u001b[0m \u001b[0mhandler\u001b[0m \u001b[1;32min\u001b[0m \u001b[0mhandlers\u001b[0m\u001b[1;33m:\u001b[0m\u001b[1;33m\u001b[0m\u001b[1;33m\u001b[0m\u001b[0m\n\u001b[0;32m    493\u001b[0m             \u001b[0mfunc\u001b[0m \u001b[1;33m=\u001b[0m \u001b[0mgetattr\u001b[0m\u001b[1;33m(\u001b[0m\u001b[0mhandler\u001b[0m\u001b[1;33m,\u001b[0m \u001b[0mmeth_name\u001b[0m\u001b[1;33m)\u001b[0m\u001b[1;33m\u001b[0m\u001b[1;33m\u001b[0m\u001b[0m\n\u001b[1;32m--> 494\u001b[1;33m             \u001b[0mresult\u001b[0m \u001b[1;33m=\u001b[0m \u001b[0mfunc\u001b[0m\u001b[1;33m(\u001b[0m\u001b[1;33m*\u001b[0m\u001b[0margs\u001b[0m\u001b[1;33m)\u001b[0m\u001b[1;33m\u001b[0m\u001b[1;33m\u001b[0m\u001b[0m\n\u001b[0m\u001b[0;32m    495\u001b[0m             \u001b[1;32mif\u001b[0m \u001b[0mresult\u001b[0m \u001b[1;32mis\u001b[0m \u001b[1;32mnot\u001b[0m \u001b[1;32mNone\u001b[0m\u001b[1;33m:\u001b[0m\u001b[1;33m\u001b[0m\u001b[1;33m\u001b[0m\u001b[0m\n\u001b[0;32m    496\u001b[0m                 \u001b[1;32mreturn\u001b[0m \u001b[0mresult\u001b[0m\u001b[1;33m\u001b[0m\u001b[1;33m\u001b[0m\u001b[0m\n",
      "\u001b[1;32m~\\anaconda3\\lib\\urllib\\request.py\u001b[0m in \u001b[0;36mhttp_error_default\u001b[1;34m(self, req, fp, code, msg, hdrs)\u001b[0m\n\u001b[0;32m    639\u001b[0m \u001b[1;32mclass\u001b[0m \u001b[0mHTTPDefaultErrorHandler\u001b[0m\u001b[1;33m(\u001b[0m\u001b[0mBaseHandler\u001b[0m\u001b[1;33m)\u001b[0m\u001b[1;33m:\u001b[0m\u001b[1;33m\u001b[0m\u001b[1;33m\u001b[0m\u001b[0m\n\u001b[0;32m    640\u001b[0m     \u001b[1;32mdef\u001b[0m \u001b[0mhttp_error_default\u001b[0m\u001b[1;33m(\u001b[0m\u001b[0mself\u001b[0m\u001b[1;33m,\u001b[0m \u001b[0mreq\u001b[0m\u001b[1;33m,\u001b[0m \u001b[0mfp\u001b[0m\u001b[1;33m,\u001b[0m \u001b[0mcode\u001b[0m\u001b[1;33m,\u001b[0m \u001b[0mmsg\u001b[0m\u001b[1;33m,\u001b[0m \u001b[0mhdrs\u001b[0m\u001b[1;33m)\u001b[0m\u001b[1;33m:\u001b[0m\u001b[1;33m\u001b[0m\u001b[1;33m\u001b[0m\u001b[0m\n\u001b[1;32m--> 641\u001b[1;33m         \u001b[1;32mraise\u001b[0m \u001b[0mHTTPError\u001b[0m\u001b[1;33m(\u001b[0m\u001b[0mreq\u001b[0m\u001b[1;33m.\u001b[0m\u001b[0mfull_url\u001b[0m\u001b[1;33m,\u001b[0m \u001b[0mcode\u001b[0m\u001b[1;33m,\u001b[0m \u001b[0mmsg\u001b[0m\u001b[1;33m,\u001b[0m \u001b[0mhdrs\u001b[0m\u001b[1;33m,\u001b[0m \u001b[0mfp\u001b[0m\u001b[1;33m)\u001b[0m\u001b[1;33m\u001b[0m\u001b[1;33m\u001b[0m\u001b[0m\n\u001b[0m\u001b[0;32m    642\u001b[0m \u001b[1;33m\u001b[0m\u001b[0m\n\u001b[0;32m    643\u001b[0m \u001b[1;32mclass\u001b[0m \u001b[0mHTTPRedirectHandler\u001b[0m\u001b[1;33m(\u001b[0m\u001b[0mBaseHandler\u001b[0m\u001b[1;33m)\u001b[0m\u001b[1;33m:\u001b[0m\u001b[1;33m\u001b[0m\u001b[1;33m\u001b[0m\u001b[0m\n",
      "\u001b[1;31mHTTPError\u001b[0m: HTTP Error 502: Bad Gateway"
     ]
    }
   ],
   "source": [
    "# language identification\n",
    "TextBlob('விஜய் தனது புதிய யூடியூப் சேனலை திறக்கிறார்').detect_language()"
   ]
  },
  {
   "cell_type": "markdown",
   "metadata": {
    "id": "pVZLOpBIV5NQ"
   },
   "source": [
    "## Conclusion\n",
    "\n",
    "- NLP is a gigantic field\n",
    "- Understanding the basics broadens the types of data you can work with\n",
    "- Simple techniques go a long way\n",
    "- Use scikit-learn for NLP whenever possible"
   ]
  }
 ],
 "metadata": {
  "accelerator": "GPU",
  "colab": {
   "collapsed_sections": [
    "pVZLOpBIV5NQ"
   ],
   "name": "Lab2_textClassificationWithAdvancedML.ipynb",
   "provenance": []
  },
  "kernelspec": {
   "display_name": "Python 3 (ipykernel)",
   "language": "python",
   "name": "python3"
  },
  "language_info": {
   "codemirror_mode": {
    "name": "ipython",
    "version": 3
   },
   "file_extension": ".py",
   "mimetype": "text/x-python",
   "name": "python",
   "nbconvert_exporter": "python",
   "pygments_lexer": "ipython3",
   "version": "3.8.8"
  }
 },
 "nbformat": 4,
 "nbformat_minor": 1
}
